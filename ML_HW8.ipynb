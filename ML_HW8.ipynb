{
  "nbformat": 4,
  "nbformat_minor": 0,
  "metadata": {
    "colab": {
      "name": "ML_HW8.ipynb",
      "provenance": [],
      "toc_visible": true
    },
    "kernelspec": {
      "name": "python3",
      "display_name": "Python 3"
    }
  },
  "cells": [
    {
      "cell_type": "code",
      "metadata": {
        "id": "89TUiDjbfZPO",
        "colab_type": "code",
        "colab": {}
      },
      "source": [
        "from tensorflow.keras.models import Sequential\n",
        "from tensorflow.keras.layers import Dense, Activation, Dropout, LSTM, GRU, Bidirectional, TimeDistributed, InputLayer, Embedding, Conv1D\n",
        "from tensorflow.keras.preprocessing.sequence import pad_sequences\n",
        "from tensorflow.keras.utils import to_categorical\n",
        "import numpy as np\n",
        "from sklearn.model_selection import train_test_split\n",
        "import matplotlib.pyplot as plt\n",
        "from collections import Counter\n",
        "import tensorflow as tf\n",
        "import random"
      ],
      "execution_count": 0,
      "outputs": []
    },
    {
      "cell_type": "code",
      "metadata": {
        "id": "-qreSXSUJZCZ",
        "colab_type": "code",
        "outputId": "2c649b4d-ac6a-4ddf-982e-544e3e6d3cb5",
        "colab": {
          "base_uri": "https://localhost:8080/",
          "height": 72
        }
      },
      "source": [
        "import nltk\n",
        "nltk.download('treebank')"
      ],
      "execution_count": 121,
      "outputs": [
        {
          "output_type": "stream",
          "text": [
            "[nltk_data] Downloading package treebank to /root/nltk_data...\n",
            "[nltk_data]   Package treebank is already up-to-date!\n"
          ],
          "name": "stdout"
        },
        {
          "output_type": "execute_result",
          "data": {
            "text/plain": [
              "True"
            ]
          },
          "metadata": {
            "tags": []
          },
          "execution_count": 121
        }
      ]
    },
    {
      "cell_type": "code",
      "metadata": {
        "id": "XWq9HdVQeofb",
        "colab_type": "code",
        "colab": {}
      },
      "source": [
        "tagged_sentences = nltk.corpus.treebank.tagged_sents()"
      ],
      "execution_count": 0,
      "outputs": []
    },
    {
      "cell_type": "code",
      "metadata": {
        "id": "1t2iQL2se3Rg",
        "colab_type": "code",
        "colab": {}
      },
      "source": [
        "sentences, sentence_tags =[], [] \n",
        "for tagged_sentence in tagged_sentences:\n",
        "    sentence, tags = zip(*tagged_sentence)\n",
        "    sentences.append(sentence)\n",
        "    sentence_tags.append(tags)"
      ],
      "execution_count": 0,
      "outputs": []
    },
    {
      "cell_type": "code",
      "metadata": {
        "id": "O-zPcAQ0fHPe",
        "colab_type": "code",
        "colab": {}
      },
      "source": [
        "sent_train, sent_test, tag_train, tag_test = train_test_split(sentences, sentence_tags, test_size=0.2, random_state=0)"
      ],
      "execution_count": 0,
      "outputs": []
    },
    {
      "cell_type": "code",
      "metadata": {
        "id": "ovD4NK0MfSCx",
        "colab_type": "code",
        "colab": {}
      },
      "source": [
        "vocab = Counter()\n",
        "for sent in sent_train:\n",
        "    sent = [word.lower() for word in sent]\n",
        "    vocab.update(sent)"
      ],
      "execution_count": 0,
      "outputs": []
    },
    {
      "cell_type": "code",
      "metadata": {
        "id": "5IZYdfAOhrFN",
        "colab_type": "code",
        "colab": {}
      },
      "source": [
        "filtered_vocab = {word for word in vocab if vocab[word] > 5}"
      ],
      "execution_count": 0,
      "outputs": []
    },
    {
      "cell_type": "code",
      "metadata": {
        "id": "d61Qz6O3ikiH",
        "colab_type": "code",
        "outputId": "fe69f4a1-1f0c-4245-993c-ebd1c8eb8321",
        "colab": {
          "base_uri": "https://localhost:8080/",
          "height": 35
        }
      },
      "source": [
        "len(filtered_vocab)"
      ],
      "execution_count": 127,
      "outputs": [
        {
          "output_type": "execute_result",
          "data": {
            "text/plain": [
              "1679"
            ]
          },
          "metadata": {
            "tags": []
          },
          "execution_count": 127
        }
      ]
    },
    {
      "cell_type": "code",
      "metadata": {
        "id": "GNvGO0ogirqW",
        "colab_type": "code",
        "colab": {}
      },
      "source": [
        "word2id = {'PAD':0,'UNK':1}    \n",
        "for i,word in enumerate(filtered_vocab):\n",
        "      word2id[word] = i + 2\n",
        "id2word = {i:word for word, i in word2id.items()}"
      ],
      "execution_count": 0,
      "outputs": []
    },
    {
      "cell_type": "code",
      "metadata": {
        "id": "2sZND4WvivaI",
        "colab_type": "code",
        "outputId": "5cfa6fc2-4ee6-4f9e-e1ac-b2ab7adfefe5",
        "colab": {
          "base_uri": "https://localhost:8080/",
          "height": 35
        }
      },
      "source": [
        "len(id2word)"
      ],
      "execution_count": 129,
      "outputs": [
        {
          "output_type": "execute_result",
          "data": {
            "text/plain": [
              "1681"
            ]
          },
          "metadata": {
            "tags": []
          },
          "execution_count": 129
        }
      ]
    },
    {
      "cell_type": "code",
      "metadata": {
        "id": "9mPGEHEciyP_",
        "colab_type": "code",
        "colab": {}
      },
      "source": [
        "tag2id = {'PAD':0}  \n",
        "for tags in tag_train:\n",
        "    for tag in tags:\n",
        "      if tag.lower() not in tag2id:\n",
        "        tag2id[tag.lower()] = len(tag2id)\n",
        "\n",
        "id2tag = {i:tag for tag, i in tag2id.items()}"
      ],
      "execution_count": 0,
      "outputs": []
    },
    {
      "cell_type": "code",
      "metadata": {
        "id": "ntPcfGfxi25a",
        "colab_type": "code",
        "colab": {}
      },
      "source": [
        "def data2ints(data, smth2id):\n",
        "  int_data = []\n",
        "  for seq in data:\n",
        "      int_seq = []\n",
        "      for i in seq:\n",
        "          try:\n",
        "            int_seq.append(smth2id[i.lower()])\n",
        "          except KeyError:\n",
        "            int_seq.append(smth2id['UNK'])\n",
        "  \n",
        "      int_data.append(int_seq)\n",
        "  return int_data"
      ],
      "execution_count": 0,
      "outputs": []
    },
    {
      "cell_type": "code",
      "metadata": {
        "id": "aHYxer6Xi4o1",
        "colab_type": "code",
        "colab": {}
      },
      "source": [
        "X_train_ids, X_test_ids = data2ints(sent_train, word2id), data2ints(sent_test, word2id)\n",
        "y_train_ids, y_test_ids = data2ints(tag_train, tag2id), data2ints(tag_test, tag2id)\n"
      ],
      "execution_count": 0,
      "outputs": []
    },
    {
      "cell_type": "code",
      "metadata": {
        "id": "2e4M3VZYnEMD",
        "colab_type": "code",
        "colab": {}
      },
      "source": [
        "MAX_LEN = max(len(x) for x in sent_train)"
      ],
      "execution_count": 0,
      "outputs": []
    },
    {
      "cell_type": "code",
      "metadata": {
        "id": "L_GeTmIJIt66",
        "colab_type": "code",
        "colab": {}
      },
      "source": [
        "X_train, X_test = pad_sequences(X_train_ids, maxlen=MAX_LEN, padding='post'), pad_sequences(X_test_ids, maxlen=MAX_LEN, padding='post')\n",
        "y_train_pad, y_test_pad = pad_sequences(y_train_ids, maxlen=MAX_LEN, padding='post'), pad_sequences(y_test_ids, maxlen=MAX_LEN, padding='post')"
      ],
      "execution_count": 0,
      "outputs": []
    },
    {
      "cell_type": "code",
      "metadata": {
        "id": "oyeeLytfJHjW",
        "colab_type": "code",
        "colab": {
          "base_uri": "https://localhost:8080/",
          "height": 35
        },
        "outputId": "fd0a3de3-22c4-49ae-d9a1-8c4114bc77ef"
      },
      "source": [
        "print(X_train.shape, y_train_pad.shape, X_test.shape, y_test_pad.shape)"
      ],
      "execution_count": 135,
      "outputs": [
        {
          "output_type": "stream",
          "text": [
            "(3131, 128) (3131, 128) (783, 128) (783, 128)\n"
          ],
          "name": "stdout"
        }
      ]
    },
    {
      "cell_type": "code",
      "metadata": {
        "id": "Li_XXTxEI-QU",
        "colab_type": "code",
        "colab": {}
      },
      "source": [
        "y_train, y_test = to_categorical(y_train_pad, num_classes=len(tag2id)), to_categorical(y_test_pad, num_classes=len(tag2id))"
      ],
      "execution_count": 0,
      "outputs": []
    },
    {
      "cell_type": "markdown",
      "metadata": {
        "id": "OSYLQf_tuEOX",
        "colab_type": "text"
      },
      "source": [
        "#Добавим второй входной слой"
      ]
    },
    {
      "cell_type": "code",
      "metadata": {
        "id": "yCvmPCwKzuTd",
        "colab_type": "code",
        "colab": {
          "base_uri": "https://localhost:8080/",
          "height": 35
        },
        "outputId": "ba16baf7-22d8-48cc-e51e-7287ea423045"
      },
      "source": [
        "chars_vocab = Counter()\n",
        "for sent in sent_train:\n",
        "  for word in sent:\n",
        "    sent = [char.lower() for char in word]\n",
        "    chars_vocab.update(sent)\n",
        "len(chars_vocab)"
      ],
      "execution_count": 138,
      "outputs": [
        {
          "output_type": "execute_result",
          "data": {
            "text/plain": [
              "52"
            ]
          },
          "metadata": {
            "tags": []
          },
          "execution_count": 138
        }
      ]
    },
    {
      "cell_type": "code",
      "metadata": {
        "id": "Ukpqe43j0Qf9",
        "colab_type": "code",
        "colab": {
          "base_uri": "https://localhost:8080/",
          "height": 35
        },
        "outputId": "4eab5c91-e23b-4f11-88b8-b722bdc12943"
      },
      "source": [
        "max_char_len = 0\n",
        "for sentence in sent_train:\n",
        "  max_len = max(len(word) for word in sentence)\n",
        "  max_char_len = max(max_char_len, max_len)\n",
        "max_char_len"
      ],
      "execution_count": 139,
      "outputs": [
        {
          "output_type": "execute_result",
          "data": {
            "text/plain": [
              "24"
            ]
          },
          "metadata": {
            "tags": []
          },
          "execution_count": 139
        }
      ]
    },
    {
      "cell_type": "code",
      "metadata": {
        "id": "qxejn2gZ1cck",
        "colab_type": "code",
        "colab": {
          "base_uri": "https://localhost:8080/",
          "height": 35
        },
        "outputId": "e7e3f142-4ad5-4630-8b76-5295183603d0"
      },
      "source": [
        "max_seq_len = max(len(sent) for sent in sent_train)\n",
        "max_seq_len"
      ],
      "execution_count": 140,
      "outputs": [
        {
          "output_type": "execute_result",
          "data": {
            "text/plain": [
              "128"
            ]
          },
          "metadata": {
            "tags": []
          },
          "execution_count": 140
        }
      ]
    },
    {
      "cell_type": "code",
      "metadata": {
        "id": "sXZmml7N4Lc8",
        "colab_type": "code",
        "colab": {}
      },
      "source": [
        "char2id = {'PAD':0,'UNK':1} \n",
        "for i, char in enumerate(chars_vocab):\n",
        "  char2id[char] = i + 2\n",
        "id2char = {i:char for char, i in char2id.items()}"
      ],
      "execution_count": 0,
      "outputs": []
    },
    {
      "cell_type": "code",
      "metadata": {
        "id": "l1cE31df6oz4",
        "colab_type": "code",
        "colab": {}
      },
      "source": [
        "def char2ints(data, smth2id):\n",
        "  int_data = []\n",
        "  for sent in data:\n",
        "    int_seq = []\n",
        "    for w in range(max_seq_len):\n",
        "      word_seq = []\n",
        "      for ch in range(max_char_len):\n",
        "        try:\n",
        "          character = smth2id.get(sentence[w][ch])\n",
        "          if type(sentence[w][ch]) == str:\n",
        "            character = smth2id.get(sentence[w][ch].lower())\n",
        "          word_seq+=[character]\n",
        "        except IndexError:\n",
        "          word_seq+=[0]\n",
        "        except KeyError:\n",
        "          word_seq+=[1]\n",
        "      int_seq+=[word_seq]\n",
        "    int_data+=[np.array(int_seq)]\n",
        "  return int_data"
      ],
      "execution_count": 0,
      "outputs": []
    },
    {
      "cell_type": "code",
      "metadata": {
        "id": "sJa2i7VjEbQE",
        "colab_type": "code",
        "colab": {}
      },
      "source": [
        "X_train_ids_char, X_test_ids_char = char2ints(sent_train, char2id), char2ints(sent_test, char2id)\n",
        "X_train_char, X_test_char = pad_sequences(X_train_ids_char, maxlen=max_seq_len, padding='post'), pad_sequences(X_test_ids_char, maxlen=max_seq_len, padding='post')"
      ],
      "execution_count": 0,
      "outputs": []
    },
    {
      "cell_type": "code",
      "metadata": {
        "id": "zeAYo2R-qEA5",
        "colab_type": "code",
        "colab": {
          "base_uri": "https://localhost:8080/",
          "height": 35
        },
        "outputId": "4ed225c5-e082-4c19-924b-435d4b08d060"
      },
      "source": [
        "print(X_train_char.shape,X_train.shape, y_train.shape, X_test_char.shape, X_test.shape, y_test.shape)"
      ],
      "execution_count": 160,
      "outputs": [
        {
          "output_type": "stream",
          "text": [
            "(3131, 128, 24) (3131, 128) (3131, 128, 47) (783, 128, 24) (783, 128) (783, 128, 47)\n"
          ],
          "name": "stdout"
        }
      ]
    },
    {
      "cell_type": "code",
      "metadata": {
        "id": "-ZTjmvps1n9N",
        "colab_type": "code",
        "colab": {}
      },
      "source": [
        "checkpoint = tf.keras.callbacks.ModelCheckpoint('bestmodel', \n",
        "                                                monitor='accuracy',\n",
        "                                                verbose=1, \n",
        "                                                save_weights_only=False,\n",
        "                                                save_best_only=True, \n",
        "                                                mode='max',\n",
        "                                                save_freq='epoch'\n",
        "                                               )"
      ],
      "execution_count": 0,
      "outputs": []
    },
    {
      "cell_type": "code",
      "metadata": {
        "id": "amKNxpXusZET",
        "colab_type": "code",
        "colab": {}
      },
      "source": [
        "input_sent = tf.keras.layers.Input(shape=(max_seq_len,))\n",
        "emb_sent = Embedding(input_dim=len(word2id), output_dim=50, mask_zero=True) (input_sent)\n",
        "lstm_sent = Bidirectional(LSTM(256, return_sequences=True)) (emb_sent)\n",
        "drop = Dropout(0.2)\n",
        "\n",
        "input_char = tf.keras.layers.Input(shape=(max_seq_len, max_char_len,))\n",
        "emb_char = TimeDistributed(Embedding(input_dim=len(char2id), output_dim=50))(input_char)\n",
        "conv = TimeDistributed(Conv1D(kernel_size=10, filters=32, strides=1))(emb_char)\n",
        "flat = TimeDistributed(tf.keras.layers.Flatten())(conv)\n",
        "\n",
        "concat = tf.keras.layers.concatenate([lstm_sent, flat])\n",
        "lstm = Bidirectional(LSTM(256, return_sequences=True)) (concat)\n",
        "dense = TimeDistributed(Dense(len(tag2id), activation=\"sigmoid\"))(lstm)\n",
        "\n",
        "model = tf.keras.Model([input_sent, input_char], dense)"
      ],
      "execution_count": 0,
      "outputs": []
    },
    {
      "cell_type": "code",
      "metadata": {
        "id": "xiX0gg0yxP3O",
        "colab_type": "code",
        "colab": {
          "base_uri": "https://localhost:8080/",
          "height": 550
        },
        "outputId": "42a3fcbe-2803-4526-cd62-7619eb631b1a"
      },
      "source": [
        "model.compile(loss='categorical_crossentropy', optimizer='rmsprop', metrics=['accuracy'])\n",
        "model.summary()"
      ],
      "execution_count": 174,
      "outputs": [
        {
          "output_type": "stream",
          "text": [
            "Model: \"model_1\"\n",
            "__________________________________________________________________________________________________\n",
            "Layer (type)                    Output Shape         Param #     Connected to                     \n",
            "==================================================================================================\n",
            "input_4 (InputLayer)            [(None, 128, 24)]    0                                            \n",
            "__________________________________________________________________________________________________\n",
            "input_3 (InputLayer)            [(None, 128)]        0                                            \n",
            "__________________________________________________________________________________________________\n",
            "time_distributed_4 (TimeDistrib (None, 128, 24, 50)  2700        input_4[0][0]                    \n",
            "__________________________________________________________________________________________________\n",
            "embedding_2 (Embedding)         (None, 128, 50)      84050       input_3[0][0]                    \n",
            "__________________________________________________________________________________________________\n",
            "time_distributed_5 (TimeDistrib (None, 128, 15, 32)  16032       time_distributed_4[0][0]         \n",
            "__________________________________________________________________________________________________\n",
            "bidirectional_2 (Bidirectional) (None, 128, 512)     628736      embedding_2[0][0]                \n",
            "__________________________________________________________________________________________________\n",
            "time_distributed_6 (TimeDistrib (None, 128, 480)     0           time_distributed_5[0][0]         \n",
            "__________________________________________________________________________________________________\n",
            "concatenate_1 (Concatenate)     (None, 128, 992)     0           bidirectional_2[0][0]            \n",
            "                                                                 time_distributed_6[0][0]         \n",
            "__________________________________________________________________________________________________\n",
            "bidirectional_3 (Bidirectional) (None, 128, 512)     2557952     concatenate_1[0][0]              \n",
            "__________________________________________________________________________________________________\n",
            "time_distributed_7 (TimeDistrib (None, 128, 47)      24111       bidirectional_3[0][0]            \n",
            "==================================================================================================\n",
            "Total params: 3,313,581\n",
            "Trainable params: 3,313,581\n",
            "Non-trainable params: 0\n",
            "__________________________________________________________________________________________________\n"
          ],
          "name": "stdout"
        }
      ]
    },
    {
      "cell_type": "code",
      "metadata": {
        "id": "f8pHQGZtxoMJ",
        "colab_type": "code",
        "colab": {
          "base_uri": "https://localhost:8080/",
          "height": 1000
        },
        "outputId": "a594ab7c-6354-40de-9f08-2981e7ea0aa1"
      },
      "source": [
        "model.fit([X_train, X_train_char], y_train, validation_data=([X_test, X_test_char], y_test), batch_size=200, epochs=30)"
      ],
      "execution_count": 177,
      "outputs": [
        {
          "output_type": "stream",
          "text": [
            "Epoch 1/30\n",
            "16/16 [==============================] - 216s 14s/step - loss: 0.5979 - accuracy: 0.0260 - val_loss: 0.6080 - val_accuracy: 0.0272\n",
            "Epoch 2/30\n",
            "16/16 [==============================] - 213s 13s/step - loss: 0.5845 - accuracy: 0.0279 - val_loss: 0.5969 - val_accuracy: 0.0342\n",
            "Epoch 3/30\n",
            "16/16 [==============================] - 214s 13s/step - loss: 0.5736 - accuracy: 0.0335 - val_loss: 0.5885 - val_accuracy: 0.0354\n",
            "Epoch 4/30\n",
            "16/16 [==============================] - 212s 13s/step - loss: 0.5673 - accuracy: 0.0346 - val_loss: 0.5883 - val_accuracy: 0.0361\n",
            "Epoch 5/30\n",
            "16/16 [==============================] - 213s 13s/step - loss: 0.5635 - accuracy: 0.0349 - val_loss: 0.5807 - val_accuracy: 0.0364\n",
            "Epoch 6/30\n",
            "16/16 [==============================] - 213s 13s/step - loss: 0.5573 - accuracy: 0.0355 - val_loss: 0.5777 - val_accuracy: 0.0389\n",
            "Epoch 7/30\n",
            "16/16 [==============================] - 216s 13s/step - loss: 0.5507 - accuracy: 0.0364 - val_loss: 0.5746 - val_accuracy: 0.0419\n",
            "Epoch 8/30\n",
            "16/16 [==============================] - 214s 13s/step - loss: 0.5324 - accuracy: 0.0407 - val_loss: 0.5261 - val_accuracy: 0.0540\n",
            "Epoch 9/30\n",
            "16/16 [==============================] - 212s 13s/step - loss: 0.4825 - accuracy: 0.0548 - val_loss: 0.4536 - val_accuracy: 0.0752\n",
            "Epoch 10/30\n",
            "16/16 [==============================] - 210s 13s/step - loss: 0.4197 - accuracy: 0.0744 - val_loss: 0.3934 - val_accuracy: 0.0893\n",
            "Epoch 11/30\n",
            "16/16 [==============================] - 210s 13s/step - loss: 0.3663 - accuracy: 0.0878 - val_loss: 0.3481 - val_accuracy: 0.0988\n",
            "Epoch 12/30\n",
            "16/16 [==============================] - 211s 13s/step - loss: 0.3260 - accuracy: 0.0969 - val_loss: 0.3111 - val_accuracy: 0.1088\n",
            "Epoch 13/30\n",
            "16/16 [==============================] - 211s 13s/step - loss: 0.2908 - accuracy: 0.1068 - val_loss: 0.2811 - val_accuracy: 0.1165\n",
            "Epoch 14/30\n",
            "16/16 [==============================] - 211s 13s/step - loss: 0.2609 - accuracy: 0.1166 - val_loss: 0.2649 - val_accuracy: 0.1229\n",
            "Epoch 15/30\n",
            "16/16 [==============================] - 211s 13s/step - loss: 0.2326 - accuracy: 0.1276 - val_loss: 0.2289 - val_accuracy: 0.1391\n",
            "Epoch 16/30\n",
            "16/16 [==============================] - 212s 13s/step - loss: 0.2071 - accuracy: 0.1382 - val_loss: 0.2005 - val_accuracy: 0.1504\n",
            "Epoch 17/30\n",
            "16/16 [==============================] - 210s 13s/step - loss: 0.1814 - accuracy: 0.1478 - val_loss: 0.1864 - val_accuracy: 0.1539\n",
            "Epoch 18/30\n",
            "16/16 [==============================] - 211s 13s/step - loss: 0.1621 - accuracy: 0.1547 - val_loss: 0.1630 - val_accuracy: 0.1607\n",
            "Epoch 19/30\n",
            "16/16 [==============================] - 214s 13s/step - loss: 0.1450 - accuracy: 0.1597 - val_loss: 0.1628 - val_accuracy: 0.1601\n",
            "Epoch 20/30\n",
            "16/16 [==============================] - 213s 13s/step - loss: 0.1308 - accuracy: 0.1637 - val_loss: 0.1314 - val_accuracy: 0.1696\n",
            "Epoch 21/30\n",
            "16/16 [==============================] - 214s 13s/step - loss: 0.1213 - accuracy: 0.1657 - val_loss: 0.1264 - val_accuracy: 0.1697\n",
            "Epoch 22/30\n",
            "16/16 [==============================] - 215s 13s/step - loss: 0.1111 - accuracy: 0.1683 - val_loss: 0.1200 - val_accuracy: 0.1716\n",
            "Epoch 23/30\n",
            "16/16 [==============================] - 215s 13s/step - loss: 0.1032 - accuracy: 0.1701 - val_loss: 0.1138 - val_accuracy: 0.1728\n",
            "Epoch 24/30\n",
            "16/16 [==============================] - 215s 13s/step - loss: 0.0949 - accuracy: 0.1723 - val_loss: 0.1095 - val_accuracy: 0.1744\n",
            "Epoch 25/30\n",
            "16/16 [==============================] - 216s 13s/step - loss: 0.0903 - accuracy: 0.1734 - val_loss: 0.1096 - val_accuracy: 0.1737\n",
            "Epoch 26/30\n",
            "16/16 [==============================] - 213s 13s/step - loss: 0.0860 - accuracy: 0.1742 - val_loss: 0.0988 - val_accuracy: 0.1762\n",
            "Epoch 27/30\n",
            "16/16 [==============================] - 211s 13s/step - loss: 0.0805 - accuracy: 0.1754 - val_loss: 0.0943 - val_accuracy: 0.1777\n",
            "Epoch 28/30\n",
            "16/16 [==============================] - 209s 13s/step - loss: 0.0752 - accuracy: 0.1770 - val_loss: 0.0906 - val_accuracy: 0.1785\n",
            "Epoch 29/30\n",
            "16/16 [==============================] - 211s 13s/step - loss: 0.0743 - accuracy: 0.1770 - val_loss: 0.0916 - val_accuracy: 0.1785\n",
            "Epoch 30/30\n",
            "16/16 [==============================] - 211s 13s/step - loss: 0.0709 - accuracy: 0.1777 - val_loss: 0.0875 - val_accuracy: 0.1792\n"
          ],
          "name": "stdout"
        },
        {
          "output_type": "execute_result",
          "data": {
            "text/plain": [
              "<tensorflow.python.keras.callbacks.History at 0x7f098549e160>"
            ]
          },
          "metadata": {
            "tags": []
          },
          "execution_count": 177
        }
      ]
    },
    {
      "cell_type": "code",
      "metadata": {
        "id": "HjUxQjPI0A04",
        "colab_type": "code",
        "colab": {
          "base_uri": "https://localhost:8080/",
          "height": 295
        },
        "outputId": "2836b4b2-34f8-4cf0-edfe-add9d2e0cc5a"
      },
      "source": [
        "plt.plot(model.history.history['accuracy'])\n",
        "plt.plot(model.history.history['val_accuracy'])\n",
        "plt.title('model accuracy')\n",
        "plt.ylabel('accuracy')\n",
        "plt.xlabel('epoch')\n",
        "plt.legend(['train', 'val'], loc='upper left')\n",
        "plt.show()"
      ],
      "execution_count": 179,
      "outputs": [
        {
          "output_type": "display_data",
          "data": {
            "image/png": "[encoded data removed]",
            "text/plain": [
              "<Figure size 432x288 with 1 Axes>"
            ]
          },
          "metadata": {
            "tags": [],
            "needs_background": "light"
          }
        }
      ]
    },
    {
      "cell_type": "code",
      "metadata": {
        "id": "_QSb8gknBMuz",
        "colab_type": "code",
        "colab": {}
      },
      "source": [
        "def pos_pred(sentences): # предсказания сети для случайного предложения из списка\n",
        "  r = random.randint(0, len(sentences))\n",
        "  sentence = sentences[r]\n",
        "  sent_ints = data2ints(sentence, word2id)\n",
        "  sent_ints_pad = pad_sequences(sent_ints, maxlen=max_seq_len, padding='post')\n",
        "  sent_ints_char = char2ints(sentence, char2id)\n",
        "  sent_ints_char_pad = pad_sequences(sent_ints_char, maxlen=max_seq_len, padding='post')\n",
        "  pred = model.predict([sent_ints_pad, sent_ints_char_pad])\n",
        "  tags = np.argmax(pred[1], axis=-1)\n",
        "  for word, tag in zip(sentence, tags):\n",
        "      print(word, id2tag[tag])"
      ],
      "execution_count": 0,
      "outputs": []
    },
    {
      "cell_type": "code",
      "metadata": {
        "id": "qn_OmB655xPs",
        "colab_type": "code",
        "colab": {
          "base_uri": "https://localhost:8080/",
          "height": 348
        },
        "outputId": "624d4df0-3a99-4c49-f654-4c8219de7672"
      },
      "source": [
        "pos_pred(sent_test)"
      ],
      "execution_count": 455,
      "outputs": [
        {
          "output_type": "stream",
          "text": [
            "The nnp\n",
            "record nnp\n",
            "corn-buying jj\n",
            "binge jj\n",
            "by nnp\n",
            "the .\n",
            "Soviet sym\n",
            "Union sym\n",
            "is sym\n",
            "causing sym\n",
            "serious sym\n",
            "bottlenecks sym\n",
            "in sym\n",
            "the sym\n",
            "U.S. sym\n",
            "grain sym\n",
            "pipeline sym\n",
            ". sym\n"
          ],
          "name": "stdout"
        }
      ]
    },
    {
      "cell_type": "code",
      "metadata": {
        "id": "p_Rb7gAQ5BYA",
        "colab_type": "code",
        "colab": {
          "base_uri": "https://localhost:8080/",
          "height": 439
        },
        "outputId": "663f4077-f08b-4971-8aad-091a4e7a2011"
      },
      "source": [
        "pos_pred(sent_test)"
      ],
      "execution_count": 457,
      "outputs": [
        {
          "output_type": "stream",
          "text": [
            "Many prp\n",
            "institutional rb\n",
            "index jj\n",
            "funds rb\n",
            "are prp\n",
            "active jj\n",
            "program jj\n",
            "traders nns\n",
            ", prp\n",
            "*-1 rb\n",
            "swapping vbg\n",
            "their dt\n",
            "stocks nn\n",
            "for sym\n",
            "futures sym\n",
            "when sym\n",
            "profitable sym\n",
            "* sym\n",
            "to sym\n",
            "do sym\n",
            "so sym\n",
            "*T*-2 sym\n",
            ". sym\n"
          ],
          "name": "stdout"
        }
      ]
    },
    {
      "cell_type": "code",
      "metadata": {
        "id": "TZsFToiCSbHq",
        "colab_type": "code",
        "colab": {
          "base_uri": "https://localhost:8080/",
          "height": 127
        },
        "outputId": "ef3c0c68-d40f-4f63-93da-c1b8d216badc"
      },
      "source": [
        "pos_pred(sent_test)"
      ],
      "execution_count": 463,
      "outputs": [
        {
          "output_type": "stream",
          "text": [
            "I nnp\n",
            "believe nnp\n",
            "in nnp\n",
            "the prp\n",
            "system jj\n",
            ". jj\n"
          ],
          "name": "stdout"
        }
      ]
    },
    {
      "cell_type": "code",
      "metadata": {
        "id": "iaDE6_Rfcw0s",
        "colab_type": "code",
        "colab": {
          "base_uri": "https://localhost:8080/",
          "height": 293
        },
        "outputId": "c7965075-1bed-48d7-cf85-011b1d35d154"
      },
      "source": [
        "pos_pred(sent_test)"
      ],
      "execution_count": 468,
      "outputs": [
        {
          "output_type": "stream",
          "text": [
            "The nnp\n",
            "loudest nnp\n",
            "of nnp\n",
            "these jj\n",
            "reformers jj\n",
            "are nnp\n",
            "money .\n",
            "managers sym\n",
            "who sym\n",
            "*T*-77 sym\n",
            "cater sym\n",
            "to sym\n",
            "smaller sym\n",
            "investors sym\n",
            ". sym\n"
          ],
          "name": "stdout"
        }
      ]
    }
  ]
}