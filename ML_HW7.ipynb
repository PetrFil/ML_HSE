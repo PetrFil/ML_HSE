{
  "nbformat": 4,
  "nbformat_minor": 0,
  "metadata": {
    "colab": {
      "name": "ML_HW7.ipynb",
      "provenance": []
    },
    "kernelspec": {
      "name": "python3",
      "display_name": "Python 3"
    }
  },
  "cells": [
    {
      "cell_type": "code",
      "metadata": {
        "id": "QVvLFaBLuzQb",
        "colab_type": "code",
        "outputId": "cb66f0e2-4103-45ad-a145-f1b8d43206d1",
        "colab": {
          "base_uri": "https://localhost:8080/",
          "height": 237
        }
      },
      "source": [
        "!pip install pandas scikit-learn matplotlib"
      ],
      "execution_count": 1,
      "outputs": [
        {
          "output_type": "stream",
          "text": [
            "Requirement already satisfied: pandas in /usr/local/lib/python3.6/dist-packages (1.0.3)\n",
            "Requirement already satisfied: scikit-learn in /usr/local/lib/python3.6/dist-packages (0.22.2.post1)\n",
            "Requirement already satisfied: matplotlib in /usr/local/lib/python3.6/dist-packages (3.2.1)\n",
            "Requirement already satisfied: pytz>=2017.2 in /usr/local/lib/python3.6/dist-packages (from pandas) (2018.9)\n",
            "Requirement already satisfied: numpy>=1.13.3 in /usr/local/lib/python3.6/dist-packages (from pandas) (1.18.3)\n",
            "Requirement already satisfied: python-dateutil>=2.6.1 in /usr/local/lib/python3.6/dist-packages (from pandas) (2.8.1)\n",
            "Requirement already satisfied: joblib>=0.11 in /usr/local/lib/python3.6/dist-packages (from scikit-learn) (0.14.1)\n",
            "Requirement already satisfied: scipy>=0.17.0 in /usr/local/lib/python3.6/dist-packages (from scikit-learn) (1.4.1)\n",
            "Requirement already satisfied: pyparsing!=2.0.4,!=2.1.2,!=2.1.6,>=2.0.1 in /usr/local/lib/python3.6/dist-packages (from matplotlib) (2.4.7)\n",
            "Requirement already satisfied: cycler>=0.10 in /usr/local/lib/python3.6/dist-packages (from matplotlib) (0.10.0)\n",
            "Requirement already satisfied: kiwisolver>=1.0.1 in /usr/local/lib/python3.6/dist-packages (from matplotlib) (1.2.0)\n",
            "Requirement already satisfied: six>=1.5 in /usr/local/lib/python3.6/dist-packages (from python-dateutil>=2.6.1->pandas) (1.12.0)\n"
          ],
          "name": "stdout"
        }
      ]
    },
    {
      "cell_type": "code",
      "metadata": {
        "id": "VI8sGxOEv6b4",
        "colab_type": "code",
        "colab": {}
      },
      "source": [
        "from google.colab import drive \n",
        "drive.mount('/gdrive')"
      ],
      "execution_count": 0,
      "outputs": []
    },
    {
      "cell_type": "code",
      "metadata": {
        "id": "I7oCpI9hwCrL",
        "colab_type": "code",
        "colab": {}
      },
      "source": [
        "import tensorflow as tf\n",
        "import pandas as pd\n",
        "import numpy as np\n",
        "from string import punctuation\n",
        "from sklearn.model_selection import train_test_split\n",
        "from collections import Counter\n",
        "import matplotlib.pyplot as plt\n",
        "%matplotlib inline\n",
        "import string"
      ],
      "execution_count": 0,
      "outputs": []
    },
    {
      "cell_type": "code",
      "metadata": {
        "id": "JJUl7WFpwUz3",
        "colab_type": "code",
        "colab": {}
      },
      "source": [
        "from tensorflow.keras import backend as K\n",
        "def f1(y_true, y_pred):\n",
        "    def recall(y_true, y_pred):\n",
        "        \"\"\"Recall metric.\n",
        "\n",
        "        Only computes a batch-wise average of recall.\n",
        "\n",
        "        Computes the recall, a metric for multi-label classification of\n",
        "        how many relevant items are selected.\n",
        "        \"\"\"\n",
        "        true_positives = K.sum(K.round(K.clip(y_true * y_pred, 0, 1)))\n",
        "        possible_positives = K.sum(K.round(K.clip(y_true, 0, 1)))\n",
        "        recall = true_positives / (possible_positives + K.epsilon())\n",
        "        return recall\n",
        "\n",
        "    def precision(y_true, y_pred):\n",
        "        \"\"\"Precision metric.\n",
        "\n",
        "        Only computes a batch-wise average of precision.\n",
        "\n",
        "        Computes the precision, a metric for multi-label classification of\n",
        "        how many selected items are relevant.\n",
        "        \"\"\"\n",
        "        true_positives = K.sum(K.round(K.clip(y_true * y_pred, 0, 1)))\n",
        "        predicted_positives = K.sum(K.round(K.clip(y_pred, 0, 1)))\n",
        "        precision = true_positives / (predicted_positives + K.epsilon())\n",
        "        return precision\n",
        "    precision = precision(y_true, y_pred)\n",
        "    recall = recall(y_true, y_pred)\n",
        "    return 2*((precision*recall)/(precision+recall+K.epsilon()))"
      ],
      "execution_count": 0,
      "outputs": []
    },
    {
      "cell_type": "code",
      "metadata": {
        "id": "m_G6iAtHwV9h",
        "colab_type": "code",
        "colab": {}
      },
      "source": [
        "quora = pd.read_csv('/gdrive/My Drive/data.zip (Unzipped Files)/quora.csv')"
      ],
      "execution_count": 0,
      "outputs": []
    },
    {
      "cell_type": "code",
      "metadata": {
        "id": "9mQ7fdCizVmz",
        "colab_type": "code",
        "colab": {}
      },
      "source": [
        "def tokenize (text):\n",
        "  symbols = []\n",
        "  for symb in text:\n",
        "    symbols += [symb]  \n",
        "  return symbols"
      ],
      "execution_count": 0,
      "outputs": []
    },
    {
      "cell_type": "code",
      "metadata": {
        "id": "ZY078RYEz6yo",
        "colab_type": "code",
        "colab": {}
      },
      "source": [
        "vocab = Counter()\n",
        "\n",
        "for text in quora.question_text:\n",
        "    vocab.update(tokenize(text))"
      ],
      "execution_count": 0,
      "outputs": []
    },
    {
      "cell_type": "code",
      "metadata": {
        "id": "6pR_XlOc0N67",
        "colab_type": "code",
        "colab": {
          "base_uri": "https://localhost:8080/",
          "height": 35
        },
        "outputId": "5aee448f-a048-4b8a-c679-5a1fe798f08e"
      },
      "source": [
        "len(vocab)"
      ],
      "execution_count": 8,
      "outputs": [
        {
          "output_type": "execute_result",
          "data": {
            "text/plain": [
              "2047"
            ]
          },
          "metadata": {
            "tags": []
          },
          "execution_count": 8
        }
      ]
    },
    {
      "cell_type": "code",
      "metadata": {
        "id": "efki-8Ik0201",
        "colab_type": "code",
        "colab": {}
      },
      "source": [
        "filtered_vocab = set()\n",
        "\n",
        "for symb in vocab:\n",
        "    if vocab[symb] > 5:\n",
        "        filtered_vocab.add(symb)"
      ],
      "execution_count": 0,
      "outputs": []
    },
    {
      "cell_type": "code",
      "metadata": {
        "id": "Vjdx5t9a0dye",
        "colab_type": "code",
        "colab": {
          "base_uri": "https://localhost:8080/",
          "height": 35
        },
        "outputId": "49991b33-0996-460b-c9c7-95ef9b32a48d"
      },
      "source": [
        "len(filtered_vocab)"
      ],
      "execution_count": 10,
      "outputs": [
        {
          "output_type": "execute_result",
          "data": {
            "text/plain": [
              "447"
            ]
          },
          "metadata": {
            "tags": []
          },
          "execution_count": 10
        }
      ]
    },
    {
      "cell_type": "code",
      "metadata": {
        "id": "h0bevmbe3BbJ",
        "colab_type": "code",
        "colab": {}
      },
      "source": [
        "symb2id = {'UNK':1, 'PAD':0}\n",
        "\n",
        "for symb in filtered_vocab:\n",
        "    symb2id[symb] = len(symb2id)"
      ],
      "execution_count": 0,
      "outputs": []
    },
    {
      "cell_type": "code",
      "metadata": {
        "id": "u8fMROjr3Ozv",
        "colab_type": "code",
        "colab": {}
      },
      "source": [
        "id2symb = {i:symb for symb, i in symb2id.items()}"
      ],
      "execution_count": 0,
      "outputs": []
    },
    {
      "cell_type": "code",
      "metadata": {
        "id": "fwCEVlSw4vZa",
        "colab_type": "code",
        "colab": {}
      },
      "source": [
        "X = []\n",
        "\n",
        "for text in quora.question_text:\n",
        "    tokens = tokenize(text)\n",
        "    ids = [symb2id.get(token, 1) for token in tokens]\n",
        "    X.append(ids)"
      ],
      "execution_count": 0,
      "outputs": []
    },
    {
      "cell_type": "code",
      "metadata": {
        "id": "-Q3e3AsJ5ixD",
        "colab_type": "code",
        "colab": {}
      },
      "source": [
        "MAX_LEN = max(len(x) for x in X)"
      ],
      "execution_count": 0,
      "outputs": []
    },
    {
      "cell_type": "code",
      "metadata": {
        "id": "_mfPgTnP5QZ6",
        "colab_type": "code",
        "colab": {}
      },
      "source": [
        "MEAN_LEN = np.median([len(x) for x in X])"
      ],
      "execution_count": 0,
      "outputs": []
    },
    {
      "cell_type": "code",
      "metadata": {
        "id": "0Qww7Tr_5gYx",
        "colab_type": "code",
        "colab": {
          "base_uri": "https://localhost:8080/",
          "height": 35
        },
        "outputId": "e73ca25d-d970-4ba7-c31e-01370be0bee7"
      },
      "source": [
        "MAX_LEN, MEAN_LEN"
      ],
      "execution_count": 18,
      "outputs": [
        {
          "output_type": "execute_result",
          "data": {
            "text/plain": [
              "(1017, 60.0)"
            ]
          },
          "metadata": {
            "tags": []
          },
          "execution_count": 18
        }
      ]
    },
    {
      "cell_type": "code",
      "metadata": {
        "id": "PngbHnrm5o03",
        "colab_type": "code",
        "colab": {}
      },
      "source": [
        "MAX_LEN = int(MEAN_LEN) + 5"
      ],
      "execution_count": 0,
      "outputs": []
    },
    {
      "cell_type": "code",
      "metadata": {
        "id": "1IP1Sksc530n",
        "colab_type": "code",
        "colab": {}
      },
      "source": [
        "X = tf.keras.preprocessing.sequence.pad_sequences(X, maxlen=MAX_LEN)"
      ],
      "execution_count": 0,
      "outputs": []
    },
    {
      "cell_type": "code",
      "metadata": {
        "id": "wGDEpf1W5vVn",
        "colab_type": "code",
        "colab": {
          "base_uri": "https://localhost:8080/",
          "height": 35
        },
        "outputId": "cd3b4cf5-06ef-43e6-cf68-7829780ff538"
      },
      "source": [
        "X.shape"
      ],
      "execution_count": 21,
      "outputs": [
        {
          "output_type": "execute_result",
          "data": {
            "text/plain": [
              "(1306122, 65)"
            ]
          },
          "metadata": {
            "tags": []
          },
          "execution_count": 21
        }
      ]
    },
    {
      "cell_type": "code",
      "metadata": {
        "id": "lVZzY4WU6D7n",
        "colab_type": "code",
        "colab": {}
      },
      "source": [
        "y = quora.target.values"
      ],
      "execution_count": 0,
      "outputs": []
    },
    {
      "cell_type": "code",
      "metadata": {
        "id": "4d-URzLS6EgP",
        "colab_type": "code",
        "colab": {}
      },
      "source": [
        "X_train, X_valid, y_train, y_valid = train_test_split(X, y, test_size=0.05, stratify=y)"
      ],
      "execution_count": 0,
      "outputs": []
    },
    {
      "cell_type": "code",
      "metadata": {
        "id": "lJjEpLlR8Kaa",
        "colab_type": "code",
        "colab": {}
      },
      "source": [
        "checkpoint = tf.keras.callbacks.ModelCheckpoint('model.weights', \n",
        "                                                monitor='val_f1',\n",
        "                                                verbose=1,\n",
        "                                                save_weights_only=True,\n",
        "                                                save_best_only=True,\n",
        "                                                mode='max',\n",
        "                                                save_freq='epoch')"
      ],
      "execution_count": 0,
      "outputs": []
    },
    {
      "cell_type": "markdown",
      "metadata": {
        "id": "ew1LAqbxTLZ3",
        "colab_type": "text"
      },
      "source": [
        "Попробуем сначала 8 слоев"
      ]
    },
    {
      "cell_type": "code",
      "metadata": {
        "id": "yt9UsZdcTA9O",
        "colab_type": "code",
        "colab": {}
      },
      "source": [
        "inputs = tf.keras.layers.Input(shape=(MAX_LEN,))\n",
        "embeddings = tf.keras.layers.Embedding(input_dim=len(symb2id), output_dim=100)(inputs, )\n",
        "convs = []\n",
        "\n",
        "conv1 = tf.keras.layers.Conv1D(kernel_size=2, filters=24, strides=1)(embeddings)\n",
        "conv2 = tf.keras.layers.Conv1D(kernel_size=1, filters=16, strides=1, activation='relu')(conv1)\n",
        "pool1 = tf.keras.layers.GlobalMaxPooling1D()(conv2)\n",
        "drop1 = tf.keras.layers.Dropout(0.2)(pool1)\n",
        "convs.append(drop1)\n",
        "\n",
        "conv3 = tf.keras.layers.Conv1D(kernel_size=4, filters=32, strides=1)(embeddings)\n",
        "conv4 = tf.keras.layers.Conv1D(kernel_size=2, filters=28, strides=1)(conv3)\n",
        "pool2 = tf.keras.layers.GlobalMaxPooling1D()(conv4)\n",
        "drop2 = tf.keras.layers.Dropout(0.2)(pool2)\n",
        "convs.append(drop2)\n",
        "\n",
        "concat = tf.keras.layers.concatenate(convs)\n",
        "\n",
        "dense = tf.keras.layers.Dense(64, activation='relu')(concat)\n",
        "outputs = tf.keras.layers.Dense(1, activation='sigmoid')(dense)\n",
        "\n",
        "model = tf.keras.Model(inputs=inputs, outputs=outputs)\n",
        "optimizer = tf.keras.optimizers.Adam(learning_rate=0.001)\n",
        "model.compile(optimizer=optimizer,\n",
        "              loss='binary_crossentropy',\n",
        "              metrics=[f1])"
      ],
      "execution_count": 0,
      "outputs": []
    },
    {
      "cell_type": "code",
      "metadata": {
        "id": "PS-lbZVo6OwW",
        "colab_type": "code",
        "colab": {
          "base_uri": "https://localhost:8080/",
          "height": 219
        },
        "outputId": "4dd1bbae-3f2e-4539-e1cd-ee262bbe78d7"
      },
      "source": [
        "model.fit(X_train, y_train, \n",
        "          validation_data=(X_valid, y_valid),\n",
        "          batch_size=2000,\n",
        "         epochs=5)"
      ],
      "execution_count": 37,
      "outputs": [
        {
          "output_type": "stream",
          "text": [
            "Epoch 1/5\n",
            "621/621 [==============================] - 383s 616ms/step - loss: 0.2010 - f1: 0.0598 - val_loss: 0.1719 - val_f1: 0.2025\n",
            "Epoch 2/5\n",
            "621/621 [==============================] - 384s 619ms/step - loss: 0.1686 - f1: 0.2197 - val_loss: 0.1637 - val_f1: 0.2991\n",
            "Epoch 3/5\n",
            "621/621 [==============================] - 382s 615ms/step - loss: 0.1632 - f1: 0.2646 - val_loss: 0.1601 - val_f1: 0.2956\n",
            "Epoch 4/5\n",
            "621/621 [==============================] - 385s 621ms/step - loss: 0.1604 - f1: 0.2876 - val_loss: 0.1579 - val_f1: 0.3102\n",
            "Epoch 5/5\n",
            "621/621 [==============================] - 382s 614ms/step - loss: 0.1585 - f1: 0.3000 - val_loss: 0.1568 - val_f1: 0.3225\n"
          ],
          "name": "stdout"
        },
        {
          "output_type": "execute_result",
          "data": {
            "text/plain": [
              "<tensorflow.python.keras.callbacks.History at 0x7fd7682330b8>"
            ]
          },
          "metadata": {
            "tags": []
          },
          "execution_count": 37
        }
      ]
    },
    {
      "cell_type": "code",
      "metadata": {
        "id": "9MJNfzye6WAc",
        "colab_type": "code",
        "colab": {
          "base_uri": "https://localhost:8080/",
          "height": 313
        },
        "outputId": "ae513e87-8ae5-4748-f3e5-fe4a706673cf"
      },
      "source": [
        "print(model.history.history.keys())\n",
        "# summarize history for accuracy\n",
        "plt.plot(model.history.history['f1'])\n",
        "plt.plot(model.history.history['val_f1'])\n",
        "plt.title('model f1')\n",
        "plt.ylabel('f1')\n",
        "plt.xlabel('epoch')\n",
        "plt.legend(['train', 'val'], loc='upper left')\n",
        "plt.show()"
      ],
      "execution_count": 38,
      "outputs": [
        {
          "output_type": "stream",
          "text": [
            "dict_keys(['loss', 'f1', 'val_loss', 'val_f1'])\n"
          ],
          "name": "stdout"
        },
        {
          "output_type": "display_data",
          "data": {
            "image/png": "[encoded data removed]",
            "text/plain": [
              "<Figure size 432x288 with 1 Axes>"
            ]
          },
          "metadata": {
            "tags": [],
            "needs_background": "light"
          }
        }
      ]
    },
    {
      "cell_type": "markdown",
      "metadata": {
        "id": "XKgnI9ZNwO5z",
        "colab_type": "text"
      },
      "source": [
        "Теперь 16 слоев и сократим размерность эмбеддингов"
      ]
    },
    {
      "cell_type": "code",
      "metadata": {
        "id": "-IbtiTKNe0oo",
        "colab_type": "code",
        "colab": {}
      },
      "source": [
        "inputs = tf.keras.layers.Input(shape=(MAX_LEN,))\n",
        "embeddings = tf.keras.layers.Embedding(input_dim=len(symb2id), output_dim=50)(inputs, )\n",
        "convs = []\n",
        "\n",
        "conv1 = tf.keras.layers.Conv1D(kernel_size=2, filters=24, strides=1)(embeddings)\n",
        "conv2 = tf.keras.layers.Conv1D(kernel_size=1, filters=16, strides=1, activation='relu')(conv1)\n",
        "pool1 = tf.keras.layers.GlobalMaxPooling1D()(conv2)\n",
        "drop1 = tf.keras.layers.Dropout(0.2)(pool1)\n",
        "convs.append(drop1)\n",
        "\n",
        "conv3 = tf.keras.layers.Conv1D(kernel_size=4, filters=32, strides=1)(embeddings)\n",
        "conv4 = tf.keras.layers.Conv1D(kernel_size=2, filters=28, strides=1)(conv3)\n",
        "conv5 = tf.keras.layers.Conv1D(kernel_size=1, filters=16, strides=1)(conv4)\n",
        "pool2 = tf.keras.layers.GlobalMaxPooling1D()(conv5)\n",
        "convs.append(pool2)\n",
        "\n",
        "conv6 = tf.keras.layers.Conv1D(kernel_size=5, filters=16, strides=1)(embeddings)\n",
        "conv7 = tf.keras.layers.Conv1D(kernel_size=3, filters=14, strides=1)(conv6)\n",
        "conv8 = tf.keras.layers.Conv1D(kernel_size=2, filters=16, strides=1)(conv7)\n",
        "drop2 = tf.keras.layers.GlobalMaxPooling1D()(conv8)\n",
        "convs.append(drop2)\n",
        "\n",
        "\n",
        "\n",
        "conv9 = tf.keras.layers.Conv1D(kernel_size=6, filters=32, strides=1)(embeddings)\n",
        "conv10 = tf.keras.layers.Conv1D(kernel_size=5, filters=32, strides=1)(conv9)\n",
        "conv11 = tf.keras.layers.Conv1D(kernel_size=4, filters=32, strides=1)(conv10)\n",
        "conv12 = tf.keras.layers.Conv1D(kernel_size=3, filters=16, strides=1)(conv11)\n",
        "drop3 = tf.keras.layers.GlobalMaxPooling1D()(conv12)\n",
        "convs.append(drop3)\n",
        "\n",
        "\n",
        "concat = tf.keras.layers.concatenate(convs)\n",
        "\n",
        "dense = tf.keras.layers.Dense(64, activation='relu')(concat)\n",
        "outputs = tf.keras.layers.Dense(1, activation='sigmoid')(dense)\n",
        "\n",
        "model = tf.keras.Model(inputs=inputs, outputs=outputs)\n",
        "optimizer = tf.keras.optimizers.Adam(learning_rate=0.001)\n",
        "model.compile(optimizer=optimizer,\n",
        "              loss='binary_crossentropy',\n",
        "              metrics=[f1])"
      ],
      "execution_count": 0,
      "outputs": []
    },
    {
      "cell_type": "code",
      "metadata": {
        "id": "FdVIAhn2f_CY",
        "colab_type": "code",
        "colab": {
          "base_uri": "https://localhost:8080/",
          "height": 219
        },
        "outputId": "0ba38d4e-661a-4ce2-9741-73e40b8c07fe"
      },
      "source": [
        "model.fit(X_train, y_train, \n",
        "          validation_data=(X_valid, y_valid),\n",
        "          batch_size=8000,\n",
        "         epochs=5)"
      ],
      "execution_count": 45,
      "outputs": [
        {
          "output_type": "stream",
          "text": [
            "Epoch 1/5\n",
            "156/156 [==============================] - 712s 5s/step - loss: 0.2428 - f1: 7.8871e-04 - val_loss: 0.2030 - val_f1: 0.0000e+00\n",
            "Epoch 2/5\n",
            "156/156 [==============================] - 711s 5s/step - loss: 0.1851 - f1: 0.0887 - val_loss: 0.1748 - val_f1: 0.1993\n",
            "Epoch 3/5\n",
            "156/156 [==============================] - 710s 5s/step - loss: 0.1669 - f1: 0.2506 - val_loss: 0.1668 - val_f1: 0.3008\n",
            "Epoch 4/5\n",
            "156/156 [==============================] - 704s 5s/step - loss: 0.1603 - f1: 0.2990 - val_loss: 0.1626 - val_f1: 0.2490\n",
            "Epoch 5/5\n",
            "156/156 [==============================] - 696s 4s/step - loss: 0.1568 - f1: 0.3225 - val_loss: 0.1597 - val_f1: 0.2885\n"
          ],
          "name": "stdout"
        },
        {
          "output_type": "execute_result",
          "data": {
            "text/plain": [
              "<tensorflow.python.keras.callbacks.History at 0x7fd7660ac198>"
            ]
          },
          "metadata": {
            "tags": []
          },
          "execution_count": 45
        }
      ]
    },
    {
      "cell_type": "code",
      "metadata": {
        "id": "WzoLG_Rogg2y",
        "colab_type": "code",
        "colab": {
          "base_uri": "https://localhost:8080/",
          "height": 313
        },
        "outputId": "4d511435-2f4c-480b-df44-5789f294e6db"
      },
      "source": [
        "print(model.history.history.keys())\n",
        "# summarize history for accuracy\n",
        "plt.plot(model.history.history['f1'])\n",
        "plt.plot(model.history.history['val_f1'])\n",
        "plt.title('model f1')\n",
        "plt.ylabel('f1')\n",
        "plt.xlabel('epoch')\n",
        "plt.legend(['train', 'val'], loc='upper left')\n",
        "plt.show()"
      ],
      "execution_count": 46,
      "outputs": [
        {
          "output_type": "stream",
          "text": [
            "dict_keys(['loss', 'f1', 'val_loss', 'val_f1'])\n"
          ],
          "name": "stdout"
        },
        {
          "output_type": "display_data",
          "data": {
            "image/png": "[encoded data removed]",
            "text/plain": [
              "<Figure size 432x288 with 1 Axes>"
            ]
          },
          "metadata": {
            "tags": [],
            "needs_background": "light"
          }
        }
      ]
    },
    {
      "cell_type": "markdown",
      "metadata": {
        "id": "qHDRSviJsuRn",
        "colab_type": "text"
      },
      "source": [
        "Увеличим число эпох"
      ]
    },
    {
      "cell_type": "code",
      "metadata": {
        "id": "j26rpbJS8RnA",
        "colab_type": "code",
        "colab": {}
      },
      "source": [
        "inputs = tf.keras.layers.Input(shape=(MAX_LEN,))\n",
        "embeddings = tf.keras.layers.Embedding(input_dim=len(symb2id), output_dim=50)(inputs, )\n",
        "convs = []\n",
        "\n",
        "conv1 = tf.keras.layers.Conv1D(kernel_size=2, filters=24, strides=1)(embeddings)\n",
        "conv2 = tf.keras.layers.Conv1D(kernel_size=1, filters=16, strides=1, activation='relu')(conv1)\n",
        "pool1 = tf.keras.layers.GlobalMaxPooling1D()(conv2)\n",
        "drop1 = tf.keras.layers.Dropout(0.2)(pool1)\n",
        "convs.append(drop1)\n",
        "\n",
        "\n",
        "conv3 = tf.keras.layers.Conv1D(kernel_size=4, filters=32, strides=1)(embeddings)\n",
        "conv4 = tf.keras.layers.Conv1D(kernel_size=2, filters=28, strides=1)(conv3)\n",
        "conv5 = tf.keras.layers.Conv1D(kernel_size=1, filters=16, strides=1)(conv4)\n",
        "pool2 = tf.keras.layers.GlobalMaxPooling1D()(conv5)\n",
        "convs.append(pool2)\n",
        "\n",
        "conv6 = tf.keras.layers.Conv1D(kernel_size=5, filters=16, strides=1)(embeddings)\n",
        "conv7 = tf.keras.layers.Conv1D(kernel_size=3, filters=14, strides=1)(conv6)\n",
        "conv8 = tf.keras.layers.Conv1D(kernel_size=2, filters=16, strides=1)(conv7)\n",
        "drop2 = tf.keras.layers.GlobalMaxPooling1D()(conv8)\n",
        "convs.append(drop2)\n",
        "\n",
        "\n",
        "\n",
        "conv9 = tf.keras.layers.Conv1D(kernel_size=6, filters=32, strides=1)(embeddings)\n",
        "conv10 = tf.keras.layers.Conv1D(kernel_size=5, filters=32, strides=1)(conv9)\n",
        "conv11 = tf.keras.layers.Conv1D(kernel_size=4, filters=32, strides=1)(conv10)\n",
        "conv12 = tf.keras.layers.Conv1D(kernel_size=3, filters=16, strides=1)(conv11)\n",
        "drop3 = tf.keras.layers.GlobalMaxPooling1D()(conv12)\n",
        "convs.append(drop3)\n",
        "\n",
        "\n",
        "concat = tf.keras.layers.concatenate(convs)\n",
        "\n",
        "dense = tf.keras.layers.Dense(64, activation='relu')(concat)\n",
        "outputs = tf.keras.layers.Dense(1, activation='sigmoid')(dense)\n",
        "\n",
        "model = tf.keras.Model(inputs=inputs, outputs=outputs)\n",
        "optimizer = tf.keras.optimizers.Adam(learning_rate=0.001)\n",
        "model.compile(optimizer=optimizer,\n",
        "              loss='binary_crossentropy',\n",
        "              metrics=[f1])"
      ],
      "execution_count": 0,
      "outputs": []
    },
    {
      "cell_type": "code",
      "metadata": {
        "id": "4Q7OBMIF8R24",
        "colab_type": "code",
        "colab": {
          "base_uri": "https://localhost:8080/",
          "height": 403
        },
        "outputId": "8639f879-5160-4439-a4b3-995f1722368c"
      },
      "source": [
        "model.fit(X_train, y_train, \n",
        "          validation_data=(X_valid, y_valid),\n",
        "          batch_size=4000,\n",
        "         epochs=10)"
      ],
      "execution_count": 48,
      "outputs": [
        {
          "output_type": "stream",
          "text": [
            "Epoch 1/10\n",
            "311/311 [==============================] - 731s 2s/step - loss: 0.2105 - f1: 0.0352 - val_loss: 0.1783 - val_f1: 0.1630\n",
            "Epoch 2/10\n",
            "311/311 [==============================] - 735s 2s/step - loss: 0.1678 - f1: 0.2354 - val_loss: 0.1635 - val_f1: 0.2372\n",
            "Epoch 3/10\n",
            "311/311 [==============================] - 737s 2s/step - loss: 0.1588 - f1: 0.3026 - val_loss: 0.1594 - val_f1: 0.3201\n",
            "Epoch 4/10\n",
            "311/311 [==============================] - 737s 2s/step - loss: 0.1544 - f1: 0.3354 - val_loss: 0.1586 - val_f1: 0.3734\n",
            "Epoch 5/10\n",
            "311/311 [==============================] - 728s 2s/step - loss: 0.1513 - f1: 0.3566 - val_loss: 0.1551 - val_f1: 0.3361\n",
            "Epoch 6/10\n",
            "311/311 [==============================] - 728s 2s/step - loss: 0.1493 - f1: 0.3654 - val_loss: 0.1547 - val_f1: 0.3056\n",
            "Epoch 7/10\n",
            "311/311 [==============================] - 729s 2s/step - loss: 0.1477 - f1: 0.3750 - val_loss: 0.1547 - val_f1: 0.3076\n",
            "Epoch 8/10\n",
            "311/311 [==============================] - 738s 2s/step - loss: 0.1465 - f1: 0.3828 - val_loss: 0.1531 - val_f1: 0.3332\n",
            "Epoch 9/10\n",
            "311/311 [==============================] - 744s 2s/step - loss: 0.1456 - f1: 0.3875 - val_loss: 0.1530 - val_f1: 0.4020\n",
            "Epoch 10/10\n",
            "311/311 [==============================] - 728s 2s/step - loss: 0.1444 - f1: 0.3946 - val_loss: 0.1525 - val_f1: 0.4100\n"
          ],
          "name": "stdout"
        },
        {
          "output_type": "execute_result",
          "data": {
            "text/plain": [
              "<tensorflow.python.keras.callbacks.History at 0x7fd7683df4e0>"
            ]
          },
          "metadata": {
            "tags": []
          },
          "execution_count": 48
        }
      ]
    },
    {
      "cell_type": "code",
      "metadata": {
        "id": "mdGAp-RM8SCP",
        "colab_type": "code",
        "colab": {
          "base_uri": "https://localhost:8080/",
          "height": 313
        },
        "outputId": "e1d4a362-5ec3-4d00-8517-d36c92863fd7"
      },
      "source": [
        "print(model.history.history.keys())\n",
        "# summarize history for accuracy\n",
        "plt.plot(model.history.history['f1'])\n",
        "plt.plot(model.history.history['val_f1'])\n",
        "plt.title('model f1')\n",
        "plt.ylabel('f1')\n",
        "plt.xlabel('epoch')\n",
        "plt.legend(['train', 'val'], loc='upper left')\n",
        "plt.show()"
      ],
      "execution_count": 49,
      "outputs": [
        {
          "output_type": "stream",
          "text": [
            "dict_keys(['loss', 'f1', 'val_loss', 'val_f1'])\n"
          ],
          "name": "stdout"
        },
        {
          "output_type": "display_data",
          "data": {
            "image/png": "[encoded data removed]",
            "text/plain": [
              "<Figure size 432x288 with 1 Axes>"
            ]
          },
          "metadata": {
            "tags": [],
            "needs_background": "light"
          }
        }
      ]
    },
    {
      "cell_type": "markdown",
      "metadata": {
        "id": "ROyru9TgWpTb",
        "colab_type": "text"
      },
      "source": [
        "Попробуем теперь оставить только алфавитные символы"
      ]
    },
    {
      "cell_type": "code",
      "metadata": {
        "id": "7kCtG3xy10kk",
        "colab_type": "code",
        "colab": {}
      },
      "source": [
        "alphabet = string.ascii_letters"
      ],
      "execution_count": 0,
      "outputs": []
    },
    {
      "cell_type": "code",
      "metadata": {
        "id": "o3iQl-FHXEvh",
        "colab_type": "code",
        "colab": {}
      },
      "source": [
        "def tokenize (text):\n",
        "  symbols = []\n",
        "  for symb in text:\n",
        "    if symb in alphabet:\n",
        "      symbols += [symb]  \n",
        "  return symbols"
      ],
      "execution_count": 0,
      "outputs": []
    },
    {
      "cell_type": "code",
      "metadata": {
        "id": "ftoRBKxIWd2e",
        "colab_type": "code",
        "colab": {}
      },
      "source": [
        "vocab = Counter()\n",
        "\n",
        "for text in quora.question_text:\n",
        "    vocab.update(tokenize(text))"
      ],
      "execution_count": 0,
      "outputs": []
    },
    {
      "cell_type": "code",
      "metadata": {
        "id": "PfyweIAuWiZ4",
        "colab_type": "code",
        "colab": {
          "base_uri": "https://localhost:8080/",
          "height": 35
        },
        "outputId": "937239c5-26a8-4ae9-8b65-da9b7f1b51d9"
      },
      "source": [
        "len(vocab)"
      ],
      "execution_count": 17,
      "outputs": [
        {
          "output_type": "execute_result",
          "data": {
            "text/plain": [
              "52"
            ]
          },
          "metadata": {
            "tags": []
          },
          "execution_count": 17
        }
      ]
    },
    {
      "cell_type": "code",
      "metadata": {
        "id": "SMDRRTN-W0-N",
        "colab_type": "code",
        "colab": {}
      },
      "source": [
        "symb2id = {'UNK':1, 'PAD':0}\n",
        "\n",
        "for symb in vocab:\n",
        "    symb2id[symb] = len(symb2id)\n",
        "\n",
        "id2symb = {i:symb for symb, i in symb2id.items()}"
      ],
      "execution_count": 0,
      "outputs": []
    },
    {
      "cell_type": "code",
      "metadata": {
        "id": "30ZhRdz0W-fi",
        "colab_type": "code",
        "colab": {}
      },
      "source": [
        "X = []\n",
        "\n",
        "for text in quora.question_text:\n",
        "    tokens = tokenize(text)\n",
        "    ids = [symb2id.get(token, 1) for token in tokens]\n",
        "    X.append(ids)"
      ],
      "execution_count": 0,
      "outputs": []
    },
    {
      "cell_type": "code",
      "metadata": {
        "id": "3C7gda3LXjXo",
        "colab_type": "code",
        "colab": {}
      },
      "source": [
        "MEAN_LEN = np.median([len(x) for x in X])"
      ],
      "execution_count": 0,
      "outputs": []
    },
    {
      "cell_type": "code",
      "metadata": {
        "id": "xqlBbhKnXKTE",
        "colab_type": "code",
        "colab": {}
      },
      "source": [
        "MAX_LEN = int(MEAN_LEN) + 5"
      ],
      "execution_count": 0,
      "outputs": []
    },
    {
      "cell_type": "code",
      "metadata": {
        "id": "MvO74gFZW3DF",
        "colab_type": "code",
        "colab": {}
      },
      "source": [
        "X = tf.keras.preprocessing.sequence.pad_sequences(X, maxlen=MAX_LEN)"
      ],
      "execution_count": 0,
      "outputs": []
    },
    {
      "cell_type": "code",
      "metadata": {
        "id": "x8PUqG1BXcKi",
        "colab_type": "code",
        "colab": {
          "base_uri": "https://localhost:8080/",
          "height": 35
        },
        "outputId": "1f88f8d8-2b55-4c23-a42c-2cb9ee564188"
      },
      "source": [
        "X.shape"
      ],
      "execution_count": 25,
      "outputs": [
        {
          "output_type": "execute_result",
          "data": {
            "text/plain": [
              "(1306122, 54)"
            ]
          },
          "metadata": {
            "tags": []
          },
          "execution_count": 25
        }
      ]
    },
    {
      "cell_type": "code",
      "metadata": {
        "id": "2Dgd7cw5Xmzm",
        "colab_type": "code",
        "colab": {}
      },
      "source": [
        "y = quora.target.values"
      ],
      "execution_count": 0,
      "outputs": []
    },
    {
      "cell_type": "code",
      "metadata": {
        "id": "QZI4NNelXpjH",
        "colab_type": "code",
        "colab": {}
      },
      "source": [
        "X_train, X_valid, y_train, y_valid = train_test_split(X, y, test_size=0.05, stratify=y)"
      ],
      "execution_count": 0,
      "outputs": []
    },
    {
      "cell_type": "code",
      "metadata": {
        "id": "UhWMdZIHXtP2",
        "colab_type": "code",
        "colab": {}
      },
      "source": [
        "checkpoint = tf.keras.callbacks.ModelCheckpoint('model.weights', \n",
        "                                                monitor='val_f1',\n",
        "                                                verbose=1,\n",
        "                                                save_weights_only=True,\n",
        "                                                save_best_only=True,\n",
        "                                                mode='max',\n",
        "                                                save_freq='epoch')"
      ],
      "execution_count": 0,
      "outputs": []
    },
    {
      "cell_type": "code",
      "metadata": {
        "id": "onX8ximPX2hA",
        "colab_type": "code",
        "colab": {}
      },
      "source": [
        "inputs = tf.keras.layers.Input(shape=(MAX_LEN,))\n",
        "embeddings = tf.keras.layers.Embedding(input_dim=len(symb2id), output_dim=50)(inputs, )\n",
        "convs = []\n",
        "\n",
        "conv1 = tf.keras.layers.Conv1D(kernel_size=2, filters=24, strides=1)(embeddings)\n",
        "conv2 = tf.keras.layers.Conv1D(kernel_size=1, filters=16, strides=1, activation='relu')(conv1)\n",
        "pool1 = tf.keras.layers.GlobalMaxPooling1D()(conv2)\n",
        "drop1 = tf.keras.layers.Dropout(0.2)(pool1)\n",
        "convs.append(drop1)\n",
        "\n",
        "conv3 = tf.keras.layers.Conv1D(kernel_size=4, filters=32, strides=1)(embeddings)\n",
        "conv4 = tf.keras.layers.Conv1D(kernel_size=2, filters=28, strides=1)(conv3)\n",
        "conv5 = tf.keras.layers.Conv1D(kernel_size=1, filters=16, strides=1)(conv4)\n",
        "pool2 = tf.keras.layers.GlobalMaxPooling1D()(conv5)\n",
        "convs.append(pool2)\n",
        "\n",
        "conv6 = tf.keras.layers.Conv1D(kernel_size=5, filters=16, strides=1)(embeddings)\n",
        "conv7 = tf.keras.layers.Conv1D(kernel_size=3, filters=14, strides=1)(conv6)\n",
        "conv8 = tf.keras.layers.Conv1D(kernel_size=2, filters=16, strides=1)(conv7)\n",
        "drop2 = tf.keras.layers.GlobalMaxPooling1D()(conv8)\n",
        "convs.append(drop2)\n",
        "\n",
        "\n",
        "\n",
        "conv9 = tf.keras.layers.Conv1D(kernel_size=6, filters=32, strides=1)(embeddings)\n",
        "conv10 = tf.keras.layers.Conv1D(kernel_size=5, filters=32, strides=1)(conv9)\n",
        "conv11 = tf.keras.layers.Conv1D(kernel_size=4, filters=32, strides=1)(conv10)\n",
        "conv12 = tf.keras.layers.Conv1D(kernel_size=3, filters=16, strides=1)(conv11)\n",
        "drop3 = tf.keras.layers.GlobalMaxPooling1D()(conv12)\n",
        "convs.append(drop3)\n",
        "\n",
        "\n",
        "concat = tf.keras.layers.concatenate(convs)\n",
        "\n",
        "dense = tf.keras.layers.Dense(64, activation='relu')(concat)\n",
        "outputs = tf.keras.layers.Dense(1, activation='sigmoid')(dense)\n",
        "\n",
        "model = tf.keras.Model(inputs=inputs, outputs=outputs)\n",
        "optimizer = tf.keras.optimizers.Adam(learning_rate=0.001)\n",
        "model.compile(optimizer=optimizer,\n",
        "              loss='binary_crossentropy',\n",
        "              metrics=[f1])"
      ],
      "execution_count": 0,
      "outputs": []
    },
    {
      "cell_type": "code",
      "metadata": {
        "id": "yohIPvu9X94x",
        "colab_type": "code",
        "colab": {
          "base_uri": "https://localhost:8080/",
          "height": 403
        },
        "outputId": "124bbc1b-9860-4793-e1c7-0c27e7ed07b3"
      },
      "source": [
        "model.fit(X_train, y_train, \n",
        "          validation_data=(X_valid, y_valid),\n",
        "          batch_size=4000,\n",
        "         epochs=10)"
      ],
      "execution_count": 31,
      "outputs": [
        {
          "output_type": "stream",
          "text": [
            "Epoch 1/10\n",
            "311/311 [==============================] - 580s 2s/step - loss: 0.2195 - f1: 0.0110 - val_loss: 0.1883 - val_f1: 0.0278\n",
            "Epoch 2/10\n",
            "311/311 [==============================] - 584s 2s/step - loss: 0.1784 - f1: 0.1457 - val_loss: 0.1699 - val_f1: 0.2149\n",
            "Epoch 3/10\n",
            "311/311 [==============================] - 583s 2s/step - loss: 0.1677 - f1: 0.2436 - val_loss: 0.1650 - val_f1: 0.2339\n",
            "Epoch 4/10\n",
            "311/311 [==============================] - 582s 2s/step - loss: 0.1633 - f1: 0.2750 - val_loss: 0.1618 - val_f1: 0.2856\n",
            "Epoch 5/10\n",
            "311/311 [==============================] - 583s 2s/step - loss: 0.1605 - f1: 0.2916 - val_loss: 0.1613 - val_f1: 0.3123\n",
            "Epoch 6/10\n",
            "311/311 [==============================] - 582s 2s/step - loss: 0.1586 - f1: 0.3037 - val_loss: 0.1588 - val_f1: 0.3118\n",
            "Epoch 7/10\n",
            "311/311 [==============================] - 582s 2s/step - loss: 0.1570 - f1: 0.3142 - val_loss: 0.1582 - val_f1: 0.3479\n",
            "Epoch 8/10\n",
            "311/311 [==============================] - 581s 2s/step - loss: 0.1557 - f1: 0.3233 - val_loss: 0.1563 - val_f1: 0.3116\n",
            "Epoch 9/10\n",
            "311/311 [==============================] - 588s 2s/step - loss: 0.1549 - f1: 0.3277 - val_loss: 0.1585 - val_f1: 0.2424\n",
            "Epoch 10/10\n",
            "311/311 [==============================] - 585s 2s/step - loss: 0.1537 - f1: 0.3348 - val_loss: 0.1567 - val_f1: 0.3768\n"
          ],
          "name": "stdout"
        },
        {
          "output_type": "execute_result",
          "data": {
            "text/plain": [
              "<tensorflow.python.keras.callbacks.History at 0x7fc25eb05198>"
            ]
          },
          "metadata": {
            "tags": []
          },
          "execution_count": 31
        }
      ]
    },
    {
      "cell_type": "code",
      "metadata": {
        "id": "YSj8cJ7rYIdY",
        "colab_type": "code",
        "colab": {
          "base_uri": "https://localhost:8080/",
          "height": 313
        },
        "outputId": "50e8cc97-e7d2-4c94-9815-c9dfd884c356"
      },
      "source": [
        "print(model.history.history.keys())\n",
        "# summarize history for accuracy\n",
        "plt.plot(model.history.history['f1'])\n",
        "plt.plot(model.history.history['val_f1'])\n",
        "plt.title('model f1')\n",
        "plt.ylabel('f1')\n",
        "plt.xlabel('epoch')\n",
        "plt.legend(['train', 'val'], loc='upper left')\n",
        "plt.show()"
      ],
      "execution_count": 32,
      "outputs": [
        {
          "output_type": "stream",
          "text": [
            "dict_keys(['loss', 'f1', 'val_loss', 'val_f1'])\n"
          ],
          "name": "stdout"
        },
        {
          "output_type": "display_data",
          "data": {
            "image/png": "[encoded data removed]",
            "text/plain": [
              "<Figure size 432x288 with 1 Axes>"
            ]
          },
          "metadata": {
            "tags": [],
            "needs_background": "light"
          }
        }
      ]
    },
    {
      "cell_type": "markdown",
      "metadata": {
        "id": "1Kgkk7NSw8Vl",
        "colab_type": "text"
      },
      "source": [
        "С алфавитными символами стало немного хуже"
      ]
    }
  ]
}