{
  "nbformat": 4,
  "nbformat_minor": 0,
  "metadata": {
    "colab": {
      "name": "ML_HW1.ipynb",
      "provenance": [],
      "collapsed_sections": []
    },
    "kernelspec": {
      "name": "python3",
      "display_name": "Python 3"
    }
  },
  "cells": [
    {
      "cell_type": "markdown",
      "metadata": {
        "id": "1nWpLxdDu65i",
        "colab_type": "text"
      },
      "source": [
        "Задание 1"
      ]
    },
    {
      "cell_type": "code",
      "metadata": {
        "id": "ar4kflmziw8R",
        "colab_type": "code",
        "colab": {}
      },
      "source": [
        "import pandas as pd\n"
      ],
      "execution_count": 0,
      "outputs": []
    },
    {
      "cell_type": "code",
      "metadata": {
        "id": "m64doXpVi6Qn",
        "colab_type": "code",
        "outputId": "4591f26a-cb70-4fa4-b509-ce02de9c4bc6",
        "colab": {
          "resources": {
            "http://localhost:8080/nbextensions/google.colab/files.js": {
              "data": "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",
              "ok": true,
              "headers": [
                [
                  "content-type",
                  "application/javascript"
                ]
              ],
              "status": 200,
              "status_text": "OK"
            }
          },
          "base_uri": "https://localhost:8080/",
          "height": 112
        }
      },
      "source": [
        "from google.colab import files\n",
        "uploaded = files.upload()"
      ],
      "execution_count": 2,
      "outputs": [
        {
          "output_type": "display_data",
          "data": {
            "text/html": [
              "\n",
              "     <input type=\"file\" id=\"files-2f090984-89ef-4d49-8584-1b5e7f9cd805\" name=\"files[]\" multiple disabled />\n",
              "     <output id=\"result-2f090984-89ef-4d49-8584-1b5e7f9cd805\">\n",
              "      Upload widget is only available when the cell has been executed in the\n",
              "      current browser session. Please rerun this cell to enable.\n",
              "      </output>\n",
              "      <script src=\"/nbextensions/google.colab/files.js\"></script> "
            ],
            "text/plain": [
              "<IPython.core.display.HTML object>"
            ]
          },
          "metadata": {
            "tags": []
          }
        },
        {
          "output_type": "stream",
          "text": [
            "Saving data.csv to data.csv\n",
            "Saving weatherHistory.csv to weatherHistory.csv\n"
          ],
          "name": "stdout"
        }
      ]
    },
    {
      "cell_type": "code",
      "metadata": {
        "id": "-D1M2A5cjPnI",
        "colab_type": "code",
        "colab": {}
      },
      "source": [
        "weather_hist = pd.read_csv('weatherHistory.csv')"
      ],
      "execution_count": 0,
      "outputs": []
    },
    {
      "cell_type": "markdown",
      "metadata": {
        "id": "0e4N4Ayl1I91",
        "colab_type": "text"
      },
      "source": [
        "Меняем названия, удаляем ненужный столбец, переводим даты в удобный формат"
      ]
    },
    {
      "cell_type": "code",
      "metadata": {
        "id": "0Jiv4zQ3vaCi",
        "colab_type": "code",
        "colab": {}
      },
      "source": [
        "weather_hist.rename({'Formatted Date':'date', 'Temperature (C)':'temp', 'Apparent Temperature (C)':'temp_app',\n",
        "                    'Precip Type':'weather_type', 'Wind Speed (km/h)':'wind_speed', 'Humidity':'humidity',\n",
        "                    'Daily Summary':'summary'}, \n",
        "                    axis=1, inplace=True)\n",
        "weather_hist.drop(['Loud Cover'], axis=1, inplace=True)\n",
        "weather_hist['date'] = pd.to_datetime(weather_hist['date'], utc = True)"
      ],
      "execution_count": 0,
      "outputs": []
    },
    {
      "cell_type": "markdown",
      "metadata": {
        "id": "HO4WypkawfBw",
        "colab_type": "text"
      },
      "source": [
        "Найдем самый холодный и самый ветренный дни. Будем считать самым холодным тот день, когда была зафиксирована самая холодная температура, хотя для большей точности следовало бы считать среднюю температуру по каждому из дней. Аналогично с ветром."
      ]
    },
    {
      "cell_type": "code",
      "metadata": {
        "id": "omtutBYtvu2-",
        "colab_type": "code",
        "outputId": "931825d5-3413-4d0d-f90c-749a727957a6",
        "colab": {
          "base_uri": "https://localhost:8080/",
          "height": 115
        }
      },
      "source": [
        "the_coldest_day = weather_hist[weather_hist['temp'] == weather_hist['temp'].min()]\n",
        "the_coldest_day.head()"
      ],
      "execution_count": 0,
      "outputs": [
        {
          "output_type": "execute_result",
          "data": {
            "text/html": [
              "<div>\n",
              "<style scoped>\n",
              "    .dataframe tbody tr th:only-of-type {\n",
              "        vertical-align: middle;\n",
              "    }\n",
              "\n",
              "    .dataframe tbody tr th {\n",
              "        vertical-align: top;\n",
              "    }\n",
              "\n",
              "    .dataframe thead th {\n",
              "        text-align: right;\n",
              "    }\n",
              "</style>\n",
              "<table border=\"1\" class=\"dataframe\">\n",
              "  <thead>\n",
              "    <tr style=\"text-align: right;\">\n",
              "      <th></th>\n",
              "      <th>date</th>\n",
              "      <th>Summary</th>\n",
              "      <th>weather_type</th>\n",
              "      <th>temp</th>\n",
              "      <th>temp_app</th>\n",
              "      <th>humidity</th>\n",
              "      <th>wind_speed</th>\n",
              "      <th>Wind Bearing (degrees)</th>\n",
              "      <th>Visibility (km)</th>\n",
              "      <th>Pressure (millibars)</th>\n",
              "      <th>summary</th>\n",
              "    </tr>\n",
              "  </thead>\n",
              "  <tbody>\n",
              "    <tr>\n",
              "      <th>54847</th>\n",
              "      <td>2012-02-10 06:00:00+00:00</td>\n",
              "      <td>Foggy</td>\n",
              "      <td>snow</td>\n",
              "      <td>-21.822222</td>\n",
              "      <td>-21.822222</td>\n",
              "      <td>0.8</td>\n",
              "      <td>3.0751</td>\n",
              "      <td>323.0</td>\n",
              "      <td>1.3685</td>\n",
              "      <td>1033.66</td>\n",
              "      <td>Foggy starting in the morning continuing until...</td>\n",
              "    </tr>\n",
              "  </tbody>\n",
              "</table>\n",
              "</div>"
            ],
            "text/plain": [
              "                           date  ...                                            summary\n",
              "54847 2012-02-10 06:00:00+00:00  ...  Foggy starting in the morning continuing until...\n",
              "\n",
              "[1 rows x 11 columns]"
            ]
          },
          "metadata": {
            "tags": []
          },
          "execution_count": 147
        }
      ]
    },
    {
      "cell_type": "code",
      "metadata": {
        "id": "vwMBx7Frw_cB",
        "colab_type": "code",
        "outputId": "ccdd0fa4-dc2b-4867-9ceb-3569d08b0a23",
        "colab": {
          "base_uri": "https://localhost:8080/",
          "height": 115
        }
      },
      "source": [
        "the_windiest_day = weather_hist[weather_hist['wind_speed'] == weather_hist['wind_speed'].max()]\n",
        "the_windiest_day.head()"
      ],
      "execution_count": 0,
      "outputs": [
        {
          "output_type": "execute_result",
          "data": {
            "text/html": [
              "<div>\n",
              "<style scoped>\n",
              "    .dataframe tbody tr th:only-of-type {\n",
              "        vertical-align: middle;\n",
              "    }\n",
              "\n",
              "    .dataframe tbody tr th {\n",
              "        vertical-align: top;\n",
              "    }\n",
              "\n",
              "    .dataframe thead th {\n",
              "        text-align: right;\n",
              "    }\n",
              "</style>\n",
              "<table border=\"1\" class=\"dataframe\">\n",
              "  <thead>\n",
              "    <tr style=\"text-align: right;\">\n",
              "      <th></th>\n",
              "      <th>date</th>\n",
              "      <th>Summary</th>\n",
              "      <th>weather_type</th>\n",
              "      <th>temp</th>\n",
              "      <th>temp_app</th>\n",
              "      <th>humidity</th>\n",
              "      <th>wind_speed</th>\n",
              "      <th>Wind Bearing (degrees)</th>\n",
              "      <th>Visibility (km)</th>\n",
              "      <th>Pressure (millibars)</th>\n",
              "      <th>summary</th>\n",
              "    </tr>\n",
              "  </thead>\n",
              "  <tbody>\n",
              "    <tr>\n",
              "      <th>12181</th>\n",
              "      <td>2007-01-29 12:00:00+00:00</td>\n",
              "      <td>Dangerously Windy and Partly Cloudy</td>\n",
              "      <td>rain</td>\n",
              "      <td>8.944444</td>\n",
              "      <td>3.483333</td>\n",
              "      <td>0.49</td>\n",
              "      <td>63.8526</td>\n",
              "      <td>307.0</td>\n",
              "      <td>11.4471</td>\n",
              "      <td>1009.05</td>\n",
              "      <td>Mostly cloudy throughout the day and windy sta...</td>\n",
              "    </tr>\n",
              "  </tbody>\n",
              "</table>\n",
              "</div>"
            ],
            "text/plain": [
              "                           date  ...                                            summary\n",
              "12181 2007-01-29 12:00:00+00:00  ...  Mostly cloudy throughout the day and windy sta...\n",
              "\n",
              "[1 rows x 11 columns]"
            ]
          },
          "metadata": {
            "tags": []
          },
          "execution_count": 148
        }
      ]
    },
    {
      "cell_type": "markdown",
      "metadata": {
        "id": "zMQYaq1K0uNQ",
        "colab_type": "text"
      },
      "source": [
        "Добавим колонки с годами, месяцами и неделями"
      ]
    },
    {
      "cell_type": "code",
      "metadata": {
        "id": "Wuc8U95l0-0U",
        "colab_type": "code",
        "colab": {}
      },
      "source": [
        "weather_hist['year'] = weather_hist['date'].dt.year\n",
        "weather_hist['month'] = weather_hist['date'].dt.month\n",
        "weather_hist['week'] = weather_hist['date'].dt.week"
      ],
      "execution_count": 0,
      "outputs": []
    },
    {
      "cell_type": "markdown",
      "metadata": {
        "id": "F9IZuM0g0bs5",
        "colab_type": "text"
      },
      "source": [
        "Создаем таблицу с дождями за лето 2014 года"
      ]
    },
    {
      "cell_type": "code",
      "metadata": {
        "id": "NKsu8T1eyd0M",
        "colab_type": "code",
        "colab": {}
      },
      "source": [
        "rain_2014 = weather_hist[(weather_hist['weather_type'] == 'rain') & (weather_hist['year'] == 2014) & (weather_hist['month'].isin(['6','7','8']))]"
      ],
      "execution_count": 0,
      "outputs": []
    },
    {
      "cell_type": "code",
      "metadata": {
        "id": "bZ_nXmijzZo9",
        "colab_type": "code",
        "outputId": "a2272593-cda6-4bf1-ad51-508adab4f796",
        "colab": {
          "base_uri": "https://localhost:8080/",
          "height": 36
        }
      },
      "source": [
        "print('количество зафиксированных дождей летом 2014 года -', len(rain_2014))"
      ],
      "execution_count": 0,
      "outputs": [
        {
          "output_type": "stream",
          "text": [
            "количество зафиксированных дождей летом 2014 года - 2205\n"
          ],
          "name": "stdout"
        }
      ]
    },
    {
      "cell_type": "code",
      "metadata": {
        "id": "lEIaeWyGtIa8",
        "colab_type": "code",
        "outputId": "456d7ca3-ea82-4a50-a56c-cee5b214c28f",
        "colab": {
          "base_uri": "https://localhost:8080/",
          "height": 260
        }
      },
      "source": [
        "weather_hist['year'].value_counts() #проверим сколько имеется данных по каждому году"
      ],
      "execution_count": 0,
      "outputs": [
        {
          "output_type": "execute_result",
          "data": {
            "text/plain": [
              "2012    8784\n",
              "2010    8784\n",
              "2008    8784\n",
              "2016    8783\n",
              "2015    8760\n",
              "2013    8760\n",
              "2011    8760\n",
              "2009    8760\n",
              "2007    8760\n",
              "2006    8760\n",
              "2014    8757\n",
              "2005       1\n",
              "Name: year, dtype: int64"
            ]
          },
          "metadata": {
            "tags": []
          },
          "execution_count": 153
        }
      ]
    },
    {
      "cell_type": "markdown",
      "metadata": {
        "id": "-H0roxeou-Kk",
        "colab_type": "text"
      },
      "source": [
        "В 2005 году представлена только одна строка, что не очень репрезентативно по сравнению с другими годами, поэтому удалим её"
      ]
    },
    {
      "cell_type": "code",
      "metadata": {
        "id": "_igQO3frtOcs",
        "colab_type": "code",
        "colab": {}
      },
      "source": [
        "weather_hist = weather_hist.loc[weather_hist['year'] != 2005] \n",
        "\n"
      ],
      "execution_count": 0,
      "outputs": []
    },
    {
      "cell_type": "markdown",
      "metadata": {
        "id": "jOapKB-zJC9T",
        "colab_type": "text"
      },
      "source": [
        "Самый влажный год"
      ]
    },
    {
      "cell_type": "code",
      "metadata": {
        "id": "KKlCffNU-o4N",
        "colab_type": "code",
        "colab": {}
      },
      "source": [
        "years = {}\n",
        "for year in set(weather_hist['year']):\n",
        "  years[year] = weather_hist[weather_hist['year'] == year]"
      ],
      "execution_count": 0,
      "outputs": []
    },
    {
      "cell_type": "code",
      "metadata": {
        "id": "N1ZbXvdEpaKG",
        "colab_type": "code",
        "colab": {}
      },
      "source": [
        "anual_humidity = {}\n",
        "for year in years:\n",
        "  anual_humidity[year] = years[year]['humidity'].mean()"
      ],
      "execution_count": 0,
      "outputs": []
    },
    {
      "cell_type": "code",
      "metadata": {
        "id": "7Sy_Hkc9qXZZ",
        "colab_type": "code",
        "outputId": "0805b075-3e1c-4331-f5bf-63ea036a333c",
        "colab": {
          "base_uri": "https://localhost:8080/",
          "height": 36
        }
      },
      "source": [
        "max_value = max(anual_humidity.values())\n",
        "for year in anual_humidity:\n",
        "  if anual_humidity[year]==max_value:\n",
        "    print('самый влажный год -', year, \n",
        "          'со средним уровнем влажности -', max_value) "
      ],
      "execution_count": 0,
      "outputs": [
        {
          "output_type": "stream",
          "text": [
            "самый влажный год - 2010 со средним уровнем влажности - 0.7968613387978182\n"
          ],
          "name": "stdout"
        }
      ]
    },
    {
      "cell_type": "code",
      "metadata": {
        "id": "NBpWkpwusvFr",
        "colab_type": "code",
        "colab": {}
      },
      "source": [
        "months = {}\n",
        "for year in set(weather_hist['year']):\n",
        "  for month in set(weather_hist['month']):\n",
        "    months[str(month)+str(year)] = weather_hist[(weather_hist['year'] == year) & (weather_hist['month'] == month)]"
      ],
      "execution_count": 0,
      "outputs": []
    },
    {
      "cell_type": "code",
      "metadata": {
        "id": "zWzWcE3O5Q6D",
        "colab_type": "code",
        "colab": {}
      },
      "source": [
        "wind_per_month = {}\n",
        "for month in months:\n",
        "  wind_per_month[month] = months[month]['wind_speed'].mean()"
      ],
      "execution_count": 0,
      "outputs": []
    },
    {
      "cell_type": "code",
      "metadata": {
        "id": "i8jBv_WC6UK1",
        "colab_type": "code",
        "outputId": "815d1ed4-151b-49a3-abe0-517617752abc",
        "colab": {
          "base_uri": "https://localhost:8080/",
          "height": 36
        }
      },
      "source": [
        "max_wind = max(wind_per_month.values())\n",
        "for month in months:\n",
        "  if wind_per_month[month]==max_wind:\n",
        "    print('самый ветренный месяц -', month[:-4]+'.'+month[-4:], \n",
        "          'со средней скоростью ветра -', max_wind) "
      ],
      "execution_count": 0,
      "outputs": [
        {
          "output_type": "stream",
          "text": [
            "самый ветренный месяц - 3.2009 со средней скоростью ветра - 16.88236478494623\n"
          ],
          "name": "stdout"
        }
      ]
    },
    {
      "cell_type": "markdown",
      "metadata": {
        "id": "xbgPosGFGslI",
        "colab_type": "text"
      },
      "source": [
        "\"Самая переменчивая погода\" - неоднозначная формулировка. Будем учитывать те величины, по которым всегда есть информация: скорость ветра и температура."
      ]
    },
    {
      "cell_type": "code",
      "metadata": {
        "id": "kzhgbeSMEZGj",
        "colab_type": "code",
        "colab": {}
      },
      "source": [
        "weeks = {}\n",
        "for year in years:\n",
        "  for week in set(weather_hist['week']):\n",
        "    weeks[str(week)+str(year)] = weather_hist[(weather_hist['year'] == year) & (weather_hist['week'] == week)]"
      ],
      "execution_count": 0,
      "outputs": []
    },
    {
      "cell_type": "code",
      "metadata": {
        "id": "fyxbTr3w9tH1",
        "colab_type": "code",
        "colab": {}
      },
      "source": [
        "the_most_changeable = {} # будем заносить разницу между максимумом и минимумом по температуре и ветру для каждой недели\n",
        "temp, wind_speed= {},  {}\n",
        "for week in weeks:\n",
        "  temp[week] = weeks[week]['temp'].max() - weeks[week]['temp'].min()\n",
        "  wind_speed[week] = weeks[week]['wind_speed'].max() - weeks[week]['wind_speed'].min()"
      ],
      "execution_count": 0,
      "outputs": []
    },
    {
      "cell_type": "code",
      "metadata": {
        "id": "yrI-5TrrCMHb",
        "colab_type": "code",
        "outputId": "e845d2e5-e945-4558-8d25-8f8d8936be5c",
        "colab": {
          "base_uri": "https://localhost:8080/",
          "height": 54
        }
      },
      "source": [
        "ampl_ws = max(wind_speed.values())\n",
        "ampl_t = max(temp.values())\n",
        "for week in weeks:\n",
        "  if wind_speed[week]==ampl_ws:\n",
        "    print('неделя с самым переменчивым ветром -', week[:-4]+'.'+week[-4:],\n",
        "    'амплитуда скорости ветра -', ampl_ws)\n",
        "  if temp[week]==ampl_t:\n",
        "    print('неделя с самой переменчивой t -', week[:-4]+'.'+week[-4:],\n",
        "    'амплитуда температуры -', ampl_t)"
      ],
      "execution_count": 0,
      "outputs": [
        {
          "output_type": "stream",
          "text": [
            "неделя с самым переменчивым ветром - 5.2007 амплитуда скорости ветра - 61.2444\n",
            "неделя с самой переменчивой t - 52.2009 амплитуда температуры - 32.76111111111111\n"
          ],
          "name": "stdout"
        }
      ]
    },
    {
      "cell_type": "code",
      "metadata": {
        "id": "geHeZiLWI3jY",
        "colab_type": "code",
        "colab": {}
      },
      "source": [
        "week_52_2009 = weather_hist[(weather_hist['week'] == 52) & (weather_hist['year'] == 2009)]\n",
        "week_52_2009.groupby('temp').agg(['mean']) # проверяем разброс температуры "
      ],
      "execution_count": 0,
      "outputs": []
    },
    {
      "cell_type": "code",
      "metadata": {
        "id": "eZy2B9ctGL3Q",
        "colab_type": "code",
        "colab": {}
      },
      "source": [
        "week_05_2007 = weather_hist[(weather_hist['week'] == 5) & (weather_hist['year'] == 2007)]\n",
        "week_05_2007.groupby('wind_speed').agg(['mean']) # проверяем разброс ветра"
      ],
      "execution_count": 0,
      "outputs": []
    },
    {
      "cell_type": "markdown",
      "metadata": {
        "id": "OHfv6rvSISdo",
        "colab_type": "text"
      },
      "source": [
        "Задание 2"
      ]
    },
    {
      "cell_type": "code",
      "metadata": {
        "id": "J1jbilPJJaZC",
        "colab_type": "code",
        "colab": {}
      },
      "source": [
        "data = pd.read_csv('data.csv')"
      ],
      "execution_count": 0,
      "outputs": []
    },
    {
      "cell_type": "code",
      "metadata": {
        "id": "qJmkfS97KVMb",
        "colab_type": "code",
        "colab": {}
      },
      "source": [
        "from sklearn.linear_model import LinearRegression, Ridge, Lasso\n",
        "from sklearn.svm import LinearSVR\n",
        "import numpy as np\n",
        "from sklearn.metrics import mean_squared_error\n",
        "from sklearn.model_selection import train_test_split"
      ],
      "execution_count": 0,
      "outputs": []
    },
    {
      "cell_type": "markdown",
      "metadata": {
        "id": "bxmm3_wa-lAd",
        "colab_type": "text"
      },
      "source": [
        "Уже имеющиеся признаки."
      ]
    },
    {
      "cell_type": "code",
      "metadata": {
        "id": "PLM3qU8XzSnS",
        "colab_type": "code",
        "colab": {}
      },
      "source": [
        "data['text_len'] = data['description'].apply(len)\n",
        "data['text_len_tokens'] = data['description'].apply(lambda x: len(x.split()))\n",
        "data['number_of_caps'] = data['description'].apply(lambda x: len([ch for ch in x if ch.isupper()]))\n",
        "data['number_of_nonalphanum'] = data['description'].apply(lambda x: len([ch for ch in x if not ch.isalnum()]))"
      ],
      "execution_count": 0,
      "outputs": []
    },
    {
      "cell_type": "markdown",
      "metadata": {
        "id": "peqLloje-odS",
        "colab_type": "text"
      },
      "source": [
        "Новые признаки. Сначала напишем функции с помощью регулярок."
      ]
    },
    {
      "cell_type": "code",
      "metadata": {
        "id": "iMqoyJFl-u82",
        "colab_type": "code",
        "colab": {}
      },
      "source": [
        "import re\n",
        "\n",
        "#наличие цифр, т.к. они обычно присутствуют в подробном описании\n",
        "def digits (text):\n",
        "  d = re.findall('[1-9]', text)\n",
        "  return len(d)\n",
        "\n",
        "#доля латинских символов, т.к. приведенные в оригинале названия изделий внушают больше доверия\n",
        "def latin(text):\n",
        "  l = re.findall('[a-z][A-Z]', text)\n",
        "  return len(l)/len(text)\n",
        "\n",
        "#доля кириллических символов, т.к. высокая доля текста делают описание \"живее\"\n",
        "def cyrillic(text):\n",
        "  c = re.findall('[а-я][А-Я]', text)\n",
        "  return len(c)/len(text)\n",
        "\n",
        "#наличие \"продающих слов\" в тексте, т.к. возможно они могут повлиять на решение человека о покупке\n",
        "def magic_lemmas(text):\n",
        "  magic_lemmas = ['идеальн','отличн', 'прекрасн', 'хорош', 'нов', 'качеств', 'свеж', 'великолепн', 'лучш']\n",
        "  total_len = 0\n",
        "  for lemma in magic_lemmas:\n",
        "    magic = re.findall(lemma, text)\n",
        "    total_len += len(magic)\n",
        "  return total_len\n",
        "\n",
        "#указана причина продажи, т.к. внушает больше доверия, покупатель понимает, что ему не пытаются \"сбагрить\" сломавшуюся вещь\n",
        "def why(text):\n",
        "  why = 'причина продажи'\n",
        "  why_finder = re.findall(why, text.lower())\n",
        "  return len(why_finder)\n",
        "\n",
        "\n",
        "#есть слово торг (предположительно наличие этого слова означает возможность торга), т.к. демонстрирует открытость к диалогу и можно уменьшить цену\n",
        "def torg(text):\n",
        "  market = re.findall('торг', text.lower())\n",
        "  return len(market)  \n",
        "\n",
        "\n",
        "# последние 3 признака возможно не очень универсальны, не во всех текстах встречаются такие слова"
      ],
      "execution_count": 0,
      "outputs": []
    },
    {
      "cell_type": "code",
      "metadata": {
        "id": "Ihsdj3HEDHUD",
        "colab_type": "code",
        "colab": {}
      },
      "source": [
        "data['digits'] = data['description'].apply(digits)\n",
        "data['latin'] = data['description'].apply(latin)\n",
        "data['cyrillic'] = data['description'].apply(cyrillic)\n",
        "data['magic_lemmas'] = data['description'].apply(magic_lemmas)\n",
        "data['why'] = data['description'].apply(why)\n",
        "data['torg'] = data['description'].apply(torg)"
      ],
      "execution_count": 0,
      "outputs": []
    },
    {
      "cell_type": "code",
      "metadata": {
        "id": "YBHrr9zszV9C",
        "colab_type": "code",
        "colab": {}
      },
      "source": [
        "X = data[['text_len', 'text_len_tokens', 'number_of_caps', 'number_of_nonalphanum', 'digits', 'latin', 'cyrillic', 'magic_lemmas', 'why', 'torg']].values\n",
        "y = data.deal_probability.values"
      ],
      "execution_count": 0,
      "outputs": []
    },
    {
      "cell_type": "code",
      "metadata": {
        "id": "EoObGJiuzYJ2",
        "colab_type": "code",
        "colab": {
          "base_uri": "https://localhost:8080/",
          "height": 36
        },
        "outputId": "7b9704ba-50f0-4d2c-ff14-03ddfcd9e683"
      },
      "source": [
        "X.shape"
      ],
      "execution_count": 92,
      "outputs": [
        {
          "output_type": "execute_result",
          "data": {
            "text/plain": [
              "(138715, 10)"
            ]
          },
          "metadata": {
            "tags": []
          },
          "execution_count": 92
        }
      ]
    },
    {
      "cell_type": "code",
      "metadata": {
        "id": "rT3N96992IMt",
        "colab_type": "code",
        "colab": {}
      },
      "source": [
        "X_train, X_test, y_train, y_test = train_test_split(X, y, random_state=42)"
      ],
      "execution_count": 0,
      "outputs": []
    },
    {
      "cell_type": "code",
      "metadata": {
        "id": "m1vmETmI0XQz",
        "colab_type": "code",
        "colab": {
          "base_uri": "https://localhost:8080/",
          "height": 36
        },
        "outputId": "1f9ccb00-ae49-430a-8fa6-045186cc573a"
      },
      "source": [
        "regressor = Ridge(alpha=1)\n",
        "regressor.fit(X_train, y_train)\n",
        "preds = regressor.predict(X_test)\n",
        "np.sqrt(mean_squared_error(y_test, preds))\n"
      ],
      "execution_count": 93,
      "outputs": [
        {
          "output_type": "execute_result",
          "data": {
            "text/plain": [
              "0.26304963770431733"
            ]
          },
          "metadata": {
            "tags": []
          },
          "execution_count": 93
        }
      ]
    },
    {
      "cell_type": "markdown",
      "metadata": {
        "id": "fDmaB7qTHlV_",
        "colab_type": "text"
      },
      "source": [
        "Всё стало немного хуже"
      ]
    },
    {
      "cell_type": "code",
      "metadata": {
        "id": "2BehJ5k_EfZu",
        "colab_type": "code",
        "colab": {
          "base_uri": "https://localhost:8080/",
          "height": 508
        },
        "outputId": "e9648dec-aed5-4c31-a93b-cd0205de011f"
      },
      "source": [
        "data.corr() # посмотрим на корреляцию"
      ],
      "execution_count": 68,
      "outputs": [
        {
          "output_type": "execute_result",
          "data": {
            "text/html": [
              "<div>\n",
              "<style scoped>\n",
              "    .dataframe tbody tr th:only-of-type {\n",
              "        vertical-align: middle;\n",
              "    }\n",
              "\n",
              "    .dataframe tbody tr th {\n",
              "        vertical-align: top;\n",
              "    }\n",
              "\n",
              "    .dataframe thead th {\n",
              "        text-align: right;\n",
              "    }\n",
              "</style>\n",
              "<table border=\"1\" class=\"dataframe\">\n",
              "  <thead>\n",
              "    <tr style=\"text-align: right;\">\n",
              "      <th></th>\n",
              "      <th>price</th>\n",
              "      <th>item_seq_number</th>\n",
              "      <th>image_top_1</th>\n",
              "      <th>deal_probability</th>\n",
              "      <th>text_len</th>\n",
              "      <th>text_len_tokens</th>\n",
              "      <th>number_of_caps</th>\n",
              "      <th>number_of_nonalphanum</th>\n",
              "      <th>digits</th>\n",
              "      <th>latin</th>\n",
              "      <th>cyrillic</th>\n",
              "      <th>magic_lemmas</th>\n",
              "      <th>why</th>\n",
              "      <th>torg</th>\n",
              "    </tr>\n",
              "  </thead>\n",
              "  <tbody>\n",
              "    <tr>\n",
              "      <th>price</th>\n",
              "      <td>1.000000</td>\n",
              "      <td>0.077973</td>\n",
              "      <td>0.046540</td>\n",
              "      <td>-0.015032</td>\n",
              "      <td>0.070124</td>\n",
              "      <td>0.066481</td>\n",
              "      <td>0.017722</td>\n",
              "      <td>0.056030</td>\n",
              "      <td>0.021605</td>\n",
              "      <td>-0.008075</td>\n",
              "      <td>0.000909</td>\n",
              "      <td>0.031499</td>\n",
              "      <td>-0.004599</td>\n",
              "      <td>0.035284</td>\n",
              "    </tr>\n",
              "    <tr>\n",
              "      <th>item_seq_number</th>\n",
              "      <td>0.077973</td>\n",
              "      <td>1.000000</td>\n",
              "      <td>0.093411</td>\n",
              "      <td>-0.038196</td>\n",
              "      <td>0.117144</td>\n",
              "      <td>0.112789</td>\n",
              "      <td>0.079725</td>\n",
              "      <td>0.127046</td>\n",
              "      <td>0.057301</td>\n",
              "      <td>-0.005108</td>\n",
              "      <td>0.060832</td>\n",
              "      <td>0.057765</td>\n",
              "      <td>-0.007406</td>\n",
              "      <td>0.012111</td>\n",
              "    </tr>\n",
              "    <tr>\n",
              "      <th>image_top_1</th>\n",
              "      <td>0.046540</td>\n",
              "      <td>0.093411</td>\n",
              "      <td>1.000000</td>\n",
              "      <td>0.185397</td>\n",
              "      <td>0.184829</td>\n",
              "      <td>0.182593</td>\n",
              "      <td>0.150551</td>\n",
              "      <td>0.174994</td>\n",
              "      <td>0.123618</td>\n",
              "      <td>0.107693</td>\n",
              "      <td>0.039923</td>\n",
              "      <td>0.046216</td>\n",
              "      <td>0.022933</td>\n",
              "      <td>0.092761</td>\n",
              "    </tr>\n",
              "    <tr>\n",
              "      <th>deal_probability</th>\n",
              "      <td>-0.015032</td>\n",
              "      <td>-0.038196</td>\n",
              "      <td>0.185397</td>\n",
              "      <td>1.000000</td>\n",
              "      <td>-0.009304</td>\n",
              "      <td>-0.013111</td>\n",
              "      <td>-0.012485</td>\n",
              "      <td>-0.023144</td>\n",
              "      <td>-0.028328</td>\n",
              "      <td>0.014381</td>\n",
              "      <td>-0.009749</td>\n",
              "      <td>0.005525</td>\n",
              "      <td>0.007982</td>\n",
              "      <td>0.041524</td>\n",
              "    </tr>\n",
              "    <tr>\n",
              "      <th>text_len</th>\n",
              "      <td>0.070124</td>\n",
              "      <td>0.117144</td>\n",
              "      <td>0.184829</td>\n",
              "      <td>-0.009304</td>\n",
              "      <td>1.000000</td>\n",
              "      <td>0.989847</td>\n",
              "      <td>0.612836</td>\n",
              "      <td>0.944754</td>\n",
              "      <td>0.486967</td>\n",
              "      <td>0.024564</td>\n",
              "      <td>0.050950</td>\n",
              "      <td>0.484854</td>\n",
              "      <td>0.025061</td>\n",
              "      <td>0.080893</td>\n",
              "    </tr>\n",
              "    <tr>\n",
              "      <th>text_len_tokens</th>\n",
              "      <td>0.066481</td>\n",
              "      <td>0.112789</td>\n",
              "      <td>0.182593</td>\n",
              "      <td>-0.013111</td>\n",
              "      <td>0.989847</td>\n",
              "      <td>1.000000</td>\n",
              "      <td>0.618434</td>\n",
              "      <td>0.938101</td>\n",
              "      <td>0.501690</td>\n",
              "      <td>0.028282</td>\n",
              "      <td>0.049508</td>\n",
              "      <td>0.472494</td>\n",
              "      <td>0.027134</td>\n",
              "      <td>0.078379</td>\n",
              "    </tr>\n",
              "    <tr>\n",
              "      <th>number_of_caps</th>\n",
              "      <td>0.017722</td>\n",
              "      <td>0.079725</td>\n",
              "      <td>0.150551</td>\n",
              "      <td>-0.012485</td>\n",
              "      <td>0.612836</td>\n",
              "      <td>0.618434</td>\n",
              "      <td>1.000000</td>\n",
              "      <td>0.628858</td>\n",
              "      <td>0.464501</td>\n",
              "      <td>0.049629</td>\n",
              "      <td>0.057320</td>\n",
              "      <td>0.199391</td>\n",
              "      <td>0.009786</td>\n",
              "      <td>0.039602</td>\n",
              "    </tr>\n",
              "    <tr>\n",
              "      <th>number_of_nonalphanum</th>\n",
              "      <td>0.056030</td>\n",
              "      <td>0.127046</td>\n",
              "      <td>0.174994</td>\n",
              "      <td>-0.023144</td>\n",
              "      <td>0.944754</td>\n",
              "      <td>0.938101</td>\n",
              "      <td>0.628858</td>\n",
              "      <td>1.000000</td>\n",
              "      <td>0.520895</td>\n",
              "      <td>0.029485</td>\n",
              "      <td>0.059073</td>\n",
              "      <td>0.414269</td>\n",
              "      <td>0.023465</td>\n",
              "      <td>0.067568</td>\n",
              "    </tr>\n",
              "    <tr>\n",
              "      <th>digits</th>\n",
              "      <td>0.021605</td>\n",
              "      <td>0.057301</td>\n",
              "      <td>0.123618</td>\n",
              "      <td>-0.028328</td>\n",
              "      <td>0.486967</td>\n",
              "      <td>0.501690</td>\n",
              "      <td>0.464501</td>\n",
              "      <td>0.520895</td>\n",
              "      <td>1.000000</td>\n",
              "      <td>0.053331</td>\n",
              "      <td>0.068968</td>\n",
              "      <td>0.135133</td>\n",
              "      <td>0.007747</td>\n",
              "      <td>0.012640</td>\n",
              "    </tr>\n",
              "    <tr>\n",
              "      <th>latin</th>\n",
              "      <td>-0.008075</td>\n",
              "      <td>-0.005108</td>\n",
              "      <td>0.107693</td>\n",
              "      <td>0.014381</td>\n",
              "      <td>0.024564</td>\n",
              "      <td>0.028282</td>\n",
              "      <td>0.049629</td>\n",
              "      <td>0.029485</td>\n",
              "      <td>0.053331</td>\n",
              "      <td>1.000000</td>\n",
              "      <td>0.007198</td>\n",
              "      <td>-0.000034</td>\n",
              "      <td>0.008655</td>\n",
              "      <td>-0.005810</td>\n",
              "    </tr>\n",
              "    <tr>\n",
              "      <th>cyrillic</th>\n",
              "      <td>0.000909</td>\n",
              "      <td>0.060832</td>\n",
              "      <td>0.039923</td>\n",
              "      <td>-0.009749</td>\n",
              "      <td>0.050950</td>\n",
              "      <td>0.049508</td>\n",
              "      <td>0.057320</td>\n",
              "      <td>0.059073</td>\n",
              "      <td>0.068968</td>\n",
              "      <td>0.007198</td>\n",
              "      <td>1.000000</td>\n",
              "      <td>-0.003487</td>\n",
              "      <td>-0.003479</td>\n",
              "      <td>-0.002421</td>\n",
              "    </tr>\n",
              "    <tr>\n",
              "      <th>magic_lemmas</th>\n",
              "      <td>0.031499</td>\n",
              "      <td>0.057765</td>\n",
              "      <td>0.046216</td>\n",
              "      <td>0.005525</td>\n",
              "      <td>0.484854</td>\n",
              "      <td>0.472494</td>\n",
              "      <td>0.199391</td>\n",
              "      <td>0.414269</td>\n",
              "      <td>0.135133</td>\n",
              "      <td>-0.000034</td>\n",
              "      <td>-0.003487</td>\n",
              "      <td>1.000000</td>\n",
              "      <td>0.041243</td>\n",
              "      <td>0.086603</td>\n",
              "    </tr>\n",
              "    <tr>\n",
              "      <th>why</th>\n",
              "      <td>-0.004599</td>\n",
              "      <td>-0.007406</td>\n",
              "      <td>0.022933</td>\n",
              "      <td>0.007982</td>\n",
              "      <td>0.025061</td>\n",
              "      <td>0.027134</td>\n",
              "      <td>0.009786</td>\n",
              "      <td>0.023465</td>\n",
              "      <td>0.007747</td>\n",
              "      <td>0.008655</td>\n",
              "      <td>-0.003479</td>\n",
              "      <td>0.041243</td>\n",
              "      <td>1.000000</td>\n",
              "      <td>0.022080</td>\n",
              "    </tr>\n",
              "    <tr>\n",
              "      <th>torg</th>\n",
              "      <td>0.035284</td>\n",
              "      <td>0.012111</td>\n",
              "      <td>0.092761</td>\n",
              "      <td>0.041524</td>\n",
              "      <td>0.080893</td>\n",
              "      <td>0.078379</td>\n",
              "      <td>0.039602</td>\n",
              "      <td>0.067568</td>\n",
              "      <td>0.012640</td>\n",
              "      <td>-0.005810</td>\n",
              "      <td>-0.002421</td>\n",
              "      <td>0.086603</td>\n",
              "      <td>0.022080</td>\n",
              "      <td>1.000000</td>\n",
              "    </tr>\n",
              "  </tbody>\n",
              "</table>\n",
              "</div>"
            ],
            "text/plain": [
              "                          price  item_seq_number  ...       why      torg\n",
              "price                  1.000000         0.077973  ... -0.004599  0.035284\n",
              "item_seq_number        0.077973         1.000000  ... -0.007406  0.012111\n",
              "image_top_1            0.046540         0.093411  ...  0.022933  0.092761\n",
              "deal_probability      -0.015032        -0.038196  ...  0.007982  0.041524\n",
              "text_len               0.070124         0.117144  ...  0.025061  0.080893\n",
              "text_len_tokens        0.066481         0.112789  ...  0.027134  0.078379\n",
              "number_of_caps         0.017722         0.079725  ...  0.009786  0.039602\n",
              "number_of_nonalphanum  0.056030         0.127046  ...  0.023465  0.067568\n",
              "digits                 0.021605         0.057301  ...  0.007747  0.012640\n",
              "latin                 -0.008075        -0.005108  ...  0.008655 -0.005810\n",
              "cyrillic               0.000909         0.060832  ... -0.003479 -0.002421\n",
              "magic_lemmas           0.031499         0.057765  ...  0.041243  0.086603\n",
              "why                   -0.004599        -0.007406  ...  1.000000  0.022080\n",
              "torg                   0.035284         0.012111  ...  0.022080  1.000000\n",
              "\n",
              "[14 rows x 14 columns]"
            ]
          },
          "metadata": {
            "tags": []
          },
          "execution_count": 68
        }
      ]
    },
    {
      "cell_type": "markdown",
      "metadata": {
        "id": "J08JV-qFFjV4",
        "colab_type": "text"
      },
      "source": [
        "Самый высокий уровень корреляции у наличия слова \"торг\"! Высокий уровень корреляции(со знаком минус) с вероятностью сделки у цифровых символов(превосходит даже предложенные раньше факторы). Указанная причина продажи коррелирует с продажей больше, чем \"продающие слова\". Высокая доля латинских символов тоже играет важную роль. Доля кириллических символов оказывается важнее, чем продающие слова и указанная причина продажи. "
      ]
    },
    {
      "cell_type": "code",
      "metadata": {
        "id": "Wsw1s3qjH61h",
        "colab_type": "code",
        "colab": {
          "base_uri": "https://localhost:8080/",
          "height": 36
        },
        "outputId": "ba8995c6-5fd3-4c8e-a449-88de39ff5f0c"
      },
      "source": [
        "X = data[['torg']].values\n",
        "y = data.deal_probability.values\n",
        "X_train, X_test, y_train, y_test = train_test_split(X, y, random_state=42)\n",
        "regressor = Ridge(alpha=1)\n",
        "regressor.fit(X_train, y_train)\n",
        "preds = regressor.predict(X_test)\n",
        "np.sqrt(mean_squared_error(y_test, preds))"
      ],
      "execution_count": 88,
      "outputs": [
        {
          "output_type": "execute_result",
          "data": {
            "text/plain": [
              "0.2634532789804883"
            ]
          },
          "metadata": {
            "tags": []
          },
          "execution_count": 88
        }
      ]
    },
    {
      "cell_type": "markdown",
      "metadata": {
        "id": "5ENBa2SiI3iE",
        "colab_type": "text"
      },
      "source": [
        "Если предсказывать только по слову \"торг\", то результаты незначительно улучшаются (0.2634532789804883). Увеличение параметров обычно ухудшает результат (возможно, надо подобрать правильную комбинацию). Предсказание по продающим словам оказывается еще немного лучше (возможно текстов, содержащих такие слова всё-таки больше) - 0.26366562582516456. Предсказание по причине продажи похоже - 0.26366049220093507. Очень смущает близость таких предсказаний. "
      ]
    },
    {
      "cell_type": "code",
      "metadata": {
        "id": "nDHgSIayM7BQ",
        "colab_type": "code",
        "colab": {}
      },
      "source": [
        "from sklearn.feature_extraction.text import CountVectorizer, TfidfVectorizer"
      ],
      "execution_count": 0,
      "outputs": []
    },
    {
      "cell_type": "code",
      "metadata": {
        "id": "Kl3HwxwGS_UL",
        "colab_type": "code",
        "colab": {}
      },
      "source": [
        "def prediction (cv):\n",
        "  X = cv.fit_transform(data.description)\n",
        "  y = data.deal_probability.values\n",
        "  X_train, X_test, y_train, y_test = train_test_split(X, y, random_state=42)\n",
        "  regressor = Ridge(alpha=10)\n",
        "  regressor.fit(X_train, y_train)\n",
        "  preds = regressor.predict(X_test)\n",
        "  return np.sqrt(mean_squared_error(y_test, preds))"
      ],
      "execution_count": 0,
      "outputs": []
    },
    {
      "cell_type": "markdown",
      "metadata": {
        "id": "nGaNHeb2QLiB",
        "colab_type": "text"
      },
      "source": [
        "Изучим параметры векторизатора. В учебной тетради они были следующими:"
      ]
    },
    {
      "cell_type": "code",
      "metadata": {
        "id": "hyNf58x2M8al",
        "colab_type": "code",
        "colab": {
          "base_uri": "https://localhost:8080/",
          "height": 36
        },
        "outputId": "af2ba1ec-fbf3-4ef1-87d3-c29f77894ca7"
      },
      "source": [
        "cv = CountVectorizer(max_features=1000, min_df=5, max_df=0.4, ngram_range=(1,2))\n",
        "prediction(cv)"
      ],
      "execution_count": 118,
      "outputs": [
        {
          "output_type": "execute_result",
          "data": {
            "text/plain": [
              "0.2512515450632489"
            ]
          },
          "metadata": {
            "tags": []
          },
          "execution_count": 118
        }
      ]
    },
    {
      "cell_type": "markdown",
      "metadata": {
        "id": "KFfbVhG8OLBL",
        "colab_type": "text"
      },
      "source": [
        "Попробуем уменьшить параметр max_features"
      ]
    },
    {
      "cell_type": "code",
      "metadata": {
        "id": "pChVHsT1OKua",
        "colab_type": "code",
        "colab": {
          "base_uri": "https://localhost:8080/",
          "height": 36
        },
        "outputId": "f15e3612-918c-4acf-82ce-6abe6ac882b8"
      },
      "source": [
        "cv = CountVectorizer(max_features=1, min_df=5, max_df=0.4, ngram_range=(1,2))\n",
        "prediction(cv)"
      ],
      "execution_count": 184,
      "outputs": [
        {
          "output_type": "execute_result",
          "data": {
            "text/plain": [
              "0.26357648533064765"
            ]
          },
          "metadata": {
            "tags": []
          },
          "execution_count": 184
        }
      ]
    },
    {
      "cell_type": "markdown",
      "metadata": {
        "id": "BOJIUTONfHEJ",
        "colab_type": "text"
      },
      "source": [
        "Результаты стали лучше"
      ]
    },
    {
      "cell_type": "markdown",
      "metadata": {
        "id": "WA-Di9P1O8fF",
        "colab_type": "text"
      },
      "source": [
        "Попробуем увеличить параметр min_df"
      ]
    },
    {
      "cell_type": "code",
      "metadata": {
        "id": "z_plce0kOs23",
        "colab_type": "code",
        "colab": {
          "base_uri": "https://localhost:8080/",
          "height": 36
        },
        "outputId": "4a702a23-aeb9-4401-ffb2-0be51b47f0c6"
      },
      "source": [
        "cv = CountVectorizer(max_features=1000, min_df=10000, max_df=0.4, ngram_range=(1,2))\n",
        "prediction(cv)"
      ],
      "execution_count": 160,
      "outputs": [
        {
          "output_type": "execute_result",
          "data": {
            "text/plain": [
              "0.2616050557339977"
            ]
          },
          "metadata": {
            "tags": []
          },
          "execution_count": 160
        }
      ]
    },
    {
      "cell_type": "markdown",
      "metadata": {
        "id": "I0uAzNpzcq6U",
        "colab_type": "text"
      },
      "source": [
        "Изменение на 1%"
      ]
    },
    {
      "cell_type": "markdown",
      "metadata": {
        "id": "DTaZXwtTPI8x",
        "colab_type": "text"
      },
      "source": [
        "Изменим max_df"
      ]
    },
    {
      "cell_type": "code",
      "metadata": {
        "id": "xNH-a_lqPQde",
        "colab_type": "code",
        "colab": {
          "base_uri": "https://localhost:8080/",
          "height": 36
        },
        "outputId": "e17cd191-6a4e-49a8-d2dc-270baeb8c2f2"
      },
      "source": [
        "cv = CountVectorizer(max_features=1000, min_df=5, max_df=0.0001, ngram_range=(1,2))\n",
        "prediction(cv)"
      ],
      "execution_count": 121,
      "outputs": [
        {
          "output_type": "execute_result",
          "data": {
            "text/plain": [
              "0.2637544732105779"
            ]
          },
          "metadata": {
            "tags": []
          },
          "execution_count": 121
        }
      ]
    },
    {
      "cell_type": "markdown",
      "metadata": {
        "id": "ZszUhV1qP0mZ",
        "colab_type": "text"
      },
      "source": [
        "При удалении слов, которые появляются более, чем в 10% текстов (вместо 40), результаты немного улучшаются - 0.25156431949139557 вместо 0.2512515450632489. Для 0.01% документов - 0.2637544732105779 (выше более чем на 1%!). Сделать данный параметр меньше не получается."
      ]
    },
    {
      "cell_type": "markdown",
      "metadata": {
        "id": "ftOGlsCvR6D5",
        "colab_type": "text"
      },
      "source": [
        "Попробуем учитывать триграммы"
      ]
    },
    {
      "cell_type": "code",
      "metadata": {
        "id": "4bGeXbpZRyD7",
        "colab_type": "code",
        "colab": {
          "base_uri": "https://localhost:8080/",
          "height": 36
        },
        "outputId": "b092f5d9-2f03-4739-ad4f-50e7b4d74120"
      },
      "source": [
        "cv = CountVectorizer(max_features=1000, min_df=5, max_df=0.4, ngram_range=(1,3))\n",
        "prediction(cv)"
      ],
      "execution_count": 122,
      "outputs": [
        {
          "output_type": "execute_result",
          "data": {
            "text/plain": [
              "0.2512626583953009"
            ]
          },
          "metadata": {
            "tags": []
          },
          "execution_count": 122
        }
      ]
    },
    {
      "cell_type": "markdown",
      "metadata": {
        "id": "ul82Y9aHT0VH",
        "colab_type": "text"
      },
      "source": [
        "Незначительно улучшились результаты c триграммами"
      ]
    },
    {
      "cell_type": "markdown",
      "metadata": {
        "id": "n1Rz0Gj1cwlx",
        "colab_type": "text"
      },
      "source": [
        "Попробуем изменить параметры max_features, min_df и max_df вместе, чтобы достичь максимального результата\n",
        "\n",
        "\n",
        "\n",
        "\n"
      ]
    },
    {
      "cell_type": "code",
      "metadata": {
        "id": "LbHx2MtKcwyA",
        "colab_type": "code",
        "colab": {
          "base_uri": "https://localhost:8080/",
          "height": 36
        },
        "outputId": "87ff3845-cb00-43a1-a7d6-412a580034ad"
      },
      "source": [
        "cv = CountVectorizer(max_features=1000, min_df=1, max_df=0.0001, ngram_range=(1,2))\n",
        "prediction(cv)"
      ],
      "execution_count": 171,
      "outputs": [
        {
          "output_type": "execute_result",
          "data": {
            "text/plain": [
              "0.26410493207025837"
            ]
          },
          "metadata": {
            "tags": []
          },
          "execution_count": 171
        }
      ]
    },
    {
      "cell_type": "markdown",
      "metadata": {
        "id": "BpzjiGaoUJTJ",
        "colab_type": "text"
      },
      "source": [
        "Попробуем сделать то же самое с Tfidf. Сначала было так:"
      ]
    },
    {
      "cell_type": "code",
      "metadata": {
        "id": "chs93JV3SmQA",
        "colab_type": "code",
        "colab": {
          "base_uri": "https://localhost:8080/",
          "height": 36
        },
        "outputId": "a37ac003-ed3d-4f60-9565-61deed4eb206"
      },
      "source": [
        "cv = TfidfVectorizer(max_features=1000, min_df=5, max_df=0.4)\n",
        "prediction(cv)"
      ],
      "execution_count": 123,
      "outputs": [
        {
          "output_type": "execute_result",
          "data": {
            "text/plain": [
              "0.248098946453737"
            ]
          },
          "metadata": {
            "tags": []
          },
          "execution_count": 123
        }
      ]
    },
    {
      "cell_type": "code",
      "metadata": {
        "id": "O-MMdQAxUhm-",
        "colab_type": "code",
        "colab": {
          "base_uri": "https://localhost:8080/",
          "height": 36
        },
        "outputId": "5705d252-077c-40dc-b3d6-9db811de33cb"
      },
      "source": [
        "cv = TfidfVectorizer(max_features=1, min_df=5, max_df=0.4)\n",
        "prediction(cv)"
      ],
      "execution_count": 182,
      "outputs": [
        {
          "output_type": "execute_result",
          "data": {
            "text/plain": [
              "0.26360133315139683"
            ]
          },
          "metadata": {
            "tags": []
          },
          "execution_count": 182
        }
      ]
    },
    {
      "cell_type": "code",
      "metadata": {
        "id": "4EGWX8fBUkti",
        "colab_type": "code",
        "colab": {
          "base_uri": "https://localhost:8080/",
          "height": 36
        },
        "outputId": "ce571448-8e06-4521-cec3-adcb695ec61e"
      },
      "source": [
        "cv = TfidfVectorizer(max_features=1000, min_df=5, max_df=0.0001)\n",
        "prediction(cv)"
      ],
      "execution_count": 125,
      "outputs": [
        {
          "output_type": "execute_result",
          "data": {
            "text/plain": [
              "0.263257528400969"
            ]
          },
          "metadata": {
            "tags": []
          },
          "execution_count": 125
        }
      ]
    },
    {
      "cell_type": "markdown",
      "metadata": {
        "id": "Ipw7LkHYUxYc",
        "colab_type": "text"
      },
      "source": [
        "Уменьшение max_df до 0.0001 снова показывает улучшение результатов"
      ]
    },
    {
      "cell_type": "code",
      "metadata": {
        "id": "jl39UcjFUq9y",
        "colab_type": "code",
        "colab": {
          "base_uri": "https://localhost:8080/",
          "height": 36
        },
        "outputId": "1be99bf0-e110-4bb4-b7bb-95ae275c530c"
      },
      "source": [
        "cv = TfidfVectorizer(max_features=1000, min_df=10000, max_df=0.4)\n",
        "prediction(cv)"
      ],
      "execution_count": 153,
      "outputs": [
        {
          "output_type": "execute_result",
          "data": {
            "text/plain": [
              "0.26163943349680596"
            ]
          },
          "metadata": {
            "tags": []
          },
          "execution_count": 153
        }
      ]
    },
    {
      "cell_type": "markdown",
      "metadata": {
        "id": "EqKOPu6Obl2h",
        "colab_type": "text"
      },
      "source": [
        "Значительное увеличение min_df улучшает результаты"
      ]
    },
    {
      "cell_type": "markdown",
      "metadata": {
        "id": "_0Ggxwo1eOUo",
        "colab_type": "text"
      },
      "source": [
        "Попробуем изменить параметры max_features, min_df и max_df вместе, чтобы достичь максимального результата"
      ]
    },
    {
      "cell_type": "code",
      "metadata": {
        "id": "QrGVzJk9cQHH",
        "colab_type": "code",
        "colab": {
          "base_uri": "https://localhost:8080/",
          "height": 36
        },
        "outputId": "1e25f56b-8bfa-4d45-cac1-d1fe6bb5fe99"
      },
      "source": [
        "cv = TfidfVectorizer(max_features=1, min_df=1, max_df=0.0001)\n",
        "prediction(cv)"
      ],
      "execution_count": 181,
      "outputs": [
        {
          "output_type": "execute_result",
          "data": {
            "text/plain": [
              "0.26367373768000607"
            ]
          },
          "metadata": {
            "tags": []
          },
          "execution_count": 181
        }
      ]
    }
  ]
}