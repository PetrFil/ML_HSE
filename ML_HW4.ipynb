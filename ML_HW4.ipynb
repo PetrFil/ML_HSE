{
  "nbformat": 4,
  "nbformat_minor": 0,
  "metadata": {
    "colab": {
      "name": "ML_HW5.ipynb",
      "provenance": [],
      "collapsed_sections": []
    },
    "kernelspec": {
      "name": "python3",
      "display_name": "Python 3"
    }
  },
  "cells": [
    {
      "cell_type": "code",
      "metadata": {
        "id": "EwIgj9hSsiiQ",
        "colab_type": "code",
        "colab": {}
      },
      "source": [
        "import pandas as pd\n",
        "from sklearn.cluster import AffinityPropagation, AgglomerativeClustering, DBSCAN, \\\n",
        "                            KMeans, MiniBatchKMeans, Birch, MeanShift, SpectralClustering\n",
        "from sklearn.metrics import adjusted_rand_score, adjusted_mutual_info_score, \\\n",
        "                            silhouette_score\n",
        "\n",
        "from sklearn.feature_extraction.text import CountVectorizer, TfidfVectorizer\n",
        "from sklearn.decomposition import TruncatedSVD, NMF\n",
        "from sklearn import metrics\n",
        "from sklearn.datasets import make_blobs\n",
        "import numpy as np"
      ],
      "execution_count": 0,
      "outputs": []
    },
    {
      "cell_type": "code",
      "metadata": {
        "id": "iod7Mrryp5eB",
        "colab_type": "code",
        "outputId": "4ae9992b-73f3-4b16-dd63-bc53cb03b42d",
        "colab": {
          "resources": {
            "http://localhost:8080/nbextensions/google.colab/files.js": {
              "data": "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",
              "ok": true,
              "headers": [
                [
                  "content-type",
                  "application/javascript"
                ]
              ],
              "status": 200,
              "status_text": "OK"
            }
          },
          "base_uri": "https://localhost:8080/",
          "height": 77
        }
      },
      "source": [
        "from google.colab import files\n",
        "datafile = files.upload()"
      ],
      "execution_count": 5,
      "outputs": [
        {
          "output_type": "display_data",
          "data": {
            "text/html": [
              "\n",
              "     <input type=\"file\" id=\"files-47f68e37-b056-490a-ba78-53647da4ded8\" name=\"files[]\" multiple disabled />\n",
              "     <output id=\"result-47f68e37-b056-490a-ba78-53647da4ded8\">\n",
              "      Upload widget is only available when the cell has been executed in the\n",
              "      current browser session. Please rerun this cell to enable.\n",
              "      </output>\n",
              "      <script src=\"/nbextensions/google.colab/files.js\"></script> "
            ],
            "text/plain": [
              "<IPython.core.display.HTML object>"
            ]
          },
          "metadata": {
            "tags": []
          }
        },
        {
          "output_type": "stream",
          "text": [
            "Saving data.csv to data.csv\n"
          ],
          "name": "stdout"
        }
      ]
    },
    {
      "cell_type": "code",
      "metadata": {
        "id": "h80NMc9A2Pow",
        "colab_type": "code",
        "colab": {}
      },
      "source": [
        "data = pd.read_csv('data.csv')"
      ],
      "execution_count": 0,
      "outputs": []
    },
    {
      "cell_type": "code",
      "metadata": {
        "id": "QDwxI02L2k3F",
        "colab_type": "code",
        "colab": {}
      },
      "source": [
        "sample = data.sample(frac=0.1)\n",
        "y = sample['category_name']"
      ],
      "execution_count": 0,
      "outputs": []
    },
    {
      "cell_type": "code",
      "metadata": {
        "id": "Qb4rvGCW3_g4",
        "colab_type": "code",
        "colab": {}
      },
      "source": [
        "def try_vectorizer(v, cluster_alg):\n",
        "  X = v.fit_transform(sample['title'])\n",
        "  cluster = cluster_alg\n",
        "  cluster.fit(X)\n",
        "  labels = cluster.labels_\n",
        "  #print(\"Homogeneity: %0.3f\" % metrics.homogeneity_score(y, labels))\n",
        "  #print(\"Completeness: %0.3f\" % metrics.completeness_score(y, labels))\n",
        "  #print(\"V-measure: %0.3f\" % metrics.v_measure_score(y, labels))\n",
        "  return metrics.v_measure_score(y, labels)"
      ],
      "execution_count": 0,
      "outputs": []
    },
    {
      "cell_type": "code",
      "metadata": {
        "id": "gy7NCNjQrreW",
        "colab_type": "code",
        "colab": {}
      },
      "source": [
        "cluster = KMeans(n_clusters=47, random_state=42)"
      ],
      "execution_count": 0,
      "outputs": []
    },
    {
      "cell_type": "code",
      "metadata": {
        "id": "mnw2shuJ84XY",
        "colab_type": "code",
        "colab": {}
      },
      "source": [
        "min_df_values = np.arange(0.001, 0.01, 0.001)"
      ],
      "execution_count": 0,
      "outputs": []
    },
    {
      "cell_type": "code",
      "metadata": {
        "id": "s9UR54fbLUmL",
        "colab_type": "code",
        "colab": {}
      },
      "source": [
        "max_df_values = np.arange(0.01, 0.1, 0.01) #при max_df>0.1 ничего не меняется"
      ],
      "execution_count": 0,
      "outputs": []
    },
    {
      "cell_type": "code",
      "metadata": {
        "id": "4fVBv6q-Uafj",
        "colab_type": "code",
        "colab": {}
      },
      "source": [
        "ngram_range_values = [(1,1), (1,2), (2,2), (1,3), (2,3), (3,3)]"
      ],
      "execution_count": 0,
      "outputs": []
    },
    {
      "cell_type": "code",
      "metadata": {
        "id": "PNMNCO5nbJ4y",
        "colab_type": "code",
        "colab": {}
      },
      "source": [
        "def compare_min_df (cluster_alg, param_values):\n",
        "  cv, tfidf = CountVectorizer, TfidfVectorizer\n",
        "  cv_score, tfidf_score = 0, 0\n",
        "  for value in param_values:\n",
        "    measure_cv = try_vectorizer(cv(min_df=value), cluster_alg)\n",
        "    measure_tfidf = try_vectorizer(tfidf(min_df=value), cluster_alg)\n",
        "    print('min_df={:.4f}, cv:{:.4f}, tfidf: {:.4f}'.format( value,  measure_cv, measure_tfidf))\n",
        "    if measure_cv > measure_tfidf:\n",
        "      cv_score += 1 \n",
        "    if measure_tfidf > measure_cv:\n",
        "      tfidf_score += 1\n",
        "  print('cv_score:{}, tfidf_score:{}'.format(cv_score,  tfidf_score))"
      ],
      "execution_count": 0,
      "outputs": []
    },
    {
      "cell_type": "code",
      "metadata": {
        "id": "6KpxaOMzhNPt",
        "colab_type": "code",
        "colab": {}
      },
      "source": [
        "def compare_max_df (cluster_alg, param_values):\n",
        "  cv, tfidf = CountVectorizer, TfidfVectorizer\n",
        "  cv_score, tfidf_score = 0, 0\n",
        "  for value in param_values:\n",
        "    measure_cv = try_vectorizer(cv(max_df=value), cluster_alg)\n",
        "    measure_tfidf = try_vectorizer(tfidf(max_df=value), cluster_alg)\n",
        "    print('max_df={:.3f}, cv: {:.4f}, tfidf: {:.4f}'.format( value,  measure_cv, measure_tfidf))\n",
        "    if measure_cv > measure_tfidf:\n",
        "      cv_score += 1 \n",
        "    if measure_tfidf > measure_cv:\n",
        "      tfidf_score += 1\n",
        "  print('cv_score:{}, tfidf_score:{}'.format(cv_score,  tfidf_score))"
      ],
      "execution_count": 0,
      "outputs": []
    },
    {
      "cell_type": "code",
      "metadata": {
        "id": "jvTgrN8oiuaE",
        "colab_type": "code",
        "colab": {}
      },
      "source": [
        "def compare_ngram_range (cluster_alg, param_values):\n",
        "  cv, tfidf = CountVectorizer, TfidfVectorizer\n",
        "  cv_score, tfidf_score = 0, 0\n",
        "  for value in param_values:\n",
        "    measure_cv = try_vectorizer(cv(ngram_range=value), cluster_alg)\n",
        "    measure_tfidf = try_vectorizer(tfidf(ngram_range=value), cluster_alg)\n",
        "    print('ngram_range={}, cv: {:.4f}, tfidf: {:.4f}'.format( value,  measure_cv, measure_tfidf))\n",
        "    if measure_cv > measure_tfidf:\n",
        "      cv_score += 1 \n",
        "    if measure_tfidf > measure_cv:\n",
        "      tfidf_score += 1\n",
        "  print('cv_score:{}, tfidf_score:{}'.format(cv_score,  tfidf_score))"
      ],
      "execution_count": 0,
      "outputs": []
    },
    {
      "cell_type": "code",
      "metadata": {
        "id": "Da8HgjJ3e7Do",
        "colab_type": "code",
        "colab": {}
      },
      "source": [
        "def compare (cluster_alg):\n",
        "  compare_min_df(cluster_alg, min_df_values)\n",
        "  compare_max_df(cluster_alg, max_df_values)\n",
        "  compare_ngram_range(cluster_alg, ngram_range_values)"
      ],
      "execution_count": 0,
      "outputs": []
    },
    {
      "cell_type": "markdown",
      "metadata": {
        "id": "R8vjDC1B4ZWh",
        "colab_type": "text"
      },
      "source": [
        "##K-means"
      ]
    },
    {
      "cell_type": "code",
      "metadata": {
        "id": "7Te7cqm8fdLB",
        "colab_type": "code",
        "colab": {
          "base_uri": "https://localhost:8080/",
          "height": 513
        },
        "outputId": "0906d616-bf4a-4722-e0c7-1a6ad5da60bf"
      },
      "source": [
        "compare(cluster)"
      ],
      "execution_count": 25,
      "outputs": [
        {
          "output_type": "stream",
          "text": [
            "min_df=0.001, cv:0.3174, tfidf: 0.3182\n",
            "min_df=0.002, cv:0.3237, tfidf: 0.3288\n",
            "min_df=0.003, cv:0.3260, tfidf: 0.3328\n",
            "min_df=0.004, cv:0.3187, tfidf: 0.3312\n",
            "min_df=0.005, cv:0.3198, tfidf: 0.3311\n",
            "min_df=0.006, cv:0.3107, tfidf: 0.3132\n",
            "min_df=0.007, cv:0.3046, tfidf: 0.3117\n",
            "min_df=0.008, cv:0.3033, tfidf: 0.3105\n",
            "min_df=0.009, cv:0.2957, tfidf: 0.3025\n",
            "cv_score:0, tfidf_score:9\n",
            "max_df=0.010, cv: 0.1906, tfidf: 0.1773\n",
            "max_df=0.020, cv: 0.2446, tfidf: 0.2732\n",
            "max_df=0.030, cv: 0.2446, tfidf: 0.2732\n",
            "max_df=0.040, cv: 0.2674, tfidf: 0.2872\n",
            "max_df=0.050, cv: 0.2620, tfidf: 0.2870\n",
            "max_df=0.060, cv: 0.3051, tfidf: 0.3385\n",
            "max_df=0.070, cv: 0.3120, tfidf: 0.3370\n",
            "max_df=0.080, cv: 0.3120, tfidf: 0.3370\n",
            "max_df=0.090, cv: 0.3222, tfidf: 0.3196\n",
            "cv_score:2, tfidf_score:7\n",
            "ngram_range=(1, 1), cv: 0.3222, tfidf: 0.3196\n",
            "ngram_range=(1, 2), cv: 0.2411, tfidf: 0.3006\n",
            "ngram_range=(2, 2), cv: 0.1105, tfidf: 0.1087\n",
            "ngram_range=(1, 3), cv: 0.2183, tfidf: 0.2931\n",
            "ngram_range=(2, 3), cv: 0.0983, tfidf: 0.1045\n",
            "ngram_range=(3, 3), cv: 0.0854, tfidf: 0.0520\n",
            "cv_score:3, tfidf_score:3\n"
          ],
          "name": "stdout"
        }
      ]
    },
    {
      "cell_type": "markdown",
      "metadata": {
        "id": "sFB-tY84Nk9P",
        "colab_type": "text"
      },
      "source": [
        "При разных параметрах max_df и min_df векторизация tfidf показывает лучший результат. При изменении параметра ngram_range всё не так однозначно. В целом, для кластеризации K-Means tfidf кажется предпочтительнее"
      ]
    },
    {
      "cell_type": "markdown",
      "metadata": {
        "id": "M_6tKhcDgE6R",
        "colab_type": "text"
      },
      "source": [
        "##Mini Batch K-means"
      ]
    },
    {
      "cell_type": "code",
      "metadata": {
        "id": "XxprK8ppgIz2",
        "colab_type": "code",
        "colab": {}
      },
      "source": [
        "sample = data.sample(frac=1)\n",
        "y = sample['category_name']"
      ],
      "execution_count": 0,
      "outputs": []
    },
    {
      "cell_type": "code",
      "metadata": {
        "id": "-V2mk_Iof4V1",
        "colab_type": "code",
        "colab": {}
      },
      "source": [
        "cluster_MKB = MiniBatchKMeans(n_clusters=1000, init_size=5000, max_iter=5000, \n",
        "                          max_no_improvement=100, reassignment_ratio=0.3)\n"
      ],
      "execution_count": 0,
      "outputs": []
    },
    {
      "cell_type": "code",
      "metadata": {
        "id": "OtKsD4LMgNEt",
        "colab_type": "code",
        "colab": {
          "base_uri": "https://localhost:8080/",
          "height": 439
        },
        "outputId": "1e30c441-6856-4291-aadd-4390202e20e0"
      },
      "source": [
        "compare(cluster_MKB)"
      ],
      "execution_count": 0,
      "outputs": [
        {
          "output_type": "stream",
          "text": [
            "min_df=0.001, cv:0.3932, tfidf: 0.3927\n",
            "min_df=0.002, cv:0.3692, tfidf: 0.3651\n",
            "min_df=0.003, cv:0.3549, tfidf: 0.3549\n",
            "min_df=0.004, cv:0.3406, tfidf: 0.3400\n",
            "min_df=0.005, cv:0.3200, tfidf: 0.3190\n",
            "min_df=0.006, cv:0.3055, tfidf: 0.3045\n",
            "min_df=0.007, cv:0.3058, tfidf: 0.3052\n",
            "min_df=0.008, cv:0.3030, tfidf: 0.3027\n",
            "min_df=0.009, cv:0.3005, tfidf: 0.3008\n",
            "cv_score:8, tfidf_score:1\n",
            "max_df=0.010, cv: 0.3842, tfidf: 0.3517\n",
            "max_df=0.020, cv: 0.3987, tfidf: 0.3763\n",
            "max_df=0.030, cv: 0.3988, tfidf: 0.4064\n",
            "max_df=0.040, cv: 0.4024, tfidf: 0.4195\n",
            "max_df=0.050, cv: 0.3927, tfidf: 0.4085\n",
            "max_df=0.060, cv: 0.4136, tfidf: 0.4226\n",
            "max_df=0.070, cv: 0.4061, tfidf: 0.4210\n",
            "max_df=0.080, cv: 0.4111, tfidf: 0.4199\n",
            "max_df=0.090, cv: 0.4066, tfidf: 0.4223\n",
            "cv_score:2, tfidf_score:7\n",
            "ngram_range=(1, 1), cv: 0.4131, tfidf: 0.4241\n",
            "ngram_range=(1, 2), cv: 0.3955, tfidf: 0.4060\n",
            "ngram_range=(2, 2), cv: 0.3033, tfidf: 0.2487\n"
          ],
          "name": "stdout"
        }
      ]
    },
    {
      "cell_type": "code",
      "metadata": {
        "id": "4XnRs0qyc_U6",
        "colab_type": "code",
        "colab": {}
      },
      "source": [
        "sample = data.sample(frac=0.1) #всё скрашилось, поэтому уменьшим выборку и сравним разные ngram_range заново\n",
        "y = sample['category_name']"
      ],
      "execution_count": 0,
      "outputs": []
    },
    {
      "cell_type": "code",
      "metadata": {
        "id": "-6gNec-GcQsX",
        "colab_type": "code",
        "colab": {
          "base_uri": "https://localhost:8080/",
          "height": 146
        },
        "outputId": "19150244-b5ed-408d-eb66-10bbc2e571da"
      },
      "source": [
        "compare_ngram_range (cluster_MKB, ngram_range_values)"
      ],
      "execution_count": 20,
      "outputs": [
        {
          "output_type": "stream",
          "text": [
            "ngram_range=(1, 1), cv: 0.4229, tfidf: 0.4349\n",
            "ngram_range=(1, 2), cv: 0.4002, tfidf: 0.4080\n",
            "ngram_range=(2, 2), cv: 0.2522, tfidf: 0.2795\n",
            "ngram_range=(1, 3), cv: 0.3862, tfidf: 0.3865\n",
            "ngram_range=(2, 3), cv: 0.2329, tfidf: 0.2245\n",
            "ngram_range=(3, 3), cv: 0.2250, tfidf: 0.2139\n",
            "cv_score:2, tfidf_score:4\n"
          ],
          "name": "stdout"
        }
      ]
    },
    {
      "cell_type": "markdown",
      "metadata": {
        "id": "dFzojQIhOM_2",
        "colab_type": "text"
      },
      "source": [
        "Здесь был другой тип кластеризации и размер выборки. При изменении параметра min_df чаще оказывался лучше Countvectorizer, однако разница почти всегда незначительная(меньше 1%). При изменении max_df лучше оказывался tfidf с более значительным перевесом (7 из 9 раз). При 6 разных параметрах ngram_range в 4 случаях лучше оказалось tfidf. Результаты менее однозначные, чем для K-means, но можно сказать, что tfidf всё же лучше. "
      ]
    },
    {
      "cell_type": "markdown",
      "metadata": {
        "id": "MuUujRPW4JZA",
        "colab_type": "text"
      },
      "source": [
        "\n",
        "##Affinity Propagation"
      ]
    },
    {
      "cell_type": "code",
      "metadata": {
        "id": "khA9-yI3psDW",
        "colab_type": "code",
        "colab": {}
      },
      "source": [
        "sample = data.sample(frac=0.005)\n",
        "y = sample['category_name']"
      ],
      "execution_count": 0,
      "outputs": []
    },
    {
      "cell_type": "code",
      "metadata": {
        "id": "78mkMlRAp0la",
        "colab_type": "code",
        "colab": {}
      },
      "source": [
        "cluster_AP = AffinityPropagation(damping=0.7, preference=-2, \n",
        "                              max_iter=400, convergence_iter=10)"
      ],
      "execution_count": 0,
      "outputs": []
    },
    {
      "cell_type": "code",
      "metadata": {
        "id": "QUKKz13UgJ8M",
        "colab_type": "code",
        "colab": {}
      },
      "source": [
        "min_df_values = np.arange(0.0005, 0.003, 0.0005) # поменяем значения min_df, иначе возникает ConvergenceWarning"
      ],
      "execution_count": 0,
      "outputs": []
    },
    {
      "cell_type": "code",
      "metadata": {
        "id": "-3rOBRYcgsiu",
        "colab_type": "code",
        "colab": {
          "base_uri": "https://localhost:8080/",
          "height": 439
        },
        "outputId": "1f0f0c24-4d2c-4580-ff2e-7d004040ed16"
      },
      "source": [
        "compare(cluster_AP)"
      ],
      "execution_count": 31,
      "outputs": [
        {
          "output_type": "stream",
          "text": [
            "min_df=0.0005, cv:0.6045, tfidf: 0.5412\n",
            "min_df=0.0010, cv:0.4960, tfidf: 0.5614\n",
            "min_df=0.0015, cv:0.4960, tfidf: 0.5614\n",
            "min_df=0.0020, cv:0.4776, tfidf: 0.4758\n",
            "min_df=0.0025, cv:0.4719, tfidf: 0.4753\n",
            "cv_score:2, tfidf_score:3\n",
            "max_df=0.010, cv: 0.5743, tfidf: 0.2568\n",
            "max_df=0.020, cv: 0.5911, tfidf: 0.2985\n",
            "max_df=0.030, cv: 0.5946, tfidf: 0.2909\n",
            "max_df=0.040, cv: 0.5954, tfidf: 0.3096\n",
            "max_df=0.050, cv: 0.6030, tfidf: 0.5369\n",
            "max_df=0.060, cv: 0.6033, tfidf: 0.5372\n",
            "max_df=0.070, cv: 0.6033, tfidf: 0.5372\n",
            "max_df=0.080, cv: 0.6045, tfidf: 0.5368\n",
            "max_df=0.090, cv: 0.6045, tfidf: 0.5412\n",
            "cv_score:9, tfidf_score:0\n",
            "ngram_range=(1, 1), cv: 0.6045, tfidf: 0.5412\n",
            "ngram_range=(1, 2), cv: 0.5962, tfidf: 0.5377\n",
            "ngram_range=(2, 2), cv: 0.5388, tfidf: 0.3867\n",
            "ngram_range=(1, 3), cv: 0.5959, tfidf: 0.5345\n",
            "ngram_range=(2, 3), cv: 0.5692, tfidf: 0.3845\n",
            "ngram_range=(3, 3), cv: 0.5689, tfidf: 0.4832\n",
            "cv_score:6, tfidf_score:0\n"
          ],
          "name": "stdout"
        }
      ]
    },
    {
      "cell_type": "markdown",
      "metadata": {
        "id": "Gkp3B0CXjuJH",
        "colab_type": "text"
      },
      "source": [
        "CountVectorizer выглядит определенно лучше для данного типа кластеризации"
      ]
    },
    {
      "cell_type": "markdown",
      "metadata": {
        "id": "3odwq2ruyc7_",
        "colab_type": "text"
      },
      "source": [
        "На нескольких алгоритмах кластеризации проверьте, какое матричное разложение (TruncatedSVD или NMF) работает лучше для кластеризации. (3 балла)"
      ]
    },
    {
      "cell_type": "code",
      "metadata": {
        "id": "O4nGz0T1kxfk",
        "colab_type": "code",
        "colab": {}
      },
      "source": [
        "def try_SVD(cluster, v):\n",
        "  X_cv = v.fit_transform(sample['title'])\n",
        "  svd = TruncatedSVD(50, random_state=42)\n",
        "  X_svd = svd.fit_transform(X_cv)\n",
        "  cluster.fit(X_svd)\n",
        "  labels = cluster.labels_\n",
        "  print('SVD: ', metrics.v_measure_score(y, labels))"
      ],
      "execution_count": 0,
      "outputs": []
    },
    {
      "cell_type": "code",
      "metadata": {
        "id": "tZ-J8b7GlAuv",
        "colab_type": "code",
        "colab": {}
      },
      "source": [
        "def try_NMF(cluster, v):\n",
        "  X_cv = v.fit_transform(sample['title'])\n",
        "  nmf = NMF(50, random_state=42)\n",
        "  X_nmf = nmf.fit_transform(X_cv)\n",
        "  cluster.fit(X_nmf)\n",
        "  labels = cluster.labels_\n",
        "  print('NMF: ', metrics.v_measure_score(y, labels))"
      ],
      "execution_count": 0,
      "outputs": []
    },
    {
      "cell_type": "code",
      "metadata": {
        "id": "nae8equVywrB",
        "colab_type": "code",
        "colab": {}
      },
      "source": [
        "def SVD_or_NMF(cluster, v):\n",
        "  try_SVD (cluster, v)\n",
        "  try_NMF(cluster, v)\n"
      ],
      "execution_count": 0,
      "outputs": []
    },
    {
      "cell_type": "markdown",
      "metadata": {
        "id": "jZ0fNeS55eQf",
        "colab_type": "text"
      },
      "source": [
        "## AgglomerativeClustering"
      ]
    },
    {
      "cell_type": "code",
      "metadata": {
        "id": "Yuy-09GVqLmm",
        "colab_type": "code",
        "colab": {}
      },
      "source": [
        "cv = CountVectorizer(min_df=2, max_df=0.4)\n",
        "tfidf = TfidfVectorizer(min_df=2, max_df=0.4)"
      ],
      "execution_count": 0,
      "outputs": []
    },
    {
      "cell_type": "code",
      "metadata": {
        "id": "KkDF_vS8ycqw",
        "colab_type": "code",
        "colab": {}
      },
      "source": [
        "sample = data.sample(frac=0.05)\n",
        "y = sample['category_name']"
      ],
      "execution_count": 0,
      "outputs": []
    },
    {
      "cell_type": "code",
      "metadata": {
        "id": "kuBxHdp3ysD4",
        "colab_type": "code",
        "colab": {}
      },
      "source": [
        "cluster_A = AgglomerativeClustering(n_clusters=47)"
      ],
      "execution_count": 0,
      "outputs": []
    },
    {
      "cell_type": "code",
      "metadata": {
        "id": "-3Sfl0zKyuB7",
        "colab_type": "code",
        "colab": {
          "base_uri": "https://localhost:8080/",
          "height": 54
        },
        "outputId": "dfcc2a37-b09a-47f4-891c-5779e548c7d5"
      },
      "source": [
        "SVD_or_NMF(cluster_A, cv)"
      ],
      "execution_count": 78,
      "outputs": [
        {
          "output_type": "stream",
          "text": [
            "SVD:  0.3392612049780693\n",
            "NMF:  0.3294212382847426\n"
          ],
          "name": "stdout"
        }
      ]
    },
    {
      "cell_type": "code",
      "metadata": {
        "id": "xPswlvkc4fGq",
        "colab_type": "code",
        "colab": {
          "base_uri": "https://localhost:8080/",
          "height": 54
        },
        "outputId": "0cea7535-790f-4ef2-98ff-832424b3d029"
      },
      "source": [
        "SVD_or_NMF(cluster_A, tfidf)"
      ],
      "execution_count": 79,
      "outputs": [
        {
          "output_type": "stream",
          "text": [
            "SVD:  0.35379590715189563\n",
            "NMF:  0.3507134040964364\n"
          ],
          "name": "stdout"
        }
      ]
    },
    {
      "cell_type": "markdown",
      "metadata": {
        "id": "l5B-o_uUi4uV",
        "colab_type": "text"
      },
      "source": [
        "##DBSCAN"
      ]
    },
    {
      "cell_type": "code",
      "metadata": {
        "id": "UR9SCsK0jAz9",
        "colab_type": "code",
        "colab": {}
      },
      "source": [
        "cluster_DB = DBSCAN(min_samples=10, eps=0.3) "
      ],
      "execution_count": 0,
      "outputs": []
    },
    {
      "cell_type": "code",
      "metadata": {
        "id": "ydCG6SkwjUvb",
        "colab_type": "code",
        "colab": {
          "base_uri": "https://localhost:8080/",
          "height": 54
        },
        "outputId": "f94476e0-6ff4-44cb-fd8e-dede9bad98c0"
      },
      "source": [
        "SVD_or_NMF(cluster_DB, cv)"
      ],
      "execution_count": 80,
      "outputs": [
        {
          "output_type": "stream",
          "text": [
            "SVD:  0.31572876997343213\n",
            "NMF:  0.008809883748288422\n"
          ],
          "name": "stdout"
        }
      ]
    },
    {
      "cell_type": "code",
      "metadata": {
        "id": "qgQpWHCbqxUt",
        "colab_type": "code",
        "colab": {
          "base_uri": "https://localhost:8080/",
          "height": 54
        },
        "outputId": "b3c0b4f1-d2c6-401a-d3d5-563041bf6a5e"
      },
      "source": [
        "SVD_or_NMF(cluster_DB, tfidf)"
      ],
      "execution_count": 81,
      "outputs": [
        {
          "output_type": "stream",
          "text": [
            "SVD:  0.15860834128120185\n",
            "NMF:  -3.760773223866692e-16\n"
          ],
          "name": "stdout"
        }
      ]
    },
    {
      "cell_type": "markdown",
      "metadata": {
        "id": "zZ-KltPJpJT2",
        "colab_type": "text"
      },
      "source": [
        "##Mean Shift"
      ]
    },
    {
      "cell_type": "code",
      "metadata": {
        "id": "cjiwsZ7zpcpl",
        "colab_type": "code",
        "colab": {}
      },
      "source": [
        "cluster_MS = MeanShift(cluster_all=False, bandwidth=0.5)"
      ],
      "execution_count": 0,
      "outputs": []
    },
    {
      "cell_type": "code",
      "metadata": {
        "id": "TN6Gj2kxpkzf",
        "colab_type": "code",
        "colab": {
          "base_uri": "https://localhost:8080/",
          "height": 54
        },
        "outputId": "e089786c-0558-4742-f243-d339a27271ee"
      },
      "source": [
        "SVD_or_NMF(cluster_MS, cv)"
      ],
      "execution_count": 82,
      "outputs": [
        {
          "output_type": "stream",
          "text": [
            "SVD:  0.34766448142697637\n",
            "NMF:  0.019167016079662716\n"
          ],
          "name": "stdout"
        }
      ]
    },
    {
      "cell_type": "code",
      "metadata": {
        "id": "GBNnwQSOq4FW",
        "colab_type": "code",
        "colab": {
          "base_uri": "https://localhost:8080/",
          "height": 54
        },
        "outputId": "80f03b22-8368-4367-8af0-a98e9d0da103"
      },
      "source": [
        "SVD_or_NMF(cluster_MS, tfidf)"
      ],
      "execution_count": 83,
      "outputs": [
        {
          "output_type": "stream",
          "text": [
            "SVD:  0.30921393963454474\n",
            "NMF:  -3.760773223866692e-16\n"
          ],
          "name": "stdout"
        }
      ]
    },
    {
      "cell_type": "markdown",
      "metadata": {
        "id": "QvySppXtrfLp",
        "colab_type": "text"
      },
      "source": [
        "Во всех случаях TruncatedSVD разложение оказалось лучше. "
      ]
    },
    {
      "cell_type": "markdown",
      "metadata": {
        "id": "1rcVm9nw5Uwo",
        "colab_type": "text"
      },
      "source": [
        "С помощью алгоритмов, умеющих выделять выбросы, попробуйте найти необычные объявления (необычные - это такие, которые непонятно к какой категории можно вообще отнести, что-то с ошибками или вообще какая-то дичь). В этом задании можно использовать любую векторизацию. (4 балла)"
      ]
    },
    {
      "cell_type": "code",
      "metadata": {
        "id": "FXef74SOxefE",
        "colab_type": "code",
        "colab": {}
      },
      "source": [
        "def labels(cluster_alg):\n",
        "  cv = CountVectorizer(min_df = 0.001, max_df=0.4)\n",
        "  X = cv.fit_transform(sample['title'])\n",
        "  svd = TruncatedSVD(50)\n",
        "  cluster = cluster_alg\n",
        "  X_svd = svd.fit_transform(X)\n",
        "  cluster.fit(X_svd)\n",
        "  labels = cluster.labels_\n",
        "  #sample['cluster'] = cluster.labels_\n",
        "  #print(sample[sample.cluster==-1].head(20))\n",
        "  return labels"
      ],
      "execution_count": 0,
      "outputs": []
    },
    {
      "cell_type": "code",
      "metadata": {
        "id": "VFJoZDPpx57z",
        "colab_type": "code",
        "colab": {}
      },
      "source": [
        "sample = data.sample(frac=0.05)\n",
        "y = sample['category_name']"
      ],
      "execution_count": 0,
      "outputs": []
    },
    {
      "cell_type": "code",
      "metadata": {
        "id": "Wx-MTPyiyphC",
        "colab_type": "code",
        "colab": {}
      },
      "source": [
        "sample['cluster'] = labels(cluster_DB)"
      ],
      "execution_count": 0,
      "outputs": []
    },
    {
      "cell_type": "code",
      "metadata": {
        "id": "E4Dwjvo85Vo5",
        "colab_type": "code",
        "colab": {
          "base_uri": "https://localhost:8080/",
          "height": 1000
        },
        "outputId": "0428a8f6-8c03-498a-ad05-3807c0ec64aa"
      },
      "source": [
        "sample[sample.cluster==-1].head(20)"
      ],
      "execution_count": 123,
      "outputs": [
        {
          "output_type": "execute_result",
          "data": {
            "text/html": [
              "<div>\n",
              "<style scoped>\n",
              "    .dataframe tbody tr th:only-of-type {\n",
              "        vertical-align: middle;\n",
              "    }\n",
              "\n",
              "    .dataframe tbody tr th {\n",
              "        vertical-align: top;\n",
              "    }\n",
              "\n",
              "    .dataframe thead th {\n",
              "        text-align: right;\n",
              "    }\n",
              "</style>\n",
              "<table border=\"1\" class=\"dataframe\">\n",
              "  <thead>\n",
              "    <tr style=\"text-align: right;\">\n",
              "      <th></th>\n",
              "      <th>item_id</th>\n",
              "      <th>user_id</th>\n",
              "      <th>region</th>\n",
              "      <th>city</th>\n",
              "      <th>parent_category_name</th>\n",
              "      <th>category_name</th>\n",
              "      <th>param_1</th>\n",
              "      <th>param_2</th>\n",
              "      <th>param_3</th>\n",
              "      <th>title</th>\n",
              "      <th>description</th>\n",
              "      <th>price</th>\n",
              "      <th>item_seq_number</th>\n",
              "      <th>activation_date</th>\n",
              "      <th>user_type</th>\n",
              "      <th>image</th>\n",
              "      <th>image_top_1</th>\n",
              "      <th>cluster</th>\n",
              "    </tr>\n",
              "  </thead>\n",
              "  <tbody>\n",
              "    <tr>\n",
              "      <th>90621</th>\n",
              "      <td>917f3e3fc140</td>\n",
              "      <td>c21ca6bba4e9</td>\n",
              "      <td>Татарстан</td>\n",
              "      <td>Казань</td>\n",
              "      <td>Личные вещи</td>\n",
              "      <td>Детская одежда и обувь</td>\n",
              "      <td>Для мальчиков</td>\n",
              "      <td>Обувь</td>\n",
              "      <td>29</td>\n",
              "      <td>Ботинки и сапоги</td>\n",
              "      <td>Продаю ботинки унисекс Котофей 29 размера,желт...</td>\n",
              "      <td>500.0</td>\n",
              "      <td>70</td>\n",
              "      <td>2017-04-14</td>\n",
              "      <td>Private</td>\n",
              "      <td>bb011a178f0c167b6837a329b558b994f5c869e913b188...</td>\n",
              "      <td>88.0</td>\n",
              "      <td>-1</td>\n",
              "    </tr>\n",
              "    <tr>\n",
              "      <th>97670</th>\n",
              "      <td>86b7a0b8a67f</td>\n",
              "      <td>740c028b7e54</td>\n",
              "      <td>Самарская область</td>\n",
              "      <td>Тольятти</td>\n",
              "      <td>Личные вещи</td>\n",
              "      <td>Детская одежда и обувь</td>\n",
              "      <td>Для девочек</td>\n",
              "      <td>Обувь</td>\n",
              "      <td>29</td>\n",
              "      <td>Сапоги+ботинки</td>\n",
              "      <td>Отдам за шоколадку сапоги+ботинки на девочку 29р</td>\n",
              "      <td>50.0</td>\n",
              "      <td>74</td>\n",
              "      <td>2017-04-13</td>\n",
              "      <td>Private</td>\n",
              "      <td>5dba21139839bd707b9b8f081b382e5c3d67c5760770b3...</td>\n",
              "      <td>91.0</td>\n",
              "      <td>-1</td>\n",
              "    </tr>\n",
              "    <tr>\n",
              "      <th>147018</th>\n",
              "      <td>fa54519cdb85</td>\n",
              "      <td>98afa66df686</td>\n",
              "      <td>Новосибирская область</td>\n",
              "      <td>Новосибирск</td>\n",
              "      <td>Личные вещи</td>\n",
              "      <td>Товары для детей и игрушки</td>\n",
              "      <td>Автомобильные кресла</td>\n",
              "      <td>NaN</td>\n",
              "      <td>NaN</td>\n",
              "      <td>Продам детское кресло 0-18 кг</td>\n",
              "      <td>Продам детское кресло 0-18 кг., регулировка на...</td>\n",
              "      <td>1500.0</td>\n",
              "      <td>50</td>\n",
              "      <td>2017-04-13</td>\n",
              "      <td>Private</td>\n",
              "      <td>28b3d4168401d025932bcd1d57fa644a332409073613b9...</td>\n",
              "      <td>796.0</td>\n",
              "      <td>-1</td>\n",
              "    </tr>\n",
              "    <tr>\n",
              "      <th>87072</th>\n",
              "      <td>90fde7a6c85e</td>\n",
              "      <td>4be8b14936aa</td>\n",
              "      <td>Свердловская область</td>\n",
              "      <td>Нижний Тагил</td>\n",
              "      <td>Личные вещи</td>\n",
              "      <td>Одежда, обувь, аксессуары</td>\n",
              "      <td>Женская одежда</td>\n",
              "      <td>Платья и юбки</td>\n",
              "      <td>42–44 (S)</td>\n",
              "      <td>Юбка новая стрейч</td>\n",
              "      <td>Ликвидация остатков, Турция, длина 49 см</td>\n",
              "      <td>350.0</td>\n",
              "      <td>67</td>\n",
              "      <td>2017-04-18</td>\n",
              "      <td>Private</td>\n",
              "      <td>466eb83bcaffc321dada0e62fe9e07a68d45970b62a083...</td>\n",
              "      <td>375.0</td>\n",
              "      <td>-1</td>\n",
              "    </tr>\n",
              "    <tr>\n",
              "      <th>191296</th>\n",
              "      <td>a29f215a41a2</td>\n",
              "      <td>57364177157d</td>\n",
              "      <td>Оренбургская область</td>\n",
              "      <td>Оренбург</td>\n",
              "      <td>Личные вещи</td>\n",
              "      <td>Детская одежда и обувь</td>\n",
              "      <td>Для мальчиков</td>\n",
              "      <td>Обувь</td>\n",
              "      <td>20</td>\n",
              "      <td>Ботинки для мальчика</td>\n",
              "      <td>Ботинки капика в отличном состоянии. Размер 20</td>\n",
              "      <td>800.0</td>\n",
              "      <td>45</td>\n",
              "      <td>2017-04-13</td>\n",
              "      <td>Private</td>\n",
              "      <td>078cd0fa476c470f7936ecda1a7bc94586531eb912db98...</td>\n",
              "      <td>46.0</td>\n",
              "      <td>-1</td>\n",
              "    </tr>\n",
              "    <tr>\n",
              "      <th>219102</th>\n",
              "      <td>0be33b7d83f4</td>\n",
              "      <td>7f417856264d</td>\n",
              "      <td>Челябинская область</td>\n",
              "      <td>Челябинск</td>\n",
              "      <td>Личные вещи</td>\n",
              "      <td>Товары для детей и игрушки</td>\n",
              "      <td>Детские коляски</td>\n",
              "      <td>NaN</td>\n",
              "      <td>NaN</td>\n",
              "      <td>Коляска 3 в 1 (новая)</td>\n",
              "      <td>Коляска \"Tutis Zippy\", 3 в 1/\\n/\\nЦвет: коричн...</td>\n",
              "      <td>21500.0</td>\n",
              "      <td>2</td>\n",
              "      <td>2017-04-14</td>\n",
              "      <td>Private</td>\n",
              "      <td>123cd512bf36ee3e966a9258ad7f2e138de614f11958b2...</td>\n",
              "      <td>1002.0</td>\n",
              "      <td>-1</td>\n",
              "    </tr>\n",
              "    <tr>\n",
              "      <th>124782</th>\n",
              "      <td>dec0065dd0a7</td>\n",
              "      <td>9b959398b331</td>\n",
              "      <td>Иркутская область</td>\n",
              "      <td>Усть-Кут</td>\n",
              "      <td>Недвижимость</td>\n",
              "      <td>Гаражи и машиноместа</td>\n",
              "      <td>Продам</td>\n",
              "      <td>Гараж</td>\n",
              "      <td>Кирпичный</td>\n",
              "      <td>Гараж</td>\n",
              "      <td>Гараж в районе ЯГУ. Все вопросы по телефону</td>\n",
              "      <td>300000.0</td>\n",
              "      <td>68</td>\n",
              "      <td>2017-04-12</td>\n",
              "      <td>Private</td>\n",
              "      <td>NaN</td>\n",
              "      <td>NaN</td>\n",
              "      <td>-1</td>\n",
              "    </tr>\n",
              "    <tr>\n",
              "      <th>211590</th>\n",
              "      <td>043e65f81bf2</td>\n",
              "      <td>ac157d80cf56</td>\n",
              "      <td>Пермский край</td>\n",
              "      <td>Уральский</td>\n",
              "      <td>Недвижимость</td>\n",
              "      <td>Дома, дачи, коттеджи</td>\n",
              "      <td>Продам</td>\n",
              "      <td>Дача</td>\n",
              "      <td>NaN</td>\n",
              "      <td>Дача 20 м² на участке 6 сот.</td>\n",
              "      <td>Продается садовый участок. Ухоженный с плодовы...</td>\n",
              "      <td>210000.0</td>\n",
              "      <td>15</td>\n",
              "      <td>2017-04-13</td>\n",
              "      <td>Private</td>\n",
              "      <td>ed27c7643480f02b84ddd8fede278cc1b57126687e6494...</td>\n",
              "      <td>2218.0</td>\n",
              "      <td>-1</td>\n",
              "    </tr>\n",
              "    <tr>\n",
              "      <th>36015</th>\n",
              "      <td>289db1c5dcb3</td>\n",
              "      <td>dae07871c6df</td>\n",
              "      <td>Башкортостан</td>\n",
              "      <td>Уфа</td>\n",
              "      <td>Недвижимость</td>\n",
              "      <td>Коммерческая недвижимость</td>\n",
              "      <td>Сниму</td>\n",
              "      <td>Складское помещение</td>\n",
              "      <td>NaN</td>\n",
              "      <td>Сниму складское помещение</td>\n",
              "      <td>Сниму  теплое складское помещение 30-50 кв.м в...</td>\n",
              "      <td>NaN</td>\n",
              "      <td>7</td>\n",
              "      <td>2017-04-17</td>\n",
              "      <td>Private</td>\n",
              "      <td>NaN</td>\n",
              "      <td>NaN</td>\n",
              "      <td>-1</td>\n",
              "    </tr>\n",
              "    <tr>\n",
              "      <th>97647</th>\n",
              "      <td>e122288e9ca2</td>\n",
              "      <td>c2ac8e2c3fc0</td>\n",
              "      <td>Саратовская область</td>\n",
              "      <td>Саратов</td>\n",
              "      <td>Хобби и отдых</td>\n",
              "      <td>Велосипеды</td>\n",
              "      <td>Детские</td>\n",
              "      <td>NaN</td>\n",
              "      <td>NaN</td>\n",
              "      <td>Детский велосипед Safari BMX-bike 18</td>\n",
              "      <td>Спускает колесо, состояние на 4, передний торм...</td>\n",
              "      <td>3000.0</td>\n",
              "      <td>10</td>\n",
              "      <td>2017-04-12</td>\n",
              "      <td>Private</td>\n",
              "      <td>40c522d39671fe85e9710f9d9052f3ee6b2a8163a9a555...</td>\n",
              "      <td>2370.0</td>\n",
              "      <td>-1</td>\n",
              "    </tr>\n",
              "    <tr>\n",
              "      <th>203856</th>\n",
              "      <td>56df4e125d43</td>\n",
              "      <td>eed11b8dee73</td>\n",
              "      <td>Оренбургская область</td>\n",
              "      <td>Оренбург</td>\n",
              "      <td>Личные вещи</td>\n",
              "      <td>Одежда, обувь, аксессуары</td>\n",
              "      <td>Женская одежда</td>\n",
              "      <td>Верхняя одежда</td>\n",
              "      <td>46–48 (L)</td>\n",
              "      <td>Продам плащ Stella Rossa из натуральной кожи</td>\n",
              "      <td>Продается плащ из натуральной мягкой кожи Stel...</td>\n",
              "      <td>1200.0</td>\n",
              "      <td>50</td>\n",
              "      <td>2017-04-17</td>\n",
              "      <td>Private</td>\n",
              "      <td>c2a4ee34075c73934612b94260a5e1289d90dca0b56a07...</td>\n",
              "      <td>535.0</td>\n",
              "      <td>-1</td>\n",
              "    </tr>\n",
              "    <tr>\n",
              "      <th>89857</th>\n",
              "      <td>d4b903ee85ac</td>\n",
              "      <td>a2ef0215eec3</td>\n",
              "      <td>Иркутская область</td>\n",
              "      <td>Ангарск</td>\n",
              "      <td>Личные вещи</td>\n",
              "      <td>Товары для детей и игрушки</td>\n",
              "      <td>Детские коляски</td>\n",
              "      <td>NaN</td>\n",
              "      <td>NaN</td>\n",
              "      <td>Коляска Aira/42/16.04.17 Гарантия.Обмен</td>\n",
              "      <td>Мы находимся: г. Ангарск ,ул.Олега Кошевого,це...</td>\n",
              "      <td>2399.0</td>\n",
              "      <td>62636</td>\n",
              "      <td>2017-04-16</td>\n",
              "      <td>Shop</td>\n",
              "      <td>d45af616919b1102f079199f7eedaff82028ece9a9acad...</td>\n",
              "      <td>1002.0</td>\n",
              "      <td>-1</td>\n",
              "    </tr>\n",
              "    <tr>\n",
              "      <th>167408</th>\n",
              "      <td>c48d75a40312</td>\n",
              "      <td>06fdd0d34cd5</td>\n",
              "      <td>Свердловская область</td>\n",
              "      <td>Дегтярск</td>\n",
              "      <td>Недвижимость</td>\n",
              "      <td>Дома, дачи, коттеджи</td>\n",
              "      <td>Продам</td>\n",
              "      <td>Дача</td>\n",
              "      <td>NaN</td>\n",
              "      <td>Дача 20 м² на участке 4.5 сот.</td>\n",
              "      <td>Замечательный участок для любителей ягод и цве...</td>\n",
              "      <td>200000.0</td>\n",
              "      <td>10</td>\n",
              "      <td>2017-04-17</td>\n",
              "      <td>Private</td>\n",
              "      <td>575416def76d5915da62a80f2122bf25a34d49ca9306ff...</td>\n",
              "      <td>1305.0</td>\n",
              "      <td>-1</td>\n",
              "    </tr>\n",
              "    <tr>\n",
              "      <th>77907</th>\n",
              "      <td>702830bee894</td>\n",
              "      <td>1ff44fbad9d9</td>\n",
              "      <td>Краснодарский край</td>\n",
              "      <td>Анапа</td>\n",
              "      <td>Бытовая электроника</td>\n",
              "      <td>Товары для компьютера</td>\n",
              "      <td>Комплектующие</td>\n",
              "      <td>Жёсткие диски</td>\n",
              "      <td>NaN</td>\n",
              "      <td>Жёсткий на 40gb ide samsung</td>\n",
              "      <td>Полностью рабочий</td>\n",
              "      <td>200.0</td>\n",
              "      <td>118</td>\n",
              "      <td>2017-04-13</td>\n",
              "      <td>Company</td>\n",
              "      <td>1fbda385f0a044a00a0f06d44043300104ef02049541c7...</td>\n",
              "      <td>2860.0</td>\n",
              "      <td>-1</td>\n",
              "    </tr>\n",
              "    <tr>\n",
              "      <th>73302</th>\n",
              "      <td>12eda1a16628</td>\n",
              "      <td>4ff460927b86</td>\n",
              "      <td>Тюменская область</td>\n",
              "      <td>Нижняя Тавда</td>\n",
              "      <td>Недвижимость</td>\n",
              "      <td>Дома, дачи, коттеджи</td>\n",
              "      <td>Продам</td>\n",
              "      <td>Дом</td>\n",
              "      <td>NaN</td>\n",
              "      <td>Дом 96 м² на участке 12 сот.</td>\n",
              "      <td>Дом в центре,не далеко школа,сад,административ...</td>\n",
              "      <td>1600000.0</td>\n",
              "      <td>2</td>\n",
              "      <td>2017-04-12</td>\n",
              "      <td>Private</td>\n",
              "      <td>527384fa5855c86018f8dfe95ba95f91ecac6fd665b10a...</td>\n",
              "      <td>1320.0</td>\n",
              "      <td>-1</td>\n",
              "    </tr>\n",
              "    <tr>\n",
              "      <th>248590</th>\n",
              "      <td>35b941ec2829</td>\n",
              "      <td>6be8de23ae72</td>\n",
              "      <td>Нижегородская область</td>\n",
              "      <td>Нижний Новгород</td>\n",
              "      <td>Бытовая электроника</td>\n",
              "      <td>Товары для компьютера</td>\n",
              "      <td>Аксессуары</td>\n",
              "      <td>NaN</td>\n",
              "      <td>NaN</td>\n",
              "      <td>Сумка для ноута новая</td>\n",
              "      <td>Очень вместительная сумка,с множеством отделен...</td>\n",
              "      <td>1499.0</td>\n",
              "      <td>32814</td>\n",
              "      <td>2017-04-17</td>\n",
              "      <td>Shop</td>\n",
              "      <td>696b939e01996a372d6279794db11143e5835010375e55...</td>\n",
              "      <td>311.0</td>\n",
              "      <td>-1</td>\n",
              "    </tr>\n",
              "    <tr>\n",
              "      <th>126459</th>\n",
              "      <td>def3972b0597</td>\n",
              "      <td>dc3510ddf908</td>\n",
              "      <td>Владимирская область</td>\n",
              "      <td>Владимир</td>\n",
              "      <td>Личные вещи</td>\n",
              "      <td>Детская одежда и обувь</td>\n",
              "      <td>Для мальчиков</td>\n",
              "      <td>Верхняя одежда</td>\n",
              "      <td>86-92 см (1-2 года)</td>\n",
              "      <td>Комбинезон на синтепоне</td>\n",
              "      <td>Длина по спинке-76 см, длина шага -31 см</td>\n",
              "      <td>400.0</td>\n",
              "      <td>54</td>\n",
              "      <td>2017-04-13</td>\n",
              "      <td>Private</td>\n",
              "      <td>371eff04a6a73a3bda5ab052d6a19cbb3c8c8f81208945...</td>\n",
              "      <td>69.0</td>\n",
              "      <td>-1</td>\n",
              "    </tr>\n",
              "    <tr>\n",
              "      <th>17221</th>\n",
              "      <td>4fc4730ecd91</td>\n",
              "      <td>e048b2f42933</td>\n",
              "      <td>Башкортостан</td>\n",
              "      <td>Уфа</td>\n",
              "      <td>Бытовая электроника</td>\n",
              "      <td>Планшеты и электронные книги</td>\n",
              "      <td>Аксессуары</td>\n",
              "      <td>Чехлы и плёнки</td>\n",
              "      <td>NaN</td>\n",
              "      <td>Оригинальный чехол Samsung для 7\"планшетов</td>\n",
              "      <td>Чехол подайдет для всех 7 дюймовых планшетов,н...</td>\n",
              "      <td>350.0</td>\n",
              "      <td>83</td>\n",
              "      <td>2017-04-18</td>\n",
              "      <td>Private</td>\n",
              "      <td>8f22102c78e75171096bd03e02ccfe822077a5d176be67...</td>\n",
              "      <td>129.0</td>\n",
              "      <td>-1</td>\n",
              "    </tr>\n",
              "    <tr>\n",
              "      <th>37415</th>\n",
              "      <td>d16a50d050b5</td>\n",
              "      <td>b85d43050c7e</td>\n",
              "      <td>Татарстан</td>\n",
              "      <td>Казань</td>\n",
              "      <td>Личные вещи</td>\n",
              "      <td>Одежда, обувь, аксессуары</td>\n",
              "      <td>Аксессуары</td>\n",
              "      <td>NaN</td>\n",
              "      <td>NaN</td>\n",
              "      <td>Сумка натуральная замша и кожа</td>\n",
              "      <td>Натуральная замша, натуральная кожа и лак.кожа.</td>\n",
              "      <td>800.0</td>\n",
              "      <td>821</td>\n",
              "      <td>2017-04-17</td>\n",
              "      <td>Company</td>\n",
              "      <td>278c31ebeae6b5560fe0760db606a1c0250e346e5bf4f8...</td>\n",
              "      <td>184.0</td>\n",
              "      <td>-1</td>\n",
              "    </tr>\n",
              "    <tr>\n",
              "      <th>25456</th>\n",
              "      <td>1b86880657b3</td>\n",
              "      <td>421320fe7bdf</td>\n",
              "      <td>Челябинская область</td>\n",
              "      <td>Челябинск</td>\n",
              "      <td>Личные вещи</td>\n",
              "      <td>Детская одежда и обувь</td>\n",
              "      <td>Для девочек</td>\n",
              "      <td>Обувь</td>\n",
              "      <td>&lt; 19</td>\n",
              "      <td>Босоножки на первые шаги</td>\n",
              "      <td>Очень удобные неразношенные кожаные босоножки ...</td>\n",
              "      <td>350.0</td>\n",
              "      <td>66</td>\n",
              "      <td>2017-04-17</td>\n",
              "      <td>Private</td>\n",
              "      <td>cba9458a38afb7395a7282c0a83c325c5c92dd40614854...</td>\n",
              "      <td>93.0</td>\n",
              "      <td>-1</td>\n",
              "    </tr>\n",
              "  </tbody>\n",
              "</table>\n",
              "</div>"
            ],
            "text/plain": [
              "             item_id       user_id  ... image_top_1 cluster\n",
              "90621   917f3e3fc140  c21ca6bba4e9  ...        88.0      -1\n",
              "97670   86b7a0b8a67f  740c028b7e54  ...        91.0      -1\n",
              "147018  fa54519cdb85  98afa66df686  ...       796.0      -1\n",
              "87072   90fde7a6c85e  4be8b14936aa  ...       375.0      -1\n",
              "191296  a29f215a41a2  57364177157d  ...        46.0      -1\n",
              "219102  0be33b7d83f4  7f417856264d  ...      1002.0      -1\n",
              "124782  dec0065dd0a7  9b959398b331  ...         NaN      -1\n",
              "211590  043e65f81bf2  ac157d80cf56  ...      2218.0      -1\n",
              "36015   289db1c5dcb3  dae07871c6df  ...         NaN      -1\n",
              "97647   e122288e9ca2  c2ac8e2c3fc0  ...      2370.0      -1\n",
              "203856  56df4e125d43  eed11b8dee73  ...       535.0      -1\n",
              "89857   d4b903ee85ac  a2ef0215eec3  ...      1002.0      -1\n",
              "167408  c48d75a40312  06fdd0d34cd5  ...      1305.0      -1\n",
              "77907   702830bee894  1ff44fbad9d9  ...      2860.0      -1\n",
              "73302   12eda1a16628  4ff460927b86  ...      1320.0      -1\n",
              "248590  35b941ec2829  6be8de23ae72  ...       311.0      -1\n",
              "126459  def3972b0597  dc3510ddf908  ...        69.0      -1\n",
              "17221   4fc4730ecd91  e048b2f42933  ...       129.0      -1\n",
              "37415   d16a50d050b5  b85d43050c7e  ...       184.0      -1\n",
              "25456   1b86880657b3  421320fe7bdf  ...        93.0      -1\n",
              "\n",
              "[20 rows x 18 columns]"
            ]
          },
          "metadata": {
            "tags": []
          },
          "execution_count": 123
        }
      ]
    },
    {
      "cell_type": "markdown",
      "metadata": {
        "id": "3S88wvuk6SVI",
        "colab_type": "text"
      },
      "source": [
        "\"Жёсткий на 40gb ide samsung\" - пропущено слово \"диск\", прилагательное может вполне встретиться и в описании матраса, \"40gb ide samsung\" - можно отнести к телефону, аксессуару или гаджету, например . \"Сумка для ноута новая\" - можно понять как аксессуар, относящийся к категории \"одежда\"(подраздел аксессуары), а не \"электроника\", слово \"ноут\" не так частотно. \"Сумка натуральная замша и кожа\" - возможно это сумка для гаджета и должна тогда относиться к \"электронике\" и аксессуарам для электроники, если предыдущий пример считать верным. "
      ]
    },
    {
      "cell_type": "code",
      "metadata": {
        "id": "djfqCU9u9bce",
        "colab_type": "code",
        "colab": {
          "base_uri": "https://localhost:8080/",
          "height": 35
        },
        "outputId": "b35180f4-de83-441c-8bc3-73957aca2324"
      },
      "source": [
        "sample['cluster'] = labels(cluster_MS)\n",
        "len(sample[sample.cluster==-1])"
      ],
      "execution_count": 135,
      "outputs": [
        {
          "output_type": "execute_result",
          "data": {
            "text/plain": [
              "216"
            ]
          },
          "metadata": {
            "tags": []
          },
          "execution_count": 135
        }
      ]
    },
    {
      "cell_type": "code",
      "metadata": {
        "id": "NGRmBwzV9uxj",
        "colab_type": "code",
        "colab": {
          "base_uri": "https://localhost:8080/",
          "height": 1000
        },
        "outputId": "00bce50f-a3ac-437c-ecfc-9a437384aaa1"
      },
      "source": [
        "sample[sample.cluster==-1].head(20)"
      ],
      "execution_count": 136,
      "outputs": [
        {
          "output_type": "execute_result",
          "data": {
            "text/html": [
              "<div>\n",
              "<style scoped>\n",
              "    .dataframe tbody tr th:only-of-type {\n",
              "        vertical-align: middle;\n",
              "    }\n",
              "\n",
              "    .dataframe tbody tr th {\n",
              "        vertical-align: top;\n",
              "    }\n",
              "\n",
              "    .dataframe thead th {\n",
              "        text-align: right;\n",
              "    }\n",
              "</style>\n",
              "<table border=\"1\" class=\"dataframe\">\n",
              "  <thead>\n",
              "    <tr style=\"text-align: right;\">\n",
              "      <th></th>\n",
              "      <th>item_id</th>\n",
              "      <th>user_id</th>\n",
              "      <th>region</th>\n",
              "      <th>city</th>\n",
              "      <th>parent_category_name</th>\n",
              "      <th>category_name</th>\n",
              "      <th>param_1</th>\n",
              "      <th>param_2</th>\n",
              "      <th>param_3</th>\n",
              "      <th>title</th>\n",
              "      <th>description</th>\n",
              "      <th>price</th>\n",
              "      <th>item_seq_number</th>\n",
              "      <th>activation_date</th>\n",
              "      <th>user_type</th>\n",
              "      <th>image</th>\n",
              "      <th>image_top_1</th>\n",
              "      <th>cluster</th>\n",
              "    </tr>\n",
              "  </thead>\n",
              "  <tbody>\n",
              "    <tr>\n",
              "      <th>160627</th>\n",
              "      <td>7c31978d51e1</td>\n",
              "      <td>96555f33b381</td>\n",
              "      <td>Алтайский край</td>\n",
              "      <td>Хабары</td>\n",
              "      <td>Транспорт</td>\n",
              "      <td>Мотоциклы и мототехника</td>\n",
              "      <td>Мопеды и скутеры</td>\n",
              "      <td>NaN</td>\n",
              "      <td>NaN</td>\n",
              "      <td>Мопед детский</td>\n",
              "      <td>Детский мопед</td>\n",
              "      <td>8000.0</td>\n",
              "      <td>31</td>\n",
              "      <td>2017-04-18</td>\n",
              "      <td>Private</td>\n",
              "      <td>ae540421442444a0b69a9c6b6bc26addeff6d56d874abd...</td>\n",
              "      <td>1136.0</td>\n",
              "      <td>-1</td>\n",
              "    </tr>\n",
              "    <tr>\n",
              "      <th>49563</th>\n",
              "      <td>5c95f16d3692</td>\n",
              "      <td>dd3376308e14</td>\n",
              "      <td>Волгоградская область</td>\n",
              "      <td>Палласовка</td>\n",
              "      <td>Бытовая электроника</td>\n",
              "      <td>Ноутбуки</td>\n",
              "      <td>NaN</td>\n",
              "      <td>NaN</td>\n",
              "      <td>NaN</td>\n",
              "      <td>Ноутбук Acer E1-531</td>\n",
              "      <td>Продам ноутбук Acer E1-531 в хорошем состоянии...</td>\n",
              "      <td>8500.0</td>\n",
              "      <td>90</td>\n",
              "      <td>2017-04-18</td>\n",
              "      <td>Company</td>\n",
              "      <td>579f5574eb4a34949d52bd4e9e2bab243f52e703d20c31...</td>\n",
              "      <td>2963.0</td>\n",
              "      <td>-1</td>\n",
              "    </tr>\n",
              "    <tr>\n",
              "      <th>66327</th>\n",
              "      <td>a052b7fb1e78</td>\n",
              "      <td>8218d5b04283</td>\n",
              "      <td>Волгоградская область</td>\n",
              "      <td>Волгоград</td>\n",
              "      <td>Личные вещи</td>\n",
              "      <td>Детская одежда и обувь</td>\n",
              "      <td>Для девочек</td>\n",
              "      <td>Обувь</td>\n",
              "      <td>20</td>\n",
              "      <td>Босоножки детские котофей</td>\n",
              "      <td>Мягкие босоножки котофей.  Размер 19. Состояни...</td>\n",
              "      <td>1000.0</td>\n",
              "      <td>38</td>\n",
              "      <td>2017-04-12</td>\n",
              "      <td>Private</td>\n",
              "      <td>97ac76775ac783713e7bb2d3a5ebada6cc8100c96e8db1...</td>\n",
              "      <td>93.0</td>\n",
              "      <td>-1</td>\n",
              "    </tr>\n",
              "    <tr>\n",
              "      <th>65806</th>\n",
              "      <td>5d41a73d595a</td>\n",
              "      <td>f3241e214d2c</td>\n",
              "      <td>Краснодарский край</td>\n",
              "      <td>Краснодар</td>\n",
              "      <td>Личные вещи</td>\n",
              "      <td>Детская одежда и обувь</td>\n",
              "      <td>Для мальчиков</td>\n",
              "      <td>Обувь</td>\n",
              "      <td>25</td>\n",
              "      <td>Босоножки</td>\n",
              "      <td>Продаются новые босоножки. Натуральная кожа. Р...</td>\n",
              "      <td>1000.0</td>\n",
              "      <td>18</td>\n",
              "      <td>2017-04-18</td>\n",
              "      <td>Private</td>\n",
              "      <td>76ee5c5a23b6b422f29494cea9a5d5e8e99fa73e997b18...</td>\n",
              "      <td>44.0</td>\n",
              "      <td>-1</td>\n",
              "    </tr>\n",
              "    <tr>\n",
              "      <th>67343</th>\n",
              "      <td>f1fdde7f2eeb</td>\n",
              "      <td>29559ffd63b7</td>\n",
              "      <td>Башкортостан</td>\n",
              "      <td>Сибай</td>\n",
              "      <td>Бытовая электроника</td>\n",
              "      <td>Ноутбуки</td>\n",
              "      <td>NaN</td>\n",
              "      <td>NaN</td>\n",
              "      <td>NaN</td>\n",
              "      <td>Ноутбук</td>\n",
              "      <td>Продам ноутбук Toshiba satellite L300D-14 N, н...</td>\n",
              "      <td>1000.0</td>\n",
              "      <td>13</td>\n",
              "      <td>2017-04-16</td>\n",
              "      <td>Private</td>\n",
              "      <td>91cb661e65cb5795c3d842f3675117d93cd685b4fc2b7c...</td>\n",
              "      <td>2959.0</td>\n",
              "      <td>-1</td>\n",
              "    </tr>\n",
              "    <tr>\n",
              "      <th>221639</th>\n",
              "      <td>bccccae809d0</td>\n",
              "      <td>1d9d6a3c0072</td>\n",
              "      <td>Калининградская область</td>\n",
              "      <td>Калининград</td>\n",
              "      <td>Личные вещи</td>\n",
              "      <td>Детская одежда и обувь</td>\n",
              "      <td>Для мальчиков</td>\n",
              "      <td>Верхняя одежда</td>\n",
              "      <td>122-128 см (6-8 лет)</td>\n",
              "      <td>Комплект зимний</td>\n",
              "      <td>Продам зимний комплект в  хорошем состоянии . ...</td>\n",
              "      <td>1000.0</td>\n",
              "      <td>57</td>\n",
              "      <td>2017-04-14</td>\n",
              "      <td>Private</td>\n",
              "      <td>9c0e7613271242bde2c3e89fa404616ee84bbaaa6090a6...</td>\n",
              "      <td>50.0</td>\n",
              "      <td>-1</td>\n",
              "    </tr>\n",
              "    <tr>\n",
              "      <th>150863</th>\n",
              "      <td>f441cfb17e07</td>\n",
              "      <td>168634934158</td>\n",
              "      <td>Свердловская область</td>\n",
              "      <td>Первоуральск</td>\n",
              "      <td>Личные вещи</td>\n",
              "      <td>Одежда, обувь, аксессуары</td>\n",
              "      <td>Женская одежда</td>\n",
              "      <td>Обувь</td>\n",
              "      <td>38</td>\n",
              "      <td>Босоножки на танкетке</td>\n",
              "      <td>Продам замшевые босоножки на танкетке, немного...</td>\n",
              "      <td>1500.0</td>\n",
              "      <td>10</td>\n",
              "      <td>2017-04-12</td>\n",
              "      <td>Private</td>\n",
              "      <td>56dcdbddb2ab02ee5e97a9027aeafd1ddc3adcf0fc6fa0...</td>\n",
              "      <td>440.0</td>\n",
              "      <td>-1</td>\n",
              "    </tr>\n",
              "    <tr>\n",
              "      <th>242498</th>\n",
              "      <td>e477fd816004</td>\n",
              "      <td>1338c6e6aae6</td>\n",
              "      <td>Самарская область</td>\n",
              "      <td>Самара</td>\n",
              "      <td>Личные вещи</td>\n",
              "      <td>Товары для детей и игрушки</td>\n",
              "      <td>Товары для купания</td>\n",
              "      <td>NaN</td>\n",
              "      <td>NaN</td>\n",
              "      <td>Ванна детская овальная \"Фаворит\" 100 см (tm Du...</td>\n",
              "      <td>Ванна детская овальная \"Фаворит\" 100 см (tm Du...</td>\n",
              "      <td>550.0</td>\n",
              "      <td>1960</td>\n",
              "      <td>2017-04-18</td>\n",
              "      <td>Company</td>\n",
              "      <td>ce5b3166eb3d04e30a7bce91a2ae7a426f6c76613786cf...</td>\n",
              "      <td>1019.0</td>\n",
              "      <td>-1</td>\n",
              "    </tr>\n",
              "    <tr>\n",
              "      <th>92149</th>\n",
              "      <td>8243dbb6f96f</td>\n",
              "      <td>6a0d9945528a</td>\n",
              "      <td>Ярославская область</td>\n",
              "      <td>Ярославль</td>\n",
              "      <td>Личные вещи</td>\n",
              "      <td>Одежда, обувь, аксессуары</td>\n",
              "      <td>Женская одежда</td>\n",
              "      <td>Обувь</td>\n",
              "      <td>38</td>\n",
              "      <td>Лакированные босоножки</td>\n",
              "      <td>Предлагаю красивые лакированные кожаные босоно...</td>\n",
              "      <td>1200.0</td>\n",
              "      <td>6</td>\n",
              "      <td>2017-04-13</td>\n",
              "      <td>Private</td>\n",
              "      <td>c587b9104265030acb45d335111d32c2e2df2b81c5660c...</td>\n",
              "      <td>504.0</td>\n",
              "      <td>-1</td>\n",
              "    </tr>\n",
              "    <tr>\n",
              "      <th>42284</th>\n",
              "      <td>274d20a49314</td>\n",
              "      <td>41803bc0b458</td>\n",
              "      <td>Башкортостан</td>\n",
              "      <td>Уфа</td>\n",
              "      <td>Бытовая электроника</td>\n",
              "      <td>Ноутбуки</td>\n",
              "      <td>NaN</td>\n",
              "      <td>NaN</td>\n",
              "      <td>NaN</td>\n",
              "      <td>Asus. Мощный. Комплект. i3. 8 гб. GrForce 2 гб</td>\n",
              "      <td>Продаю ноутбук Asus. Модель F552CL. Коробка, з...</td>\n",
              "      <td>12000.0</td>\n",
              "      <td>6</td>\n",
              "      <td>2017-04-14</td>\n",
              "      <td>Private</td>\n",
              "      <td>ef039db7c87839de978b0a7afebe3eb1c13694e09d9484...</td>\n",
              "      <td>2951.0</td>\n",
              "      <td>-1</td>\n",
              "    </tr>\n",
              "    <tr>\n",
              "      <th>150983</th>\n",
              "      <td>1c3fbf137a14</td>\n",
              "      <td>4d564e445142</td>\n",
              "      <td>Белгородская область</td>\n",
              "      <td>Белгород</td>\n",
              "      <td>Транспорт</td>\n",
              "      <td>Автомобили</td>\n",
              "      <td>С пробегом</td>\n",
              "      <td>ВАЗ (LADA)</td>\n",
              "      <td>Priora</td>\n",
              "      <td>LADA Priora, 2008</td>\n",
              "      <td>Продам автомобиль в отличном состоянии,не бит ...</td>\n",
              "      <td>210000.0</td>\n",
              "      <td>36</td>\n",
              "      <td>2017-04-13</td>\n",
              "      <td>Private</td>\n",
              "      <td>9e2057655b668f7d8156d708ba6b881f175a35801c035e...</td>\n",
              "      <td>1055.0</td>\n",
              "      <td>-1</td>\n",
              "    </tr>\n",
              "    <tr>\n",
              "      <th>186795</th>\n",
              "      <td>18547d2faa99</td>\n",
              "      <td>6d08d453acba</td>\n",
              "      <td>Свердловская область</td>\n",
              "      <td>Екатеринбург</td>\n",
              "      <td>Личные вещи</td>\n",
              "      <td>Одежда, обувь, аксессуары</td>\n",
              "      <td>Женская одежда</td>\n",
              "      <td>Верхняя одежда</td>\n",
              "      <td>42–44 (S)</td>\n",
              "      <td>Жакет - плащ р. 42-44</td>\n",
              "      <td>Очень красивый жакет на весну . Состояние нового.</td>\n",
              "      <td>1500.0</td>\n",
              "      <td>27</td>\n",
              "      <td>2017-04-14</td>\n",
              "      <td>Private</td>\n",
              "      <td>edf320ca61a004366afc23ab6501b090cc9c0ce6854573...</td>\n",
              "      <td>565.0</td>\n",
              "      <td>-1</td>\n",
              "    </tr>\n",
              "    <tr>\n",
              "      <th>231352</th>\n",
              "      <td>ad4e03ec97d3</td>\n",
              "      <td>6919df342a2b</td>\n",
              "      <td>Белгородская область</td>\n",
              "      <td>Белгород</td>\n",
              "      <td>Личные вещи</td>\n",
              "      <td>Детская одежда и обувь</td>\n",
              "      <td>Для девочек</td>\n",
              "      <td>Обувь</td>\n",
              "      <td>32</td>\n",
              "      <td>Босоножки</td>\n",
              "      <td>Босоножки детские 32р.В отличном состоянии.</td>\n",
              "      <td>50.0</td>\n",
              "      <td>83</td>\n",
              "      <td>2017-04-16</td>\n",
              "      <td>Private</td>\n",
              "      <td>54424168baa42196c0b5462c8d6be3d8edb6b0788ed222...</td>\n",
              "      <td>85.0</td>\n",
              "      <td>-1</td>\n",
              "    </tr>\n",
              "    <tr>\n",
              "      <th>108173</th>\n",
              "      <td>6fe4fa6ac171</td>\n",
              "      <td>24a64eac752d</td>\n",
              "      <td>Саратовская область</td>\n",
              "      <td>Саратов</td>\n",
              "      <td>Личные вещи</td>\n",
              "      <td>Детская одежда и обувь</td>\n",
              "      <td>Для девочек</td>\n",
              "      <td>Трикотаж</td>\n",
              "      <td>74-80 см (7-12 мес)</td>\n",
              "      <td>Детский трикотаж</td>\n",
              "      <td>Штанишки в наличии)новые) производство Россия)...</td>\n",
              "      <td>100.0</td>\n",
              "      <td>53</td>\n",
              "      <td>2017-04-18</td>\n",
              "      <td>Private</td>\n",
              "      <td>407df800f86daaef2a6a59e45719ae2d9d122e86168d05...</td>\n",
              "      <td>54.0</td>\n",
              "      <td>-1</td>\n",
              "    </tr>\n",
              "    <tr>\n",
              "      <th>228117</th>\n",
              "      <td>bf34eca0888b</td>\n",
              "      <td>506341abbed9</td>\n",
              "      <td>Ханты-Мансийский АО</td>\n",
              "      <td>Сургут</td>\n",
              "      <td>Для дома и дачи</td>\n",
              "      <td>Ремонт и строительство</td>\n",
              "      <td>Стройматериалы</td>\n",
              "      <td>NaN</td>\n",
              "      <td>NaN</td>\n",
              "      <td>Все по 50</td>\n",
              "      <td>Остатки после ремонта все новое. в наличии 4 р...</td>\n",
              "      <td>50.0</td>\n",
              "      <td>29</td>\n",
              "      <td>2017-04-18</td>\n",
              "      <td>Private</td>\n",
              "      <td>806eb67c70aa40f8becc2fc220b08141bd2fca009f8b04...</td>\n",
              "      <td>1322.0</td>\n",
              "      <td>-1</td>\n",
              "    </tr>\n",
              "    <tr>\n",
              "      <th>176721</th>\n",
              "      <td>8f02be82495a</td>\n",
              "      <td>53c4a55c15a7</td>\n",
              "      <td>Волгоградская область</td>\n",
              "      <td>Волгоград</td>\n",
              "      <td>Личные вещи</td>\n",
              "      <td>Одежда, обувь, аксессуары</td>\n",
              "      <td>Женская одежда</td>\n",
              "      <td>Обувь</td>\n",
              "      <td>36</td>\n",
              "      <td>Босоножки</td>\n",
              "      <td>Замшевые босоножки ,состояние новых ,очень удо...</td>\n",
              "      <td>800.0</td>\n",
              "      <td>34</td>\n",
              "      <td>2017-04-15</td>\n",
              "      <td>Private</td>\n",
              "      <td>f78be9a54643022717d501070a1deaba46508761f76825...</td>\n",
              "      <td>504.0</td>\n",
              "      <td>-1</td>\n",
              "    </tr>\n",
              "    <tr>\n",
              "      <th>44286</th>\n",
              "      <td>d74fecb50d0b</td>\n",
              "      <td>88d32cb529b2</td>\n",
              "      <td>Волгоградская область</td>\n",
              "      <td>Волгоград</td>\n",
              "      <td>Личные вещи</td>\n",
              "      <td>Детская одежда и обувь</td>\n",
              "      <td>Для мальчиков</td>\n",
              "      <td>Трикотаж</td>\n",
              "      <td>86-92 см (1-2 года)</td>\n",
              "      <td>Джемпер 92 см</td>\n",
              "      <td>Кофта на мальчика, практически не носили</td>\n",
              "      <td>150.0</td>\n",
              "      <td>258</td>\n",
              "      <td>2017-04-12</td>\n",
              "      <td>Company</td>\n",
              "      <td>b7c703584976c9342835da955fb5c95cf80e3dbf3701dc...</td>\n",
              "      <td>66.0</td>\n",
              "      <td>-1</td>\n",
              "    </tr>\n",
              "    <tr>\n",
              "      <th>18970</th>\n",
              "      <td>50079ea918e1</td>\n",
              "      <td>bdd941c5cf20</td>\n",
              "      <td>Оренбургская область</td>\n",
              "      <td>Оренбург</td>\n",
              "      <td>Личные вещи</td>\n",
              "      <td>Детская одежда и обувь</td>\n",
              "      <td>Для девочек</td>\n",
              "      <td>Брюки</td>\n",
              "      <td>74-80 см (7-12 мес)</td>\n",
              "      <td>Комплекты одежды 68-86 см</td>\n",
              "      <td>1 фото - 80-86 см, за всё 350 р/\\n2 фото - 680...</td>\n",
              "      <td>350.0</td>\n",
              "      <td>153</td>\n",
              "      <td>2017-04-14</td>\n",
              "      <td>Company</td>\n",
              "      <td>959ffe5fe1d3f35de70426f58452304e0681476abd9175...</td>\n",
              "      <td>83.0</td>\n",
              "      <td>-1</td>\n",
              "    </tr>\n",
              "    <tr>\n",
              "      <th>230198</th>\n",
              "      <td>1fe50d3986ee</td>\n",
              "      <td>0ffeb2a2c027</td>\n",
              "      <td>Челябинская область</td>\n",
              "      <td>Челябинск</td>\n",
              "      <td>Личные вещи</td>\n",
              "      <td>Одежда, обувь, аксессуары</td>\n",
              "      <td>Женская одежда</td>\n",
              "      <td>Обувь</td>\n",
              "      <td>37</td>\n",
              "      <td>Резиновые сапожки 36-37размер</td>\n",
              "      <td>Непромокаемые резиновые ботинки с цветочным пр...</td>\n",
              "      <td>490.0</td>\n",
              "      <td>15</td>\n",
              "      <td>2017-04-12</td>\n",
              "      <td>Private</td>\n",
              "      <td>176e0f897c523e05b8e55795235608e4234ab9e5fde3c6...</td>\n",
              "      <td>91.0</td>\n",
              "      <td>-1</td>\n",
              "    </tr>\n",
              "    <tr>\n",
              "      <th>205126</th>\n",
              "      <td>d7727405d6b9</td>\n",
              "      <td>5a520f07510b</td>\n",
              "      <td>Свердловская область</td>\n",
              "      <td>Нижний Тагил</td>\n",
              "      <td>Для дома и дачи</td>\n",
              "      <td>Мебель и интерьер</td>\n",
              "      <td>Шкафы и комоды</td>\n",
              "      <td>NaN</td>\n",
              "      <td>NaN</td>\n",
              "      <td>Детский комод</td>\n",
              "      <td>Продам детский комод. Немного б/у, состояние о...</td>\n",
              "      <td>4000.0</td>\n",
              "      <td>13</td>\n",
              "      <td>2017-04-14</td>\n",
              "      <td>Private</td>\n",
              "      <td>5945db5700b5e7c268f5397e927340b593bb2fd97a475d...</td>\n",
              "      <td>825.0</td>\n",
              "      <td>-1</td>\n",
              "    </tr>\n",
              "  </tbody>\n",
              "</table>\n",
              "</div>"
            ],
            "text/plain": [
              "             item_id       user_id  ... image_top_1 cluster\n",
              "160627  7c31978d51e1  96555f33b381  ...      1136.0      -1\n",
              "49563   5c95f16d3692  dd3376308e14  ...      2963.0      -1\n",
              "66327   a052b7fb1e78  8218d5b04283  ...        93.0      -1\n",
              "65806   5d41a73d595a  f3241e214d2c  ...        44.0      -1\n",
              "67343   f1fdde7f2eeb  29559ffd63b7  ...      2959.0      -1\n",
              "221639  bccccae809d0  1d9d6a3c0072  ...        50.0      -1\n",
              "150863  f441cfb17e07  168634934158  ...       440.0      -1\n",
              "242498  e477fd816004  1338c6e6aae6  ...      1019.0      -1\n",
              "92149   8243dbb6f96f  6a0d9945528a  ...       504.0      -1\n",
              "42284   274d20a49314  41803bc0b458  ...      2951.0      -1\n",
              "150983  1c3fbf137a14  4d564e445142  ...      1055.0      -1\n",
              "186795  18547d2faa99  6d08d453acba  ...       565.0      -1\n",
              "231352  ad4e03ec97d3  6919df342a2b  ...        85.0      -1\n",
              "108173  6fe4fa6ac171  24a64eac752d  ...        54.0      -1\n",
              "228117  bf34eca0888b  506341abbed9  ...      1322.0      -1\n",
              "176721  8f02be82495a  53c4a55c15a7  ...       504.0      -1\n",
              "44286   d74fecb50d0b  88d32cb529b2  ...        66.0      -1\n",
              "18970   50079ea918e1  bdd941c5cf20  ...        83.0      -1\n",
              "230198  1fe50d3986ee  0ffeb2a2c027  ...        91.0      -1\n",
              "205126  d7727405d6b9  5a520f07510b  ...       825.0      -1\n",
              "\n",
              "[20 rows x 18 columns]"
            ]
          },
          "metadata": {
            "tags": []
          },
          "execution_count": 136
        }
      ]
    },
    {
      "cell_type": "markdown",
      "metadata": {
        "id": "-sJjLKIQ-TGX",
        "colab_type": "text"
      },
      "source": [
        "\"Мопед детский\". Скорее всего прилагательное \"детский\" встречается чаще в категории \"детская одежда\" и не так часто в категории \"Мотоциклы и мототехника\". \"Комплект зимний\" - слишком общее описание в категории \"детская одежда\", слово \"комплект\" вполне может встречаться и в бытовой технике. \"Ванна детская овальная \"Фаворит\"\", видимо, слово \"ванна\" частотнее в заголовках категории \"для дома и для дачи\", а не \"Товары для детей и игрушки\". Часто встречаются \"босоножки\" как в детских товарах, так и в женской одежде, что тоже создают неоднозначность. \"Все по 50\" - слишком общее описание, могут быть книги, а не стройматериалы. \"Детский комод\" - возможно слово \"детский\" снова сбивает с толку"
      ]
    }
  ]
}