{
  "nbformat": 4,
  "nbformat_minor": 0,
  "metadata": {
    "colab": {
      "name": "HW6_ML.ipynb",
      "provenance": [],
      "collapsed_sections": []
    },
    "kernelspec": {
      "name": "python3",
      "display_name": "Python 3"
    }
  },
  "cells": [
    {
      "cell_type": "markdown",
      "metadata": {
        "id": "4qmcw5e-6z1G",
        "colab_type": "text"
      },
      "source": [
        "Данные для семинара - https://drive.google.com/file/d/1GQm-IH3iGu1-HVjZ5npL5xeKovp0Aa60/view?usp=sharing"
      ]
    },
    {
      "cell_type": "markdown",
      "metadata": {
        "id": "vCGGSsMGCncg",
        "colab_type": "text"
      },
      "source": [
        "1) На одной из задач сравните, что лучше: а) конкатенировать эмбединги в один большой эмбединг, б) усреднять эмбединги, в) складывать эмбединги. Зафиксируйте разбиение на train_test через random_seed, чтобы обучаться и оцениваться на одних и тех же данных. Параметры нейронок не нужно делать одинаковыми. Просто попробуйте добиться максимума от каждого из подходов.\n",
        "\n",
        "2) В одной из задач используйте сразу две предобученные эмбединг модели (можно фастекст и ворд2век, а можно просто 2 фастекста с разными параметрами) в одной нейронке. Попробуйте усреднять эмбединги и конкатенировать (общие эмбединги потом в один вектор собирайте любым способом - например, тем который оказался лучше в первой задаче). Подсказка: используйте functional api, сделайте два Embedding слоя и к их выходам примените слой Concatenate([emb1, emb2)) или Average([emb1, emb2))\n",
        "\n",
        "Бонусный балл можно получить за эксперименты с параметрами в Embbeding, Dense (поизучайте другие существующие параметры и попробуйте комбинировать несколько слоев с разным активациями) слоях, а также за эксперименты с улучшением нормализации.\n",
        "\n",
        "Лучше делать задание на второй задаче, так как в Авито в любом случае разница будет в несколько десятых процентов.\n"
      ]
    },
    {
      "cell_type": "code",
      "metadata": {
        "id": "wI4I9TQ64q62",
        "colab_type": "code",
        "outputId": "487226c9-71f8-4b8f-f404-9d428465b4f2",
        "colab": {
          "base_uri": "https://localhost:8080/",
          "height": 484
        }
      },
      "source": [
        "!pip install pandas scikit-learn gensim matplotlib"
      ],
      "execution_count": 1,
      "outputs": [
        {
          "output_type": "stream",
          "text": [
            "Requirement already satisfied: pandas in /usr/local/lib/python3.6/dist-packages (1.0.3)\n",
            "Requirement already satisfied: scikit-learn in /usr/local/lib/python3.6/dist-packages (0.22.2.post1)\n",
            "Requirement already satisfied: gensim in /usr/local/lib/python3.6/dist-packages (3.6.0)\n",
            "Requirement already satisfied: matplotlib in /usr/local/lib/python3.6/dist-packages (3.2.1)\n",
            "Requirement already satisfied: python-dateutil>=2.6.1 in /usr/local/lib/python3.6/dist-packages (from pandas) (2.8.1)\n",
            "Requirement already satisfied: numpy>=1.13.3 in /usr/local/lib/python3.6/dist-packages (from pandas) (1.18.2)\n",
            "Requirement already satisfied: pytz>=2017.2 in /usr/local/lib/python3.6/dist-packages (from pandas) (2018.9)\n",
            "Requirement already satisfied: joblib>=0.11 in /usr/local/lib/python3.6/dist-packages (from scikit-learn) (0.14.1)\n",
            "Requirement already satisfied: scipy>=0.17.0 in /usr/local/lib/python3.6/dist-packages (from scikit-learn) (1.4.1)\n",
            "Requirement already satisfied: six>=1.5.0 in /usr/local/lib/python3.6/dist-packages (from gensim) (1.12.0)\n",
            "Requirement already satisfied: smart-open>=1.2.1 in /usr/local/lib/python3.6/dist-packages (from gensim) (1.11.1)\n",
            "Requirement already satisfied: kiwisolver>=1.0.1 in /usr/local/lib/python3.6/dist-packages (from matplotlib) (1.2.0)\n",
            "Requirement already satisfied: pyparsing!=2.0.4,!=2.1.2,!=2.1.6,>=2.0.1 in /usr/local/lib/python3.6/dist-packages (from matplotlib) (2.4.7)\n",
            "Requirement already satisfied: cycler>=0.10 in /usr/local/lib/python3.6/dist-packages (from matplotlib) (0.10.0)\n",
            "Requirement already satisfied: boto3 in /usr/local/lib/python3.6/dist-packages (from smart-open>=1.2.1->gensim) (1.12.40)\n",
            "Requirement already satisfied: boto in /usr/local/lib/python3.6/dist-packages (from smart-open>=1.2.1->gensim) (2.49.0)\n",
            "Requirement already satisfied: requests in /usr/local/lib/python3.6/dist-packages (from smart-open>=1.2.1->gensim) (2.21.0)\n",
            "Requirement already satisfied: botocore<1.16.0,>=1.15.40 in /usr/local/lib/python3.6/dist-packages (from boto3->smart-open>=1.2.1->gensim) (1.15.40)\n",
            "Requirement already satisfied: s3transfer<0.4.0,>=0.3.0 in /usr/local/lib/python3.6/dist-packages (from boto3->smart-open>=1.2.1->gensim) (0.3.3)\n",
            "Requirement already satisfied: jmespath<1.0.0,>=0.7.1 in /usr/local/lib/python3.6/dist-packages (from boto3->smart-open>=1.2.1->gensim) (0.9.5)\n",
            "Requirement already satisfied: certifi>=2017.4.17 in /usr/local/lib/python3.6/dist-packages (from requests->smart-open>=1.2.1->gensim) (2020.4.5.1)\n",
            "Requirement already satisfied: idna<2.9,>=2.5 in /usr/local/lib/python3.6/dist-packages (from requests->smart-open>=1.2.1->gensim) (2.8)\n",
            "Requirement already satisfied: chardet<3.1.0,>=3.0.2 in /usr/local/lib/python3.6/dist-packages (from requests->smart-open>=1.2.1->gensim) (3.0.4)\n",
            "Requirement already satisfied: urllib3<1.25,>=1.21.1 in /usr/local/lib/python3.6/dist-packages (from requests->smart-open>=1.2.1->gensim) (1.24.3)\n",
            "Requirement already satisfied: docutils<0.16,>=0.10 in /usr/local/lib/python3.6/dist-packages (from botocore<1.16.0,>=1.15.40->boto3->smart-open>=1.2.1->gensim) (0.15.2)\n"
          ],
          "name": "stdout"
        }
      ]
    },
    {
      "cell_type": "code",
      "metadata": {
        "id": "A_sIKof2427Q",
        "colab_type": "code",
        "colab": {}
      },
      "source": [
        "import tensorflow as tf\n",
        "import pandas as pd\n",
        "import numpy as np\n",
        "from string import punctuation\n",
        "from sklearn.model_selection import train_test_split\n",
        "from collections import Counter\n",
        "import matplotlib.pyplot as plt\n",
        "import gensim\n",
        "%matplotlib inline"
      ],
      "execution_count": 0,
      "outputs": []
    },
    {
      "cell_type": "code",
      "metadata": {
        "id": "_0xwDjDE7Cv3",
        "colab_type": "code",
        "outputId": "86c63905-4a7a-4dd9-d1fa-886e5c9c604d",
        "colab": {
          "base_uri": "https://localhost:8080/",
          "height": 36
        }
      },
      "source": [
        "from google.colab import drive \n",
        "drive.mount('/gdrive')"
      ],
      "execution_count": 3,
      "outputs": [
        {
          "output_type": "stream",
          "text": [
            "Drive already mounted at /gdrive; to attempt to forcibly remount, call drive.mount(\"/gdrive\", force_remount=True).\n"
          ],
          "name": "stdout"
        }
      ]
    },
    {
      "cell_type": "code",
      "metadata": {
        "id": "vyTHEa-n6veY",
        "colab_type": "code",
        "colab": {}
      },
      "source": [
        "quora = pd.read_csv('/gdrive/My Drive/data.zip (Unzipped Files)/quora.csv')"
      ],
      "execution_count": 0,
      "outputs": []
    },
    {
      "cell_type": "code",
      "metadata": {
        "id": "OoOe1944_szk",
        "colab_type": "code",
        "colab": {}
      },
      "source": [
        "def preprocess(text):\n",
        "    tokens = text.lower().split()\n",
        "    tokens = [token.strip(punctuation) for token in tokens]\n",
        "    return tokens"
      ],
      "execution_count": 0,
      "outputs": []
    },
    {
      "cell_type": "code",
      "metadata": {
        "id": "rFObqHth_wwT",
        "colab_type": "code",
        "colab": {}
      },
      "source": [
        "vocab = Counter()\n",
        "\n",
        "for text in quora.question_text:\n",
        "    vocab.update(preprocess(text))"
      ],
      "execution_count": 0,
      "outputs": []
    },
    {
      "cell_type": "code",
      "metadata": {
        "id": "0tUFaOzWAhmg",
        "colab_type": "code",
        "colab": {}
      },
      "source": [
        "filtered_vocab = set()\n",
        "\n",
        "for word in vocab:\n",
        "    if vocab[word] > 4:\n",
        "        filtered_vocab.add(word)"
      ],
      "execution_count": 0,
      "outputs": []
    },
    {
      "cell_type": "code",
      "metadata": {
        "id": "cgSWofOt_0zw",
        "colab_type": "code",
        "outputId": "92a8c088-3bd7-4d12-85eb-2c16006c1930",
        "colab": {
          "base_uri": "https://localhost:8080/",
          "height": 36
        }
      },
      "source": [
        "len(filtered_vocab)"
      ],
      "execution_count": 8,
      "outputs": [
        {
          "output_type": "execute_result",
          "data": {
            "text/plain": [
              "53528"
            ]
          },
          "metadata": {
            "tags": []
          },
          "execution_count": 8
        }
      ]
    },
    {
      "cell_type": "code",
      "metadata": {
        "id": "TaG-lsDNA0q9",
        "colab_type": "code",
        "colab": {}
      },
      "source": [
        "word2id = {'UNK':1, 'PAD':0}\n",
        "\n",
        "for word in filtered_vocab:\n",
        "    word2id[word] = len(word2id)"
      ],
      "execution_count": 0,
      "outputs": []
    },
    {
      "cell_type": "code",
      "metadata": {
        "id": "RBleITd5A52S",
        "colab_type": "code",
        "colab": {}
      },
      "source": [
        "id2word = {i:word for word, i in word2id.items()}"
      ],
      "execution_count": 0,
      "outputs": []
    },
    {
      "cell_type": "code",
      "metadata": {
        "id": "kIBWHL7TA7aE",
        "colab_type": "code",
        "colab": {}
      },
      "source": [
        "X = []\n",
        "\n",
        "for text in quora.question_text:\n",
        "    tokens = preprocess(text)\n",
        "    ids = [word2id.get(token, 1) for token in tokens]\n",
        "    X.append(ids)"
      ],
      "execution_count": 0,
      "outputs": []
    },
    {
      "cell_type": "code",
      "metadata": {
        "id": "m7mAEAqvBAH8",
        "colab_type": "code",
        "colab": {}
      },
      "source": [
        "MAX_LEN = max(len(x) for x in X)"
      ],
      "execution_count": 0,
      "outputs": []
    },
    {
      "cell_type": "code",
      "metadata": {
        "id": "yBsmI83mBMr1",
        "colab_type": "code",
        "outputId": "8c5affcc-b768-4844-f4f1-61a57562dd30",
        "colab": {
          "base_uri": "https://localhost:8080/",
          "height": 36
        }
      },
      "source": [
        "MAX_LEN"
      ],
      "execution_count": 13,
      "outputs": [
        {
          "output_type": "execute_result",
          "data": {
            "text/plain": [
              "134"
            ]
          },
          "metadata": {
            "tags": []
          },
          "execution_count": 13
        }
      ]
    },
    {
      "cell_type": "code",
      "metadata": {
        "id": "_YryW2aQBVt5",
        "colab_type": "code",
        "outputId": "1120092a-4c92-46e1-c756-de476c76649b",
        "colab": {
          "base_uri": "https://localhost:8080/",
          "height": 36
        }
      },
      "source": [
        "X = tf.keras.preprocessing.sequence.pad_sequences(X, maxlen=MAX_LEN)\n",
        "X.shape"
      ],
      "execution_count": 14,
      "outputs": [
        {
          "output_type": "execute_result",
          "data": {
            "text/plain": [
              "(1306122, 134)"
            ]
          },
          "metadata": {
            "tags": []
          },
          "execution_count": 14
        }
      ]
    },
    {
      "cell_type": "code",
      "metadata": {
        "id": "89HoPkCWBgxm",
        "colab_type": "code",
        "colab": {}
      },
      "source": [
        "y = quora.target.values"
      ],
      "execution_count": 0,
      "outputs": []
    },
    {
      "cell_type": "code",
      "metadata": {
        "id": "DZC1dWY3Bkwf",
        "colab_type": "code",
        "colab": {}
      },
      "source": [
        "X_train, X_valid, y_train, y_valid = train_test_split(X, y, test_size=0.05, random_state=42)"
      ],
      "execution_count": 0,
      "outputs": []
    },
    {
      "cell_type": "markdown",
      "metadata": {
        "id": "f-D-A4VXBwmd",
        "colab_type": "text"
      },
      "source": [
        "## Конкатенация эмбедингов"
      ]
    },
    {
      "cell_type": "code",
      "metadata": {
        "id": "GF3a4yyPBoGs",
        "colab_type": "code",
        "colab": {}
      },
      "source": [
        "model = tf.keras.Sequential()\n",
        "model.add(tf.keras.layers.Embedding(input_dim=len(word2id), input_length=MAX_LEN, output_dim=100))\n",
        "model.add(tf.keras.layers.Flatten())\n",
        "model.add(tf.keras.layers.Dense(1, activation='linear'))\n",
        "model.compile(optimizer='adam', loss='mse', metrics=[tf.keras.metrics.RootMeanSquaredError()])"
      ],
      "execution_count": 0,
      "outputs": []
    },
    {
      "cell_type": "code",
      "metadata": {
        "id": "6ou_lF0LCEXs",
        "colab_type": "code",
        "outputId": "65233cc7-c660-41f3-ba30-804897f83161",
        "colab": {
          "base_uri": "https://localhost:8080/",
          "height": 409
        }
      },
      "source": [
        "model.fit(X_train, y_train, \n",
        "          validation_data=(X_valid, y_valid),\n",
        "          batch_size=5000,\n",
        "         epochs=10)"
      ],
      "execution_count": 0,
      "outputs": [
        {
          "output_type": "stream",
          "text": [
            "Epoch 1/10\n",
            "249/249 [==============================] - 82s 329ms/step - loss: 0.0425 - root_mean_squared_error: 0.2061 - val_loss: 0.0355 - val_root_mean_squared_error: 0.1885\n",
            "Epoch 2/10\n",
            "249/249 [==============================] - 81s 326ms/step - loss: 0.0343 - root_mean_squared_error: 0.1851 - val_loss: 0.0350 - val_root_mean_squared_error: 0.1875\n",
            "Epoch 3/10\n",
            "249/249 [==============================] - 82s 330ms/step - loss: 0.0318 - root_mean_squared_error: 0.1783 - val_loss: 0.0359 - val_root_mean_squared_error: 0.1897\n",
            "Epoch 4/10\n",
            "249/249 [==============================] - 81s 326ms/step - loss: 0.0291 - root_mean_squared_error: 0.1705 - val_loss: 0.0376 - val_root_mean_squared_error: 0.1941\n",
            "Epoch 5/10\n",
            "249/249 [==============================] - 82s 330ms/step - loss: 0.0266 - root_mean_squared_error: 0.1629 - val_loss: 0.0389 - val_root_mean_squared_error: 0.1974\n",
            "Epoch 6/10\n",
            "249/249 [==============================] - 81s 326ms/step - loss: 0.0246 - root_mean_squared_error: 0.1567 - val_loss: 0.0405 - val_root_mean_squared_error: 0.2013\n",
            "Epoch 7/10\n",
            "249/249 [==============================] - 81s 326ms/step - loss: 0.0231 - root_mean_squared_error: 0.1520 - val_loss: 0.0418 - val_root_mean_squared_error: 0.2044\n",
            "Epoch 8/10\n",
            "249/249 [==============================] - 82s 331ms/step - loss: 0.0221 - root_mean_squared_error: 0.1486 - val_loss: 0.0429 - val_root_mean_squared_error: 0.2072\n",
            "Epoch 9/10\n",
            "249/249 [==============================] - 81s 326ms/step - loss: 0.0213 - root_mean_squared_error: 0.1460 - val_loss: 0.0440 - val_root_mean_squared_error: 0.2099\n",
            "Epoch 10/10\n",
            "249/249 [==============================] - 81s 326ms/step - loss: 0.0207 - root_mean_squared_error: 0.1439 - val_loss: 0.0447 - val_root_mean_squared_error: 0.2116\n"
          ],
          "name": "stdout"
        },
        {
          "output_type": "execute_result",
          "data": {
            "text/plain": [
              "<tensorflow.python.keras.callbacks.History at 0x7f4e9cbe2908>"
            ]
          },
          "metadata": {
            "tags": []
          },
          "execution_count": 85
        }
      ]
    },
    {
      "cell_type": "code",
      "metadata": {
        "id": "uFGZYjp8Cbrc",
        "colab_type": "code",
        "outputId": "2d3973cb-20b8-4bab-f861-72390c7882db",
        "colab": {
          "base_uri": "https://localhost:8080/",
          "height": 314
        }
      },
      "source": [
        "print(model.history.history.keys())\n",
        "plt.plot(model.history.history['root_mean_squared_error'])\n",
        "plt.plot(model.history.history['val_root_mean_squared_error'])\n",
        "plt.title('model RMSE')\n",
        "plt.ylabel('RMSE')\n",
        "plt.xlabel('epoch')\n",
        "plt.legend(['train', 'val'], loc='upper left')\n",
        "plt.show()"
      ],
      "execution_count": 0,
      "outputs": [
        {
          "output_type": "stream",
          "text": [
            "dict_keys(['loss', 'root_mean_squared_error', 'val_loss', 'val_root_mean_squared_error'])\n"
          ],
          "name": "stdout"
        },
        {
          "output_type": "display_data",
          "data": {
            "image/png": "[encoded data removed]",
            "text/plain": [
              "<Figure size 432x288 with 1 Axes>"
            ]
          },
          "metadata": {
            "tags": [],
            "needs_background": "light"
          }
        }
      ]
    },
    {
      "cell_type": "markdown",
      "metadata": {
        "id": "Ee5Fyi7RRHpc",
        "colab_type": "text"
      },
      "source": [
        "Можем наблюдать, что при конкатенации векторов валидация с каждой эпохой ухудшается"
      ]
    },
    {
      "cell_type": "markdown",
      "metadata": {
        "id": "fQxIHeZDCxie",
        "colab_type": "text"
      },
      "source": [
        "## Усреднение эмбедингов"
      ]
    },
    {
      "cell_type": "code",
      "metadata": {
        "id": "XLHOMNycC16r",
        "colab_type": "code",
        "colab": {}
      },
      "source": [
        "inputs = tf.keras.layers.Input(shape=(100,))\n",
        "\n",
        "\n",
        "embeddings = tf.keras.layers.Embedding(input_dim=len(word2id), output_dim=10)(inputs)\n",
        "mean = tf.keras.layers.Lambda(lambda x: tf.keras.backend.mean(x,  axis=1))(embeddings)\n",
        "dense = tf.keras.layers.Dense(64, activation='relu')(mean)\n",
        "outputs = tf.keras.layers.Dense(1, activation='sigmoid')(dense)\n",
        "\n",
        "model = tf.keras.Model(inputs=inputs, outputs=outputs)\n",
        "optimizer = tf.keras.optimizers.Adam(learning_rate=0.0001)\n",
        "model.compile(optimizer=optimizer,\n",
        "              loss='mse',\n",
        "              metrics=[tf.keras.metrics.RootMeanSquaredError()])\n"
      ],
      "execution_count": 0,
      "outputs": []
    },
    {
      "cell_type": "code",
      "metadata": {
        "id": "CswTc1zAE5Dq",
        "colab_type": "code",
        "outputId": "5948dd30-eb3d-4227-e137-8e2f0f5b21c5",
        "colab": {
          "base_uri": "https://localhost:8080/",
          "height": 485
        }
      },
      "source": [
        "model.fit(X_train, y_train, \n",
        "          validation_data=(X_valid, y_valid),\n",
        "          batch_size=5000,\n",
        "         epochs=10)"
      ],
      "execution_count": 0,
      "outputs": [
        {
          "output_type": "stream",
          "text": [
            "Epoch 1/10\n",
            "WARNING:tensorflow:Model was constructed with shape (None, 100) for input Tensor(\"input_2:0\", shape=(None, 100), dtype=float32), but it was called on an input with incompatible shape (None, 134).\n",
            "WARNING:tensorflow:Model was constructed with shape (None, 100) for input Tensor(\"input_2:0\", shape=(None, 100), dtype=float32), but it was called on an input with incompatible shape (None, 134).\n",
            "248/249 [============================>.] - ETA: 0s - loss: 0.2209 - root_mean_squared_error: 0.4700WARNING:tensorflow:Model was constructed with shape (None, 100) for input Tensor(\"input_2:0\", shape=(None, 100), dtype=float32), but it was called on an input with incompatible shape (None, 134).\n",
            "249/249 [==============================] - 17s 68ms/step - loss: 0.2208 - root_mean_squared_error: 0.4700 - val_loss: 0.1915 - val_root_mean_squared_error: 0.4377\n",
            "Epoch 2/10\n",
            "249/249 [==============================] - 16s 66ms/step - loss: 0.1585 - root_mean_squared_error: 0.3983 - val_loss: 0.1251 - val_root_mean_squared_error: 0.3537\n",
            "Epoch 3/10\n",
            "249/249 [==============================] - 16s 65ms/step - loss: 0.1013 - root_mean_squared_error: 0.3184 - val_loss: 0.0815 - val_root_mean_squared_error: 0.2856\n",
            "Epoch 4/10\n",
            "249/249 [==============================] - 16s 66ms/step - loss: 0.0728 - root_mean_squared_error: 0.2698 - val_loss: 0.0649 - val_root_mean_squared_error: 0.2548\n",
            "Epoch 5/10\n",
            "249/249 [==============================] - 16s 66ms/step - loss: 0.0628 - root_mean_squared_error: 0.2507 - val_loss: 0.0593 - val_root_mean_squared_error: 0.2437\n",
            "Epoch 6/10\n",
            "249/249 [==============================] - 16s 65ms/step - loss: 0.0594 - root_mean_squared_error: 0.2439 - val_loss: 0.0573 - val_root_mean_squared_error: 0.2395\n",
            "Epoch 7/10\n",
            "249/249 [==============================] - 16s 65ms/step - loss: 0.0582 - root_mean_squared_error: 0.2413 - val_loss: 0.0565 - val_root_mean_squared_error: 0.2378\n",
            "Epoch 8/10\n",
            "249/249 [==============================] - 16s 65ms/step - loss: 0.0577 - root_mean_squared_error: 0.2401 - val_loss: 0.0561 - val_root_mean_squared_error: 0.2370\n",
            "Epoch 9/10\n",
            "249/249 [==============================] - 16s 65ms/step - loss: 0.0574 - root_mean_squared_error: 0.2396 - val_loss: 0.0559 - val_root_mean_squared_error: 0.2366\n",
            "Epoch 10/10\n",
            "249/249 [==============================] - 17s 70ms/step - loss: 0.0573 - root_mean_squared_error: 0.2393 - val_loss: 0.0557 - val_root_mean_squared_error: 0.2363\n"
          ],
          "name": "stdout"
        },
        {
          "output_type": "execute_result",
          "data": {
            "text/plain": [
              "<tensorflow.python.keras.callbacks.History at 0x7f4e9d48b9b0>"
            ]
          },
          "metadata": {
            "tags": []
          },
          "execution_count": 88
        }
      ]
    },
    {
      "cell_type": "code",
      "metadata": {
        "id": "kwvO6owMF0y_",
        "colab_type": "code",
        "outputId": "a8743f00-ee11-4dcd-944e-88811eb3fe94",
        "colab": {
          "base_uri": "https://localhost:8080/",
          "height": 314
        }
      },
      "source": [
        "print(model.history.history.keys())\n",
        "plt.plot(model.history.history['root_mean_squared_error'])\n",
        "plt.plot(model.history.history['val_root_mean_squared_error'])\n",
        "plt.title('model RMSE')\n",
        "plt.ylabel('RMSE')\n",
        "plt.xlabel('epoch')\n",
        "plt.legend(['train', 'val'], loc='upper left')\n",
        "plt.show()"
      ],
      "execution_count": 0,
      "outputs": [
        {
          "output_type": "stream",
          "text": [
            "dict_keys(['loss', 'root_mean_squared_error', 'val_loss', 'val_root_mean_squared_error'])\n"
          ],
          "name": "stdout"
        },
        {
          "output_type": "display_data",
          "data": {
            "image/png": "[encoded data removed]",
            "text/plain": [
              "<Figure size 432x288 with 1 Axes>"
            ]
          },
          "metadata": {
            "tags": [],
            "needs_background": "light"
          }
        }
      ]
    },
    {
      "cell_type": "markdown",
      "metadata": {
        "id": "4zwu8YZaRWQ4",
        "colab_type": "text"
      },
      "source": [
        "При усреднении эмбедингов мы наблюдаем, что с каждой эпохой качество постепенно растет на валидационной и тренировочной выборках (от 0.45 к 0.25)"
      ]
    },
    {
      "cell_type": "markdown",
      "metadata": {
        "id": "R4ukJrEKPdK8",
        "colab_type": "text"
      },
      "source": [
        "## Сложение эмбедингов"
      ]
    },
    {
      "cell_type": "code",
      "metadata": {
        "id": "4rYi61FAPe9Q",
        "colab_type": "code",
        "colab": {}
      },
      "source": [
        "inputs = tf.keras.layers.Input(shape=(100,))\n",
        "\n",
        "\n",
        "embeddings = tf.keras.layers.Embedding(input_dim=len(word2id), output_dim=10)(inputs)\n",
        "emb_sum = tf.keras.layers.Lambda(lambda x: tf.keras.backend.sum(x,  axis=1))(embeddings)\n",
        "dense = tf.keras.layers.Dense(64, activation='relu')(emb_sum)\n",
        "outputs = tf.keras.layers.Dense(1, activation='sigmoid')(dense)\n",
        "\n",
        "model = tf.keras.Model(inputs=inputs, outputs=outputs)\n",
        "optimizer = tf.keras.optimizers.Adam(learning_rate=0.0001)\n",
        "model.compile(optimizer=optimizer,\n",
        "              loss='mse',\n",
        "              metrics=[tf.keras.metrics.RootMeanSquaredError()])\n"
      ],
      "execution_count": 0,
      "outputs": []
    },
    {
      "cell_type": "code",
      "metadata": {
        "id": "b2iyQ5dLP03O",
        "colab_type": "code",
        "outputId": "8c3a36d3-f31f-43c6-a127-180fa9540ebb",
        "colab": {
          "base_uri": "https://localhost:8080/",
          "height": 485
        }
      },
      "source": [
        "model.fit(X_train, y_train, \n",
        "          validation_data=(X_valid, y_valid),\n",
        "          batch_size=5000,\n",
        "         epochs=10)"
      ],
      "execution_count": 0,
      "outputs": [
        {
          "output_type": "stream",
          "text": [
            "Epoch 1/10\n",
            "WARNING:tensorflow:Model was constructed with shape (None, 100) for input Tensor(\"input_3:0\", shape=(None, 100), dtype=float32), but it was called on an input with incompatible shape (None, 134).\n",
            "WARNING:tensorflow:Model was constructed with shape (None, 100) for input Tensor(\"input_3:0\", shape=(None, 100), dtype=float32), but it was called on an input with incompatible shape (None, 134).\n",
            "248/249 [============================>.] - ETA: 0s - loss: 0.1016 - root_mean_squared_error: 0.3187WARNING:tensorflow:Model was constructed with shape (None, 100) for input Tensor(\"input_3:0\", shape=(None, 100), dtype=float32), but it was called on an input with incompatible shape (None, 134).\n",
            "249/249 [==============================] - 16s 65ms/step - loss: 0.1014 - root_mean_squared_error: 0.3186 - val_loss: 0.0564 - val_root_mean_squared_error: 0.2376\n",
            "Epoch 2/10\n",
            "249/249 [==============================] - 16s 65ms/step - loss: 0.0571 - root_mean_squared_error: 0.2391 - val_loss: 0.0553 - val_root_mean_squared_error: 0.2352\n",
            "Epoch 3/10\n",
            "249/249 [==============================] - 16s 64ms/step - loss: 0.0561 - root_mean_squared_error: 0.2369 - val_loss: 0.0541 - val_root_mean_squared_error: 0.2327\n",
            "Epoch 4/10\n",
            "249/249 [==============================] - 16s 64ms/step - loss: 0.0546 - root_mean_squared_error: 0.2336 - val_loss: 0.0519 - val_root_mean_squared_error: 0.2279\n",
            "Epoch 5/10\n",
            "249/249 [==============================] - 16s 64ms/step - loss: 0.0513 - root_mean_squared_error: 0.2265 - val_loss: 0.0482 - val_root_mean_squared_error: 0.2196\n",
            "Epoch 6/10\n",
            "249/249 [==============================] - 16s 63ms/step - loss: 0.0478 - root_mean_squared_error: 0.2185 - val_loss: 0.0448 - val_root_mean_squared_error: 0.2117\n",
            "Epoch 7/10\n",
            "249/249 [==============================] - 16s 63ms/step - loss: 0.0445 - root_mean_squared_error: 0.2110 - val_loss: 0.0421 - val_root_mean_squared_error: 0.2050\n",
            "Epoch 8/10\n",
            "249/249 [==============================] - 16s 64ms/step - loss: 0.0419 - root_mean_squared_error: 0.2047 - val_loss: 0.0399 - val_root_mean_squared_error: 0.1997\n",
            "Epoch 9/10\n",
            "249/249 [==============================] - 16s 64ms/step - loss: 0.0399 - root_mean_squared_error: 0.1998 - val_loss: 0.0384 - val_root_mean_squared_error: 0.1958\n",
            "Epoch 10/10\n",
            "249/249 [==============================] - 16s 63ms/step - loss: 0.0385 - root_mean_squared_error: 0.1961 - val_loss: 0.0372 - val_root_mean_squared_error: 0.1928\n"
          ],
          "name": "stdout"
        },
        {
          "output_type": "execute_result",
          "data": {
            "text/plain": [
              "<tensorflow.python.keras.callbacks.History at 0x7f4e9626ae80>"
            ]
          },
          "metadata": {
            "tags": []
          },
          "execution_count": 91
        }
      ]
    },
    {
      "cell_type": "code",
      "metadata": {
        "id": "BldChlaOQVYj",
        "colab_type": "code",
        "outputId": "84d90680-d36e-444d-909c-88487b3e14c0",
        "colab": {
          "base_uri": "https://localhost:8080/",
          "height": 314
        }
      },
      "source": [
        "print(model.history.history.keys())\n",
        "plt.plot(model.history.history['root_mean_squared_error'])\n",
        "plt.plot(model.history.history['val_root_mean_squared_error'])\n",
        "plt.title('model RMSE')\n",
        "plt.ylabel('RMSE')\n",
        "plt.xlabel('epoch')\n",
        "plt.legend(['train', 'val'], loc='upper left')\n",
        "plt.show()"
      ],
      "execution_count": 0,
      "outputs": [
        {
          "output_type": "stream",
          "text": [
            "dict_keys(['loss', 'root_mean_squared_error', 'val_loss', 'val_root_mean_squared_error'])\n"
          ],
          "name": "stdout"
        },
        {
          "output_type": "display_data",
          "data": {
            "image/png": "[encoded data removed]",
            "text/plain": [
              "<Figure size 432x288 with 1 Axes>"
            ]
          },
          "metadata": {
            "tags": [],
            "needs_background": "light"
          }
        }
      ]
    },
    {
      "cell_type": "markdown",
      "metadata": {
        "id": "v-B7ocTXSAkK",
        "colab_type": "text"
      },
      "source": [
        "При сложении эмбедингов мы получили разброс меньше, чем при усреднении. Однако среднеквадратичная ошибка ближе к последним эпохам сопоставима с усреднением и даже опережает его (0.19 против 0.25)"
      ]
    },
    {
      "cell_type": "markdown",
      "metadata": {
        "id": "FcC-ehcmS82E",
        "colab_type": "text"
      },
      "source": [
        "## Использование 2 предобученных моделей"
      ]
    },
    {
      "cell_type": "code",
      "metadata": {
        "id": "8wodvt7kjMX2",
        "colab_type": "code",
        "colab": {
          "base_uri": "https://localhost:8080/",
          "height": 206
        },
        "outputId": "21177533-1841-4f17-8916-24cf3c6911e5"
      },
      "source": [
        "quora.head(5)"
      ],
      "execution_count": 18,
      "outputs": [
        {
          "output_type": "execute_result",
          "data": {
            "text/html": [
              "<div>\n",
              "<style scoped>\n",
              "    .dataframe tbody tr th:only-of-type {\n",
              "        vertical-align: middle;\n",
              "    }\n",
              "\n",
              "    .dataframe tbody tr th {\n",
              "        vertical-align: top;\n",
              "    }\n",
              "\n",
              "    .dataframe thead th {\n",
              "        text-align: right;\n",
              "    }\n",
              "</style>\n",
              "<table border=\"1\" class=\"dataframe\">\n",
              "  <thead>\n",
              "    <tr style=\"text-align: right;\">\n",
              "      <th></th>\n",
              "      <th>qid</th>\n",
              "      <th>question_text</th>\n",
              "      <th>target</th>\n",
              "    </tr>\n",
              "  </thead>\n",
              "  <tbody>\n",
              "    <tr>\n",
              "      <th>0</th>\n",
              "      <td>00002165364db923c7e6</td>\n",
              "      <td>How did Quebec nationalists see their province...</td>\n",
              "      <td>0</td>\n",
              "    </tr>\n",
              "    <tr>\n",
              "      <th>1</th>\n",
              "      <td>000032939017120e6e44</td>\n",
              "      <td>Do you have an adopted dog, how would you enco...</td>\n",
              "      <td>0</td>\n",
              "    </tr>\n",
              "    <tr>\n",
              "      <th>2</th>\n",
              "      <td>0000412ca6e4628ce2cf</td>\n",
              "      <td>Why does velocity affect time? Does velocity a...</td>\n",
              "      <td>0</td>\n",
              "    </tr>\n",
              "    <tr>\n",
              "      <th>3</th>\n",
              "      <td>000042bf85aa498cd78e</td>\n",
              "      <td>How did Otto von Guericke used the Magdeburg h...</td>\n",
              "      <td>0</td>\n",
              "    </tr>\n",
              "    <tr>\n",
              "      <th>4</th>\n",
              "      <td>0000455dfa3e01eae3af</td>\n",
              "      <td>Can I convert montra helicon D to a mountain b...</td>\n",
              "      <td>0</td>\n",
              "    </tr>\n",
              "  </tbody>\n",
              "</table>\n",
              "</div>"
            ],
            "text/plain": [
              "                    qid  ... target\n",
              "0  00002165364db923c7e6  ...      0\n",
              "1  000032939017120e6e44  ...      0\n",
              "2  0000412ca6e4628ce2cf  ...      0\n",
              "3  000042bf85aa498cd78e  ...      0\n",
              "4  0000455dfa3e01eae3af  ...      0\n",
              "\n",
              "[5 rows x 3 columns]"
            ]
          },
          "metadata": {
            "tags": []
          },
          "execution_count": 18
        }
      ]
    },
    {
      "cell_type": "code",
      "metadata": {
        "id": "1qJdQvT8TOMi",
        "colab_type": "code",
        "colab": {}
      },
      "source": [
        "ft = gensim.models.FastText([preprocess(text) for text in quora.question_text], size=100) "
      ],
      "execution_count": 0,
      "outputs": []
    },
    {
      "cell_type": "code",
      "metadata": {
        "id": "ezzroiJfTC8Z",
        "colab_type": "code",
        "colab": {}
      },
      "source": [
        "w2v = gensim.models.Word2Vec([text for text in quora.question_text], size=100)"
      ],
      "execution_count": 0,
      "outputs": []
    },
    {
      "cell_type": "code",
      "metadata": {
        "id": "3IgN2heSWORE",
        "colab_type": "code",
        "colab": {}
      },
      "source": [
        "w2v_weights = np.zeros((len(w2v.wv.vocab) + 1, 100))\n",
        "for i, vec in enumerate(w2v.wv.vectors):\n",
        "  w2v_weights[i] = vec"
      ],
      "execution_count": 0,
      "outputs": []
    },
    {
      "cell_type": "code",
      "metadata": {
        "id": "LmX58JmDXj56",
        "colab_type": "code",
        "colab": {}
      },
      "source": [
        "ft_weights = np.zeros((len(ft.wv.vocab) + 1, 100))\n",
        "for i, vec in enumerate(ft.wv.vectors):\n",
        "  ft_weights[i] = vec\n",
        "\n"
      ],
      "execution_count": 0,
      "outputs": []
    },
    {
      "cell_type": "code",
      "metadata": {
        "id": "-ICPtRkuXhXH",
        "colab_type": "code",
        "colab": {}
      },
      "source": [
        ""
      ],
      "execution_count": 0,
      "outputs": []
    },
    {
      "cell_type": "code",
      "metadata": {
        "id": "y2fQ-ifVXVL6",
        "colab_type": "code",
        "colab": {}
      },
      "source": [
        ""
      ],
      "execution_count": 0,
      "outputs": []
    }
  ]
}