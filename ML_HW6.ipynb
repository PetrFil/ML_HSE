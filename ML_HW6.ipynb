{
  "nbformat": 4,
  "nbformat_minor": 0,
  "metadata": {
    "colab": {
      "name": "HW6_ML.ipynb",
      "provenance": [],
      "collapsed_sections": []
    },
    "kernelspec": {
      "name": "python3",
      "display_name": "Python 3"
    }
  },
  "cells": [
    {
      "cell_type": "markdown",
      "metadata": {
        "id": "4qmcw5e-6z1G",
        "colab_type": "text"
      },
      "source": [
        "Данные для семинара - https://drive.google.com/file/d/1GQm-IH3iGu1-HVjZ5npL5xeKovp0Aa60/view?usp=sharing"
      ]
    },
    {
      "cell_type": "code",
      "metadata": {
        "id": "wI4I9TQ64q62",
        "colab_type": "code",
        "colab": {}
      },
      "source": [
        "!pip install pandas scikit-learn gensim matplotlib"
      ],
      "execution_count": 0,
      "outputs": []
    },
    {
      "cell_type": "code",
      "metadata": {
        "id": "A_sIKof2427Q",
        "colab_type": "code",
        "colab": {}
      },
      "source": [
        "import tensorflow as tf\n",
        "import pandas as pd\n",
        "import numpy as np\n",
        "from string import punctuation\n",
        "from sklearn.model_selection import train_test_split\n",
        "from collections import Counter\n",
        "import matplotlib.pyplot as plt\n",
        "import gensim\n",
        "%matplotlib inline"
      ],
      "execution_count": 0,
      "outputs": []
    },
    {
      "cell_type": "code",
      "metadata": {
        "id": "_0xwDjDE7Cv3",
        "colab_type": "code",
        "outputId": "86c63905-4a7a-4dd9-d1fa-886e5c9c604d",
        "colab": {
          "base_uri": "https://localhost:8080/",
          "height": 35
        }
      },
      "source": [
        "from google.colab import drive \n",
        "drive.mount('/gdrive')"
      ],
      "execution_count": 3,
      "outputs": [
        {
          "output_type": "stream",
          "text": [
            "Drive already mounted at /gdrive; to attempt to forcibly remount, call drive.mount(\"/gdrive\", force_remount=True).\n"
          ],
          "name": "stdout"
        }
      ]
    },
    {
      "cell_type": "code",
      "metadata": {
        "id": "vyTHEa-n6veY",
        "colab_type": "code",
        "colab": {}
      },
      "source": [
        "quora = pd.read_csv('/gdrive/My Drive/data.zip (Unzipped Files)/quora.csv')"
      ],
      "execution_count": 0,
      "outputs": []
    },
    {
      "cell_type": "code",
      "metadata": {
        "id": "OoOe1944_szk",
        "colab_type": "code",
        "colab": {}
      },
      "source": [
        "def preprocess(text):\n",
        "    tokens = text.lower().split()\n",
        "    tokens = [token.strip(punctuation) for token in tokens]\n",
        "    return tokens"
      ],
      "execution_count": 0,
      "outputs": []
    },
    {
      "cell_type": "code",
      "metadata": {
        "id": "rFObqHth_wwT",
        "colab_type": "code",
        "colab": {}
      },
      "source": [
        "vocab = Counter()\n",
        "\n",
        "for text in quora.question_text:\n",
        "    vocab.update(preprocess(text))"
      ],
      "execution_count": 0,
      "outputs": []
    },
    {
      "cell_type": "code",
      "metadata": {
        "id": "0tUFaOzWAhmg",
        "colab_type": "code",
        "colab": {}
      },
      "source": [
        "filtered_vocab = set()\n",
        "\n",
        "for word in vocab:\n",
        "    if vocab[word] > 4:\n",
        "        filtered_vocab.add(word)"
      ],
      "execution_count": 0,
      "outputs": []
    },
    {
      "cell_type": "code",
      "metadata": {
        "id": "cgSWofOt_0zw",
        "colab_type": "code",
        "outputId": "92a8c088-3bd7-4d12-85eb-2c16006c1930",
        "colab": {
          "base_uri": "https://localhost:8080/",
          "height": 35
        }
      },
      "source": [
        "len(filtered_vocab)"
      ],
      "execution_count": 8,
      "outputs": [
        {
          "output_type": "execute_result",
          "data": {
            "text/plain": [
              "53528"
            ]
          },
          "metadata": {
            "tags": []
          },
          "execution_count": 8
        }
      ]
    },
    {
      "cell_type": "code",
      "metadata": {
        "id": "TaG-lsDNA0q9",
        "colab_type": "code",
        "colab": {}
      },
      "source": [
        "word2id = {'UNK':1, 'PAD':0}\n",
        "\n",
        "for word in filtered_vocab:\n",
        "    word2id[word] = len(word2id)"
      ],
      "execution_count": 0,
      "outputs": []
    },
    {
      "cell_type": "code",
      "metadata": {
        "id": "RBleITd5A52S",
        "colab_type": "code",
        "colab": {}
      },
      "source": [
        "id2word = {i:word for word, i in word2id.items()}"
      ],
      "execution_count": 0,
      "outputs": []
    },
    {
      "cell_type": "code",
      "metadata": {
        "id": "kIBWHL7TA7aE",
        "colab_type": "code",
        "colab": {}
      },
      "source": [
        "X = []\n",
        "\n",
        "for text in quora.question_text:\n",
        "    tokens = preprocess(text)\n",
        "    ids = [word2id.get(token, 1) for token in tokens]\n",
        "    X.append(ids)"
      ],
      "execution_count": 0,
      "outputs": []
    },
    {
      "cell_type": "code",
      "metadata": {
        "id": "m7mAEAqvBAH8",
        "colab_type": "code",
        "colab": {}
      },
      "source": [
        "MAX_LEN = max(len(x) for x in X)"
      ],
      "execution_count": 0,
      "outputs": []
    },
    {
      "cell_type": "code",
      "metadata": {
        "id": "yBsmI83mBMr1",
        "colab_type": "code",
        "outputId": "8c5affcc-b768-4844-f4f1-61a57562dd30",
        "colab": {
          "base_uri": "https://localhost:8080/",
          "height": 35
        }
      },
      "source": [
        "MAX_LEN"
      ],
      "execution_count": 13,
      "outputs": [
        {
          "output_type": "execute_result",
          "data": {
            "text/plain": [
              "134"
            ]
          },
          "metadata": {
            "tags": []
          },
          "execution_count": 13
        }
      ]
    },
    {
      "cell_type": "code",
      "metadata": {
        "id": "_YryW2aQBVt5",
        "colab_type": "code",
        "outputId": "1120092a-4c92-46e1-c756-de476c76649b",
        "colab": {
          "base_uri": "https://localhost:8080/",
          "height": 35
        }
      },
      "source": [
        "X = tf.keras.preprocessing.sequence.pad_sequences(X, maxlen=MAX_LEN)\n",
        "X.shape"
      ],
      "execution_count": 14,
      "outputs": [
        {
          "output_type": "execute_result",
          "data": {
            "text/plain": [
              "(1306122, 134)"
            ]
          },
          "metadata": {
            "tags": []
          },
          "execution_count": 14
        }
      ]
    },
    {
      "cell_type": "code",
      "metadata": {
        "id": "89HoPkCWBgxm",
        "colab_type": "code",
        "colab": {}
      },
      "source": [
        "y = quora.target.values"
      ],
      "execution_count": 0,
      "outputs": []
    },
    {
      "cell_type": "code",
      "metadata": {
        "id": "DZC1dWY3Bkwf",
        "colab_type": "code",
        "colab": {}
      },
      "source": [
        "X_train, X_valid, y_train, y_valid = train_test_split(X, y, test_size=0.05, random_state=42)"
      ],
      "execution_count": 0,
      "outputs": []
    },
    {
      "cell_type": "markdown",
      "metadata": {
        "id": "f-D-A4VXBwmd",
        "colab_type": "text"
      },
      "source": [
        "## Конкатенация эмбеддингов"
      ]
    },
    {
      "cell_type": "code",
      "metadata": {
        "id": "Yl6VSnZ2M1Bu",
        "colab_type": "code",
        "colab": {}
      },
      "source": [
        "model = tf.keras.Sequential()"
      ],
      "execution_count": 0,
      "outputs": []
    },
    {
      "cell_type": "code",
      "metadata": {
        "id": "GF3a4yyPBoGs",
        "colab_type": "code",
        "colab": {}
      },
      "source": [
        "inputs = tf.keras.layers.Input(shape=(MAX_LEN,))\n",
        "embeddings = tf.keras.layers.Embedding(input_dim=len(word2id), output_dim=10)(inputs)\n",
        "conc_emb = tf.keras.layers.Flatten()(embeddings)\n",
        "\n",
        "dense = tf.keras.layers.Dense(64, activation='relu')(conc_emb)\n",
        "outputs = tf.keras.layers.Dense(1, activation='sigmoid')(dense)\n",
        "\n",
        "model = tf.keras.Model(inputs=inputs, outputs=outputs)\n",
        "optimizer = tf.keras.optimizers.Adam(learning_rate=0.0001)\n",
        "model.compile(optimizer=optimizer,\n",
        "              loss='mse',\n",
        "              metrics=[tf.keras.metrics.RootMeanSquaredError()])"
      ],
      "execution_count": 0,
      "outputs": []
    },
    {
      "cell_type": "code",
      "metadata": {
        "id": "6ou_lF0LCEXs",
        "colab_type": "code",
        "outputId": "42edd487-2fd4-4f81-905c-ad5e890db5a4",
        "colab": {
          "base_uri": "https://localhost:8080/",
          "height": 399
        }
      },
      "source": [
        "model.fit(X_train, y_train, \n",
        "          validation_data=(X_valid, y_valid),\n",
        "          batch_size=25000,\n",
        "         epochs=10)"
      ],
      "execution_count": 191,
      "outputs": [
        {
          "output_type": "stream",
          "text": [
            "Epoch 1/10\n",
            "50/50 [==============================] - 24s 485ms/step - loss: 0.1668 - root_mean_squared_error: 0.4090 - val_loss: 0.0974 - val_root_mean_squared_error: 0.3121\n",
            "Epoch 2/10\n",
            "50/50 [==============================] - 24s 484ms/step - loss: 0.0739 - root_mean_squared_error: 0.2719 - val_loss: 0.0606 - val_root_mean_squared_error: 0.2463\n",
            "Epoch 3/10\n",
            "50/50 [==============================] - 24s 486ms/step - loss: 0.0594 - root_mean_squared_error: 0.2438 - val_loss: 0.0566 - val_root_mean_squared_error: 0.2383\n",
            "Epoch 4/10\n",
            "50/50 [==============================] - 24s 482ms/step - loss: 0.0576 - root_mean_squared_error: 0.2400 - val_loss: 0.0558 - val_root_mean_squared_error: 0.2365\n",
            "Epoch 5/10\n",
            "50/50 [==============================] - 24s 481ms/step - loss: 0.0571 - root_mean_squared_error: 0.2390 - val_loss: 0.0555 - val_root_mean_squared_error: 0.2358\n",
            "Epoch 6/10\n",
            "50/50 [==============================] - 24s 483ms/step - loss: 0.0568 - root_mean_squared_error: 0.2384 - val_loss: 0.0552 - val_root_mean_squared_error: 0.2352\n",
            "Epoch 7/10\n",
            "50/50 [==============================] - 24s 486ms/step - loss: 0.0564 - root_mean_squared_error: 0.2376 - val_loss: 0.0547 - val_root_mean_squared_error: 0.2341\n",
            "Epoch 8/10\n",
            "50/50 [==============================] - 24s 482ms/step - loss: 0.0558 - root_mean_squared_error: 0.2362 - val_loss: 0.0539 - val_root_mean_squared_error: 0.2323\n",
            "Epoch 9/10\n",
            "50/50 [==============================] - 24s 479ms/step - loss: 0.0546 - root_mean_squared_error: 0.2337 - val_loss: 0.0523 - val_root_mean_squared_error: 0.2289\n",
            "Epoch 10/10\n",
            "50/50 [==============================] - 24s 486ms/step - loss: 0.0525 - root_mean_squared_error: 0.2291 - val_loss: 0.0497 - val_root_mean_squared_error: 0.2232\n"
          ],
          "name": "stdout"
        },
        {
          "output_type": "execute_result",
          "data": {
            "text/plain": [
              "<tensorflow.python.keras.callbacks.History at 0x7f76b798c390>"
            ]
          },
          "metadata": {
            "tags": []
          },
          "execution_count": 191
        }
      ]
    },
    {
      "cell_type": "code",
      "metadata": {
        "id": "uFGZYjp8Cbrc",
        "colab_type": "code",
        "outputId": "63e7f74d-4c32-4072-8d1c-c216a496792e",
        "colab": {
          "base_uri": "https://localhost:8080/",
          "height": 313
        }
      },
      "source": [
        "print(model.history.history.keys())\n",
        "plt.plot(model.history.history['root_mean_squared_error'])\n",
        "plt.plot(model.history.history['val_root_mean_squared_error'])\n",
        "plt.title('model RMSE')\n",
        "plt.ylabel('RMSE')\n",
        "plt.xlabel('epoch')\n",
        "plt.legend(['train', 'val'], loc='upper left')\n",
        "plt.show()"
      ],
      "execution_count": 192,
      "outputs": [
        {
          "output_type": "stream",
          "text": [
            "dict_keys(['loss', 'root_mean_squared_error', 'val_loss', 'val_root_mean_squared_error'])\n"
          ],
          "name": "stdout"
        },
        {
          "output_type": "display_data",
          "data": {
            "image/png": "[encoded data removed]",
            "text/plain": [
              "<Figure size 432x288 with 1 Axes>"
            ]
          },
          "metadata": {
            "tags": [],
            "needs_background": "light"
          }
        }
      ]
    },
    {
      "cell_type": "markdown",
      "metadata": {
        "id": "Ee5Fyi7RRHpc",
        "colab_type": "text"
      },
      "source": [
        "Мы можем наблюдать, что при конкатенации векторов валидация практически перестает меняться, начиная со 2-й эпохи и далее"
      ]
    },
    {
      "cell_type": "markdown",
      "metadata": {
        "id": "fQxIHeZDCxie",
        "colab_type": "text"
      },
      "source": [
        "## Усреднение эмбеддингов"
      ]
    },
    {
      "cell_type": "code",
      "metadata": {
        "id": "XLHOMNycC16r",
        "colab_type": "code",
        "colab": {}
      },
      "source": [
        "inputs = tf.keras.layers.Input(shape=(MAX_LEN,))\n",
        "\n",
        "\n",
        "embeddings = tf.keras.layers.Embedding(input_dim=len(word2id), output_dim=10)(inputs)\n",
        "mean = tf.keras.layers.Lambda(lambda x: tf.keras.backend.mean(x,  axis=1))(embeddings)\n",
        "dense = tf.keras.layers.Dense(64, activation='relu')(mean)\n",
        "outputs = tf.keras.layers.Dense(1, activation='sigmoid')(dense)\n",
        "\n",
        "model = tf.keras.Model(inputs=inputs, outputs=outputs)\n",
        "optimizer = tf.keras.optimizers.Adam(learning_rate=0.0001)\n",
        "model.compile(optimizer=optimizer,\n",
        "              loss='mse',\n",
        "              metrics=[tf.keras.metrics.RootMeanSquaredError()])\n"
      ],
      "execution_count": 0,
      "outputs": []
    },
    {
      "cell_type": "code",
      "metadata": {
        "id": "CswTc1zAE5Dq",
        "colab_type": "code",
        "outputId": "4ec5bbce-f8f4-43b0-8bd8-78e72dda1c69",
        "colab": {
          "base_uri": "https://localhost:8080/",
          "height": 399
        }
      },
      "source": [
        "model.fit(X_train, y_train, \n",
        "          validation_data=(X_valid, y_valid),\n",
        "          batch_size=25000,\n",
        "         epochs=10)"
      ],
      "execution_count": 179,
      "outputs": [
        {
          "output_type": "stream",
          "text": [
            "Epoch 1/10\n",
            "50/50 [==============================] - 16s 327ms/step - loss: 0.2474 - root_mean_squared_error: 0.4974 - val_loss: 0.2444 - val_root_mean_squared_error: 0.4944\n",
            "Epoch 2/10\n",
            "50/50 [==============================] - 16s 322ms/step - loss: 0.2417 - root_mean_squared_error: 0.4916 - val_loss: 0.2386 - val_root_mean_squared_error: 0.4884\n",
            "Epoch 3/10\n",
            "50/50 [==============================] - 16s 321ms/step - loss: 0.2352 - root_mean_squared_error: 0.4850 - val_loss: 0.2313 - val_root_mean_squared_error: 0.4810\n",
            "Epoch 4/10\n",
            "50/50 [==============================] - 16s 323ms/step - loss: 0.2275 - root_mean_squared_error: 0.4770 - val_loss: 0.2231 - val_root_mean_squared_error: 0.4723\n",
            "Epoch 5/10\n",
            "50/50 [==============================] - 16s 325ms/step - loss: 0.2187 - root_mean_squared_error: 0.4677 - val_loss: 0.2135 - val_root_mean_squared_error: 0.4621\n",
            "Epoch 6/10\n",
            "50/50 [==============================] - 17s 331ms/step - loss: 0.2082 - root_mean_squared_error: 0.4564 - val_loss: 0.2022 - val_root_mean_squared_error: 0.4497\n",
            "Epoch 7/10\n",
            "50/50 [==============================] - 17s 332ms/step - loss: 0.1966 - root_mean_squared_error: 0.4434 - val_loss: 0.1900 - val_root_mean_squared_error: 0.4360\n",
            "Epoch 8/10\n",
            "50/50 [==============================] - 16s 320ms/step - loss: 0.1840 - root_mean_squared_error: 0.4291 - val_loss: 0.1771 - val_root_mean_squared_error: 0.4209\n",
            "Epoch 9/10\n",
            "50/50 [==============================] - 16s 320ms/step - loss: 0.1709 - root_mean_squared_error: 0.4135 - val_loss: 0.1636 - val_root_mean_squared_error: 0.4045\n",
            "Epoch 10/10\n",
            "50/50 [==============================] - 16s 321ms/step - loss: 0.1572 - root_mean_squared_error: 0.3965 - val_loss: 0.1496 - val_root_mean_squared_error: 0.3869\n"
          ],
          "name": "stdout"
        },
        {
          "output_type": "execute_result",
          "data": {
            "text/plain": [
              "<tensorflow.python.keras.callbacks.History at 0x7f76b7cd6898>"
            ]
          },
          "metadata": {
            "tags": []
          },
          "execution_count": 179
        }
      ]
    },
    {
      "cell_type": "code",
      "metadata": {
        "id": "kwvO6owMF0y_",
        "colab_type": "code",
        "outputId": "20023dd4-f41b-4dd1-ca32-b50501006584",
        "colab": {
          "base_uri": "https://localhost:8080/",
          "height": 313
        }
      },
      "source": [
        "print(model.history.history.keys())\n",
        "plt.plot(model.history.history['root_mean_squared_error'])\n",
        "plt.plot(model.history.history['val_root_mean_squared_error'])\n",
        "plt.title('model RMSE')\n",
        "plt.ylabel('RMSE')\n",
        "plt.xlabel('epoch')\n",
        "plt.legend(['train', 'val'], loc='upper left')\n",
        "plt.show()"
      ],
      "execution_count": 180,
      "outputs": [
        {
          "output_type": "stream",
          "text": [
            "dict_keys(['loss', 'root_mean_squared_error', 'val_loss', 'val_root_mean_squared_error'])\n"
          ],
          "name": "stdout"
        },
        {
          "output_type": "display_data",
          "data": {
            "image/png": "[encoded data removed]",
            "text/plain": [
              "<Figure size 432x288 with 1 Axes>"
            ]
          },
          "metadata": {
            "tags": [],
            "needs_background": "light"
          }
        }
      ]
    },
    {
      "cell_type": "markdown",
      "metadata": {
        "id": "4zwu8YZaRWQ4",
        "colab_type": "text"
      },
      "source": [
        "При усреднении эмбеддингов мы наблюдаем, что с каждой эпохой качество обеих выборок постепенно растет на валидационной и тренировочной выборках: среднеквадратическая ошибка уменьшается от 0.5 к 0.4. (при батче 5000 результат был получше - от 0.45 к 0.2)"
      ]
    },
    {
      "cell_type": "markdown",
      "metadata": {
        "id": "R4ukJrEKPdK8",
        "colab_type": "text"
      },
      "source": [
        "## Сложение эмбеддингов"
      ]
    },
    {
      "cell_type": "code",
      "metadata": {
        "id": "4rYi61FAPe9Q",
        "colab_type": "code",
        "colab": {}
      },
      "source": [
        "inputs = tf.keras.layers.Input(shape=(MAX_LEN,))\n",
        "\n",
        "\n",
        "embeddings = tf.keras.layers.Embedding(input_dim=len(word2id), output_dim=10)(inputs)\n",
        "emb_sum = tf.keras.layers.Lambda(lambda x: tf.keras.backend.sum(x,  axis=1))(embeddings)\n",
        "dense = tf.keras.layers.Dense(64, activation='relu')(emb_sum)\n",
        "outputs = tf.keras.layers.Dense(1, activation='sigmoid')(dense)\n",
        "\n",
        "model = tf.keras.Model(inputs=inputs, outputs=outputs)\n",
        "optimizer = tf.keras.optimizers.Adam(learning_rate=0.0001)\n",
        "model.compile(optimizer=optimizer,\n",
        "              loss='mse',\n",
        "              metrics=[tf.keras.metrics.RootMeanSquaredError()])\n"
      ],
      "execution_count": 0,
      "outputs": []
    },
    {
      "cell_type": "code",
      "metadata": {
        "id": "b2iyQ5dLP03O",
        "colab_type": "code",
        "outputId": "1147e432-a643-4f5f-c790-540c32a49775",
        "colab": {
          "base_uri": "https://localhost:8080/",
          "height": 399
        }
      },
      "source": [
        "model.fit(X_train, y_train, \n",
        "          validation_data=(X_valid, y_valid),\n",
        "          batch_size=25000,\n",
        "         epochs=10)"
      ],
      "execution_count": 182,
      "outputs": [
        {
          "output_type": "stream",
          "text": [
            "Epoch 1/10\n",
            "50/50 [==============================] - 16s 320ms/step - loss: 0.0571 - root_mean_squared_error: 0.2390 - val_loss: 0.0553 - val_root_mean_squared_error: 0.2355\n",
            "Epoch 2/10\n",
            "50/50 [==============================] - 16s 316ms/step - loss: 0.0565 - root_mean_squared_error: 0.2378 - val_loss: 0.0547 - val_root_mean_squared_error: 0.2341\n",
            "Epoch 3/10\n",
            "50/50 [==============================] - 16s 319ms/step - loss: 0.0557 - root_mean_squared_error: 0.2359 - val_loss: 0.0535 - val_root_mean_squared_error: 0.2315\n",
            "Epoch 4/10\n",
            "50/50 [==============================] - 16s 320ms/step - loss: 0.0541 - root_mean_squared_error: 0.2326 - val_loss: 0.0516 - val_root_mean_squared_error: 0.2273\n",
            "Epoch 5/10\n",
            "50/50 [==============================] - 16s 318ms/step - loss: 0.0518 - root_mean_squared_error: 0.2277 - val_loss: 0.0491 - val_root_mean_squared_error: 0.2218\n",
            "Epoch 6/10\n",
            "50/50 [==============================] - 16s 319ms/step - loss: 0.0492 - root_mean_squared_error: 0.2219 - val_loss: 0.0466 - val_root_mean_squared_error: 0.2161\n",
            "Epoch 7/10\n",
            "50/50 [==============================] - 15s 297ms/step - loss: 0.0468 - root_mean_squared_error: 0.2164 - val_loss: 0.0445 - val_root_mean_squared_error: 0.2110\n",
            "Epoch 8/10\n",
            "50/50 [==============================] - 15s 299ms/step - loss: 0.0447 - root_mean_squared_error: 0.2115 - val_loss: 0.0427 - val_root_mean_squared_error: 0.2068\n",
            "Epoch 9/10\n",
            "50/50 [==============================] - 16s 318ms/step - loss: 0.0431 - root_mean_squared_error: 0.2075 - val_loss: 0.0413 - val_root_mean_squared_error: 0.2033\n",
            "Epoch 10/10\n",
            "50/50 [==============================] - 16s 311ms/step - loss: 0.0416 - root_mean_squared_error: 0.2041 - val_loss: 0.0401 - val_root_mean_squared_error: 0.2004\n"
          ],
          "name": "stdout"
        },
        {
          "output_type": "execute_result",
          "data": {
            "text/plain": [
              "<tensorflow.python.keras.callbacks.History at 0x7f76b7c1a860>"
            ]
          },
          "metadata": {
            "tags": []
          },
          "execution_count": 182
        }
      ]
    },
    {
      "cell_type": "code",
      "metadata": {
        "id": "BldChlaOQVYj",
        "colab_type": "code",
        "outputId": "9de670c5-d9e2-459a-d26f-3b09e37ef51b",
        "colab": {
          "base_uri": "https://localhost:8080/",
          "height": 313
        }
      },
      "source": [
        "print(model.history.history.keys())\n",
        "plt.plot(model.history.history['root_mean_squared_error'])\n",
        "plt.plot(model.history.history['val_root_mean_squared_error'])\n",
        "plt.title('model RMSE')\n",
        "plt.ylabel('RMSE')\n",
        "plt.xlabel('epoch')\n",
        "plt.legend(['train', 'val'], loc='upper left')\n",
        "plt.show()"
      ],
      "execution_count": 183,
      "outputs": [
        {
          "output_type": "stream",
          "text": [
            "dict_keys(['loss', 'root_mean_squared_error', 'val_loss', 'val_root_mean_squared_error'])\n"
          ],
          "name": "stdout"
        },
        {
          "output_type": "display_data",
          "data": {
            "image/png": "[encoded data removed]",
            "text/plain": [
              "<Figure size 432x288 with 1 Axes>"
            ]
          },
          "metadata": {
            "tags": [],
            "needs_background": "light"
          }
        }
      ]
    },
    {
      "cell_type": "markdown",
      "metadata": {
        "id": "v-B7ocTXSAkK",
        "colab_type": "text"
      },
      "source": [
        "При сложении эмбеддингов мы получаем наименьший разброс. При этом среднеквадратическая ошибка достигает уровня около 0.2-0.21 (при батче 5000 результат был похожим)"
      ]
    },
    {
      "cell_type": "markdown",
      "metadata": {
        "id": "FcC-ehcmS82E",
        "colab_type": "text"
      },
      "source": [
        "## Использование 2 предобученных моделей"
      ]
    },
    {
      "cell_type": "code",
      "metadata": {
        "id": "ezzroiJfTC8Z",
        "colab_type": "code",
        "colab": {}
      },
      "source": [
        "w2v = gensim.models.Word2Vec([preprocess(text) for text in quora.question_text], size=100)"
      ],
      "execution_count": 0,
      "outputs": []
    },
    {
      "cell_type": "code",
      "metadata": {
        "id": "1qJdQvT8TOMi",
        "colab_type": "code",
        "colab": {}
      },
      "source": [
        "ft = gensim.models.FastText([preprocess(text) for text in quora.question_text], size=100) "
      ],
      "execution_count": 0,
      "outputs": []
    },
    {
      "cell_type": "code",
      "metadata": {
        "id": "3IgN2heSWORE",
        "colab_type": "code",
        "colab": {}
      },
      "source": [
        "w2v_weights = np.zeros((len(w2v.wv.vocab)+2, 100))\n",
        "for i, vec in enumerate(w2v.wv.vectors): \n",
        "  w2v_weights[i] = w2v.wv[id2word[i+2]]  \n",
        "  # id2word[0] и id2word[1] - это PAD и Unk, которые здесь считаются как нулевые векторы\n",
        "  # вообще для unk надо бы наверное придумать какой-то вектор, а не просто игнорировать его..."
      ],
      "execution_count": 0,
      "outputs": []
    },
    {
      "cell_type": "code",
      "metadata": {
        "id": "LmX58JmDXj56",
        "colab_type": "code",
        "colab": {}
      },
      "source": [
        "ft_weights = np.zeros((len(ft.wv.vocab)+2, 100))\n",
        "for i, vec in enumerate(ft.wv.vectors):\n",
        "  ft_weights[i+2] = ft.wv[id2word[i+2]]"
      ],
      "execution_count": 0,
      "outputs": []
    },
    {
      "cell_type": "markdown",
      "metadata": {
        "id": "k4yMgTtlAiXe",
        "colab_type": "text"
      },
      "source": [
        "## Усреднение предобученных эмбеддингов"
      ]
    },
    {
      "cell_type": "code",
      "metadata": {
        "id": "-ICPtRkuXhXH",
        "colab_type": "code",
        "colab": {}
      },
      "source": [
        "inputs = tf.keras.layers.Input(shape=(MAX_LEN,))\n",
        "embedding1 = tf.keras.layers.Embedding(input_dim=len(w2v_weights), output_dim=100, weights=[w2v_weights])(inputs)\n",
        "embedding2 = tf.keras.layers.Embedding(input_dim=len(ft_weights), output_dim=100, weights=[ft_weights])(inputs)\n",
        "embeddings = tf.keras.layers.Average()([embedding1, embedding2])\n",
        "emb_sum = tf.keras.layers.Lambda(lambda x: tf.keras.backend.sum(x,  axis=1))(embeddings)\n",
        "dense = tf.keras.layers.Dense(64, activation='relu')(emb_sum)\n",
        "outputs = tf.keras.layers.Dense(1, activation='sigmoid')(dense)\n",
        "model = tf.keras.Model(inputs=inputs, outputs=outputs)\n",
        "optimizer = tf.keras.optimizers.Adam(learning_rate=0.0001)\n",
        "model.compile(optimizer=optimizer,\n",
        "              loss='mse',\n",
        "              metrics=[tf.keras.metrics.RootMeanSquaredError()])"
      ],
      "execution_count": 0,
      "outputs": []
    },
    {
      "cell_type": "code",
      "metadata": {
        "id": "XW-567H7oLpI",
        "colab_type": "code",
        "colab": {
          "base_uri": "https://localhost:8080/",
          "height": 181
        },
        "outputId": "4e5b7fd6-b761-4a56-b471-49307ca26f12"
      },
      "source": [
        "model.fit(X_train, y_train, \n",
        "          validation_data=(X_valid, y_valid),\n",
        "          batch_size=10000, \n",
        "          epochs=4)"
      ],
      "execution_count": 208,
      "outputs": [
        {
          "output_type": "stream",
          "text": [
            "Epoch 1/4\n",
            "125/125 [==============================] - 120s 963ms/step - loss: 0.1788 - root_mean_squared_error: 0.4239 - val_loss: 0.0600 - val_root_mean_squared_error: 0.2457\n",
            "Epoch 2/4\n",
            "125/125 [==============================] - 121s 965ms/step - loss: 0.0620 - root_mean_squared_error: 0.2489 - val_loss: 0.0600 - val_root_mean_squared_error: 0.2457\n",
            "Epoch 3/4\n",
            "125/125 [==============================] - 120s 959ms/step - loss: 0.0620 - root_mean_squared_error: 0.2489 - val_loss: 0.0600 - val_root_mean_squared_error: 0.2457\n",
            "Epoch 4/4\n",
            "125/125 [==============================] - 118s 944ms/step - loss: 0.0621 - root_mean_squared_error: 0.2489 - val_loss: 0.0600 - val_root_mean_squared_error: 0.2457\n"
          ],
          "name": "stdout"
        },
        {
          "output_type": "execute_result",
          "data": {
            "text/plain": [
              "<tensorflow.python.keras.callbacks.History at 0x7f763fb5dcc0>"
            ]
          },
          "metadata": {
            "tags": []
          },
          "execution_count": 208
        }
      ]
    },
    {
      "cell_type": "code",
      "metadata": {
        "id": "iqkhIbEUAO4i",
        "colab_type": "code",
        "colab": {
          "base_uri": "https://localhost:8080/",
          "height": 313
        },
        "outputId": "8d38b3e2-e95c-4ceb-cbbb-53fba8ef539f"
      },
      "source": [
        "print(model.history.history.keys())\n",
        "plt.plot(model.history.history['root_mean_squared_error'])\n",
        "plt.plot(model.history.history['val_root_mean_squared_error'])\n",
        "plt.title('model RMSE')\n",
        "plt.ylabel('RMSE')\n",
        "plt.xlabel('epoch')\n",
        "plt.legend(['train', 'val'], loc='upper left')\n",
        "plt.show()"
      ],
      "execution_count": 209,
      "outputs": [
        {
          "output_type": "stream",
          "text": [
            "dict_keys(['loss', 'root_mean_squared_error', 'val_loss', 'val_root_mean_squared_error'])\n"
          ],
          "name": "stdout"
        },
        {
          "output_type": "display_data",
          "data": {
            "image/png": "[encoded data removed]",
            "text/plain": [
              "<Figure size 432x288 with 1 Axes>"
            ]
          },
          "metadata": {
            "tags": [],
            "needs_background": "light"
          }
        }
      ]
    },
    {
      "cell_type": "markdown",
      "metadata": {
        "id": "kynyWNELUcwi",
        "colab_type": "text"
      },
      "source": [
        "После 1-й эпохи ничего не меняется. Результат похуже, чем в предыдущем задании"
      ]
    },
    {
      "cell_type": "markdown",
      "metadata": {
        "id": "rxDyDqDYAzH0",
        "colab_type": "text"
      },
      "source": [
        "## Конкатенация предобученных эмбеддингов"
      ]
    },
    {
      "cell_type": "code",
      "metadata": {
        "id": "iSv2_Uso_40t",
        "colab_type": "code",
        "colab": {}
      },
      "source": [
        "inputs = tf.keras.layers.Input(shape=(MAX_LEN,))\n",
        "embedding1 = tf.keras.layers.Embedding(input_dim=len(w2v_weights), output_dim=100, weights=[w2v_weights])(inputs)\n",
        "embedding2 = tf.keras.layers.Embedding(input_dim=len(ft_weights), output_dim=100, weights=[ft_weights])(inputs)\n",
        "embeddings = tf.keras.layers.Concatenate()([embedding1, embedding2])\n",
        "emb_sum = tf.keras.layers.Lambda(lambda x: tf.keras.backend.sum(x,  axis=1))(embeddings)\n",
        "dense = tf.keras.layers.Dense(64, activation='relu')(emb_sum)\n",
        "outputs = tf.keras.layers.Dense(1, activation='sigmoid')(dense)\n",
        "model = tf.keras.Model(inputs=inputs, outputs=outputs)\n",
        "optimizer = tf.keras.optimizers.Adam(learning_rate=0.0001)\n",
        "model.compile(optimizer=optimizer,\n",
        "              loss='mse',\n",
        "              metrics=[tf.keras.metrics.RootMeanSquaredError()])"
      ],
      "execution_count": 0,
      "outputs": []
    },
    {
      "cell_type": "code",
      "metadata": {
        "id": "OF8DiLYNBBdS",
        "colab_type": "code",
        "colab": {
          "base_uri": "https://localhost:8080/",
          "height": 181
        },
        "outputId": "043dfd22-eadf-4762-e680-66f9e24ce3ef"
      },
      "source": [
        "model.fit(X_train, y_train, \n",
        "          validation_data=(X_valid, y_valid),\n",
        "          batch_size=10000, \n",
        "          epochs=4)"
      ],
      "execution_count": 211,
      "outputs": [
        {
          "output_type": "stream",
          "text": [
            "Epoch 1/4\n",
            "125/125 [==============================] - 185s 1s/step - loss: 0.0621 - root_mean_squared_error: 0.2489 - val_loss: 0.0600 - val_root_mean_squared_error: 0.2457\n",
            "Epoch 2/4\n",
            "125/125 [==============================] - 187s 1s/step - loss: 0.0619 - root_mean_squared_error: 0.2489 - val_loss: 0.0600 - val_root_mean_squared_error: 0.2457\n",
            "Epoch 3/4\n",
            "125/125 [==============================] - 186s 1s/step - loss: 0.0620 - root_mean_squared_error: 0.2489 - val_loss: 0.0600 - val_root_mean_squared_error: 0.2457\n",
            "Epoch 4/4\n",
            "125/125 [==============================] - 188s 2s/step - loss: 0.0619 - root_mean_squared_error: 0.2489 - val_loss: 0.0600 - val_root_mean_squared_error: 0.2457\n"
          ],
          "name": "stdout"
        },
        {
          "output_type": "execute_result",
          "data": {
            "text/plain": [
              "<tensorflow.python.keras.callbacks.History at 0x7f763b98e588>"
            ]
          },
          "metadata": {
            "tags": []
          },
          "execution_count": 211
        }
      ]
    },
    {
      "cell_type": "code",
      "metadata": {
        "id": "qC8Bw_xKBCE-",
        "colab_type": "code",
        "colab": {
          "base_uri": "https://localhost:8080/",
          "height": 313
        },
        "outputId": "4c6846b3-9325-4308-8fc9-4e0c16ca0d9b"
      },
      "source": [
        "print(model.history.history.keys())\n",
        "plt.plot(model.history.history['root_mean_squared_error'])\n",
        "plt.plot(model.history.history['val_root_mean_squared_error'])\n",
        "plt.title('model RMSE')\n",
        "plt.ylabel('RMSE')\n",
        "plt.xlabel('epoch')\n",
        "plt.legend(['train', 'val'], loc='upper left')\n",
        "plt.show()"
      ],
      "execution_count": 212,
      "outputs": [
        {
          "output_type": "stream",
          "text": [
            "dict_keys(['loss', 'root_mean_squared_error', 'val_loss', 'val_root_mean_squared_error'])\n"
          ],
          "name": "stdout"
        },
        {
          "output_type": "display_data",
          "data": {
            "image/png": "[encoded data removed]",
            "text/plain": [
              "<Figure size 432x288 with 1 Axes>"
            ]
          },
          "metadata": {
            "tags": [],
            "needs_background": "light"
          }
        }
      ]
    },
    {
      "cell_type": "markdown",
      "metadata": {
        "id": "wN9lekC0fYeW",
        "colab_type": "text"
      },
      "source": [
        "Количество эпох ни на что не повлияло"
      ]
    }
  ]
}