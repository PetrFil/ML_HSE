{
  "nbformat": 4,
  "nbformat_minor": 0,
  "metadata": {
    "colab": {
      "name": "ML_HW3.ipynb",
      "provenance": [],
      "collapsed_sections": []
    },
    "kernelspec": {
      "name": "python3",
      "display_name": "Python 3"
    }
  },
  "cells": [
    {
      "cell_type": "code",
      "metadata": {
        "id": "VrwZMYtXbuIO",
        "colab_type": "code",
        "colab": {}
      },
      "source": [
        "#!pip install eli5"
      ],
      "execution_count": 0,
      "outputs": []
    },
    {
      "cell_type": "code",
      "metadata": {
        "id": "IwHN9znobXmZ",
        "colab_type": "code",
        "colab": {}
      },
      "source": [
        "import sklearn\n",
        "import eli5\n",
        "import pandas as pd\n",
        "import numpy as np\n",
        "from sklearn.datasets import fetch_20newsgroups\n",
        "from sklearn.feature_extraction.text import CountVectorizer\n",
        "from sklearn.model_selection import cross_val_score, GridSearchCV\n",
        "from sklearn.linear_model import LogisticRegression, SGDClassifier\n",
        "from sklearn.metrics import f1_score\n",
        "from sklearn.neighbors import KNeighborsClassifier\n",
        "from sklearn.naive_bayes import MultinomialNB\n",
        "from sklearn.svm import LinearSVC\n",
        "from sklearn.tree import DecisionTreeClassifier\n"
      ],
      "execution_count": 0,
      "outputs": []
    },
    {
      "cell_type": "markdown",
      "metadata": {
        "id": "Nb9YzD8A92Xb",
        "colab_type": "text"
      },
      "source": [
        "Возьмем 4 произвольные темы из fetch_20newsgroups"
      ]
    },
    {
      "cell_type": "code",
      "metadata": {
        "id": "tKYtWJjvbyDP",
        "colab_type": "code",
        "colab": {}
      },
      "source": [
        "categories = [ 'rec.autos',  'rec.sport.hockey',  'sci.space',  'talk.politics.mideast']\n",
        "twenty_train = fetch_20newsgroups(subset='train', categories=categories, shuffle=True)\n",
        "twenty_test = fetch_20newsgroups(subset='test', categories=categories, shuffle=True)"
      ],
      "execution_count": 0,
      "outputs": []
    },
    {
      "cell_type": "code",
      "metadata": {
        "id": "qO4-DfzWhEns",
        "colab_type": "code",
        "colab": {}
      },
      "source": [
        "X_train = twenty_train.data\n",
        "X_test = twenty_test.data\n",
        "y_train = twenty_train.target\n",
        "y_test = twenty_test.target"
      ],
      "execution_count": 0,
      "outputs": []
    },
    {
      "cell_type": "markdown",
      "metadata": {
        "id": "ewWdW5sX973F",
        "colab_type": "text"
      },
      "source": [
        "Векторизуем датасет"
      ]
    },
    {
      "cell_type": "code",
      "metadata": {
        "id": "nhkDFWNzhPVw",
        "colab_type": "code",
        "colab": {}
      },
      "source": [
        "count_vect = CountVectorizer()\n",
        "count_vect.fit(X_train)\n",
        "X_train_vec = count_vect.transform(X_train)\n",
        "X_test_vec = count_vect.transform(X_test)"
      ],
      "execution_count": 0,
      "outputs": []
    },
    {
      "cell_type": "markdown",
      "metadata": {
        "id": "Se9zlA-F-A9X",
        "colab_type": "text"
      },
      "source": [
        "Напишем функцию для grid_search"
      ]
    },
    {
      "cell_type": "code",
      "metadata": {
        "id": "QDwarJtA6l1X",
        "colab_type": "code",
        "colab": {}
      },
      "source": [
        "def evaluation (model, grid_param, X_train, y_train, X_test, y_test, folds=5):\n",
        "  #  если параметр cv - целое число, то используется StratifiedKFold\n",
        "  grid_search = GridSearchCV(model, param_grid=grid_param,  scoring='f1_macro', cv=folds)\n",
        "  grid_search.fit(X_train, y_train)\n",
        "  return grid_search"
      ],
      "execution_count": 0,
      "outputs": []
    },
    {
      "cell_type": "markdown",
      "metadata": {
        "id": "NBMMLZeJ_mAo",
        "colab_type": "text"
      },
      "source": [
        "Функция оценки полученных классификаторов на тестовых данных"
      ]
    },
    {
      "cell_type": "code",
      "metadata": {
        "id": "2BzbKm8C2eyh",
        "colab_type": "code",
        "colab": {}
      },
      "source": [
        "def validation(model, X_train, y_train, X_test, y_test):  \n",
        "  model.fit(X_train, y_train)\n",
        "  y_pred = model.predict(X_test)\n",
        "  top_f1 = f1_score(y_test, y_pred, average='macro')\n",
        "  return top_f1"
      ],
      "execution_count": 0,
      "outputs": []
    },
    {
      "cell_type": "markdown",
      "metadata": {
        "id": "YLM3QimM_4t2",
        "colab_type": "text"
      },
      "source": [
        "Зададим параметры grid_search для разных классификаторов"
      ]
    },
    {
      "cell_type": "code",
      "metadata": {
        "id": "nFD6_Y1Gk-kM",
        "colab_type": "code",
        "colab": {}
      },
      "source": [
        "parameter_grid_lr = {'C': [0.1, 1, 5], 'penalty' : ['l2', 'l1'], 'solver': ['liblinear', 'saga']}\n",
        "parameter_grid_svc = {'C': [0.01, 0.1, 1, 5, 10], 'penalty' : ['l2', 'l1'], 'loss': ['squared_hinge', 'hinge']}\n",
        "parameter_grid_sgd = {'alpha': [0.001, 0.01, 0.1, 1], 'penalty': ['l2', 'l1', 'elasticnet'], 'loss': ['log', 'hinge', 'perceptron']}"
      ],
      "execution_count": 0,
      "outputs": []
    },
    {
      "cell_type": "markdown",
      "metadata": {
        "id": "lExw6FwcHo-V",
        "colab_type": "text"
      },
      "source": [
        "Проверим 3 классификатора"
      ]
    },
    {
      "cell_type": "markdown",
      "metadata": {
        "id": "mWTymdFHVt4d",
        "colab_type": "text"
      },
      "source": [
        "LogisticRegression"
      ]
    },
    {
      "cell_type": "code",
      "metadata": {
        "id": "4GXuZHy46n9g",
        "colab_type": "code",
        "colab": {}
      },
      "source": [
        "grid_search = evaluation(LogisticRegression(), parameter_grid_lr, X_train_vec, y_train, X_test_vec, y_test)"
      ],
      "execution_count": 0,
      "outputs": []
    },
    {
      "cell_type": "code",
      "metadata": {
        "id": "W5vA03bfPHa5",
        "colab_type": "code",
        "colab": {
          "base_uri": "https://localhost:8080/",
          "height": 35
        },
        "outputId": "05c74557-59ef-4266-fe83-f9deb0ad8f1f"
      },
      "source": [
        "grid_search.best_params_"
      ],
      "execution_count": 16,
      "outputs": [
        {
          "output_type": "execute_result",
          "data": {
            "text/plain": [
              "{'C': 1, 'penalty': 'l2', 'solver': 'liblinear'}"
            ]
          },
          "metadata": {
            "tags": []
          },
          "execution_count": 16
        }
      ]
    },
    {
      "cell_type": "code",
      "metadata": {
        "id": "f5vlWERwNEiq",
        "colab_type": "code",
        "colab": {}
      },
      "source": [
        "top_model_lr = LogisticRegression(**grid_search.best_params_)\n",
        "f1_lr = validation(top_model_lr, X_train_vec, y_train, X_test_vec, y_test) "
      ],
      "execution_count": 0,
      "outputs": []
    },
    {
      "cell_type": "code",
      "metadata": {
        "id": "2su5AsouN14i",
        "colab_type": "code",
        "colab": {
          "base_uri": "https://localhost:8080/",
          "height": 54
        },
        "outputId": "aa0d8de2-c53d-46a1-87cf-e91cb93d66fb"
      },
      "source": [
        "print('LogisticRegression train f1: {}'.format(grid_search.best_score_))\n",
        "print('LogisticRegression test f1: {}'.format(f1_lr))"
      ],
      "execution_count": 18,
      "outputs": [
        {
          "output_type": "stream",
          "text": [
            "LogisticRegression train f1: 0.9800913785568566\n",
            "LogisticRegression test f1: 0.9615435029357767\n"
          ],
          "name": "stdout"
        }
      ]
    },
    {
      "cell_type": "markdown",
      "metadata": {
        "id": "Uwu6eFBMVxf-",
        "colab_type": "text"
      },
      "source": [
        "LinearSVC"
      ]
    },
    {
      "cell_type": "code",
      "metadata": {
        "id": "BmkgH7Ba75b2",
        "colab_type": "code",
        "colab": {}
      },
      "source": [
        "grid_search2 = evaluation(LinearSVC(), parameter_grid_svc, X_train_vec, y_train, X_test_vec, y_test)"
      ],
      "execution_count": 0,
      "outputs": []
    },
    {
      "cell_type": "code",
      "metadata": {
        "id": "aeNZYA3qIM1N",
        "colab_type": "code",
        "colab": {}
      },
      "source": [
        "top_model_svc = LinearSVC(**grid_search2.best_params_)\n",
        "f1_svc = validation(top_model_svc, X_train_vec, y_train, X_test_vec, y_test) "
      ],
      "execution_count": 0,
      "outputs": []
    },
    {
      "cell_type": "code",
      "metadata": {
        "id": "qL9_RvHsU43u",
        "colab_type": "code",
        "colab": {
          "base_uri": "https://localhost:8080/",
          "height": 35
        },
        "outputId": "78ef49e5-fa10-474b-883c-e1dc1a820036"
      },
      "source": [
        "grid_search2.best_params_"
      ],
      "execution_count": 152,
      "outputs": [
        {
          "output_type": "execute_result",
          "data": {
            "text/plain": [
              "{'C': 0.01, 'loss': 'squared_hinge', 'penalty': 'l2'}"
            ]
          },
          "metadata": {
            "tags": []
          },
          "execution_count": 152
        }
      ]
    },
    {
      "cell_type": "code",
      "metadata": {
        "id": "dZVCk2pkQClY",
        "colab_type": "code",
        "colab": {
          "base_uri": "https://localhost:8080/",
          "height": 54
        },
        "outputId": "d9d7f481-14c9-41ee-cb40-d4d576b5add2"
      },
      "source": [
        "print('LinearSVC train f1: {}'.format(grid_search2.best_score_))\n",
        "print('LinearSVC test f1: {}'.format(f1_svc))"
      ],
      "execution_count": 153,
      "outputs": [
        {
          "output_type": "stream",
          "text": [
            "LinearSVC train f1: 0.978437281437316\n",
            "LinearSVC test f1: 0.9628275959010326\n"
          ],
          "name": "stdout"
        }
      ]
    },
    {
      "cell_type": "markdown",
      "metadata": {
        "id": "71U87gTUVz-H",
        "colab_type": "text"
      },
      "source": [
        "SGDClassifier"
      ]
    },
    {
      "cell_type": "code",
      "metadata": {
        "id": "WEam2Ls0H3YS",
        "colab_type": "code",
        "colab": {}
      },
      "source": [
        "grid_search3 = evaluation(SGDClassifier(), parameter_grid_sgd, X_train_vec, y_train, X_test_vec, y_test)"
      ],
      "execution_count": 0,
      "outputs": []
    },
    {
      "cell_type": "code",
      "metadata": {
        "id": "yDcGbGfdVOqp",
        "colab_type": "code",
        "colab": {
          "base_uri": "https://localhost:8080/",
          "height": 35
        },
        "outputId": "79c86aa3-1f8e-4709-ffb2-ab84b7d4b807"
      },
      "source": [
        "grid_search3.best_params_"
      ],
      "execution_count": 144,
      "outputs": [
        {
          "output_type": "execute_result",
          "data": {
            "text/plain": [
              "{'alpha': 0.1, 'loss': 'hinge', 'penalty': 'l2'}"
            ]
          },
          "metadata": {
            "tags": []
          },
          "execution_count": 144
        }
      ]
    },
    {
      "cell_type": "code",
      "metadata": {
        "id": "Ln8-UTVaIOv_",
        "colab_type": "code",
        "colab": {}
      },
      "source": [
        "top_model_sgd = SGDClassifier(**grid_search3.best_params_)\n",
        "\n",
        "f1_sgd =validation(top_model_sgd, X_train_vec, y_train, X_test_vec, y_test) "
      ],
      "execution_count": 0,
      "outputs": []
    },
    {
      "cell_type": "code",
      "metadata": {
        "id": "XhIoUCOJQXO_",
        "colab_type": "code",
        "colab": {
          "base_uri": "https://localhost:8080/",
          "height": 54
        },
        "outputId": "7c51236b-b3f7-4f64-f725-faf1dbb2aafb"
      },
      "source": [
        "print('SGDClassifier train f1: {}'.format(grid_search3.best_score_))\n",
        "print('SGDClassifier test f1: {}'.format(f1_sgd))"
      ],
      "execution_count": 146,
      "outputs": [
        {
          "output_type": "stream",
          "text": [
            "SGDClassifier train f1: 0.9784558145371595\n",
            "SGDClassifier test f1: 0.9581390156846059\n"
          ],
          "name": "stdout"
        }
      ]
    },
    {
      "cell_type": "markdown",
      "metadata": {
        "id": "iOTemvCZJLT0",
        "colab_type": "text"
      },
      "source": [
        "Функция analyze_features(model, n)"
      ]
    },
    {
      "cell_type": "code",
      "metadata": {
        "id": "im9nfCAyJJzS",
        "colab_type": "code",
        "colab": {}
      },
      "source": [
        "index_to_word = {v:k for k,v in count_vect.vocabulary_.items()} "
      ],
      "execution_count": 0,
      "outputs": []
    },
    {
      "cell_type": "code",
      "metadata": {
        "id": "26wPiNrrhpdY",
        "colab_type": "code",
        "colab": {}
      },
      "source": [
        "def analyze_features(model, n):\n",
        "  df_list = []\n",
        "  for i in range (len(categories)): \n",
        "    df = eli5.formatters.as_dataframe.explain_weights_df(model) \n",
        "    df_0 = df[df.target==i].sort_values(by=['weight'], ascending=False)[:n]\n",
        "    df_0['feature'] = df_0['feature'].str[1:].astype(int)\n",
        "    df_0['word'] =  df_0['feature'].map(index_to_word)\n",
        "    df_0['category'] = categories[i]\n",
        "    df_0 = df_0[['word', 'weight', 'feature', 'category']]\n",
        "    df_0.index =  np.arange(1, len(df_0)+1)\n",
        "    df_list += [df_0]\n",
        "  main_df = pd.concat(df_list)\n",
        "  return main_df"
      ],
      "execution_count": 0,
      "outputs": []
    },
    {
      "cell_type": "code",
      "metadata": {
        "id": "DX55CmLbR9fG",
        "colab_type": "code",
        "colab": {
          "base_uri": "https://localhost:8080/",
          "height": 1000
        },
        "outputId": "e29720cb-f162-46d7-b878-fb31b9bd293e"
      },
      "source": [
        "analyze_features(top_model_lr, 10)"
      ],
      "execution_count": 125,
      "outputs": [
        {
          "output_type": "execute_result",
          "data": {
            "text/html": [
              "<div>\n",
              "<style scoped>\n",
              "    .dataframe tbody tr th:only-of-type {\n",
              "        vertical-align: middle;\n",
              "    }\n",
              "\n",
              "    .dataframe tbody tr th {\n",
              "        vertical-align: top;\n",
              "    }\n",
              "\n",
              "    .dataframe thead th {\n",
              "        text-align: right;\n",
              "    }\n",
              "</style>\n",
              "<table border=\"1\" class=\"dataframe\">\n",
              "  <thead>\n",
              "    <tr style=\"text-align: right;\">\n",
              "      <th></th>\n",
              "      <th>word</th>\n",
              "      <th>weight</th>\n",
              "      <th>feature</th>\n",
              "      <th>category</th>\n",
              "    </tr>\n",
              "  </thead>\n",
              "  <tbody>\n",
              "    <tr>\n",
              "      <th>1</th>\n",
              "      <td>car</td>\n",
              "      <td>1.596720</td>\n",
              "      <td>9145</td>\n",
              "      <td>rec.autos</td>\n",
              "    </tr>\n",
              "    <tr>\n",
              "      <th>2</th>\n",
              "      <td>cars</td>\n",
              "      <td>0.983316</td>\n",
              "      <td>9213</td>\n",
              "      <td>rec.autos</td>\n",
              "    </tr>\n",
              "    <tr>\n",
              "      <th>3</th>\n",
              "      <td>hp</td>\n",
              "      <td>0.581088</td>\n",
              "      <td>18332</td>\n",
              "      <td>rec.autos</td>\n",
              "    </tr>\n",
              "    <tr>\n",
              "      <th>4</th>\n",
              "      <td>auto</td>\n",
              "      <td>0.550256</td>\n",
              "      <td>6754</td>\n",
              "      <td>rec.autos</td>\n",
              "    </tr>\n",
              "    <tr>\n",
              "      <th>5</th>\n",
              "      <td>my</td>\n",
              "      <td>0.546484</td>\n",
              "      <td>24010</td>\n",
              "      <td>rec.autos</td>\n",
              "    </tr>\n",
              "    <tr>\n",
              "      <th>6</th>\n",
              "      <td>bmw</td>\n",
              "      <td>0.545183</td>\n",
              "      <td>7922</td>\n",
              "      <td>rec.autos</td>\n",
              "    </tr>\n",
              "    <tr>\n",
              "      <th>7</th>\n",
              "      <td>automotive</td>\n",
              "      <td>0.494071</td>\n",
              "      <td>6778</td>\n",
              "      <td>rec.autos</td>\n",
              "    </tr>\n",
              "    <tr>\n",
              "      <th>8</th>\n",
              "      <td>distribution</td>\n",
              "      <td>0.473639</td>\n",
              "      <td>13010</td>\n",
              "      <td>rec.autos</td>\n",
              "    </tr>\n",
              "    <tr>\n",
              "      <th>9</th>\n",
              "      <td>ford</td>\n",
              "      <td>0.469328</td>\n",
              "      <td>15728</td>\n",
              "      <td>rec.autos</td>\n",
              "    </tr>\n",
              "    <tr>\n",
              "      <th>10</th>\n",
              "      <td>honda</td>\n",
              "      <td>0.459440</td>\n",
              "      <td>18169</td>\n",
              "      <td>rec.autos</td>\n",
              "    </tr>\n",
              "    <tr>\n",
              "      <th>1</th>\n",
              "      <td>hockey</td>\n",
              "      <td>1.255531</td>\n",
              "      <td>18093</td>\n",
              "      <td>rec.sport.hockey</td>\n",
              "    </tr>\n",
              "    <tr>\n",
              "      <th>2</th>\n",
              "      <td>game</td>\n",
              "      <td>0.883639</td>\n",
              "      <td>16223</td>\n",
              "      <td>rec.sport.hockey</td>\n",
              "    </tr>\n",
              "    <tr>\n",
              "      <th>3</th>\n",
              "      <td>team</td>\n",
              "      <td>0.880122</td>\n",
              "      <td>33433</td>\n",
              "      <td>rec.sport.hockey</td>\n",
              "    </tr>\n",
              "    <tr>\n",
              "      <th>4</th>\n",
              "      <td>nhl</td>\n",
              "      <td>0.877433</td>\n",
              "      <td>24486</td>\n",
              "      <td>rec.sport.hockey</td>\n",
              "    </tr>\n",
              "    <tr>\n",
              "      <th>5</th>\n",
              "      <td>pittsburgh</td>\n",
              "      <td>0.667265</td>\n",
              "      <td>26643</td>\n",
              "      <td>rec.sport.hockey</td>\n",
              "    </tr>\n",
              "    <tr>\n",
              "      <th>6</th>\n",
              "      <td>playoff</td>\n",
              "      <td>0.649365</td>\n",
              "      <td>26757</td>\n",
              "      <td>rec.sport.hockey</td>\n",
              "    </tr>\n",
              "    <tr>\n",
              "      <th>7</th>\n",
              "      <td>ca</td>\n",
              "      <td>0.608317</td>\n",
              "      <td>8910</td>\n",
              "      <td>rec.sport.hockey</td>\n",
              "    </tr>\n",
              "    <tr>\n",
              "      <th>8</th>\n",
              "      <td>season</td>\n",
              "      <td>0.587625</td>\n",
              "      <td>30364</td>\n",
              "      <td>rec.sport.hockey</td>\n",
              "    </tr>\n",
              "    <tr>\n",
              "      <th>9</th>\n",
              "      <td>players</td>\n",
              "      <td>0.587470</td>\n",
              "      <td>26751</td>\n",
              "      <td>rec.sport.hockey</td>\n",
              "    </tr>\n",
              "    <tr>\n",
              "      <th>10</th>\n",
              "      <td>games</td>\n",
              "      <td>0.576271</td>\n",
              "      <td>16224</td>\n",
              "      <td>rec.sport.hockey</td>\n",
              "    </tr>\n",
              "    <tr>\n",
              "      <th>1</th>\n",
              "      <td>space</td>\n",
              "      <td>1.703131</td>\n",
              "      <td>31772</td>\n",
              "      <td>sci.space</td>\n",
              "    </tr>\n",
              "    <tr>\n",
              "      <th>2</th>\n",
              "      <td>orbit</td>\n",
              "      <td>0.845033</td>\n",
              "      <td>25383</td>\n",
              "      <td>sci.space</td>\n",
              "    </tr>\n",
              "    <tr>\n",
              "      <th>3</th>\n",
              "      <td>moon</td>\n",
              "      <td>0.692306</td>\n",
              "      <td>23607</td>\n",
              "      <td>sci.space</td>\n",
              "    </tr>\n",
              "    <tr>\n",
              "      <th>4</th>\n",
              "      <td>nasa</td>\n",
              "      <td>0.679010</td>\n",
              "      <td>24135</td>\n",
              "      <td>sci.space</td>\n",
              "    </tr>\n",
              "    <tr>\n",
              "      <th>5</th>\n",
              "      <td>access</td>\n",
              "      <td>0.606172</td>\n",
              "      <td>4813</td>\n",
              "      <td>sci.space</td>\n",
              "    </tr>\n",
              "    <tr>\n",
              "      <th>6</th>\n",
              "      <td>sci</td>\n",
              "      <td>0.568259</td>\n",
              "      <td>30221</td>\n",
              "      <td>sci.space</td>\n",
              "    </tr>\n",
              "    <tr>\n",
              "      <th>7</th>\n",
              "      <td>digex</td>\n",
              "      <td>0.551826</td>\n",
              "      <td>12694</td>\n",
              "      <td>sci.space</td>\n",
              "    </tr>\n",
              "    <tr>\n",
              "      <th>8</th>\n",
              "      <td>dc</td>\n",
              "      <td>0.519918</td>\n",
              "      <td>11912</td>\n",
              "      <td>sci.space</td>\n",
              "    </tr>\n",
              "    <tr>\n",
              "      <th>9</th>\n",
              "      <td>launch</td>\n",
              "      <td>0.510486</td>\n",
              "      <td>21237</td>\n",
              "      <td>sci.space</td>\n",
              "    </tr>\n",
              "    <tr>\n",
              "      <th>10</th>\n",
              "      <td>planets</td>\n",
              "      <td>0.500253</td>\n",
              "      <td>26705</td>\n",
              "      <td>sci.space</td>\n",
              "    </tr>\n",
              "    <tr>\n",
              "      <th>1</th>\n",
              "      <td>israel</td>\n",
              "      <td>1.269182</td>\n",
              "      <td>19698</td>\n",
              "      <td>talk.politics.mideast</td>\n",
              "    </tr>\n",
              "    <tr>\n",
              "      <th>2</th>\n",
              "      <td>israeli</td>\n",
              "      <td>1.176137</td>\n",
              "      <td>19699</td>\n",
              "      <td>talk.politics.mideast</td>\n",
              "    </tr>\n",
              "    <tr>\n",
              "      <th>3</th>\n",
              "      <td>jews</td>\n",
              "      <td>0.640735</td>\n",
              "      <td>19998</td>\n",
              "      <td>talk.politics.mideast</td>\n",
              "    </tr>\n",
              "    <tr>\n",
              "      <th>4</th>\n",
              "      <td>serdar</td>\n",
              "      <td>0.559473</td>\n",
              "      <td>30608</td>\n",
              "      <td>talk.politics.mideast</td>\n",
              "    </tr>\n",
              "    <tr>\n",
              "      <th>5</th>\n",
              "      <td>turkish</td>\n",
              "      <td>0.536020</td>\n",
              "      <td>34712</td>\n",
              "      <td>talk.politics.mideast</td>\n",
              "    </tr>\n",
              "    <tr>\n",
              "      <th>6</th>\n",
              "      <td>argic</td>\n",
              "      <td>0.510335</td>\n",
              "      <td>6243</td>\n",
              "      <td>talk.politics.mideast</td>\n",
              "    </tr>\n",
              "    <tr>\n",
              "      <th>7</th>\n",
              "      <td>fourd</td>\n",
              "      <td>0.480857</td>\n",
              "      <td>15844</td>\n",
              "      <td>talk.politics.mideast</td>\n",
              "    </tr>\n",
              "    <tr>\n",
              "      <th>8</th>\n",
              "      <td>columbia</td>\n",
              "      <td>0.469863</td>\n",
              "      <td>10328</td>\n",
              "      <td>talk.politics.mideast</td>\n",
              "    </tr>\n",
              "    <tr>\n",
              "      <th>9</th>\n",
              "      <td>jewish</td>\n",
              "      <td>0.433659</td>\n",
              "      <td>19995</td>\n",
              "      <td>talk.politics.mideast</td>\n",
              "    </tr>\n",
              "    <tr>\n",
              "      <th>10</th>\n",
              "      <td>virginia</td>\n",
              "      <td>0.427334</td>\n",
              "      <td>35977</td>\n",
              "      <td>talk.politics.mideast</td>\n",
              "    </tr>\n",
              "  </tbody>\n",
              "</table>\n",
              "</div>"
            ],
            "text/plain": [
              "            word    weight  feature               category\n",
              "1            car  1.596720     9145              rec.autos\n",
              "2           cars  0.983316     9213              rec.autos\n",
              "3             hp  0.581088    18332              rec.autos\n",
              "4           auto  0.550256     6754              rec.autos\n",
              "5             my  0.546484    24010              rec.autos\n",
              "6            bmw  0.545183     7922              rec.autos\n",
              "7     automotive  0.494071     6778              rec.autos\n",
              "8   distribution  0.473639    13010              rec.autos\n",
              "9           ford  0.469328    15728              rec.autos\n",
              "10         honda  0.459440    18169              rec.autos\n",
              "1         hockey  1.255531    18093       rec.sport.hockey\n",
              "2           game  0.883639    16223       rec.sport.hockey\n",
              "3           team  0.880122    33433       rec.sport.hockey\n",
              "4            nhl  0.877433    24486       rec.sport.hockey\n",
              "5     pittsburgh  0.667265    26643       rec.sport.hockey\n",
              "6        playoff  0.649365    26757       rec.sport.hockey\n",
              "7             ca  0.608317     8910       rec.sport.hockey\n",
              "8         season  0.587625    30364       rec.sport.hockey\n",
              "9        players  0.587470    26751       rec.sport.hockey\n",
              "10         games  0.576271    16224       rec.sport.hockey\n",
              "1          space  1.703131    31772              sci.space\n",
              "2          orbit  0.845033    25383              sci.space\n",
              "3           moon  0.692306    23607              sci.space\n",
              "4           nasa  0.679010    24135              sci.space\n",
              "5         access  0.606172     4813              sci.space\n",
              "6            sci  0.568259    30221              sci.space\n",
              "7          digex  0.551826    12694              sci.space\n",
              "8             dc  0.519918    11912              sci.space\n",
              "9         launch  0.510486    21237              sci.space\n",
              "10       planets  0.500253    26705              sci.space\n",
              "1         israel  1.269182    19698  talk.politics.mideast\n",
              "2        israeli  1.176137    19699  talk.politics.mideast\n",
              "3           jews  0.640735    19998  talk.politics.mideast\n",
              "4         serdar  0.559473    30608  talk.politics.mideast\n",
              "5        turkish  0.536020    34712  talk.politics.mideast\n",
              "6          argic  0.510335     6243  talk.politics.mideast\n",
              "7          fourd  0.480857    15844  talk.politics.mideast\n",
              "8       columbia  0.469863    10328  talk.politics.mideast\n",
              "9         jewish  0.433659    19995  talk.politics.mideast\n",
              "10      virginia  0.427334    35977  talk.politics.mideast"
            ]
          },
          "metadata": {
            "tags": []
          },
          "execution_count": 125
        }
      ]
    },
    {
      "cell_type": "markdown",
      "metadata": {
        "id": "gAHQvtpfaMuB",
        "colab_type": "text"
      },
      "source": [
        "Ошибки:\n",
        "Cars: my; hockey: pittsburgh; space: access; mideast: columbia, argic, fourd"
      ]
    },
    {
      "cell_type": "code",
      "metadata": {
        "id": "DTrLLW4ETdEg",
        "colab_type": "code",
        "colab": {
          "base_uri": "https://localhost:8080/",
          "height": 1000
        },
        "outputId": "81da2ea9-b88f-4fac-cd79-4df534149ae6"
      },
      "source": [
        "analyze_features(top_model_svc, 10)"
      ],
      "execution_count": 124,
      "outputs": [
        {
          "output_type": "execute_result",
          "data": {
            "text/html": [
              "<div>\n",
              "<style scoped>\n",
              "    .dataframe tbody tr th:only-of-type {\n",
              "        vertical-align: middle;\n",
              "    }\n",
              "\n",
              "    .dataframe tbody tr th {\n",
              "        vertical-align: top;\n",
              "    }\n",
              "\n",
              "    .dataframe thead th {\n",
              "        text-align: right;\n",
              "    }\n",
              "</style>\n",
              "<table border=\"1\" class=\"dataframe\">\n",
              "  <thead>\n",
              "    <tr style=\"text-align: right;\">\n",
              "      <th></th>\n",
              "      <th>word</th>\n",
              "      <th>weight</th>\n",
              "      <th>feature</th>\n",
              "      <th>category</th>\n",
              "    </tr>\n",
              "  </thead>\n",
              "  <tbody>\n",
              "    <tr>\n",
              "      <th>1</th>\n",
              "      <td>car</td>\n",
              "      <td>0.292303</td>\n",
              "      <td>9145</td>\n",
              "      <td>rec.autos</td>\n",
              "    </tr>\n",
              "    <tr>\n",
              "      <th>2</th>\n",
              "      <td>cars</td>\n",
              "      <td>0.176118</td>\n",
              "      <td>9213</td>\n",
              "      <td>rec.autos</td>\n",
              "    </tr>\n",
              "    <tr>\n",
              "      <th>3</th>\n",
              "      <td>hp</td>\n",
              "      <td>0.112859</td>\n",
              "      <td>18332</td>\n",
              "      <td>rec.autos</td>\n",
              "    </tr>\n",
              "    <tr>\n",
              "      <th>4</th>\n",
              "      <td>bmw</td>\n",
              "      <td>0.105531</td>\n",
              "      <td>7922</td>\n",
              "      <td>rec.autos</td>\n",
              "    </tr>\n",
              "    <tr>\n",
              "      <th>5</th>\n",
              "      <td>distribution</td>\n",
              "      <td>0.103119</td>\n",
              "      <td>13010</td>\n",
              "      <td>rec.autos</td>\n",
              "    </tr>\n",
              "    <tr>\n",
              "      <th>6</th>\n",
              "      <td>auto</td>\n",
              "      <td>0.101252</td>\n",
              "      <td>6754</td>\n",
              "      <td>rec.autos</td>\n",
              "    </tr>\n",
              "    <tr>\n",
              "      <th>7</th>\n",
              "      <td>usa</td>\n",
              "      <td>0.097957</td>\n",
              "      <td>35425</td>\n",
              "      <td>rec.autos</td>\n",
              "    </tr>\n",
              "    <tr>\n",
              "      <th>8</th>\n",
              "      <td>my</td>\n",
              "      <td>0.095346</td>\n",
              "      <td>24010</td>\n",
              "      <td>rec.autos</td>\n",
              "    </tr>\n",
              "    <tr>\n",
              "      <th>9</th>\n",
              "      <td>automotive</td>\n",
              "      <td>0.092963</td>\n",
              "      <td>6778</td>\n",
              "      <td>rec.autos</td>\n",
              "    </tr>\n",
              "    <tr>\n",
              "      <th>10</th>\n",
              "      <td>ford</td>\n",
              "      <td>0.090654</td>\n",
              "      <td>15728</td>\n",
              "      <td>rec.autos</td>\n",
              "    </tr>\n",
              "    <tr>\n",
              "      <th>1</th>\n",
              "      <td>hockey</td>\n",
              "      <td>0.227847</td>\n",
              "      <td>18093</td>\n",
              "      <td>rec.sport.hockey</td>\n",
              "    </tr>\n",
              "    <tr>\n",
              "      <th>2</th>\n",
              "      <td>game</td>\n",
              "      <td>0.166395</td>\n",
              "      <td>16223</td>\n",
              "      <td>rec.sport.hockey</td>\n",
              "    </tr>\n",
              "    <tr>\n",
              "      <th>3</th>\n",
              "      <td>team</td>\n",
              "      <td>0.164111</td>\n",
              "      <td>33433</td>\n",
              "      <td>rec.sport.hockey</td>\n",
              "    </tr>\n",
              "    <tr>\n",
              "      <th>4</th>\n",
              "      <td>nhl</td>\n",
              "      <td>0.161682</td>\n",
              "      <td>24486</td>\n",
              "      <td>rec.sport.hockey</td>\n",
              "    </tr>\n",
              "    <tr>\n",
              "      <th>5</th>\n",
              "      <td>pittsburgh</td>\n",
              "      <td>0.129934</td>\n",
              "      <td>26643</td>\n",
              "      <td>rec.sport.hockey</td>\n",
              "    </tr>\n",
              "    <tr>\n",
              "      <th>6</th>\n",
              "      <td>playoff</td>\n",
              "      <td>0.126600</td>\n",
              "      <td>26757</td>\n",
              "      <td>rec.sport.hockey</td>\n",
              "    </tr>\n",
              "    <tr>\n",
              "      <th>7</th>\n",
              "      <td>ca</td>\n",
              "      <td>0.114775</td>\n",
              "      <td>8910</td>\n",
              "      <td>rec.sport.hockey</td>\n",
              "    </tr>\n",
              "    <tr>\n",
              "      <th>8</th>\n",
              "      <td>season</td>\n",
              "      <td>0.109542</td>\n",
              "      <td>30364</td>\n",
              "      <td>rec.sport.hockey</td>\n",
              "    </tr>\n",
              "    <tr>\n",
              "      <th>9</th>\n",
              "      <td>players</td>\n",
              "      <td>0.104426</td>\n",
              "      <td>26751</td>\n",
              "      <td>rec.sport.hockey</td>\n",
              "    </tr>\n",
              "    <tr>\n",
              "      <th>10</th>\n",
              "      <td>games</td>\n",
              "      <td>0.102342</td>\n",
              "      <td>16224</td>\n",
              "      <td>rec.sport.hockey</td>\n",
              "    </tr>\n",
              "    <tr>\n",
              "      <th>1</th>\n",
              "      <td>space</td>\n",
              "      <td>0.314407</td>\n",
              "      <td>31772</td>\n",
              "      <td>sci.space</td>\n",
              "    </tr>\n",
              "    <tr>\n",
              "      <th>2</th>\n",
              "      <td>orbit</td>\n",
              "      <td>0.154376</td>\n",
              "      <td>25383</td>\n",
              "      <td>sci.space</td>\n",
              "    </tr>\n",
              "    <tr>\n",
              "      <th>3</th>\n",
              "      <td>moon</td>\n",
              "      <td>0.125936</td>\n",
              "      <td>23607</td>\n",
              "      <td>sci.space</td>\n",
              "    </tr>\n",
              "    <tr>\n",
              "      <th>4</th>\n",
              "      <td>nasa</td>\n",
              "      <td>0.124301</td>\n",
              "      <td>24135</td>\n",
              "      <td>sci.space</td>\n",
              "    </tr>\n",
              "    <tr>\n",
              "      <th>5</th>\n",
              "      <td>access</td>\n",
              "      <td>0.111711</td>\n",
              "      <td>4813</td>\n",
              "      <td>sci.space</td>\n",
              "    </tr>\n",
              "    <tr>\n",
              "      <th>6</th>\n",
              "      <td>sci</td>\n",
              "      <td>0.105973</td>\n",
              "      <td>30221</td>\n",
              "      <td>sci.space</td>\n",
              "    </tr>\n",
              "    <tr>\n",
              "      <th>7</th>\n",
              "      <td>digex</td>\n",
              "      <td>0.101581</td>\n",
              "      <td>12694</td>\n",
              "      <td>sci.space</td>\n",
              "    </tr>\n",
              "    <tr>\n",
              "      <th>8</th>\n",
              "      <td>dc</td>\n",
              "      <td>0.100229</td>\n",
              "      <td>11912</td>\n",
              "      <td>sci.space</td>\n",
              "    </tr>\n",
              "    <tr>\n",
              "      <th>9</th>\n",
              "      <td>launch</td>\n",
              "      <td>0.096267</td>\n",
              "      <td>21237</td>\n",
              "      <td>sci.space</td>\n",
              "    </tr>\n",
              "    <tr>\n",
              "      <th>10</th>\n",
              "      <td>pat</td>\n",
              "      <td>0.091696</td>\n",
              "      <td>26026</td>\n",
              "      <td>sci.space</td>\n",
              "    </tr>\n",
              "    <tr>\n",
              "      <th>1</th>\n",
              "      <td>israel</td>\n",
              "      <td>0.235608</td>\n",
              "      <td>19698</td>\n",
              "      <td>talk.politics.mideast</td>\n",
              "    </tr>\n",
              "    <tr>\n",
              "      <th>2</th>\n",
              "      <td>israeli</td>\n",
              "      <td>0.207345</td>\n",
              "      <td>19699</td>\n",
              "      <td>talk.politics.mideast</td>\n",
              "    </tr>\n",
              "    <tr>\n",
              "      <th>3</th>\n",
              "      <td>jews</td>\n",
              "      <td>0.117757</td>\n",
              "      <td>19998</td>\n",
              "      <td>talk.politics.mideast</td>\n",
              "    </tr>\n",
              "    <tr>\n",
              "      <th>4</th>\n",
              "      <td>serdar</td>\n",
              "      <td>0.108358</td>\n",
              "      <td>30608</td>\n",
              "      <td>talk.politics.mideast</td>\n",
              "    </tr>\n",
              "    <tr>\n",
              "      <th>5</th>\n",
              "      <td>turkish</td>\n",
              "      <td>0.101540</td>\n",
              "      <td>34712</td>\n",
              "      <td>talk.politics.mideast</td>\n",
              "    </tr>\n",
              "    <tr>\n",
              "      <th>6</th>\n",
              "      <td>fourd</td>\n",
              "      <td>0.095557</td>\n",
              "      <td>15844</td>\n",
              "      <td>talk.politics.mideast</td>\n",
              "    </tr>\n",
              "    <tr>\n",
              "      <th>7</th>\n",
              "      <td>argic</td>\n",
              "      <td>0.094245</td>\n",
              "      <td>6243</td>\n",
              "      <td>talk.politics.mideast</td>\n",
              "    </tr>\n",
              "    <tr>\n",
              "      <th>8</th>\n",
              "      <td>columbia</td>\n",
              "      <td>0.082993</td>\n",
              "      <td>10328</td>\n",
              "      <td>talk.politics.mideast</td>\n",
              "    </tr>\n",
              "    <tr>\n",
              "      <th>9</th>\n",
              "      <td>jewish</td>\n",
              "      <td>0.078202</td>\n",
              "      <td>19995</td>\n",
              "      <td>talk.politics.mideast</td>\n",
              "    </tr>\n",
              "    <tr>\n",
              "      <th>10</th>\n",
              "      <td>angmar</td>\n",
              "      <td>0.074812</td>\n",
              "      <td>5857</td>\n",
              "      <td>talk.politics.mideast</td>\n",
              "    </tr>\n",
              "  </tbody>\n",
              "</table>\n",
              "</div>"
            ],
            "text/plain": [
              "            word    weight  feature               category\n",
              "1            car  0.292303     9145              rec.autos\n",
              "2           cars  0.176118     9213              rec.autos\n",
              "3             hp  0.112859    18332              rec.autos\n",
              "4            bmw  0.105531     7922              rec.autos\n",
              "5   distribution  0.103119    13010              rec.autos\n",
              "6           auto  0.101252     6754              rec.autos\n",
              "7            usa  0.097957    35425              rec.autos\n",
              "8             my  0.095346    24010              rec.autos\n",
              "9     automotive  0.092963     6778              rec.autos\n",
              "10          ford  0.090654    15728              rec.autos\n",
              "1         hockey  0.227847    18093       rec.sport.hockey\n",
              "2           game  0.166395    16223       rec.sport.hockey\n",
              "3           team  0.164111    33433       rec.sport.hockey\n",
              "4            nhl  0.161682    24486       rec.sport.hockey\n",
              "5     pittsburgh  0.129934    26643       rec.sport.hockey\n",
              "6        playoff  0.126600    26757       rec.sport.hockey\n",
              "7             ca  0.114775     8910       rec.sport.hockey\n",
              "8         season  0.109542    30364       rec.sport.hockey\n",
              "9        players  0.104426    26751       rec.sport.hockey\n",
              "10         games  0.102342    16224       rec.sport.hockey\n",
              "1          space  0.314407    31772              sci.space\n",
              "2          orbit  0.154376    25383              sci.space\n",
              "3           moon  0.125936    23607              sci.space\n",
              "4           nasa  0.124301    24135              sci.space\n",
              "5         access  0.111711     4813              sci.space\n",
              "6            sci  0.105973    30221              sci.space\n",
              "7          digex  0.101581    12694              sci.space\n",
              "8             dc  0.100229    11912              sci.space\n",
              "9         launch  0.096267    21237              sci.space\n",
              "10           pat  0.091696    26026              sci.space\n",
              "1         israel  0.235608    19698  talk.politics.mideast\n",
              "2        israeli  0.207345    19699  talk.politics.mideast\n",
              "3           jews  0.117757    19998  talk.politics.mideast\n",
              "4         serdar  0.108358    30608  talk.politics.mideast\n",
              "5        turkish  0.101540    34712  talk.politics.mideast\n",
              "6          fourd  0.095557    15844  talk.politics.mideast\n",
              "7          argic  0.094245     6243  talk.politics.mideast\n",
              "8       columbia  0.082993    10328  talk.politics.mideast\n",
              "9         jewish  0.078202    19995  talk.politics.mideast\n",
              "10        angmar  0.074812     5857  talk.politics.mideast"
            ]
          },
          "metadata": {
            "tags": []
          },
          "execution_count": 124
        }
      ]
    },
    {
      "cell_type": "markdown",
      "metadata": {
        "id": "Q5wPzBo4a6WC",
        "colab_type": "text"
      },
      "source": [
        "Ошибки:\n",
        "Cars: my,usa; hockey: pittsburgh; space: -; mideast: columbia, angmar"
      ]
    },
    {
      "cell_type": "code",
      "metadata": {
        "id": "UxoRXX9ZVihh",
        "colab_type": "code",
        "colab": {
          "base_uri": "https://localhost:8080/",
          "height": 1000
        },
        "outputId": "db7e1fd8-bf35-4f23-a732-cf451f7b58fe"
      },
      "source": [
        "analyze_features(top_model_sgd, 10)"
      ],
      "execution_count": 126,
      "outputs": [
        {
          "output_type": "execute_result",
          "data": {
            "text/html": [
              "<div>\n",
              "<style scoped>\n",
              "    .dataframe tbody tr th:only-of-type {\n",
              "        vertical-align: middle;\n",
              "    }\n",
              "\n",
              "    .dataframe tbody tr th {\n",
              "        vertical-align: top;\n",
              "    }\n",
              "\n",
              "    .dataframe thead th {\n",
              "        text-align: right;\n",
              "    }\n",
              "</style>\n",
              "<table border=\"1\" class=\"dataframe\">\n",
              "  <thead>\n",
              "    <tr style=\"text-align: right;\">\n",
              "      <th></th>\n",
              "      <th>word</th>\n",
              "      <th>weight</th>\n",
              "      <th>feature</th>\n",
              "      <th>category</th>\n",
              "    </tr>\n",
              "  </thead>\n",
              "  <tbody>\n",
              "    <tr>\n",
              "      <th>1</th>\n",
              "      <td>car</td>\n",
              "      <td>0.340239</td>\n",
              "      <td>9145</td>\n",
              "      <td>rec.autos</td>\n",
              "    </tr>\n",
              "    <tr>\n",
              "      <th>2</th>\n",
              "      <td>cars</td>\n",
              "      <td>0.210523</td>\n",
              "      <td>9213</td>\n",
              "      <td>rec.autos</td>\n",
              "    </tr>\n",
              "    <tr>\n",
              "      <th>3</th>\n",
              "      <td>hp</td>\n",
              "      <td>0.112438</td>\n",
              "      <td>18332</td>\n",
              "      <td>rec.autos</td>\n",
              "    </tr>\n",
              "    <tr>\n",
              "      <th>4</th>\n",
              "      <td>distribution</td>\n",
              "      <td>0.111641</td>\n",
              "      <td>13010</td>\n",
              "      <td>rec.autos</td>\n",
              "    </tr>\n",
              "    <tr>\n",
              "      <th>5</th>\n",
              "      <td>ford</td>\n",
              "      <td>0.103135</td>\n",
              "      <td>15728</td>\n",
              "      <td>rec.autos</td>\n",
              "    </tr>\n",
              "    <tr>\n",
              "      <th>6</th>\n",
              "      <td>my</td>\n",
              "      <td>0.102869</td>\n",
              "      <td>24010</td>\n",
              "      <td>rec.autos</td>\n",
              "    </tr>\n",
              "    <tr>\n",
              "      <th>7</th>\n",
              "      <td>usa</td>\n",
              "      <td>0.101008</td>\n",
              "      <td>35425</td>\n",
              "      <td>rec.autos</td>\n",
              "    </tr>\n",
              "    <tr>\n",
              "      <th>8</th>\n",
              "      <td>bmw</td>\n",
              "      <td>0.093832</td>\n",
              "      <td>7922</td>\n",
              "      <td>rec.autos</td>\n",
              "    </tr>\n",
              "    <tr>\n",
              "      <th>9</th>\n",
              "      <td>drive</td>\n",
              "      <td>0.087718</td>\n",
              "      <td>13359</td>\n",
              "      <td>rec.autos</td>\n",
              "    </tr>\n",
              "    <tr>\n",
              "      <th>10</th>\n",
              "      <td>engine</td>\n",
              "      <td>0.087452</td>\n",
              "      <td>14126</td>\n",
              "      <td>rec.autos</td>\n",
              "    </tr>\n",
              "    <tr>\n",
              "      <th>1</th>\n",
              "      <td>hockey</td>\n",
              "      <td>0.234479</td>\n",
              "      <td>18093</td>\n",
              "      <td>rec.sport.hockey</td>\n",
              "    </tr>\n",
              "    <tr>\n",
              "      <th>2</th>\n",
              "      <td>game</td>\n",
              "      <td>0.201023</td>\n",
              "      <td>16223</td>\n",
              "      <td>rec.sport.hockey</td>\n",
              "    </tr>\n",
              "    <tr>\n",
              "      <th>3</th>\n",
              "      <td>team</td>\n",
              "      <td>0.169267</td>\n",
              "      <td>33433</td>\n",
              "      <td>rec.sport.hockey</td>\n",
              "    </tr>\n",
              "    <tr>\n",
              "      <th>4</th>\n",
              "      <td>nhl</td>\n",
              "      <td>0.157643</td>\n",
              "      <td>24486</td>\n",
              "      <td>rec.sport.hockey</td>\n",
              "    </tr>\n",
              "    <tr>\n",
              "      <th>5</th>\n",
              "      <td>go</td>\n",
              "      <td>0.133826</td>\n",
              "      <td>16739</td>\n",
              "      <td>rec.sport.hockey</td>\n",
              "    </tr>\n",
              "    <tr>\n",
              "      <th>6</th>\n",
              "      <td>ca</td>\n",
              "      <td>0.129006</td>\n",
              "      <td>8910</td>\n",
              "      <td>rec.sport.hockey</td>\n",
              "    </tr>\n",
              "    <tr>\n",
              "      <th>7</th>\n",
              "      <td>season</td>\n",
              "      <td>0.119933</td>\n",
              "      <td>30364</td>\n",
              "      <td>rec.sport.hockey</td>\n",
              "    </tr>\n",
              "    <tr>\n",
              "      <th>8</th>\n",
              "      <td>pittsburgh</td>\n",
              "      <td>0.118799</td>\n",
              "      <td>26643</td>\n",
              "      <td>rec.sport.hockey</td>\n",
              "    </tr>\n",
              "    <tr>\n",
              "      <th>9</th>\n",
              "      <td>play</td>\n",
              "      <td>0.116247</td>\n",
              "      <td>26746</td>\n",
              "      <td>rec.sport.hockey</td>\n",
              "    </tr>\n",
              "    <tr>\n",
              "      <th>10</th>\n",
              "      <td>playoff</td>\n",
              "      <td>0.112561</td>\n",
              "      <td>26757</td>\n",
              "      <td>rec.sport.hockey</td>\n",
              "    </tr>\n",
              "    <tr>\n",
              "      <th>1</th>\n",
              "      <td>space</td>\n",
              "      <td>0.355915</td>\n",
              "      <td>31772</td>\n",
              "      <td>sci.space</td>\n",
              "    </tr>\n",
              "    <tr>\n",
              "      <th>2</th>\n",
              "      <td>orbit</td>\n",
              "      <td>0.161617</td>\n",
              "      <td>25383</td>\n",
              "      <td>sci.space</td>\n",
              "    </tr>\n",
              "    <tr>\n",
              "      <th>3</th>\n",
              "      <td>nasa</td>\n",
              "      <td>0.151767</td>\n",
              "      <td>24135</td>\n",
              "      <td>sci.space</td>\n",
              "    </tr>\n",
              "    <tr>\n",
              "      <th>4</th>\n",
              "      <td>access</td>\n",
              "      <td>0.131397</td>\n",
              "      <td>4813</td>\n",
              "      <td>sci.space</td>\n",
              "    </tr>\n",
              "    <tr>\n",
              "      <th>5</th>\n",
              "      <td>moon</td>\n",
              "      <td>0.128040</td>\n",
              "      <td>23607</td>\n",
              "      <td>sci.space</td>\n",
              "    </tr>\n",
              "    <tr>\n",
              "      <th>6</th>\n",
              "      <td>digex</td>\n",
              "      <td>0.113490</td>\n",
              "      <td>12694</td>\n",
              "      <td>sci.space</td>\n",
              "    </tr>\n",
              "    <tr>\n",
              "      <th>7</th>\n",
              "      <td>launch</td>\n",
              "      <td>0.111475</td>\n",
              "      <td>21237</td>\n",
              "      <td>sci.space</td>\n",
              "    </tr>\n",
              "    <tr>\n",
              "      <th>8</th>\n",
              "      <td>sci</td>\n",
              "      <td>0.104312</td>\n",
              "      <td>30221</td>\n",
              "      <td>sci.space</td>\n",
              "    </tr>\n",
              "    <tr>\n",
              "      <th>9</th>\n",
              "      <td>pat</td>\n",
              "      <td>0.101850</td>\n",
              "      <td>26026</td>\n",
              "      <td>sci.space</td>\n",
              "    </tr>\n",
              "    <tr>\n",
              "      <th>10</th>\n",
              "      <td>alaska</td>\n",
              "      <td>0.100731</td>\n",
              "      <td>5428</td>\n",
              "      <td>sci.space</td>\n",
              "    </tr>\n",
              "    <tr>\n",
              "      <th>1</th>\n",
              "      <td>israel</td>\n",
              "      <td>0.237636</td>\n",
              "      <td>19698</td>\n",
              "      <td>talk.politics.mideast</td>\n",
              "    </tr>\n",
              "    <tr>\n",
              "      <th>2</th>\n",
              "      <td>israeli</td>\n",
              "      <td>0.197498</td>\n",
              "      <td>19699</td>\n",
              "      <td>talk.politics.mideast</td>\n",
              "    </tr>\n",
              "    <tr>\n",
              "      <th>3</th>\n",
              "      <td>jews</td>\n",
              "      <td>0.125197</td>\n",
              "      <td>19998</td>\n",
              "      <td>talk.politics.mideast</td>\n",
              "    </tr>\n",
              "    <tr>\n",
              "      <th>4</th>\n",
              "      <td>turkish</td>\n",
              "      <td>0.104996</td>\n",
              "      <td>34712</td>\n",
              "      <td>talk.politics.mideast</td>\n",
              "    </tr>\n",
              "    <tr>\n",
              "      <th>5</th>\n",
              "      <td>serdar</td>\n",
              "      <td>0.100211</td>\n",
              "      <td>30608</td>\n",
              "      <td>talk.politics.mideast</td>\n",
              "    </tr>\n",
              "    <tr>\n",
              "      <th>6</th>\n",
              "      <td>jewish</td>\n",
              "      <td>0.098084</td>\n",
              "      <td>19995</td>\n",
              "      <td>talk.politics.mideast</td>\n",
              "    </tr>\n",
              "    <tr>\n",
              "      <th>7</th>\n",
              "      <td>angmar</td>\n",
              "      <td>0.090376</td>\n",
              "      <td>5857</td>\n",
              "      <td>talk.politics.mideast</td>\n",
              "    </tr>\n",
              "    <tr>\n",
              "      <th>8</th>\n",
              "      <td>cosmo</td>\n",
              "      <td>0.087186</td>\n",
              "      <td>11136</td>\n",
              "      <td>talk.politics.mideast</td>\n",
              "    </tr>\n",
              "    <tr>\n",
              "      <th>9</th>\n",
              "      <td>pro</td>\n",
              "      <td>0.082933</td>\n",
              "      <td>27416</td>\n",
              "      <td>talk.politics.mideast</td>\n",
              "    </tr>\n",
              "    <tr>\n",
              "      <th>10</th>\n",
              "      <td>argic</td>\n",
              "      <td>0.081338</td>\n",
              "      <td>6243</td>\n",
              "      <td>talk.politics.mideast</td>\n",
              "    </tr>\n",
              "  </tbody>\n",
              "</table>\n",
              "</div>"
            ],
            "text/plain": [
              "            word    weight  feature               category\n",
              "1            car  0.340239     9145              rec.autos\n",
              "2           cars  0.210523     9213              rec.autos\n",
              "3             hp  0.112438    18332              rec.autos\n",
              "4   distribution  0.111641    13010              rec.autos\n",
              "5           ford  0.103135    15728              rec.autos\n",
              "6             my  0.102869    24010              rec.autos\n",
              "7            usa  0.101008    35425              rec.autos\n",
              "8            bmw  0.093832     7922              rec.autos\n",
              "9          drive  0.087718    13359              rec.autos\n",
              "10        engine  0.087452    14126              rec.autos\n",
              "1         hockey  0.234479    18093       rec.sport.hockey\n",
              "2           game  0.201023    16223       rec.sport.hockey\n",
              "3           team  0.169267    33433       rec.sport.hockey\n",
              "4            nhl  0.157643    24486       rec.sport.hockey\n",
              "5             go  0.133826    16739       rec.sport.hockey\n",
              "6             ca  0.129006     8910       rec.sport.hockey\n",
              "7         season  0.119933    30364       rec.sport.hockey\n",
              "8     pittsburgh  0.118799    26643       rec.sport.hockey\n",
              "9           play  0.116247    26746       rec.sport.hockey\n",
              "10       playoff  0.112561    26757       rec.sport.hockey\n",
              "1          space  0.355915    31772              sci.space\n",
              "2          orbit  0.161617    25383              sci.space\n",
              "3           nasa  0.151767    24135              sci.space\n",
              "4         access  0.131397     4813              sci.space\n",
              "5           moon  0.128040    23607              sci.space\n",
              "6          digex  0.113490    12694              sci.space\n",
              "7         launch  0.111475    21237              sci.space\n",
              "8            sci  0.104312    30221              sci.space\n",
              "9            pat  0.101850    26026              sci.space\n",
              "10        alaska  0.100731     5428              sci.space\n",
              "1         israel  0.237636    19698  talk.politics.mideast\n",
              "2        israeli  0.197498    19699  talk.politics.mideast\n",
              "3           jews  0.125197    19998  talk.politics.mideast\n",
              "4        turkish  0.104996    34712  talk.politics.mideast\n",
              "5         serdar  0.100211    30608  talk.politics.mideast\n",
              "6         jewish  0.098084    19995  talk.politics.mideast\n",
              "7         angmar  0.090376     5857  talk.politics.mideast\n",
              "8          cosmo  0.087186    11136  talk.politics.mideast\n",
              "9            pro  0.082933    27416  talk.politics.mideast\n",
              "10         argic  0.081338     6243  talk.politics.mideast"
            ]
          },
          "metadata": {
            "tags": []
          },
          "execution_count": 126
        }
      ]
    },
    {
      "cell_type": "markdown",
      "metadata": {
        "id": "KCj5oDy-bqjd",
        "colab_type": "text"
      },
      "source": [
        "Ошибки:\n",
        "Cars: my,usa; hockey: pittsburgh; space: alaska; mideast: pro, argic, cosmo, angmar"
      ]
    },
    {
      "cell_type": "markdown",
      "metadata": {
        "id": "HMbHKbImch9s",
        "colab_type": "text"
      },
      "source": [
        "Поменяем параметры CountVectorizer"
      ]
    },
    {
      "cell_type": "code",
      "metadata": {
        "id": "s9PAtviBceaH",
        "colab_type": "code",
        "colab": {}
      },
      "source": [
        "cv = CountVectorizer( min_df=1, max_df=0.85)\n"
      ],
      "execution_count": 0,
      "outputs": []
    },
    {
      "cell_type": "code",
      "metadata": {
        "id": "InBqlAIxc9VP",
        "colab_type": "code",
        "colab": {}
      },
      "source": [
        "cv.fit(X_train)"
      ],
      "execution_count": 0,
      "outputs": []
    },
    {
      "cell_type": "code",
      "metadata": {
        "id": "eHPE0lkUc-3t",
        "colab_type": "code",
        "colab": {}
      },
      "source": [
        "X_train_vec = cv.transform(X_train)\n",
        "X_test_vec = cv.transform(X_test)"
      ],
      "execution_count": 0,
      "outputs": []
    },
    {
      "cell_type": "code",
      "metadata": {
        "id": "BIRRDJNNiTRP",
        "colab_type": "code",
        "colab": {}
      },
      "source": [
        "def compare(name, trainf1_b, testf1_b, trainf1_n, testf1_n):\n",
        "  print('before:')\n",
        "  print('{} train f1: {}'.format(name, trainf1_b))\n",
        "  print('{} test f1: {}'.format(name, testf1_b))\n",
        "  print('now:')\n",
        "  print('{} train f1: {}'.format(name, trainf1_n))\n",
        "  print('{} test f1: {}'.format(name, testf1_n))"
      ],
      "execution_count": 0,
      "outputs": []
    },
    {
      "cell_type": "markdown",
      "metadata": {
        "id": "NB8rvdAre8mG",
        "colab_type": "text"
      },
      "source": [
        "Svc"
      ]
    },
    {
      "cell_type": "code",
      "metadata": {
        "id": "VSgtKHNqdJCy",
        "colab_type": "code",
        "colab": {}
      },
      "source": [
        "grid_search4 = evaluation(LinearSVC(), parameter_grid_svc, X_train_vec, y_train, X_test_vec, y_test)"
      ],
      "execution_count": 0,
      "outputs": []
    },
    {
      "cell_type": "code",
      "metadata": {
        "id": "MwuTIW5UdV_Z",
        "colab_type": "code",
        "colab": {}
      },
      "source": [
        "top_model_svc = LinearSVC(**grid_search4.best_params_)\n",
        "f1_svc_2 = validation(top_model_svc, X_train_vec, y_train, X_test_vec, y_test) "
      ],
      "execution_count": 0,
      "outputs": []
    },
    {
      "cell_type": "code",
      "metadata": {
        "id": "5Wdnj7auitF_",
        "colab_type": "code",
        "colab": {
          "base_uri": "https://localhost:8080/",
          "height": 127
        },
        "outputId": "b3cd99de-d485-4210-ed50-54e0284c87c0"
      },
      "source": [
        "compare('LinearSVC', grid_search2.best_score_, f1_svc, grid_search4.best_score_, f1_svc_2)"
      ],
      "execution_count": 274,
      "outputs": [
        {
          "output_type": "stream",
          "text": [
            "before:\n",
            "LinearSVC train f1: 0.978437281437316\n",
            "LinearSVC test f1: 0.9628275959010326\n",
            "now:\n",
            "LinearSVC train f1: 0.980575175567062\n",
            "LinearSVC test f1: 0.9634799973877469\n"
          ],
          "name": "stdout"
        }
      ]
    },
    {
      "cell_type": "markdown",
      "metadata": {
        "id": "Gonzt0JDh3V2",
        "colab_type": "text"
      },
      "source": [
        "SGDClassifier"
      ]
    },
    {
      "cell_type": "code",
      "metadata": {
        "id": "Jlbwhr6xh9Br",
        "colab_type": "code",
        "colab": {}
      },
      "source": [
        "grid_search5 = evaluation(SGDClassifier(), parameter_grid_sgd, X_train_vec, y_train, X_test_vec, y_test)"
      ],
      "execution_count": 0,
      "outputs": []
    },
    {
      "cell_type": "code",
      "metadata": {
        "id": "8Qh6b2BGhFNw",
        "colab_type": "code",
        "colab": {}
      },
      "source": [
        "top_model_sgd = SGDClassifier(**grid_search5.best_params_)\n",
        "f1_sgd_2 = validation(top_model_sgd, X_train_vec, y_train, X_test_vec, y_test) "
      ],
      "execution_count": 0,
      "outputs": []
    },
    {
      "cell_type": "code",
      "metadata": {
        "id": "fv8BGqPGiKzw",
        "colab_type": "code",
        "colab": {
          "base_uri": "https://localhost:8080/",
          "height": 127
        },
        "outputId": "d704d00b-d6d5-4bf0-986b-cd2981de77a0"
      },
      "source": [
        "compare('SGDClassifier', grid_search3.best_score_, f1_sgd, grid_search5.best_score_, f1_sgd_2)"
      ],
      "execution_count": 279,
      "outputs": [
        {
          "output_type": "stream",
          "text": [
            "before:\n",
            "SGDClassifier train f1: 0.9784558145371595\n",
            "SGDClassifier test f1: 0.9581390156846059\n",
            "now:\n",
            "SGDClassifier train f1: 0.9780226387684386\n",
            "SGDClassifier test f1: 0.9610239830911664\n"
          ],
          "name": "stdout"
        }
      ]
    },
    {
      "cell_type": "markdown",
      "metadata": {
        "id": "PoAwxiWZh13q",
        "colab_type": "text"
      },
      "source": [
        "LogisticRegression"
      ]
    },
    {
      "cell_type": "code",
      "metadata": {
        "id": "Uc1mTHGHl7Sl",
        "colab_type": "code",
        "colab": {}
      },
      "source": [
        "grid_search6 = evaluation(LogisticRegression(), parameter_grid_lr, X_train_vec, y_train, X_test_vec, y_test)"
      ],
      "execution_count": 0,
      "outputs": []
    },
    {
      "cell_type": "code",
      "metadata": {
        "id": "akxsDk7ImDUN",
        "colab_type": "code",
        "colab": {}
      },
      "source": [
        "top_model_lr = LogisticRegression(**grid_search6.best_params_)\n",
        "f1_lr_2 = validation(top_model_lr, X_train_vec, y_train, X_test_vec, y_test) "
      ],
      "execution_count": 0,
      "outputs": []
    },
    {
      "cell_type": "code",
      "metadata": {
        "id": "R0lHoIgemMxk",
        "colab_type": "code",
        "colab": {
          "base_uri": "https://localhost:8080/",
          "height": 127
        },
        "outputId": "465b0ed6-eb98-40e1-9e78-e36b597f4187"
      },
      "source": [
        "compare('Logistic Regression', grid_search5.best_score_, f1_lr, grid_search5.best_score_, f1_lr_2)"
      ],
      "execution_count": 283,
      "outputs": [
        {
          "output_type": "stream",
          "text": [
            "before:\n",
            "Logistic Regression train f1: 0.9780226387684386\n",
            "Logistic Regression test f1: 0.9615435029357767\n",
            "now:\n",
            "Logistic Regression train f1: 0.9780226387684386\n",
            "Logistic Regression test f1: 0.9660788217300081\n"
          ],
          "name": "stdout"
        }
      ]
    },
    {
      "cell_type": "markdown",
      "metadata": {
        "id": "eZyd9oR3rL8E",
        "colab_type": "text"
      },
      "source": [
        "Уменьшение параметра max_df до 0.85 немного улучшило результаты для всех моделей при проверке на тестовых данных"
      ]
    }
  ]
}