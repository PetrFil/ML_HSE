{
  "nbformat": 4,
  "nbformat_minor": 0,
  "metadata": {
    "colab": {
      "name": "ML_HW2.ipynb",
      "provenance": [],
      "collapsed_sections": []
    },
    "kernelspec": {
      "name": "python3",
      "display_name": "Python 3"
    }
  },
  "cells": [
    {
      "cell_type": "code",
      "metadata": {
        "id": "EtA30Bbitrru",
        "colab_type": "code",
        "colab": {}
      },
      "source": [
        "!pip install sklearn"
      ],
      "execution_count": 0,
      "outputs": []
    },
    {
      "cell_type": "code",
      "metadata": {
        "id": "SZdbbaBrtx_G",
        "colab_type": "code",
        "colab": {}
      },
      "source": [
        "import os\n",
        "import pandas as pd\n",
        "import numpy as np\n",
        "import tarfile\n",
        "\n",
        "from sklearn.metrics import roc_auc_score, roc_curve, f1_score, precision_score, recall_score\n",
        "from sklearn.naive_bayes import MultinomialNB\n",
        "from sklearn.linear_model import LogisticRegression\n",
        "from sklearn.model_selection import train_test_split\n",
        "from sklearn.svm import LinearSVC\n",
        "from sklearn.tree import DecisionTreeClassifier\n",
        "from sklearn.neighbors import KNeighborsClassifier\n",
        "from sklearn.metrics import *\n",
        "from sklearn.feature_extraction.text import CountVectorizer\n",
        "from matplotlib import pyplot\n",
        "\n"
      ],
      "execution_count": 0,
      "outputs": []
    },
    {
      "cell_type": "code",
      "metadata": {
        "id": "4v6WjLoDt21b",
        "colab_type": "code",
        "colab": {}
      },
      "source": [
        "\n",
        "\n",
        "def get_reviews(dir):\n",
        "    reviews = []\n",
        "    for file in os.listdir(dir):\n",
        "        with open (dir + \"/\" + file, \"r\", encoding = \"utf-8\") as review_file:\n",
        "            review = review_file.read()\n",
        "            reviews += [review]\n",
        "    return reviews\n",
        "\n",
        "\n",
        "def make_df(dir):\n",
        "    all_neg, all_pos = get_reviews(dir + '/neg'), get_reviews(dir + '/pos')\n",
        "    neg_index = np.arange(len(all_neg))\n",
        "    pos_index = np.arange(len(all_neg), len(all_neg) + len(all_pos))\n",
        "    neg_series = pd.Series(all_neg, index = neg_index)\n",
        "    pos_series = pd.Series(all_pos, index = pos_index)\n",
        "    all_rev = pd.concat ([neg_series, pos_series])\n",
        "    neg_values = pd.Series(0, index = neg_index)\n",
        "    pos_values = pd.Series(1, index = pos_index)\n",
        "    all_values = pd.concat ([neg_values, pos_values])\n",
        "    df = pd.concat([all_rev, all_values], axis = 1)\n",
        "    df.columns = ['review', 'value']\n",
        "    return df\n",
        "\n",
        "\n",
        "                   "
      ],
      "execution_count": 0,
      "outputs": []
    },
    {
      "cell_type": "code",
      "metadata": {
        "id": "u4tDUcwiuEIh",
        "colab_type": "code",
        "outputId": "46ccc63a-4855-4413-efd6-30336254481f",
        "colab": {
          "resources": {
            "http://localhost:8080/nbextensions/google.colab/files.js": {
              "data": "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",
              "ok": true,
              "headers": [
                [
                  "content-type",
                  "application/javascript"
                ]
              ],
              "status": 200,
              "status_text": "OK"
            }
          },
          "base_uri": "https://localhost:8080/",
          "height": 76
        }
      },
      "source": [
        "from google.colab import files\n",
        "uploaded = files.upload()"
      ],
      "execution_count": 4,
      "outputs": [
        {
          "output_type": "display_data",
          "data": {
            "text/html": [
              "\n",
              "     <input type=\"file\" id=\"files-17bfecbd-e7d7-455d-8bfe-f800e7bd6a7e\" name=\"files[]\" multiple disabled />\n",
              "     <output id=\"result-17bfecbd-e7d7-455d-8bfe-f800e7bd6a7e\">\n",
              "      Upload widget is only available when the cell has been executed in the\n",
              "      current browser session. Please rerun this cell to enable.\n",
              "      </output>\n",
              "      <script src=\"/nbextensions/google.colab/files.js\"></script> "
            ],
            "text/plain": [
              "<IPython.core.display.HTML object>"
            ]
          },
          "metadata": {
            "tags": []
          }
        },
        {
          "output_type": "stream",
          "text": [
            "Saving aclImdb_v1.tar.gz to aclImdb_v1.tar.gz\n"
          ],
          "name": "stdout"
        }
      ]
    },
    {
      "cell_type": "code",
      "metadata": {
        "id": "5Cce24azyyDU",
        "colab_type": "code",
        "colab": {}
      },
      "source": [
        "tar = tarfile.open(\"aclImdb_v1.tar.gz\", \"r\")\n",
        "tar.extractall()"
      ],
      "execution_count": 0,
      "outputs": []
    },
    {
      "cell_type": "code",
      "metadata": {
        "id": "1Bw2FzdMt5LG",
        "colab_type": "code",
        "colab": {}
      },
      "source": [
        "path_train = os.getcwd() + '/aclImdb/train'\n",
        "path_test = os.getcwd() + '/aclImdb/train'\n",
        "reviews_df_train = make_df(path_train)\n",
        "reviews_df_test = make_df(path_test)"
      ],
      "execution_count": 0,
      "outputs": []
    },
    {
      "cell_type": "markdown",
      "metadata": {
        "id": "yGVw-eATvJKM",
        "colab_type": "text"
      },
      "source": [
        "Функция оценки sklearn"
      ]
    },
    {
      "cell_type": "code",
      "metadata": {
        "id": "5oUPzYhtjzTP",
        "colab_type": "code",
        "colab": {}
      },
      "source": [
        "def evaluation_f (true, pred):\n",
        "  p = precision_score(true, pred)\n",
        "  r = recall_score(true, pred)\n",
        "  f1 = f1_score(true, pred)\n",
        "  return p, r, f1"
      ],
      "execution_count": 0,
      "outputs": []
    },
    {
      "cell_type": "markdown",
      "metadata": {
        "id": "kZBKyxLOKnVs",
        "colab_type": "text"
      },
      "source": [
        "Используем countvectorizer для подготовки текстов отзывов, которые можно будет отдать на обучение моделям  в виде переменных X_test, X_train_counts. Переменная targ будет обозначать истинные значения тональности, которые мы пытаемся предсказать"
      ]
    },
    {
      "cell_type": "code",
      "metadata": {
        "id": "vgqZIEwxJwx0",
        "colab_type": "code",
        "colab": {}
      },
      "source": [
        "count_vect = CountVectorizer()\n",
        "X_train_counts = count_vect.fit_transform(reviews_df_train['review'])\n",
        "X_test = count_vect.transform(reviews_df_test['review'])\n",
        "targ = reviews_df_test['value']"
      ],
      "execution_count": 0,
      "outputs": []
    },
    {
      "cell_type": "markdown",
      "metadata": {
        "id": "NljkrzOXt-xS",
        "colab_type": "text"
      },
      "source": [
        "Метод ближайшего соседа"
      ]
    },
    {
      "cell_type": "code",
      "metadata": {
        "id": "8PXWbbpUUxHn",
        "colab_type": "code",
        "colab": {}
      },
      "source": [
        "clf1 = KNeighborsClassifier().fit(X_train_counts, reviews_df_train['value'])\n",
        "predicted1 = clf1.predict(X_test)"
      ],
      "execution_count": 0,
      "outputs": []
    },
    {
      "cell_type": "code",
      "metadata": {
        "id": "Hu9-sfHr1341",
        "colab_type": "code",
        "colab": {
          "base_uri": "https://localhost:8080/",
          "height": 284
        },
        "outputId": "094eb83f-b14e-487a-f43c-68763a305e18"
      },
      "source": [
        "fpr, tpr, _ = roc_curve(targ, predicted1)\n",
        "pyplot.plot(fpr, tpr, marker='.', label='Test')\n",
        "pyplot.show"
      ],
      "execution_count": 264,
      "outputs": [
        {
          "output_type": "execute_result",
          "data": {
            "text/plain": [
              "<function matplotlib.pyplot.show>"
            ]
          },
          "metadata": {
            "tags": []
          },
          "execution_count": 264
        },
        {
          "output_type": "display_data",
          "data": {
            "image/png": "[encoded data removed]",
            "text/plain": [
              "<Figure size 432x288 with 1 Axes>"
            ]
          },
          "metadata": {
            "tags": []
          }
        }
      ]
    },
    {
      "cell_type": "code",
      "metadata": {
        "id": "YH7njZX-jlSF",
        "colab_type": "code",
        "colab": {
          "base_uri": "https://localhost:8080/",
          "height": 36
        },
        "outputId": "5a5124e0-9688-496c-bb87-278c77eca658"
      },
      "source": [
        "p, r, f1 = evaluation_f (targ, predicted1) \n",
        "print('P={}, R={}, F1={}'.format( p, r, f1))"
      ],
      "execution_count": 334,
      "outputs": [
        {
          "output_type": "stream",
          "text": [
            "P=0.7426475927674098, R=0.81816, F1=0.7785771382893685\n"
          ],
          "name": "stdout"
        }
      ]
    },
    {
      "cell_type": "markdown",
      "metadata": {
        "id": "man-7muPI_SJ",
        "colab_type": "text"
      },
      "source": [
        "Мультиномиальный наивный Байесовский классификатор"
      ]
    },
    {
      "cell_type": "code",
      "metadata": {
        "id": "sCxftkPrI99g",
        "colab_type": "code",
        "colab": {}
      },
      "source": [
        "clf2 = MultinomialNB().fit(X_train_counts, reviews_df_train['value'])\n",
        "predicted2 = clf2.predict(X_test)"
      ],
      "execution_count": 0,
      "outputs": []
    },
    {
      "cell_type": "code",
      "metadata": {
        "id": "UnfGw9TsI-p4",
        "colab_type": "code",
        "colab": {
          "base_uri": "https://localhost:8080/",
          "height": 284
        },
        "outputId": "8d369507-a216-4e24-a00b-4619a85aec06"
      },
      "source": [
        "fpr, tpr, _ = roc_curve(targ, predicted2)\n",
        "pyplot.plot(fpr, tpr, marker='.', label='Test')\n",
        "pyplot.show"
      ],
      "execution_count": 274,
      "outputs": [
        {
          "output_type": "execute_result",
          "data": {
            "text/plain": [
              "<function matplotlib.pyplot.show>"
            ]
          },
          "metadata": {
            "tags": []
          },
          "execution_count": 274
        },
        {
          "output_type": "display_data",
          "data": {
            "image/png": "[encoded data removed]",
            "text/plain": [
              "<Figure size 432x288 with 1 Axes>"
            ]
          },
          "metadata": {
            "tags": []
          }
        }
      ]
    },
    {
      "cell_type": "code",
      "metadata": {
        "id": "ABNVG9wQI-wx",
        "colab_type": "code",
        "colab": {
          "base_uri": "https://localhost:8080/",
          "height": 36
        },
        "outputId": "861eda0b-b6a7-42bb-f2ae-a0befea08e6c"
      },
      "source": [
        "p, r, f1 = evaluation_f (targ, predicted2) \n",
        "print('P={}, R={}, F1={}'.format( p, r, f1))"
      ],
      "execution_count": 275,
      "outputs": [
        {
          "output_type": "stream",
          "text": [
            "P=0.9280860215053763, R=0.86312, F1=0.8944248704663212\n"
          ],
          "name": "stdout"
        }
      ]
    },
    {
      "cell_type": "code",
      "metadata": {
        "id": "-jpsZc3fKNa8",
        "colab_type": "code",
        "colab": {
          "base_uri": "https://localhost:8080/",
          "height": 36
        },
        "outputId": "01861823-a417-4b3b-a4f1-19840aae1240"
      },
      "source": [
        "print( my_evaluation_f(targ, predicted2))"
      ],
      "execution_count": 276,
      "outputs": [
        {
          "output_type": "stream",
          "text": [
            "(0.9280860215053763, 0.86312, 0.8944248704663212)\n"
          ],
          "name": "stdout"
        }
      ]
    },
    {
      "cell_type": "markdown",
      "metadata": {
        "id": "6pK_Qt2dL4kf",
        "colab_type": "text"
      },
      "source": [
        "Логистическая регрессия"
      ]
    },
    {
      "cell_type": "code",
      "metadata": {
        "id": "lfixJYhLMlJU",
        "colab_type": "code",
        "colab": {
          "base_uri": "https://localhost:8080/",
          "height": 166
        },
        "outputId": "fdd29b89-909c-4f9a-8edc-ee4ccd3bd7d0"
      },
      "source": [
        "clf3 = LogisticRegression().fit(X_train_counts, reviews_df_train['value']) \n",
        "predicted3 = clf3.predict(X_test)"
      ],
      "execution_count": 420,
      "outputs": [
        {
          "output_type": "stream",
          "text": [
            "/usr/local/lib/python3.6/dist-packages/sklearn/linear_model/_logistic.py:940: ConvergenceWarning: lbfgs failed to converge (status=1):\n",
            "STOP: TOTAL NO. of ITERATIONS REACHED LIMIT.\n",
            "\n",
            "Increase the number of iterations (max_iter) or scale the data as shown in:\n",
            "    https://scikit-learn.org/stable/modules/preprocessing.html\n",
            "Please also refer to the documentation for alternative solver options:\n",
            "    https://scikit-learn.org/stable/modules/linear_model.html#logistic-regression\n",
            "  extra_warning_msg=_LOGISTIC_SOLVER_CONVERGENCE_MSG)\n"
          ],
          "name": "stderr"
        }
      ]
    },
    {
      "cell_type": "code",
      "metadata": {
        "id": "uBRz6wbuNHcV",
        "colab_type": "code",
        "colab": {
          "base_uri": "https://localhost:8080/",
          "height": 284
        },
        "outputId": "cbf49204-e99e-4f5d-af7b-3e56dc95068a"
      },
      "source": [
        "fpr, tpr, _ = roc_curve(targ, predicted3)\n",
        "pyplot.plot(fpr, tpr, marker='.', label='Test')\n",
        "pyplot.show"
      ],
      "execution_count": 421,
      "outputs": [
        {
          "output_type": "execute_result",
          "data": {
            "text/plain": [
              "<function matplotlib.pyplot.show>"
            ]
          },
          "metadata": {
            "tags": []
          },
          "execution_count": 421
        },
        {
          "output_type": "display_data",
          "data": {
            "image/png": "[encoded data removed]",
            "text/plain": [
              "<Figure size 432x288 with 1 Axes>"
            ]
          },
          "metadata": {
            "tags": []
          }
        }
      ]
    },
    {
      "cell_type": "code",
      "metadata": {
        "id": "EdQSpogGNS_-",
        "colab_type": "code",
        "colab": {
          "base_uri": "https://localhost:8080/",
          "height": 36
        },
        "outputId": "fcb5244f-1226-4606-bf12-13b60c03ede6"
      },
      "source": [
        "p, r, f1 = evaluation_f (targ, predicted3) \n",
        "print('P={}, R={}, F1={}'.format( p, r, f1))"
      ],
      "execution_count": 422,
      "outputs": [
        {
          "output_type": "stream",
          "text": [
            "P=0.9805848513902206, R=0.98184, F1=0.9812120243044453\n"
          ],
          "name": "stdout"
        }
      ]
    },
    {
      "cell_type": "markdown",
      "metadata": {
        "id": "Jj7n2lYPd8TX",
        "colab_type": "text"
      },
      "source": [
        "Лучший результат показал метод на основе логистической регрессии"
      ]
    },
    {
      "cell_type": "markdown",
      "metadata": {
        "id": "b4ZXstztQgT4",
        "colab_type": "text"
      },
      "source": [
        "15 самых негативных и самых позитивных рецензий на основании модели, показавшей лучший результат"
      ]
    },
    {
      "cell_type": "code",
      "metadata": {
        "id": "J5j1rjQ9QhS4",
        "colab_type": "code",
        "colab": {}
      },
      "source": [
        "reviews_df_test['neg_pred'] = clf3.predict_proba(X_test)[:, 0]\n",
        "reviews_df_test['pos_pred'] = clf3.predict_proba(X_test)[:, 1]"
      ],
      "execution_count": 0,
      "outputs": []
    },
    {
      "cell_type": "code",
      "metadata": {
        "id": "j7dSYkL5XufT",
        "colab_type": "code",
        "colab": {
          "base_uri": "https://localhost:8080/",
          "height": 206
        },
        "outputId": "64e45211-7187-4868-dbf3-ff5f5d767d8b"
      },
      "source": [
        "reviews_df_test.head()"
      ],
      "execution_count": 415,
      "outputs": [
        {
          "output_type": "execute_result",
          "data": {
            "text/html": [
              "<div>\n",
              "<style scoped>\n",
              "    .dataframe tbody tr th:only-of-type {\n",
              "        vertical-align: middle;\n",
              "    }\n",
              "\n",
              "    .dataframe tbody tr th {\n",
              "        vertical-align: top;\n",
              "    }\n",
              "\n",
              "    .dataframe thead th {\n",
              "        text-align: right;\n",
              "    }\n",
              "</style>\n",
              "<table border=\"1\" class=\"dataframe\">\n",
              "  <thead>\n",
              "    <tr style=\"text-align: right;\">\n",
              "      <th></th>\n",
              "      <th>review</th>\n",
              "      <th>value</th>\n",
              "      <th>neg_pred</th>\n",
              "      <th>pos_pred</th>\n",
              "    </tr>\n",
              "  </thead>\n",
              "  <tbody>\n",
              "    <tr>\n",
              "      <th>0</th>\n",
              "      <td>Moron and girlfriend conduct some ritual to resurrect th...</td>\n",
              "      <td>0</td>\n",
              "      <td>1.000000</td>\n",
              "      <td>2.920253e-07</td>\n",
              "    </tr>\n",
              "    <tr>\n",
              "      <th>1</th>\n",
              "      <td>The real irony is this: Joe Besser was a top notch comed...</td>\n",
              "      <td>0</td>\n",
              "      <td>0.873132</td>\n",
              "      <td>1.268682e-01</td>\n",
              "    </tr>\n",
              "    <tr>\n",
              "      <th>2</th>\n",
              "      <td>Remembering the dirty particulars of this insidiously va...</td>\n",
              "      <td>0</td>\n",
              "      <td>0.999921</td>\n",
              "      <td>7.892933e-05</td>\n",
              "    </tr>\n",
              "    <tr>\n",
              "      <th>3</th>\n",
              "      <td>This movie is actually worse than most movies I've ever ...</td>\n",
              "      <td>0</td>\n",
              "      <td>0.999494</td>\n",
              "      <td>5.058799e-04</td>\n",
              "    </tr>\n",
              "    <tr>\n",
              "      <th>4</th>\n",
              "      <td>Mr. VanHook took a good idea and kicked like a football....</td>\n",
              "      <td>0</td>\n",
              "      <td>0.978368</td>\n",
              "      <td>2.163167e-02</td>\n",
              "    </tr>\n",
              "  </tbody>\n",
              "</table>\n",
              "</div>"
            ],
            "text/plain": [
              "                                                        review  ...      pos_pred\n",
              "0  Moron and girlfriend conduct some ritual to resurrect th...  ...  2.920253e-07\n",
              "1  The real irony is this: Joe Besser was a top notch comed...  ...  1.268682e-01\n",
              "2  Remembering the dirty particulars of this insidiously va...  ...  7.892933e-05\n",
              "3  This movie is actually worse than most movies I've ever ...  ...  5.058799e-04\n",
              "4  Mr. VanHook took a good idea and kicked like a football....  ...  2.163167e-02\n",
              "\n",
              "[5 rows x 4 columns]"
            ]
          },
          "metadata": {
            "tags": []
          },
          "execution_count": 415
        }
      ]
    },
    {
      "cell_type": "code",
      "metadata": {
        "id": "QBYuz5sRS78y",
        "colab_type": "code",
        "colab": {
          "base_uri": "https://localhost:8080/",
          "height": 520
        },
        "outputId": "3427ab1e-5890-442e-e6a9-6fd89934d948"
      },
      "source": [
        "most_neg = reviews_df_test.sort_values(by='neg_pred', ascending=False)\n",
        "most_neg.head(15)"
      ],
      "execution_count": 416,
      "outputs": [
        {
          "output_type": "execute_result",
          "data": {
            "text/html": [
              "<div>\n",
              "<style scoped>\n",
              "    .dataframe tbody tr th:only-of-type {\n",
              "        vertical-align: middle;\n",
              "    }\n",
              "\n",
              "    .dataframe tbody tr th {\n",
              "        vertical-align: top;\n",
              "    }\n",
              "\n",
              "    .dataframe thead th {\n",
              "        text-align: right;\n",
              "    }\n",
              "</style>\n",
              "<table border=\"1\" class=\"dataframe\">\n",
              "  <thead>\n",
              "    <tr style=\"text-align: right;\">\n",
              "      <th></th>\n",
              "      <th>review</th>\n",
              "      <th>value</th>\n",
              "      <th>neg_pred</th>\n",
              "      <th>pos_pred</th>\n",
              "    </tr>\n",
              "  </thead>\n",
              "  <tbody>\n",
              "    <tr>\n",
              "      <th>6799</th>\n",
              "      <td>Sexo Cannibal, or Devil Hunter as it's more commonly kno...</td>\n",
              "      <td>0</td>\n",
              "      <td>1.0</td>\n",
              "      <td>6.733216e-22</td>\n",
              "    </tr>\n",
              "    <tr>\n",
              "      <th>491</th>\n",
              "      <td>The Tooth Fairy is set in a small town somewhere in Nort...</td>\n",
              "      <td>0</td>\n",
              "      <td>1.0</td>\n",
              "      <td>2.482357e-21</td>\n",
              "    </tr>\n",
              "    <tr>\n",
              "      <th>8673</th>\n",
              "      <td>Some have praised _Atlantis:_The_Lost_Empire_ as a Disne...</td>\n",
              "      <td>0</td>\n",
              "      <td>1.0</td>\n",
              "      <td>1.099888e-17</td>\n",
              "    </tr>\n",
              "    <tr>\n",
              "      <th>1187</th>\n",
              "      <td>I'm not sure what dragged me into the cinema to watch th...</td>\n",
              "      <td>0</td>\n",
              "      <td>1.0</td>\n",
              "      <td>1.941834e-18</td>\n",
              "    </tr>\n",
              "    <tr>\n",
              "      <th>11643</th>\n",
              "      <td>The 1963 version of \"The Haunting\" has been one of my fa...</td>\n",
              "      <td>0</td>\n",
              "      <td>1.0</td>\n",
              "      <td>2.226924e-18</td>\n",
              "    </tr>\n",
              "    <tr>\n",
              "      <th>8635</th>\n",
              "      <td>My god, what's going on? a Uwe Boll film and positive co...</td>\n",
              "      <td>0</td>\n",
              "      <td>1.0</td>\n",
              "      <td>9.591047e-21</td>\n",
              "    </tr>\n",
              "    <tr>\n",
              "      <th>9808</th>\n",
              "      <td>I watched SCARECROWS because of the buzz surrounding it....</td>\n",
              "      <td>0</td>\n",
              "      <td>1.0</td>\n",
              "      <td>4.151341e-18</td>\n",
              "    </tr>\n",
              "    <tr>\n",
              "      <th>1743</th>\n",
              "      <td>There are people out there who will greenlight anything!...</td>\n",
              "      <td>0</td>\n",
              "      <td>1.0</td>\n",
              "      <td>3.321817e-18</td>\n",
              "    </tr>\n",
              "    <tr>\n",
              "      <th>8211</th>\n",
              "      <td>Less than 10 minutes into this film I wanted it to end a...</td>\n",
              "      <td>0</td>\n",
              "      <td>1.0</td>\n",
              "      <td>2.175469e-18</td>\n",
              "    </tr>\n",
              "    <tr>\n",
              "      <th>8452</th>\n",
              "      <td>...though for a film that seems to be trying to market i...</td>\n",
              "      <td>0</td>\n",
              "      <td>1.0</td>\n",
              "      <td>4.184823e-17</td>\n",
              "    </tr>\n",
              "    <tr>\n",
              "      <th>481</th>\n",
              "      <td>I'll start by apologizing to filmmakers everywhere for u...</td>\n",
              "      <td>0</td>\n",
              "      <td>1.0</td>\n",
              "      <td>3.560345e-19</td>\n",
              "    </tr>\n",
              "    <tr>\n",
              "      <th>1280</th>\n",
              "      <td>*** Warning - this review contains \"plot spoilers,\" thou...</td>\n",
              "      <td>0</td>\n",
              "      <td>1.0</td>\n",
              "      <td>5.269358e-27</td>\n",
              "    </tr>\n",
              "    <tr>\n",
              "      <th>6586</th>\n",
              "      <td>Well, I can honestly say that this is the first time tha...</td>\n",
              "      <td>0</td>\n",
              "      <td>1.0</td>\n",
              "      <td>7.418684e-18</td>\n",
              "    </tr>\n",
              "    <tr>\n",
              "      <th>4728</th>\n",
              "      <td>Orca starts as crusty Irish sea captain Nolan (Richard H...</td>\n",
              "      <td>0</td>\n",
              "      <td>1.0</td>\n",
              "      <td>4.471876e-21</td>\n",
              "    </tr>\n",
              "    <tr>\n",
              "      <th>2241</th>\n",
              "      <td>I made the big mistake of actually watching this whole m...</td>\n",
              "      <td>0</td>\n",
              "      <td>1.0</td>\n",
              "      <td>3.547282e-17</td>\n",
              "    </tr>\n",
              "  </tbody>\n",
              "</table>\n",
              "</div>"
            ],
            "text/plain": [
              "                                                            review  ...      pos_pred\n",
              "6799   Sexo Cannibal, or Devil Hunter as it's more commonly kno...  ...  6.733216e-22\n",
              "491    The Tooth Fairy is set in a small town somewhere in Nort...  ...  2.482357e-21\n",
              "8673   Some have praised _Atlantis:_The_Lost_Empire_ as a Disne...  ...  1.099888e-17\n",
              "1187   I'm not sure what dragged me into the cinema to watch th...  ...  1.941834e-18\n",
              "11643  The 1963 version of \"The Haunting\" has been one of my fa...  ...  2.226924e-18\n",
              "8635   My god, what's going on? a Uwe Boll film and positive co...  ...  9.591047e-21\n",
              "9808   I watched SCARECROWS because of the buzz surrounding it....  ...  4.151341e-18\n",
              "1743   There are people out there who will greenlight anything!...  ...  3.321817e-18\n",
              "8211   Less than 10 minutes into this film I wanted it to end a...  ...  2.175469e-18\n",
              "8452   ...though for a film that seems to be trying to market i...  ...  4.184823e-17\n",
              "481    I'll start by apologizing to filmmakers everywhere for u...  ...  3.560345e-19\n",
              "1280   *** Warning - this review contains \"plot spoilers,\" thou...  ...  5.269358e-27\n",
              "6586   Well, I can honestly say that this is the first time tha...  ...  7.418684e-18\n",
              "4728   Orca starts as crusty Irish sea captain Nolan (Richard H...  ...  4.471876e-21\n",
              "2241   I made the big mistake of actually watching this whole m...  ...  3.547282e-17\n",
              "\n",
              "[15 rows x 4 columns]"
            ]
          },
          "metadata": {
            "tags": []
          },
          "execution_count": 416
        }
      ]
    },
    {
      "cell_type": "code",
      "metadata": {
        "id": "0PCxu9NOZJzA",
        "colab_type": "code",
        "colab": {
          "base_uri": "https://localhost:8080/",
          "height": 520
        },
        "outputId": "aa932179-6ffe-4c1b-fc6d-b682f6d9b733"
      },
      "source": [
        "most_pos = reviews_df_test.sort_values(by='pos_pred', ascending=False)\n",
        "most_pos.head(15)"
      ],
      "execution_count": 417,
      "outputs": [
        {
          "output_type": "execute_result",
          "data": {
            "text/html": [
              "<div>\n",
              "<style scoped>\n",
              "    .dataframe tbody tr th:only-of-type {\n",
              "        vertical-align: middle;\n",
              "    }\n",
              "\n",
              "    .dataframe tbody tr th {\n",
              "        vertical-align: top;\n",
              "    }\n",
              "\n",
              "    .dataframe thead th {\n",
              "        text-align: right;\n",
              "    }\n",
              "</style>\n",
              "<table border=\"1\" class=\"dataframe\">\n",
              "  <thead>\n",
              "    <tr style=\"text-align: right;\">\n",
              "      <th></th>\n",
              "      <th>review</th>\n",
              "      <th>value</th>\n",
              "      <th>neg_pred</th>\n",
              "      <th>pos_pred</th>\n",
              "    </tr>\n",
              "  </thead>\n",
              "  <tbody>\n",
              "    <tr>\n",
              "      <th>14762</th>\n",
              "      <td>What a wonderful, fanciful movie \"Stardust\" is.&lt;br /&gt;&lt;br...</td>\n",
              "      <td>1</td>\n",
              "      <td>0.0</td>\n",
              "      <td>1.0</td>\n",
              "    </tr>\n",
              "    <tr>\n",
              "      <th>18654</th>\n",
              "      <td>I approach films about talking animals with care. For ev...</td>\n",
              "      <td>1</td>\n",
              "      <td>0.0</td>\n",
              "      <td>1.0</td>\n",
              "    </tr>\n",
              "    <tr>\n",
              "      <th>19390</th>\n",
              "      <td>Match 1: Tag Team Table Match Bubba Ray and Spike Dudley...</td>\n",
              "      <td>1</td>\n",
              "      <td>0.0</td>\n",
              "      <td>1.0</td>\n",
              "    </tr>\n",
              "    <tr>\n",
              "      <th>24024</th>\n",
              "      <td>Obsession comes in many flavors, and exists for a variet...</td>\n",
              "      <td>1</td>\n",
              "      <td>0.0</td>\n",
              "      <td>1.0</td>\n",
              "    </tr>\n",
              "    <tr>\n",
              "      <th>23554</th>\n",
              "      <td>First an explanation on what makes a great movie for me....</td>\n",
              "      <td>1</td>\n",
              "      <td>0.0</td>\n",
              "      <td>1.0</td>\n",
              "    </tr>\n",
              "    <tr>\n",
              "      <th>14769</th>\n",
              "      <td>Mukhsin is a beautiful movie about a first love story. E...</td>\n",
              "      <td>1</td>\n",
              "      <td>0.0</td>\n",
              "      <td>1.0</td>\n",
              "    </tr>\n",
              "    <tr>\n",
              "      <th>19918</th>\n",
              "      <td>Canadian director Vincenzo Natali took the art-house cir...</td>\n",
              "      <td>1</td>\n",
              "      <td>0.0</td>\n",
              "      <td>1.0</td>\n",
              "    </tr>\n",
              "    <tr>\n",
              "      <th>18655</th>\n",
              "      <td>By now you've probably heard a bit about the new Disney ...</td>\n",
              "      <td>1</td>\n",
              "      <td>0.0</td>\n",
              "      <td>1.0</td>\n",
              "    </tr>\n",
              "    <tr>\n",
              "      <th>21178</th>\n",
              "      <td>Antonio Margheriti's \"Danza Macabra\" aka. \"Castle Of Blo...</td>\n",
              "      <td>1</td>\n",
              "      <td>0.0</td>\n",
              "      <td>1.0</td>\n",
              "    </tr>\n",
              "    <tr>\n",
              "      <th>21285</th>\n",
              "      <td>Oftentimes, films of this nature come across as a mixed ...</td>\n",
              "      <td>1</td>\n",
              "      <td>0.0</td>\n",
              "      <td>1.0</td>\n",
              "    </tr>\n",
              "    <tr>\n",
              "      <th>21546</th>\n",
              "      <td>Romance is in the air and love is in bloom in Victorian ...</td>\n",
              "      <td>1</td>\n",
              "      <td>0.0</td>\n",
              "      <td>1.0</td>\n",
              "    </tr>\n",
              "    <tr>\n",
              "      <th>18018</th>\n",
              "      <td>Jim Carrey is back to much the same role that he played ...</td>\n",
              "      <td>1</td>\n",
              "      <td>0.0</td>\n",
              "      <td>1.0</td>\n",
              "    </tr>\n",
              "    <tr>\n",
              "      <th>17116</th>\n",
              "      <td>I haven't liked many TV shows post 1990, but THAT 70S SH...</td>\n",
              "      <td>1</td>\n",
              "      <td>0.0</td>\n",
              "      <td>1.0</td>\n",
              "    </tr>\n",
              "    <tr>\n",
              "      <th>18904</th>\n",
              "      <td>When the Bourne Identity arrived five years ago I have t...</td>\n",
              "      <td>1</td>\n",
              "      <td>0.0</td>\n",
              "      <td>1.0</td>\n",
              "    </tr>\n",
              "    <tr>\n",
              "      <th>22653</th>\n",
              "      <td>There are some films that every Horror fan owes himself ...</td>\n",
              "      <td>1</td>\n",
              "      <td>0.0</td>\n",
              "      <td>1.0</td>\n",
              "    </tr>\n",
              "  </tbody>\n",
              "</table>\n",
              "</div>"
            ],
            "text/plain": [
              "                                                            review  ...  pos_pred\n",
              "14762  What a wonderful, fanciful movie \"Stardust\" is.<br /><br...  ...       1.0\n",
              "18654  I approach films about talking animals with care. For ev...  ...       1.0\n",
              "19390  Match 1: Tag Team Table Match Bubba Ray and Spike Dudley...  ...       1.0\n",
              "24024  Obsession comes in many flavors, and exists for a variet...  ...       1.0\n",
              "23554  First an explanation on what makes a great movie for me....  ...       1.0\n",
              "14769  Mukhsin is a beautiful movie about a first love story. E...  ...       1.0\n",
              "19918  Canadian director Vincenzo Natali took the art-house cir...  ...       1.0\n",
              "18655  By now you've probably heard a bit about the new Disney ...  ...       1.0\n",
              "21178  Antonio Margheriti's \"Danza Macabra\" aka. \"Castle Of Blo...  ...       1.0\n",
              "21285  Oftentimes, films of this nature come across as a mixed ...  ...       1.0\n",
              "21546  Romance is in the air and love is in bloom in Victorian ...  ...       1.0\n",
              "18018  Jim Carrey is back to much the same role that he played ...  ...       1.0\n",
              "17116  I haven't liked many TV shows post 1990, but THAT 70S SH...  ...       1.0\n",
              "18904  When the Bourne Identity arrived five years ago I have t...  ...       1.0\n",
              "22653  There are some films that every Horror fan owes himself ...  ...       1.0\n",
              "\n",
              "[15 rows x 4 columns]"
            ]
          },
          "metadata": {
            "tags": []
          },
          "execution_count": 417
        }
      ]
    },
    {
      "cell_type": "markdown",
      "metadata": {
        "id": "a2cq0OY8ehyr",
        "colab_type": "text"
      },
      "source": [
        "Ниже можно почитать самые негативные и позитивные отзывы целиком"
      ]
    },
    {
      "cell_type": "code",
      "metadata": {
        "id": "8mtXqIP6emrB",
        "colab_type": "code",
        "colab": {}
      },
      "source": [
        "pd.set_option('display.max_colwidth', -1)"
      ],
      "execution_count": 0,
      "outputs": []
    },
    {
      "cell_type": "code",
      "metadata": {
        "id": "0jQQ0m-VVN8L",
        "colab_type": "code",
        "colab": {
          "base_uri": "https://localhost:8080/",
          "height": 56
        },
        "outputId": "ba936613-5b1e-44cc-8742-2b6fc387b70e"
      },
      "source": [
        "print((most_neg['review'].head(1)).to_string(index=False))"
      ],
      "execution_count": 428,
      "outputs": [
        {
          "output_type": "stream",
          "text": [
            " Sexo Cannibal, or Devil Hunter as it's more commonly known amongst English speaking audiences, starts with actress & model Laura Crawford (Ursula Buchfellner as Ursula Fellner) checking out locations for her new film along with her assistant Jane (Gisela Hahn). After a long days work Laura is relaxing in the bath of her room when two very dubious character's named Chris (Werner Pochath) & Thomas (Antonio Mayans) burst in & kidnap her having been helped by the treacherous Jane. Laura's agent gets on the blower to rent-a-hero Peter Weston (Al Cliver) who is informed of the situation, the kidnappers have Laura on an isolated island & are demanding a 6 million ransom. Peter is told that he will be paid 200,000 to get her back safely & a further 10% of the 6 million if he brings that back as well, faster than a rat up a drain pipe Peter & his Vietnam Vet buddy helicopter pilot Jack are on the island & deciding on how to save Laura. So, the kidnappers have Laura & Peter has the 6 million but neither want to hand them over that much. Just to complicate things further this particular isolated island is home to a primitive tribe (hell, in all the generations they've lived there they've only managed to build one straw hut, now that's primitive) who worship some cannibal monster dude (Burt Altman) with bulging eyes as a God with human sacrifices & this cannibal has a liking for young, white female flesh & intestines...<br /><br />This Spanish, French & German co-production was co-written & directed by the prolific Jesus Franco who also gets the credit for the music as well. Sexo Cannibal has gained a certain amount of notoriety here in the UK as it was placed on the 'Video Nasties' list in the early 80's under it's alternate Devil Hunter title & therefore officially classed as obscene & banned, having said that I have no idea why as it is one bad film & even Franco, who isn't afraid to be associated with a turkey, decides he wants to hide under the pseudonym of Clifford Brown. I'd imagine even the most die-hard Franco fan would have a hard time defending this thing. The script by Franco, erm sorry I mean Clifford Brown & Julian Esteban as Julius Valery who was obviously another one less than impressed with the finished product & wanted his named removed, is awful. It's as simple & straight forward as that. For a start the film is so boring it's untrue, the kidnap plot is one of the dullest I've ever seen without the slightest bit of tension or excitement involved & the horror side of things don't improve as we get a big black guy with stupid looking over-sized bloodshot eyes plus two tame cannibal scenes. As a horror film Sexo Cannibal fails & as an action adventure it has no more success, this is one to avoid.<br /><br />Director Franco shows his usual incompetence throughout, a decapitated head is achieved by an actor lying on the ground with large leaves placed around the bottom of his neck to try & give the impression it's not attached to anything! The cannibal scenes are poor, the action is lame & it has endless scenes of people randomly walking around the jungle getting from 'A' to 'B' & not really doing anything when they get there either. It becomes incredibly dull & tedious to watch after about 10 minutes & don't forget this thing goes on for 94 minutes in it's uncut state. I also must mention the hilarious scene when Al Cliver is supposed to be climbing a cliff, this is achieved by Franco turning his camera on it's side & having Cliver crawl along the floor! Just look at the way his coat hangs & the way he never grabs onto to anything as he just pulls himself along! The gore isn't that great & as far as Euro cannibal films go this is very tame, there are some gross close ups of the cannibals mouth as it chews bits of meat, a man is impaled on spikes, there's some blood & a handful of intestines. There's a fair bit of nudity in Sexo Cannibal & an unpleasant rape scene.<br /><br />Sexo Cannibal must have had a low budget & I mean low. This is a shoddy poorly made film with awful special effects & rock bottom production values. The only decent thing about it is the jungle setting which at least looks authentic. The music sucks & sound effects become annoying as there is lots of heavy breathing whenever the cannibal is on screen. The acting sucks, the whole thing was obviously dubbed anyway but no one in this thing can act.<br /><br />Sexo Cannibal is a terrible film that commits the fatal mistake of being as boring as hell. The only good things I can say is that it has a certain sleazy atmosphere to it & those close ups of the cannibal chewing meat are pretty gross. Anyone looking for a decent cinematic experience should give Sexo Cannibal as wide a berth as possible, one to avoid.\n"
          ],
          "name": "stdout"
        }
      ]
    },
    {
      "cell_type": "code",
      "metadata": {
        "id": "fWbiUTbuSrqw",
        "colab_type": "code",
        "colab": {
          "base_uri": "https://localhost:8080/",
          "height": 56
        },
        "outputId": "e757bef0-c011-4f45-e0df-79346251a18c"
      },
      "source": [
        "print((most_pos['review'].head(1)).to_string(index=False))"
      ],
      "execution_count": 429,
      "outputs": [
        {
          "output_type": "stream",
          "text": [
            " What a wonderful, fanciful movie \"Stardust\" is.<br /><br />I could easily end it with that one statement and suffice to say, one could take it as a very strong recommendation to go see it.<br /><br />At a time when Hollywood seems bent on forcing remakes and sequels down our throats, \"Stardust\" makes us remember why we go to the movies in the first place - to escape reality for a couple of hours and explore other lives, other times, or other planets. Ironically, \"Stardust\" takes us to all three places effortlessly and with a childlike glee we all long for.<br /><br />\"Stardust\" is full of all the characters we remember as children: princes, witches, pirates, ghosts and scoundrels. It has the damsel in distress, the hero, the rogues, the obstacles, spells, antidotes, charms, and even a touch of light-speed to make it quasi modern.<br /><br />\"Stardust\" is about a man from the town of Wall, which is conveniently situated next to a wall that separates their town from a magical kingdom. The only way past the wall is through a breech that is diligently guarded by a scruffy old codger (played wonderfully by David Kelly). One day a young man from Wall named Ben Barnes out maneuvers the old guard and escapes through the breech. He happens upon an enchanted kingdom called Stormhold where he meets a chained (and very sexy) young lady named Una. She is held captive by a witch and leashed by an unbreakable chain. While the witch is away, Una seduces Ben and sends him on his way. Ben returns to Wall without incident and continues his life. But nine months later he is summoned to the wall breech where the old guard hands him what you might expect - a baby boy.<br /><br />The boy, named Tristan grows up to be a rather hapless young man (Charlie Cox) who is smitten with a girl way out of his league and also betrothed to another. Nevertheless, the young lady (named Victoria and played Sienna Miller) goes out once with Tristain and he confesses his love to her. After they espy a falling star, she tells him he can have her if he retrieves the star and brings it back to her. He agrees and sets out on his quest, which will take him to the other side of the wall.<br /><br />Meanwhile in the kingdom of Stormhold, the old king (perfectly played by Peter O'Toole) is dying. He calls his remaining living sons to tell them who shall succeed him to the throne. His sons' names are Primus, Secondus, Sextmus, and Septimus. The other sons where killed by the other brothers in a humorous competition to see who lives to get the throne.<br /><br />Anyway, he tosses his ruby charm to the sky and Voila, that what brings the star to earth.<br /><br />The star crashes in the form of a beautiful woman named Yvaine (Clare Danes) and she, of course, is wearing the charm. But little does she know she is now being persuaded by Tristain, the Princes, and also an aging witch named Lamia (Michelle Pfeiffer) who wants to cut out the stars heart to regain her own youth.<br /><br />Complicated? Yes. But it all comes together as the adventure unfolds.<br /><br />Tristain is the first to find Yvaine but is so blinded by his devotion to Victoria he doesn't recognize the growing bond between he and Yvaine. His initial interest lie only in returning Yvaine to Victoria as proof of his love. But he must get past the princes and Lamia first. The princes aren't that big an issue as they are constantly trying to kill each other - and just as in \"Pirates of the Caribbean\" - never has death been so funny. <br /><br />But Tristain also encounters the witch who enslaved his mother (though he doesn't know it's his mother) and a band of flying pirates led by Robert DeNiro.<br /><br />His is the most important character in the movie and DeNiro plays it to a tee. He steals the movie with his toughness and soon we learn an undercover secret that will leave audiences on the floor with laughter. Though his role is small in length, DeNiro is extraordinary!<br /><br />Michelle Pfeiffer is wonderful as Lamia - a sexy evil witch. Claire Danes is most appropriate as the confused and distressed Yvaine. She makes a perfect damsel. Jason Flemyng, Adam Buston, Rupert Everett, and Mark Strong add the perfect dose of levity as the fighting princes whom, as they die return as ghosts ala \"Blithe Spirit\" and \"High Spirits\".<br /><br />Moreover director Matthew Vaughn, whose only other directing experience was \"Layer Cake\", weaves an enchanting tale that everyone will enjoy.<br /><br />\"Stardust\" may be too complex for young children, but anyone over the age of 13 will want to see this movie multiple times. It's that good. \"Stardust\" is what movies are supposed to be. Perfectly written, perfectly cast, perfectly directed, and perfectly acted. In other words...perfect.\n"
          ],
          "name": "stdout"
        }
      ]
    },
    {
      "cell_type": "markdown",
      "metadata": {
        "id": "4kj510NWud3C",
        "colab_type": "text"
      },
      "source": [
        "Моя функция оценки"
      ]
    },
    {
      "cell_type": "markdown",
      "metadata": {
        "id": "-iFvwFskdJUX",
        "colab_type": "text"
      },
      "source": [
        "Напишем общий шаблон для функций  true positive, false positive, true negative, false negative. Назовем его counter\n",
        "\n",
        "\n"
      ]
    },
    {
      "cell_type": "code",
      "metadata": {
        "id": "2ZxyNjqecZ3h",
        "colab_type": "code",
        "colab": {}
      },
      "source": [
        "def counter(true, pred, true_value, pred_value):\n",
        "  tfpn = 0\n",
        "  for i in range(len(predicted)):\n",
        "          if (true[i] == true_value) and (pred[i] == pred_value):\n",
        "            tfpn += 1\n",
        "  return tfpn\n",
        "\n"
      ],
      "execution_count": 0,
      "outputs": []
    },
    {
      "cell_type": "markdown",
      "metadata": {
        "id": "jVUUcvzLgu7N",
        "colab_type": "text"
      },
      "source": [
        "Теперь непосредственно сами функции"
      ]
    },
    {
      "cell_type": "code",
      "metadata": {
        "id": "w4RM-gY6cEUl",
        "colab_type": "code",
        "colab": {}
      },
      "source": [
        "def tp_f(true, pred):\n",
        "  return counter(true, pred, 1, 1)\n",
        "\n",
        "\n",
        "def fp_f(true, pred):\n",
        "  return counter(true, pred, 0, 1)\n",
        "\n",
        "\n",
        "def tn_f(true, pred):\n",
        "  return counter(true, pred, 0, 0)\n",
        "\n",
        "\n",
        "def fn_f(true, pred):\n",
        "  return counter(true, pred, 1, 0)\n"
      ],
      "execution_count": 0,
      "outputs": []
    },
    {
      "cell_type": "markdown",
      "metadata": {
        "id": "EeeBXD4qbrQO",
        "colab_type": "text"
      },
      "source": [
        "Напишем функции для точности, полноты и ф-меры"
      ]
    },
    {
      "cell_type": "code",
      "metadata": {
        "id": "abt44FinbBbB",
        "colab_type": "code",
        "colab": {}
      },
      "source": [
        "def precision_f(true, pred):\n",
        "  tp = tp_f(true, pred)\n",
        "  fp = fp_f(true, pred)\n",
        "  precision = tp/(tp+fp)\n",
        "  return precision\n",
        "\n",
        "\n",
        "def recall_f(true, pred):\n",
        "  tp = tp_f(true, pred)\n",
        "  fn = fn_f(true, pred)\n",
        "  recall = tp/(tp+fn)\n",
        "  return recall\n",
        "\n",
        "\n",
        "def f_measure_f(true, pred):\n",
        "  pr = precision_f(true, pred)\n",
        "  r = recall_f(true, pred)\n",
        "  f_measure = 2*pr*r/(pr+r)\n",
        "  return f_measure\n"
      ],
      "execution_count": 0,
      "outputs": []
    },
    {
      "cell_type": "markdown",
      "metadata": {
        "id": "U0MC-qMhsvTZ",
        "colab_type": "text"
      },
      "source": [
        "Общая функция оценки и ее проверка"
      ]
    },
    {
      "cell_type": "code",
      "metadata": {
        "id": "_Af-48ATbBnN",
        "colab_type": "code",
        "colab": {
          "base_uri": "https://localhost:8080/",
          "height": 73
        },
        "outputId": "a66bc75a-c016-4196-bb0e-7af3b2a0a4be"
      },
      "source": [
        "def my_evaluation_f(true, pred):\n",
        "  r = recall_f(true, pred)\n",
        "  p = precision_f(true, pred)\n",
        "  f1 = f_measure_f(true, pred)\n",
        "  return p, r, f1\n",
        "\n",
        "\n",
        "print( my_evaluation_f(targ, predicted1) == evaluation_f(targ, predicted1)) \n",
        "print( my_evaluation_f(targ, predicted2) == evaluation_f(targ, predicted2))\n",
        "print( my_evaluation_f(targ, predicted3) == evaluation_f(targ, predicted3))"
      ],
      "execution_count": 427,
      "outputs": [
        {
          "output_type": "stream",
          "text": [
            "True\n",
            "True\n",
            "True\n"
          ],
          "name": "stdout"
        }
      ]
    },
    {
      "cell_type": "markdown",
      "metadata": {
        "id": "-iqMSY0RgG2L",
        "colab_type": "text"
      },
      "source": [
        "Какие значения показывают функции"
      ]
    },
    {
      "cell_type": "code",
      "metadata": {
        "id": "S3BQ6R4pe9RN",
        "colab_type": "code",
        "colab": {
          "base_uri": "https://localhost:8080/",
          "height": 129
        },
        "outputId": "9548a2ba-0d1e-4440-d67e-b4ce30d05d2c"
      },
      "source": [
        "print(my_evaluation_f(targ, predicted1))\n",
        "print(evaluation_f(targ, predicted1)) \n",
        "print(my_evaluation_f(targ, predicted2))\n",
        "print(evaluation_f(targ, predicted2)) \n",
        "print(my_evaluation_f(targ, predicted3))\n",
        "print(evaluation_f(targ, predicted3)) "
      ],
      "execution_count": 426,
      "outputs": [
        {
          "output_type": "stream",
          "text": [
            "(0.7426475927674098, 0.81816, 0.7785771382893685)\n",
            "(0.7426475927674098, 0.81816, 0.7785771382893685)\n",
            "(0.9280860215053763, 0.86312, 0.8944248704663212)\n",
            "(0.9280860215053763, 0.86312, 0.8944248704663212)\n",
            "(0.9805848513902206, 0.98184, 0.9812120243044453)\n",
            "(0.9805848513902206, 0.98184, 0.9812120243044453)\n"
          ],
          "name": "stdout"
        }
      ]
    }
  ]
}