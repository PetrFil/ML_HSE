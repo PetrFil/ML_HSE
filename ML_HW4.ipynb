{
  "nbformat": 4,
  "nbformat_minor": 0,
  "metadata": {
    "colab": {
      "name": "ML_HW5.ipynb",
      "provenance": [],
      "collapsed_sections": []
    },
    "kernelspec": {
      "name": "python3",
      "display_name": "Python 3"
    }
  },
  "cells": [
    {
      "cell_type": "code",
      "metadata": {
        "id": "EwIgj9hSsiiQ",
        "colab_type": "code",
        "colab": {}
      },
      "source": [
        "import pandas as pd\n",
        "from sklearn.cluster import AffinityPropagation, AgglomerativeClustering, DBSCAN, \\\n",
        "                            KMeans, MiniBatchKMeans, Birch, MeanShift, SpectralClustering\n",
        "from sklearn.metrics import adjusted_rand_score, adjusted_mutual_info_score, \\\n",
        "                            silhouette_score\n",
        "\n",
        "from sklearn.feature_extraction.text import CountVectorizer, TfidfVectorizer\n",
        "from sklearn.decomposition import TruncatedSVD, NMF\n",
        "from sklearn import metrics\n",
        "from sklearn.datasets import make_blobs\n",
        "import numpy as np"
      ],
      "execution_count": 0,
      "outputs": []
    },
    {
      "cell_type": "code",
      "metadata": {
        "id": "iod7Mrryp5eB",
        "colab_type": "code",
        "colab": {}
      },
      "source": [
        "from google.colab import files\n",
        "datafile = files.upload()"
      ],
      "execution_count": 0,
      "outputs": []
    },
    {
      "cell_type": "markdown",
      "metadata": {
        "id": "4XmRDlJpDkUl",
        "colab_type": "text"
      },
      "source": [
        "На нескольких алгоритмах кластеризации, умеющих работать с sparse матрицами, проверьте, что работает лучше Count_Vectorizer или TfidfVectorizer (попробуйте выжать максимум из каждого - попробуйте нграммы, символьные нграммы, разные значения max_features и min_df)\n"
      ]
    },
    {
      "cell_type": "code",
      "metadata": {
        "id": "h80NMc9A2Pow",
        "colab_type": "code",
        "colab": {}
      },
      "source": [
        "data = pd.read_csv('data.csv')"
      ],
      "execution_count": 0,
      "outputs": []
    },
    {
      "cell_type": "code",
      "metadata": {
        "id": "CaHcuHWTFBc2",
        "colab_type": "code",
        "colab": {}
      },
      "source": [
        "data = data[['category_name', 'title']]"
      ],
      "execution_count": 0,
      "outputs": []
    },
    {
      "cell_type": "markdown",
      "metadata": {
        "id": "I51-_kn5Dn8F",
        "colab_type": "text"
      },
      "source": [
        "Напишем специальные функции, которые сравнивают векторизацию Count_Vectorizer и TfidfVectorizer при одном и том же способе кластеризации и изменяющемся параметре векторизации (на вход подается кластеризация и список значений параметра, для которого написана функция, на выходе - v_measure )"
      ]
    },
    {
      "cell_type": "code",
      "metadata": {
        "id": "Qb4rvGCW3_g4",
        "colab_type": "code",
        "colab": {}
      },
      "source": [
        "def try_vectorizer(v, cluster_alg):\n",
        "  X = v.fit_transform(sample['title'])\n",
        "  cluster = cluster_alg\n",
        "  cluster.fit(X)\n",
        "  labels = cluster.labels_\n",
        "  return metrics.v_measure_score(y, labels)"
      ],
      "execution_count": 0,
      "outputs": []
    },
    {
      "cell_type": "code",
      "metadata": {
        "id": "PNMNCO5nbJ4y",
        "colab_type": "code",
        "colab": {}
      },
      "source": [
        "def compare_min_df (cluster_alg, param_values):\n",
        "  cv, tfidf = CountVectorizer, TfidfVectorizer\n",
        "  cv_score, tfidf_score = 0, 0\n",
        "  for value in param_values:\n",
        "    measure_cv = try_vectorizer(cv(min_df=value), cluster_alg)\n",
        "    measure_tfidf = try_vectorizer(tfidf(min_df=value), cluster_alg)\n",
        "    print('min_df={:.4f}, cv:{:.4f}, tfidf: {:.4f}'.format( value,  measure_cv, measure_tfidf))\n",
        "    if measure_cv > measure_tfidf:\n",
        "      cv_score += 1 \n",
        "    if measure_tfidf > measure_cv:\n",
        "      tfidf_score += 1\n",
        "  print('cv_score:{}, tfidf_score:{}'.format(cv_score,  tfidf_score))"
      ],
      "execution_count": 0,
      "outputs": []
    },
    {
      "cell_type": "code",
      "metadata": {
        "id": "6KpxaOMzhNPt",
        "colab_type": "code",
        "colab": {}
      },
      "source": [
        "def compare_max_df (cluster_alg, param_values):\n",
        "  cv, tfidf = CountVectorizer, TfidfVectorizer\n",
        "  cv_score, tfidf_score = 0, 0\n",
        "  for value in param_values:\n",
        "    measure_cv = try_vectorizer(cv(max_df=value), cluster_alg)\n",
        "    measure_tfidf = try_vectorizer(tfidf(max_df=value), cluster_alg)\n",
        "    print('max_df={:.3f}, cv: {:.4f}, tfidf: {:.4f}'.format( value,  measure_cv, measure_tfidf))\n",
        "    if measure_cv > measure_tfidf:\n",
        "      cv_score += 1 \n",
        "    if measure_tfidf > measure_cv:\n",
        "      tfidf_score += 1\n",
        "  print('cv_score:{}, tfidf_score:{}'.format(cv_score,  tfidf_score))"
      ],
      "execution_count": 0,
      "outputs": []
    },
    {
      "cell_type": "code",
      "metadata": {
        "id": "jvTgrN8oiuaE",
        "colab_type": "code",
        "colab": {}
      },
      "source": [
        "def compare_ngram_range (cluster_alg, param_values):\n",
        "  cv, tfidf = CountVectorizer, TfidfVectorizer\n",
        "  cv_score, tfidf_score = 0, 0\n",
        "  for value in param_values:\n",
        "    measure_cv = try_vectorizer(cv(ngram_range=value), cluster_alg)\n",
        "    measure_tfidf = try_vectorizer(tfidf(ngram_range=value), cluster_alg)\n",
        "    print('ngram_range={}, cv: {:.4f}, tfidf: {:.4f}'.format( value,  measure_cv, measure_tfidf))\n",
        "    if measure_cv > measure_tfidf:\n",
        "      cv_score += 1 \n",
        "    if measure_tfidf > measure_cv:\n",
        "      tfidf_score += 1\n",
        "  print('cv_score:{}, tfidf_score:{}'.format(cv_score,  tfidf_score))"
      ],
      "execution_count": 0,
      "outputs": []
    },
    {
      "cell_type": "code",
      "metadata": {
        "id": "Da8HgjJ3e7Do",
        "colab_type": "code",
        "colab": {}
      },
      "source": [
        "def compare (cluster_alg):\n",
        "  compare_min_df(cluster_alg, min_df_values)\n",
        "  compare_max_df(cluster_alg, max_df_values)\n",
        "  compare_ngram_range(cluster_alg, ngram_range_values)"
      ],
      "execution_count": 0,
      "outputs": []
    },
    {
      "cell_type": "code",
      "metadata": {
        "id": "mnw2shuJ84XY",
        "colab_type": "code",
        "colab": {}
      },
      "source": [
        "min_df_values = np.arange(0.001, 0.01, 0.001)"
      ],
      "execution_count": 0,
      "outputs": []
    },
    {
      "cell_type": "code",
      "metadata": {
        "id": "s9UR54fbLUmL",
        "colab_type": "code",
        "colab": {}
      },
      "source": [
        "max_df_values = np.arange(0.01, 0.1, 0.01)"
      ],
      "execution_count": 0,
      "outputs": []
    },
    {
      "cell_type": "code",
      "metadata": {
        "id": "4fVBv6q-Uafj",
        "colab_type": "code",
        "colab": {}
      },
      "source": [
        "ngram_range_values = [(1,1), (1,2), (2,2), (1,3), (2,3), (3,3)]"
      ],
      "execution_count": 0,
      "outputs": []
    },
    {
      "cell_type": "markdown",
      "metadata": {
        "id": "R8vjDC1B4ZWh",
        "colab_type": "text"
      },
      "source": [
        "##K-means"
      ]
    },
    {
      "cell_type": "code",
      "metadata": {
        "id": "QDwxI02L2k3F",
        "colab_type": "code",
        "colab": {}
      },
      "source": [
        "sample = data.sample(frac=0.1)\n",
        "y = sample['category_name']"
      ],
      "execution_count": 0,
      "outputs": []
    },
    {
      "cell_type": "code",
      "metadata": {
        "id": "gy7NCNjQrreW",
        "colab_type": "code",
        "colab": {}
      },
      "source": [
        "cluster = KMeans(n_clusters=47, random_state=42)"
      ],
      "execution_count": 0,
      "outputs": []
    },
    {
      "cell_type": "code",
      "metadata": {
        "id": "7Te7cqm8fdLB",
        "colab_type": "code",
        "colab": {
          "base_uri": "https://localhost:8080/",
          "height": 513
        },
        "outputId": "0906d616-bf4a-4722-e0c7-1a6ad5da60bf"
      },
      "source": [
        "compare(cluster)"
      ],
      "execution_count": 25,
      "outputs": [
        {
          "output_type": "stream",
          "text": [
            "min_df=0.001, cv:0.3174, tfidf: 0.3182\n",
            "min_df=0.002, cv:0.3237, tfidf: 0.3288\n",
            "min_df=0.003, cv:0.3260, tfidf: 0.3328\n",
            "min_df=0.004, cv:0.3187, tfidf: 0.3312\n",
            "min_df=0.005, cv:0.3198, tfidf: 0.3311\n",
            "min_df=0.006, cv:0.3107, tfidf: 0.3132\n",
            "min_df=0.007, cv:0.3046, tfidf: 0.3117\n",
            "min_df=0.008, cv:0.3033, tfidf: 0.3105\n",
            "min_df=0.009, cv:0.2957, tfidf: 0.3025\n",
            "cv_score:0, tfidf_score:9\n",
            "max_df=0.010, cv: 0.1906, tfidf: 0.1773\n",
            "max_df=0.020, cv: 0.2446, tfidf: 0.2732\n",
            "max_df=0.030, cv: 0.2446, tfidf: 0.2732\n",
            "max_df=0.040, cv: 0.2674, tfidf: 0.2872\n",
            "max_df=0.050, cv: 0.2620, tfidf: 0.2870\n",
            "max_df=0.060, cv: 0.3051, tfidf: 0.3385\n",
            "max_df=0.070, cv: 0.3120, tfidf: 0.3370\n",
            "max_df=0.080, cv: 0.3120, tfidf: 0.3370\n",
            "max_df=0.090, cv: 0.3222, tfidf: 0.3196\n",
            "cv_score:2, tfidf_score:7\n",
            "ngram_range=(1, 1), cv: 0.3222, tfidf: 0.3196\n",
            "ngram_range=(1, 2), cv: 0.2411, tfidf: 0.3006\n",
            "ngram_range=(2, 2), cv: 0.1105, tfidf: 0.1087\n",
            "ngram_range=(1, 3), cv: 0.2183, tfidf: 0.2931\n",
            "ngram_range=(2, 3), cv: 0.0983, tfidf: 0.1045\n",
            "ngram_range=(3, 3), cv: 0.0854, tfidf: 0.0520\n",
            "cv_score:3, tfidf_score:3\n"
          ],
          "name": "stdout"
        }
      ]
    },
    {
      "cell_type": "markdown",
      "metadata": {
        "id": "sFB-tY84Nk9P",
        "colab_type": "text"
      },
      "source": [
        "При разных параметрах max_df и min_df векторизация tfidf показывает лучший результат. При изменении параметра ngram_range всё не так однозначно. В целом, для кластеризации K-Means tfidf кажется предпочтительнее"
      ]
    },
    {
      "cell_type": "markdown",
      "metadata": {
        "id": "M_6tKhcDgE6R",
        "colab_type": "text"
      },
      "source": [
        "##Mini Batch K-means"
      ]
    },
    {
      "cell_type": "code",
      "metadata": {
        "id": "XxprK8ppgIz2",
        "colab_type": "code",
        "colab": {}
      },
      "source": [
        "sample = data.sample(frac=1)\n",
        "y = sample['category_name']"
      ],
      "execution_count": 0,
      "outputs": []
    },
    {
      "cell_type": "code",
      "metadata": {
        "id": "-V2mk_Iof4V1",
        "colab_type": "code",
        "colab": {}
      },
      "source": [
        "cluster_MKB = MiniBatchKMeans(n_clusters=1000, init_size=5000, max_iter=5000, \n",
        "                          max_no_improvement=100, reassignment_ratio=0.3)\n"
      ],
      "execution_count": 0,
      "outputs": []
    },
    {
      "cell_type": "code",
      "metadata": {
        "id": "OtKsD4LMgNEt",
        "colab_type": "code",
        "colab": {
          "base_uri": "https://localhost:8080/",
          "height": 439
        },
        "outputId": "1e30c441-6856-4291-aadd-4390202e20e0"
      },
      "source": [
        "compare(cluster_MKB)"
      ],
      "execution_count": 0,
      "outputs": [
        {
          "output_type": "stream",
          "text": [
            "min_df=0.001, cv:0.3932, tfidf: 0.3927\n",
            "min_df=0.002, cv:0.3692, tfidf: 0.3651\n",
            "min_df=0.003, cv:0.3549, tfidf: 0.3549\n",
            "min_df=0.004, cv:0.3406, tfidf: 0.3400\n",
            "min_df=0.005, cv:0.3200, tfidf: 0.3190\n",
            "min_df=0.006, cv:0.3055, tfidf: 0.3045\n",
            "min_df=0.007, cv:0.3058, tfidf: 0.3052\n",
            "min_df=0.008, cv:0.3030, tfidf: 0.3027\n",
            "min_df=0.009, cv:0.3005, tfidf: 0.3008\n",
            "cv_score:8, tfidf_score:1\n",
            "max_df=0.010, cv: 0.3842, tfidf: 0.3517\n",
            "max_df=0.020, cv: 0.3987, tfidf: 0.3763\n",
            "max_df=0.030, cv: 0.3988, tfidf: 0.4064\n",
            "max_df=0.040, cv: 0.4024, tfidf: 0.4195\n",
            "max_df=0.050, cv: 0.3927, tfidf: 0.4085\n",
            "max_df=0.060, cv: 0.4136, tfidf: 0.4226\n",
            "max_df=0.070, cv: 0.4061, tfidf: 0.4210\n",
            "max_df=0.080, cv: 0.4111, tfidf: 0.4199\n",
            "max_df=0.090, cv: 0.4066, tfidf: 0.4223\n",
            "cv_score:2, tfidf_score:7\n",
            "ngram_range=(1, 1), cv: 0.4131, tfidf: 0.4241\n",
            "ngram_range=(1, 2), cv: 0.3955, tfidf: 0.4060\n",
            "ngram_range=(2, 2), cv: 0.3033, tfidf: 0.2487\n"
          ],
          "name": "stdout"
        }
      ]
    },
    {
      "cell_type": "code",
      "metadata": {
        "id": "4XnRs0qyc_U6",
        "colab_type": "code",
        "colab": {}
      },
      "source": [
        "sample = data.sample(frac=0.1) #всё скрашилось, поэтому уменьшим выборку и сравним разные ngram_range заново\n",
        "y = sample['category_name']"
      ],
      "execution_count": 0,
      "outputs": []
    },
    {
      "cell_type": "code",
      "metadata": {
        "id": "-6gNec-GcQsX",
        "colab_type": "code",
        "colab": {
          "base_uri": "https://localhost:8080/",
          "height": 146
        },
        "outputId": "19150244-b5ed-408d-eb66-10bbc2e571da"
      },
      "source": [
        "compare_ngram_range (cluster_MKB, ngram_range_values)"
      ],
      "execution_count": 20,
      "outputs": [
        {
          "output_type": "stream",
          "text": [
            "ngram_range=(1, 1), cv: 0.4229, tfidf: 0.4349\n",
            "ngram_range=(1, 2), cv: 0.4002, tfidf: 0.4080\n",
            "ngram_range=(2, 2), cv: 0.2522, tfidf: 0.2795\n",
            "ngram_range=(1, 3), cv: 0.3862, tfidf: 0.3865\n",
            "ngram_range=(2, 3), cv: 0.2329, tfidf: 0.2245\n",
            "ngram_range=(3, 3), cv: 0.2250, tfidf: 0.2139\n",
            "cv_score:2, tfidf_score:4\n"
          ],
          "name": "stdout"
        }
      ]
    },
    {
      "cell_type": "markdown",
      "metadata": {
        "id": "dFzojQIhOM_2",
        "colab_type": "text"
      },
      "source": [
        "Здесь был другой тип кластеризации и размер выборки. При изменении параметра min_df чаще оказывался лучше Countvectorizer, однако разница почти всегда незначительная(меньше 1%). При изменении max_df лучше оказывался tfidf с более значительным перевесом (7 из 9 раз). При 6 разных параметрах ngram_range в 4 случаях лучше оказалось tfidf. Результаты менее однозначные, чем для K-means, но можно сказать, что tfidf всё же лучше. "
      ]
    },
    {
      "cell_type": "markdown",
      "metadata": {
        "id": "MuUujRPW4JZA",
        "colab_type": "text"
      },
      "source": [
        "\n",
        "##Affinity Propagation"
      ]
    },
    {
      "cell_type": "code",
      "metadata": {
        "id": "khA9-yI3psDW",
        "colab_type": "code",
        "colab": {}
      },
      "source": [
        "sample = data.sample(frac=0.005)\n",
        "y = sample['category_name']"
      ],
      "execution_count": 0,
      "outputs": []
    },
    {
      "cell_type": "code",
      "metadata": {
        "id": "78mkMlRAp0la",
        "colab_type": "code",
        "colab": {}
      },
      "source": [
        "cluster_AP = AffinityPropagation(damping=0.7, preference=-2, \n",
        "                              max_iter=400, convergence_iter=10)"
      ],
      "execution_count": 0,
      "outputs": []
    },
    {
      "cell_type": "code",
      "metadata": {
        "id": "QUKKz13UgJ8M",
        "colab_type": "code",
        "colab": {}
      },
      "source": [
        "min_df_values = np.arange(0.0005, 0.003, 0.0005) # поменяем значения min_df, иначе возникает ConvergenceWarning"
      ],
      "execution_count": 0,
      "outputs": []
    },
    {
      "cell_type": "code",
      "metadata": {
        "id": "-3rOBRYcgsiu",
        "colab_type": "code",
        "colab": {
          "base_uri": "https://localhost:8080/",
          "height": 439
        },
        "outputId": "1f0f0c24-4d2c-4580-ff2e-7d004040ed16"
      },
      "source": [
        "compare(cluster_AP)"
      ],
      "execution_count": 31,
      "outputs": [
        {
          "output_type": "stream",
          "text": [
            "min_df=0.0005, cv:0.6045, tfidf: 0.5412\n",
            "min_df=0.0010, cv:0.4960, tfidf: 0.5614\n",
            "min_df=0.0015, cv:0.4960, tfidf: 0.5614\n",
            "min_df=0.0020, cv:0.4776, tfidf: 0.4758\n",
            "min_df=0.0025, cv:0.4719, tfidf: 0.4753\n",
            "cv_score:2, tfidf_score:3\n",
            "max_df=0.010, cv: 0.5743, tfidf: 0.2568\n",
            "max_df=0.020, cv: 0.5911, tfidf: 0.2985\n",
            "max_df=0.030, cv: 0.5946, tfidf: 0.2909\n",
            "max_df=0.040, cv: 0.5954, tfidf: 0.3096\n",
            "max_df=0.050, cv: 0.6030, tfidf: 0.5369\n",
            "max_df=0.060, cv: 0.6033, tfidf: 0.5372\n",
            "max_df=0.070, cv: 0.6033, tfidf: 0.5372\n",
            "max_df=0.080, cv: 0.6045, tfidf: 0.5368\n",
            "max_df=0.090, cv: 0.6045, tfidf: 0.5412\n",
            "cv_score:9, tfidf_score:0\n",
            "ngram_range=(1, 1), cv: 0.6045, tfidf: 0.5412\n",
            "ngram_range=(1, 2), cv: 0.5962, tfidf: 0.5377\n",
            "ngram_range=(2, 2), cv: 0.5388, tfidf: 0.3867\n",
            "ngram_range=(1, 3), cv: 0.5959, tfidf: 0.5345\n",
            "ngram_range=(2, 3), cv: 0.5692, tfidf: 0.3845\n",
            "ngram_range=(3, 3), cv: 0.5689, tfidf: 0.4832\n",
            "cv_score:6, tfidf_score:0\n"
          ],
          "name": "stdout"
        }
      ]
    },
    {
      "cell_type": "markdown",
      "metadata": {
        "id": "Gkp3B0CXjuJH",
        "colab_type": "text"
      },
      "source": [
        "CountVectorizer выглядит определенно лучше для данного типа кластеризации"
      ]
    },
    {
      "cell_type": "markdown",
      "metadata": {
        "id": "3odwq2ruyc7_",
        "colab_type": "text"
      },
      "source": [
        "На нескольких алгоритмах кластеризации проверьте, какое матричное разложение (TruncatedSVD или NMF) работает лучше для кластеризации. (3 балла)"
      ]
    },
    {
      "cell_type": "code",
      "metadata": {
        "id": "O4nGz0T1kxfk",
        "colab_type": "code",
        "colab": {}
      },
      "source": [
        "def try_SVD(cluster, v):\n",
        "  X_cv = v.fit_transform(sample['title'])\n",
        "  svd = TruncatedSVD(50, random_state=42)\n",
        "  X_svd = svd.fit_transform(X_cv)\n",
        "  cluster.fit(X_svd)\n",
        "  labels = cluster.labels_\n",
        "  print('SVD: ', metrics.v_measure_score(y, labels))"
      ],
      "execution_count": 0,
      "outputs": []
    },
    {
      "cell_type": "code",
      "metadata": {
        "id": "tZ-J8b7GlAuv",
        "colab_type": "code",
        "colab": {}
      },
      "source": [
        "def try_NMF(cluster, v):\n",
        "  X_cv = v.fit_transform(sample['title'])\n",
        "  nmf = NMF(50, random_state=42)\n",
        "  X_nmf = nmf.fit_transform(X_cv)\n",
        "  cluster.fit(X_nmf)\n",
        "  labels = cluster.labels_\n",
        "  print('NMF: ', metrics.v_measure_score(y, labels))"
      ],
      "execution_count": 0,
      "outputs": []
    },
    {
      "cell_type": "code",
      "metadata": {
        "id": "nae8equVywrB",
        "colab_type": "code",
        "colab": {}
      },
      "source": [
        "def SVD_or_NMF(cluster, v):\n",
        "  try_SVD (cluster, v)\n",
        "  try_NMF(cluster, v)\n"
      ],
      "execution_count": 0,
      "outputs": []
    },
    {
      "cell_type": "markdown",
      "metadata": {
        "id": "jZ0fNeS55eQf",
        "colab_type": "text"
      },
      "source": [
        "## AgglomerativeClustering"
      ]
    },
    {
      "cell_type": "code",
      "metadata": {
        "id": "Yuy-09GVqLmm",
        "colab_type": "code",
        "colab": {}
      },
      "source": [
        "cv = CountVectorizer(min_df=2, max_df=0.4)\n",
        "tfidf = TfidfVectorizer(min_df=2, max_df=0.4)"
      ],
      "execution_count": 0,
      "outputs": []
    },
    {
      "cell_type": "code",
      "metadata": {
        "id": "KkDF_vS8ycqw",
        "colab_type": "code",
        "colab": {}
      },
      "source": [
        "sample = data.sample(frac=0.05)\n",
        "y = sample['category_name']"
      ],
      "execution_count": 0,
      "outputs": []
    },
    {
      "cell_type": "code",
      "metadata": {
        "id": "kuBxHdp3ysD4",
        "colab_type": "code",
        "colab": {}
      },
      "source": [
        "cluster_A = AgglomerativeClustering(n_clusters=47)"
      ],
      "execution_count": 0,
      "outputs": []
    },
    {
      "cell_type": "code",
      "metadata": {
        "id": "-3Sfl0zKyuB7",
        "colab_type": "code",
        "colab": {
          "base_uri": "https://localhost:8080/",
          "height": 54
        },
        "outputId": "dfcc2a37-b09a-47f4-891c-5779e548c7d5"
      },
      "source": [
        "SVD_or_NMF(cluster_A, cv)"
      ],
      "execution_count": 78,
      "outputs": [
        {
          "output_type": "stream",
          "text": [
            "SVD:  0.3392612049780693\n",
            "NMF:  0.3294212382847426\n"
          ],
          "name": "stdout"
        }
      ]
    },
    {
      "cell_type": "code",
      "metadata": {
        "id": "xPswlvkc4fGq",
        "colab_type": "code",
        "colab": {
          "base_uri": "https://localhost:8080/",
          "height": 54
        },
        "outputId": "0cea7535-790f-4ef2-98ff-832424b3d029"
      },
      "source": [
        "SVD_or_NMF(cluster_A, tfidf)"
      ],
      "execution_count": 79,
      "outputs": [
        {
          "output_type": "stream",
          "text": [
            "SVD:  0.35379590715189563\n",
            "NMF:  0.3507134040964364\n"
          ],
          "name": "stdout"
        }
      ]
    },
    {
      "cell_type": "markdown",
      "metadata": {
        "id": "l5B-o_uUi4uV",
        "colab_type": "text"
      },
      "source": [
        "##DBSCAN"
      ]
    },
    {
      "cell_type": "code",
      "metadata": {
        "id": "UR9SCsK0jAz9",
        "colab_type": "code",
        "colab": {}
      },
      "source": [
        "cluster_DB = DBSCAN(min_samples=10, eps=0.3) "
      ],
      "execution_count": 0,
      "outputs": []
    },
    {
      "cell_type": "code",
      "metadata": {
        "id": "ydCG6SkwjUvb",
        "colab_type": "code",
        "colab": {
          "base_uri": "https://localhost:8080/",
          "height": 54
        },
        "outputId": "f94476e0-6ff4-44cb-fd8e-dede9bad98c0"
      },
      "source": [
        "SVD_or_NMF(cluster_DB, cv)"
      ],
      "execution_count": 80,
      "outputs": [
        {
          "output_type": "stream",
          "text": [
            "SVD:  0.31572876997343213\n",
            "NMF:  0.008809883748288422\n"
          ],
          "name": "stdout"
        }
      ]
    },
    {
      "cell_type": "code",
      "metadata": {
        "id": "qgQpWHCbqxUt",
        "colab_type": "code",
        "colab": {
          "base_uri": "https://localhost:8080/",
          "height": 54
        },
        "outputId": "b3c0b4f1-d2c6-401a-d3d5-563041bf6a5e"
      },
      "source": [
        "SVD_or_NMF(cluster_DB, tfidf)"
      ],
      "execution_count": 81,
      "outputs": [
        {
          "output_type": "stream",
          "text": [
            "SVD:  0.15860834128120185\n",
            "NMF:  -3.760773223866692e-16\n"
          ],
          "name": "stdout"
        }
      ]
    },
    {
      "cell_type": "markdown",
      "metadata": {
        "id": "zZ-KltPJpJT2",
        "colab_type": "text"
      },
      "source": [
        "##Mean Shift"
      ]
    },
    {
      "cell_type": "code",
      "metadata": {
        "id": "cjiwsZ7zpcpl",
        "colab_type": "code",
        "colab": {}
      },
      "source": [
        "cluster_MS = MeanShift(cluster_all=False, bandwidth=0.5)"
      ],
      "execution_count": 0,
      "outputs": []
    },
    {
      "cell_type": "code",
      "metadata": {
        "id": "TN6Gj2kxpkzf",
        "colab_type": "code",
        "colab": {
          "base_uri": "https://localhost:8080/",
          "height": 54
        },
        "outputId": "e089786c-0558-4742-f243-d339a27271ee"
      },
      "source": [
        "SVD_or_NMF(cluster_MS, cv)"
      ],
      "execution_count": 82,
      "outputs": [
        {
          "output_type": "stream",
          "text": [
            "SVD:  0.34766448142697637\n",
            "NMF:  0.019167016079662716\n"
          ],
          "name": "stdout"
        }
      ]
    },
    {
      "cell_type": "code",
      "metadata": {
        "id": "GBNnwQSOq4FW",
        "colab_type": "code",
        "colab": {
          "base_uri": "https://localhost:8080/",
          "height": 54
        },
        "outputId": "80f03b22-8368-4367-8af0-a98e9d0da103"
      },
      "source": [
        "SVD_or_NMF(cluster_MS, tfidf)"
      ],
      "execution_count": 83,
      "outputs": [
        {
          "output_type": "stream",
          "text": [
            "SVD:  0.30921393963454474\n",
            "NMF:  -3.760773223866692e-16\n"
          ],
          "name": "stdout"
        }
      ]
    },
    {
      "cell_type": "markdown",
      "metadata": {
        "id": "QvySppXtrfLp",
        "colab_type": "text"
      },
      "source": [
        "Во всех случаях TruncatedSVD разложение оказалось лучше. "
      ]
    },
    {
      "cell_type": "markdown",
      "metadata": {
        "id": "1rcVm9nw5Uwo",
        "colab_type": "text"
      },
      "source": [
        "С помощью алгоритмов, умеющих выделять выбросы, попробуйте найти необычные объявления (необычные - это такие, которые непонятно к какой категории можно вообще отнести, что-то с ошибками или вообще какая-то дичь). В этом задании можно использовать любую векторизацию. (4 балла)"
      ]
    },
    {
      "cell_type": "code",
      "metadata": {
        "id": "FXef74SOxefE",
        "colab_type": "code",
        "colab": {}
      },
      "source": [
        "def labels(cluster_alg):\n",
        "  cv = CountVectorizer(min_df = 0.001, max_df=0.4)\n",
        "  X = cv.fit_transform(sample['title'])\n",
        "  svd = TruncatedSVD(50)\n",
        "  cluster = cluster_alg\n",
        "  X_svd = svd.fit_transform(X)\n",
        "  cluster.fit(X_svd)\n",
        "  labels = cluster.labels_\n",
        "  #sample['cluster'] = cluster.labels_\n",
        "  #print(sample[sample.cluster==-1].head(20))\n",
        "  return labels"
      ],
      "execution_count": 0,
      "outputs": []
    },
    {
      "cell_type": "code",
      "metadata": {
        "id": "VFJoZDPpx57z",
        "colab_type": "code",
        "colab": {}
      },
      "source": [
        "sample = data.sample(frac=0.05)\n",
        "y = sample['category_name']\n"
      ],
      "execution_count": 0,
      "outputs": []
    },
    {
      "cell_type": "code",
      "metadata": {
        "id": "Wx-MTPyiyphC",
        "colab_type": "code",
        "colab": {}
      },
      "source": [
        "sample['cluster'] = labels(cluster_DB)"
      ],
      "execution_count": 0,
      "outputs": []
    },
    {
      "cell_type": "code",
      "metadata": {
        "id": "E4Dwjvo85Vo5",
        "colab_type": "code",
        "colab": {
          "base_uri": "https://localhost:8080/",
          "height": 677
        },
        "outputId": "eda4bbb8-6147-40b9-bb8d-47f858341605"
      },
      "source": [
        "sample[sample.cluster==-1].head(20)"
      ],
      "execution_count": 140,
      "outputs": [
        {
          "output_type": "execute_result",
          "data": {
            "text/html": [
              "<div>\n",
              "<style scoped>\n",
              "    .dataframe tbody tr th:only-of-type {\n",
              "        vertical-align: middle;\n",
              "    }\n",
              "\n",
              "    .dataframe tbody tr th {\n",
              "        vertical-align: top;\n",
              "    }\n",
              "\n",
              "    .dataframe thead th {\n",
              "        text-align: right;\n",
              "    }\n",
              "</style>\n",
              "<table border=\"1\" class=\"dataframe\">\n",
              "  <thead>\n",
              "    <tr style=\"text-align: right;\">\n",
              "      <th></th>\n",
              "      <th>category_name</th>\n",
              "      <th>title</th>\n",
              "      <th>cluster</th>\n",
              "    </tr>\n",
              "  </thead>\n",
              "  <tbody>\n",
              "    <tr>\n",
              "      <th>214317</th>\n",
              "      <td>Детская одежда и обувь</td>\n",
              "      <td>Продам комбинезон</td>\n",
              "      <td>-1</td>\n",
              "    </tr>\n",
              "    <tr>\n",
              "      <th>20337</th>\n",
              "      <td>Предложение услуг</td>\n",
              "      <td>Ремонт под ключ</td>\n",
              "      <td>-1</td>\n",
              "    </tr>\n",
              "    <tr>\n",
              "      <th>109491</th>\n",
              "      <td>Одежда, обувь, аксессуары</td>\n",
              "      <td>Отдам Ботинки кожа осень и босоножки</td>\n",
              "      <td>-1</td>\n",
              "    </tr>\n",
              "    <tr>\n",
              "      <th>93583</th>\n",
              "      <td>Телефоны</td>\n",
              "      <td>iPhone 4s/5s/6 Новые/Гарантия/Доставка</td>\n",
              "      <td>-1</td>\n",
              "    </tr>\n",
              "    <tr>\n",
              "      <th>203161</th>\n",
              "      <td>Квартиры</td>\n",
              "      <td>Студия, 22 м², 10/19 эт.</td>\n",
              "      <td>-1</td>\n",
              "    </tr>\n",
              "    <tr>\n",
              "      <th>91133</th>\n",
              "      <td>Детская одежда и обувь</td>\n",
              "      <td>Костюм крокид, размер 86</td>\n",
              "      <td>-1</td>\n",
              "    </tr>\n",
              "    <tr>\n",
              "      <th>74067</th>\n",
              "      <td>Одежда, обувь, аксессуары</td>\n",
              "      <td>Пакет с 6 рубашками 48-50 размера (по плечам)</td>\n",
              "      <td>-1</td>\n",
              "    </tr>\n",
              "    <tr>\n",
              "      <th>208520</th>\n",
              "      <td>Товары для животных</td>\n",
              "      <td>Спрей для приучения к туалету для собак</td>\n",
              "      <td>-1</td>\n",
              "    </tr>\n",
              "    <tr>\n",
              "      <th>149525</th>\n",
              "      <td>Товары для животных</td>\n",
              "      <td>Вальтрап для лошади. Белый для конкурса</td>\n",
              "      <td>-1</td>\n",
              "    </tr>\n",
              "    <tr>\n",
              "      <th>87719</th>\n",
              "      <td>Квартиры</td>\n",
              "      <td>Студия, 29 м², 2/18 эт.</td>\n",
              "      <td>-1</td>\n",
              "    </tr>\n",
              "    <tr>\n",
              "      <th>144036</th>\n",
              "      <td>Земельные участки</td>\n",
              "      <td>Куплю участок (ИЖС)</td>\n",
              "      <td>-1</td>\n",
              "    </tr>\n",
              "    <tr>\n",
              "      <th>41151</th>\n",
              "      <td>Телефоны</td>\n",
              "      <td>Новый чехол для Huawei Ascend G630 G 630</td>\n",
              "      <td>-1</td>\n",
              "    </tr>\n",
              "    <tr>\n",
              "      <th>179856</th>\n",
              "      <td>Аудио и видео</td>\n",
              "      <td>Кабель (нейлоновый) для iPod, iPhone и iPad</td>\n",
              "      <td>-1</td>\n",
              "    </tr>\n",
              "    <tr>\n",
              "      <th>44107</th>\n",
              "      <td>Посуда и товары для кухни</td>\n",
              "      <td>Бокалы для мартини из Гуся хрустального</td>\n",
              "      <td>-1</td>\n",
              "    </tr>\n",
              "    <tr>\n",
              "      <th>217550</th>\n",
              "      <td>Комнаты</td>\n",
              "      <td>Комната 17 м² в 1-к, 5/5 эт.</td>\n",
              "      <td>-1</td>\n",
              "    </tr>\n",
              "    <tr>\n",
              "      <th>201404</th>\n",
              "      <td>Спорт и отдых</td>\n",
              "      <td>Маты спортивные-трансформер для танцев на пилоне</td>\n",
              "      <td>-1</td>\n",
              "    </tr>\n",
              "    <tr>\n",
              "      <th>233163</th>\n",
              "      <td>Детская одежда и обувь</td>\n",
              "      <td>Рубашка для мальчика белая новая</td>\n",
              "      <td>-1</td>\n",
              "    </tr>\n",
              "    <tr>\n",
              "      <th>60652</th>\n",
              "      <td>Детская одежда и обувь</td>\n",
              "      <td>Детский демисезонный комбинезон р.74</td>\n",
              "      <td>-1</td>\n",
              "    </tr>\n",
              "    <tr>\n",
              "      <th>151268</th>\n",
              "      <td>Мебель и интерьер</td>\n",
              "      <td>Угловой диван-кровать</td>\n",
              "      <td>-1</td>\n",
              "    </tr>\n",
              "    <tr>\n",
              "      <th>114416</th>\n",
              "      <td>Одежда, обувь, аксессуары</td>\n",
              "      <td>Туфли Paolo Conte размер 36.Одевала один раз.П...</td>\n",
              "      <td>-1</td>\n",
              "    </tr>\n",
              "  </tbody>\n",
              "</table>\n",
              "</div>"
            ],
            "text/plain": [
              "                    category_name  ... cluster\n",
              "214317     Детская одежда и обувь  ...      -1\n",
              "20337           Предложение услуг  ...      -1\n",
              "109491  Одежда, обувь, аксессуары  ...      -1\n",
              "93583                    Телефоны  ...      -1\n",
              "203161                   Квартиры  ...      -1\n",
              "91133      Детская одежда и обувь  ...      -1\n",
              "74067   Одежда, обувь, аксессуары  ...      -1\n",
              "208520        Товары для животных  ...      -1\n",
              "149525        Товары для животных  ...      -1\n",
              "87719                    Квартиры  ...      -1\n",
              "144036          Земельные участки  ...      -1\n",
              "41151                    Телефоны  ...      -1\n",
              "179856              Аудио и видео  ...      -1\n",
              "44107   Посуда и товары для кухни  ...      -1\n",
              "217550                    Комнаты  ...      -1\n",
              "201404              Спорт и отдых  ...      -1\n",
              "233163     Детская одежда и обувь  ...      -1\n",
              "60652      Детская одежда и обувь  ...      -1\n",
              "151268          Мебель и интерьер  ...      -1\n",
              "114416  Одежда, обувь, аксессуары  ...      -1\n",
              "\n",
              "[20 rows x 3 columns]"
            ]
          },
          "metadata": {
            "tags": []
          },
          "execution_count": 140
        }
      ]
    },
    {
      "cell_type": "markdown",
      "metadata": {
        "id": "3S88wvuk6SVI",
        "colab_type": "text"
      },
      "source": [
        "\"Ремонт под ключ\" слова \"ремонт\" и \"ключ\" можно встретить в описании недвижимости, а не услуги. \"Отдам Ботинки кожа осень и босоножки\" - возможно слишком много слов, \"отдам\" встречается часто и в других объявлениях. Непонятно детская это обувь или взрослая(есть отдельные категории). \"Пакет с 6 рубашками 48-50 размера (по плечам)\" возможно слово \"пакет\" в одежде все портит, \"пакет\" может быть как какой-нибудь тариф. \"Вальтрап для лошади. Белый для конкурса\" - лошади определенно не самые частотные животные. \"белый для конкурса\" - слишком непонятно без контекста. Лошадь может чаще встречаться как детская игрушка. \"Новый чехол для Huawei Ascend G630 G 630\" стоит ли относить аксессуар к категории \"телефоны\"? \"Кабель (нейлоновый) для iPod, iPhone и iPad\" - кабель может быть строительный и относиться к категории \"ремонт, товары для дома\". "
      ]
    },
    {
      "cell_type": "code",
      "metadata": {
        "id": "djfqCU9u9bce",
        "colab_type": "code",
        "colab": {}
      },
      "source": [
        "sample['cluster'] = labels(cluster_MS)"
      ],
      "execution_count": 0,
      "outputs": []
    },
    {
      "cell_type": "code",
      "metadata": {
        "id": "NGRmBwzV9uxj",
        "colab_type": "code",
        "colab": {
          "base_uri": "https://localhost:8080/",
          "height": 677
        },
        "outputId": "893b9bb9-f532-4149-9d61-993ae0a9319f"
      },
      "source": [
        "sample[sample.cluster==-1].head(20)"
      ],
      "execution_count": 144,
      "outputs": [
        {
          "output_type": "execute_result",
          "data": {
            "text/html": [
              "<div>\n",
              "<style scoped>\n",
              "    .dataframe tbody tr th:only-of-type {\n",
              "        vertical-align: middle;\n",
              "    }\n",
              "\n",
              "    .dataframe tbody tr th {\n",
              "        vertical-align: top;\n",
              "    }\n",
              "\n",
              "    .dataframe thead th {\n",
              "        text-align: right;\n",
              "    }\n",
              "</style>\n",
              "<table border=\"1\" class=\"dataframe\">\n",
              "  <thead>\n",
              "    <tr style=\"text-align: right;\">\n",
              "      <th></th>\n",
              "      <th>category_name</th>\n",
              "      <th>title</th>\n",
              "      <th>cluster</th>\n",
              "    </tr>\n",
              "  </thead>\n",
              "  <tbody>\n",
              "    <tr>\n",
              "      <th>20337</th>\n",
              "      <td>Предложение услуг</td>\n",
              "      <td>Ремонт под ключ</td>\n",
              "      <td>-1</td>\n",
              "    </tr>\n",
              "    <tr>\n",
              "      <th>229561</th>\n",
              "      <td>Собаки</td>\n",
              "      <td>Отдам щенят в добрые руки</td>\n",
              "      <td>-1</td>\n",
              "    </tr>\n",
              "    <tr>\n",
              "      <th>250185</th>\n",
              "      <td>Мебель и интерьер</td>\n",
              "      <td>Диван+кресло</td>\n",
              "      <td>-1</td>\n",
              "    </tr>\n",
              "    <tr>\n",
              "      <th>197068</th>\n",
              "      <td>Кошки</td>\n",
              "      <td>Отдам в добрые руки</td>\n",
              "      <td>-1</td>\n",
              "    </tr>\n",
              "    <tr>\n",
              "      <th>113255</th>\n",
              "      <td>Бытовая техника</td>\n",
              "      <td>Бак от стиральной машины. Материал - нержавеющая</td>\n",
              "      <td>-1</td>\n",
              "    </tr>\n",
              "    <tr>\n",
              "      <th>151268</th>\n",
              "      <td>Мебель и интерьер</td>\n",
              "      <td>Угловой диван-кровать</td>\n",
              "      <td>-1</td>\n",
              "    </tr>\n",
              "    <tr>\n",
              "      <th>144199</th>\n",
              "      <td>Предложение услуг</td>\n",
              "      <td>Избавим от насекомых</td>\n",
              "      <td>-1</td>\n",
              "    </tr>\n",
              "    <tr>\n",
              "      <th>224097</th>\n",
              "      <td>Красота и здоровье</td>\n",
              "      <td>Продам новую парфюмерную воду от avon - Premie...</td>\n",
              "      <td>-1</td>\n",
              "    </tr>\n",
              "    <tr>\n",
              "      <th>69618</th>\n",
              "      <td>Квартиры</td>\n",
              "      <td>Студия, 32 м², 6/6 эт.</td>\n",
              "      <td>-1</td>\n",
              "    </tr>\n",
              "    <tr>\n",
              "      <th>45735</th>\n",
              "      <td>Предложение услуг</td>\n",
              "      <td>Ремонт ванной комнаты \"под ключ\"</td>\n",
              "      <td>-1</td>\n",
              "    </tr>\n",
              "    <tr>\n",
              "      <th>22717</th>\n",
              "      <td>Квартиры</td>\n",
              "      <td>1-к квартира, 42.9 м², 15/17 эт.</td>\n",
              "      <td>-1</td>\n",
              "    </tr>\n",
              "    <tr>\n",
              "      <th>62715</th>\n",
              "      <td>Квартиры</td>\n",
              "      <td>2-к квартира, 60 м², 24/25 эт.</td>\n",
              "      <td>-1</td>\n",
              "    </tr>\n",
              "    <tr>\n",
              "      <th>210604</th>\n",
              "      <td>Одежда, обувь, аксессуары</td>\n",
              "      <td>Брюки женские чёрные</td>\n",
              "      <td>-1</td>\n",
              "    </tr>\n",
              "    <tr>\n",
              "      <th>165171</th>\n",
              "      <td>Одежда, обувь, аксессуары</td>\n",
              "      <td>Блузка р-р 44-46</td>\n",
              "      <td>-1</td>\n",
              "    </tr>\n",
              "    <tr>\n",
              "      <th>103455</th>\n",
              "      <td>Мотоциклы и мототехника</td>\n",
              "      <td>CBR250R (реплика от S2)</td>\n",
              "      <td>-1</td>\n",
              "    </tr>\n",
              "    <tr>\n",
              "      <th>168489</th>\n",
              "      <td>Бытовая техника</td>\n",
              "      <td>Двигатель от стиральной машины</td>\n",
              "      <td>-1</td>\n",
              "    </tr>\n",
              "    <tr>\n",
              "      <th>196692</th>\n",
              "      <td>Аудио и видео</td>\n",
              "      <td>Телевизор LG. 42 дюйма. Smart TV. WiFi</td>\n",
              "      <td>-1</td>\n",
              "    </tr>\n",
              "    <tr>\n",
              "      <th>163762</th>\n",
              "      <td>Планшеты и электронные книги</td>\n",
              "      <td>iPad Air 2 Space Gray 128 GB планшет Apple</td>\n",
              "      <td>-1</td>\n",
              "    </tr>\n",
              "    <tr>\n",
              "      <th>157249</th>\n",
              "      <td>Предложение услуг</td>\n",
              "      <td>Мастер на все руки в вашем доме</td>\n",
              "      <td>-1</td>\n",
              "    </tr>\n",
              "    <tr>\n",
              "      <th>234644</th>\n",
              "      <td>Ремонт и строительство</td>\n",
              "      <td>Круговой резак от Martha Stewart</td>\n",
              "      <td>-1</td>\n",
              "    </tr>\n",
              "  </tbody>\n",
              "</table>\n",
              "</div>"
            ],
            "text/plain": [
              "                       category_name  ... cluster\n",
              "20337              Предложение услуг  ...      -1\n",
              "229561                        Собаки  ...      -1\n",
              "250185             Мебель и интерьер  ...      -1\n",
              "197068                         Кошки  ...      -1\n",
              "113255               Бытовая техника  ...      -1\n",
              "151268             Мебель и интерьер  ...      -1\n",
              "144199             Предложение услуг  ...      -1\n",
              "224097            Красота и здоровье  ...      -1\n",
              "69618                       Квартиры  ...      -1\n",
              "45735              Предложение услуг  ...      -1\n",
              "22717                       Квартиры  ...      -1\n",
              "62715                       Квартиры  ...      -1\n",
              "210604     Одежда, обувь, аксессуары  ...      -1\n",
              "165171     Одежда, обувь, аксессуары  ...      -1\n",
              "103455       Мотоциклы и мототехника  ...      -1\n",
              "168489               Бытовая техника  ...      -1\n",
              "196692                 Аудио и видео  ...      -1\n",
              "163762  Планшеты и электронные книги  ...      -1\n",
              "157249             Предложение услуг  ...      -1\n",
              "234644        Ремонт и строительство  ...      -1\n",
              "\n",
              "[20 rows x 3 columns]"
            ]
          },
          "metadata": {
            "tags": []
          },
          "execution_count": 144
        }
      ]
    },
    {
      "cell_type": "markdown",
      "metadata": {
        "id": "-sJjLKIQ-TGX",
        "colab_type": "text"
      },
      "source": [
        "\"Отдам в добрые руки\" в категории \"кошки\". Отдать в добрые руки можно и любое другое животное или даже вещь. \"Ремонт под ключ\" дважды встречается в описаниях услуг, слово \"ремонт\" неоднозначно и может быть в объявлении типа \"квартира, хороший ремонт\". "
      ]
    }
  ]
}